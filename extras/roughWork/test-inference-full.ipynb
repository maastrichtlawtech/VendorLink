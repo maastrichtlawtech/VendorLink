{
 "cells": [
  {
   "cell_type": "code",
   "execution_count": 1,
   "id": "5f2d294c",
   "metadata": {},
   "outputs": [
    {
     "data": {
      "text/plain": [
       "'! pip install numpy pandas seaborn matplotlib torch transformers sklearn captum plotly emoji transformers_interpret'"
      ]
     },
     "execution_count": 1,
     "metadata": {},
     "output_type": "execute_result"
    }
   ],
   "source": [
    "\"\"\"! pip install numpy pandas seaborn matplotlib torch transformers sklearn captum plotly emoji transformers_interpret\"\"\""
   ]
  },
  {
   "cell_type": "code",
   "execution_count": 30,
   "id": "e574ac49",
   "metadata": {},
   "outputs": [],
   "source": [
    "import os, sys\n",
    "import random\n",
    "import argparse\n",
    "from pathlib import Path\n",
    "import logging\n",
    "from torch import cuda\n",
    "from tqdm import tqdm \n",
    "import pickle\n",
    "\n",
    "from collections import Counter\n",
    "\n",
    "import numpy as np\n",
    "import pandas as pd\n",
    "\n",
    "import sklearn\n",
    "from sklearn.model_selection import train_test_split\n",
    "\n",
    "import torch\n",
    "from torch.utils.data import TensorDataset, DataLoader, RandomSampler, SequentialSampler\n",
    "\n",
    "# from flair.data import Sentence\n",
    "# from flair.models import SequenceTagger\n",
    "\n",
    "import spacy\n",
    "\n",
    "# from simpletransformers.classification import ClassificationModel, ClassificationArgs\n",
    "from transformers import AutoModel\n",
    "from transformers import AdamW, get_linear_schedule_with_warmup\n",
    "# from transformers_interpret import SequenceClassificationExplainer\n",
    "from transformers import BertTokenizer, BertTokenizerFast, BertForSequenceClassification\n",
    "\n",
    "\n",
    "# %% Loading custom libraries \n",
    "sys.path.append('../metrics/')\n",
    "# from performance import f1_score_func, accuracy_per_class\n",
    "\n",
    "# Loading the custom library\n",
    "sys.path.append('../process/')\n",
    "from load_data import FetchData, ContextualizedData\n",
    "from utils import merge_and_create_dataframe, train_model, evaluate_model, clean_and_merge_data_for_tokenization, add_tokens_to_vocabulary\n",
    "\n",
    "#from captum.attr import visualization as viz\n",
    "#from captum.attr import LayerConductance, LayerIntegratedGradients"
   ]
  },
  {
   "cell_type": "code",
   "execution_count": 31,
   "id": "2bfcf7eb",
   "metadata": {},
   "outputs": [],
   "source": [
    "device = torch.device(\"cuda:0\" if torch.cuda.is_available() else \"cpu\")"
   ]
  },
  {
   "cell_type": "code",
   "execution_count": 32,
   "id": "91aef7c6",
   "metadata": {},
   "outputs": [],
   "source": [
    "args = dict(ads_count=20,\n",
    " batch_size=64,\n",
    " cuda=False,\n",
    " data='alpha-dreams',\n",
    " data_dir='../data',\n",
    " delta=0.01,\n",
    " dropout=0.65,\n",
    " early_stopping=True,\n",
    " eval_per_steps=2000,\n",
    " hidden_states=512,\n",
    " load_model='epoch_38.model',\n",
    " lr=4e-05,\n",
    " max_seq_len=512,\n",
    " mode='train',\n",
    " model='bert',\n",
    " n_splits=5,\n",
    " nb_epochs=10,\n",
    " patience=3,\n",
    " preprocess_flag=False,\n",
    " save_dir='../models/merged',\n",
    " seed=1111,\n",
    " setting='high',\n",
    " split_ratio=0.25,\n",
    " version='full')"
   ]
  },
  {
   "cell_type": "code",
   "execution_count": 33,
   "id": "daec0503",
   "metadata": {},
   "outputs": [],
   "source": [
    "# %% Loading the datasets\n",
    "alpha_df = pd.read_csv(os.path.join(args['data_dir'], \"preprocessed_alpha.csv\"), error_bad_lines=False, \n",
    "                            lineterminator='\\n', usecols=['marketplace', 'title', 'vendor', 'prediction', 'ships_to', 'ships_from', 'description']).drop_duplicates()\n",
    "dreams_df = pd.read_csv(os.path.join(args['data_dir'], \"preprocessed_dreams.csv\"), error_bad_lines=False, \n",
    "                            lineterminator='\\n', usecols=['marketplace', 'title', 'vendor', 'prediction', 'ships_to', 'ships_from', 'description']).drop_duplicates()\n",
    "silk_df = pd.read_csv(os.path.join(args['data_dir'], \"preprocessed_silk.csv\"), error_bad_lines=False, \n",
    "                            lineterminator='\\n', usecols=['marketplace', 'title', 'vendor', 'prediction', 'ships_to', 'ships_from', 'description']).drop_duplicates()\n",
    "agora_df = pd.read_csv(os.path.join(args['data_dir'], \"preprocessed_agora.csv\"), error_bad_lines=False, encoding = \"ISO-8859-1\")\n",
    "agora_df = agora_df[['Vendor', ' Item', ' Item Description']]\n",
    "agora_df.columns = ['vendor', 'title', 'description']\n",
    "agora_df['vendor'] = agora_df['vendor'].apply(lambda x : str(x).lower())\n",
    "\n",
    "data_df = {\"alpha\":alpha_df, \"dreams\":dreams_df, \"silk\":silk_df, \"agora\":agora_df}"
   ]
  },
  {
   "cell_type": "code",
   "execution_count": 34,
   "id": "24e8a42d",
   "metadata": {},
   "outputs": [],
   "source": [
    "dream_df = dreams_df[dreams_df['marketplace']=='dream']"
   ]
  },
  {
   "cell_type": "code",
   "execution_count": 35,
   "id": "89a7cde8",
   "metadata": {},
   "outputs": [],
   "source": [
    "valhalla_df = dreams_df[dreams_df['marketplace']=='valhalla']\n",
    "traderoute_df = dreams_df[dreams_df['marketplace']=='traderoute']\n",
    "berlusconi_df = dreams_df[dreams_df['marketplace']=='berlusconi']"
   ]
  },
  {
   "cell_type": "code",
   "execution_count": 36,
   "id": "141bde4f",
   "metadata": {},
   "outputs": [
    {
     "name": "stdout",
     "output_type": "stream",
     "text": [
      "Cleaning the data ...\n",
      "Training and Test data size for Alphabay market : (75327, 7) (25109, 7)\n",
      "Training and Test data size for Dreams market : (70198, 7) (23400, 7)\n",
      "Training and Test data size for Silk-Road market : (89544, 7) (29848, 7)\n",
      "Splitting combined data ...\n"
     ]
    }
   ],
   "source": [
    "[(train_alpha_dreams, train_dreams_silk, train_alpha_silk, train_alpha_dreams_silk, train_alpha, train_dreams, train_silk), (test_alpha_dreams, test_dreams_silk, test_alpha_silk, test_alpha_dreams_silk, test_alpha, test_dreams, test_silk)] = FetchData(data_df, args[\"version\"], args[\"data\"],  args[\"split_ratio\"], args[\"preprocess_flag\"], args[\"setting\"], args[\"ads_count\"],  args[\"seed\"]).split_data()"
   ]
  },
  {
   "cell_type": "code",
   "execution_count": 37,
   "id": "cfe82a12",
   "metadata": {},
   "outputs": [
    {
     "name": "stdout",
     "output_type": "stream",
     "text": [
      "Cleaning the data ...\n",
      "Training and Test data size for Valhalla market : (1631, 7) (544, 7)\n",
      "Training and Test data size for Traderoute market : (14964, 7) (4989, 7)\n",
      "Training and Test data size for Berlusconi market : (1077, 7) (360, 7)\n",
      "Training and Test data size for Agora market : (82266, 3) (27423, 3)\n",
      "Splitting combined data ...\n"
     ]
    }
   ],
   "source": [
    "[(train_valhalla_traderoute, train_traderoute_berlusconi, train_valhalla_berlusconi, train_traderoute_agora, train_valhalla_traderoute_berlusconi, train_valhalla, train_traderoute, train_berlusconi, train_agora), (test_valhalla_traderoute, test_traderoute_berlusconi, test_valhalla_berlusconi, test_traderoute_agora, test_valhalla_traderoute_berlusconi, test_valhalla, test_traderoute, test_berlusconi, test_agora)] = FetchData(data_df, 'full', 'traderoute-agora',  args[\"split_ratio\"], args[\"preprocess_flag\"], \"low\", args[\"ads_count\"],  args[\"seed\"]).split_data()"
   ]
  },
  {
   "cell_type": "markdown",
   "id": "9a1425dc",
   "metadata": {},
   "source": [
    "# Evaluating trained model in zero shot setting"
   ]
  },
  {
   "cell_type": "code",
   "execution_count": 204,
   "id": "fe3425b0",
   "metadata": {},
   "outputs": [],
   "source": [
    "# Vectorizing class labels\n",
    "# data = pd.concat([train_dreams, test_dreams, train_alpha, test_alpha, train_silk, test_silk])\n",
    "data = pd.concat([train_dreams, test_dreams])\n",
    "all_vendors = list(data['vendor'].unique())\n",
    "vendor_to_idx_dict = {vendor_name:index for index, vendor_name in enumerate(all_vendors)}"
   ]
  },
  {
   "cell_type": "code",
   "execution_count": 222,
   "id": "bbbb84ce",
   "metadata": {},
   "outputs": [],
   "source": [
    "a = list(vendor_to_idx_dict.keys())"
   ]
  },
  {
   "cell_type": "code",
   "execution_count": 224,
   "id": "24cdba24",
   "metadata": {},
   "outputs": [],
   "source": [
    "a.sort()"
   ]
  },
  {
   "cell_type": "code",
   "execution_count": 226,
   "id": "1fcb09af",
   "metadata": {},
   "outputs": [
    {
     "name": "stdout",
     "output_type": "stream",
     "text": [
      "['0hp1', '0ldamsterdamm', '24drugstore', '24k.', '25-7', '2gd4dn', '2good4dn', '420dispensary', '420highstreet', '420medicine', '5starhaze', '911turbo', '9incecloud', 'a1crack', 'ablonelsd', 'abracadabrauk', 'achlysuk', 'adderallz', 'aeirla', 'afrojack', 'agorameds', 'airforceone', 'ajaxfc', 'akindercare', 'alancuring420_uk', 'alaurizen', 'albert-hofmann', 'albertheijn', 'alex_jones', 'alibabauk', 'aliexpressss', 'alisdrugstore', 'allgoldeverything', 'allroids', 'alphabeast', 'alphacvv', 'alwaysoverweight', 'amazon-crime', 'amazonprime', 'americangreed', 'americansteroids', 'amphetamine', 'amsterdam-finest', 'amsterdam2015', 'amsterdam2017', 'amsterdam_inc', 'amsterdamconnection', 'amsterdamfinest', 'amsterdamflex', 'amsterdaminc', 'amsterdamnl', 'amsterdamquality', 'anabolic_supplies', 'anabolicwindow', 'andychem', 'angelina', 'anonsheep', 'antarcticastore', 'antonsen', 'apbay100', 'aphelion', 'apkallu', 'apotheke', 'appleinc', 'aracay', 'artvandelay', 'ashlii', 'atacori', 'atmosphere', 'auramajesticgarden', 'auschemart', 'ausmobster', 'auspro', 'aussieextracts', 'aussieimportpills', 'aussieimportpillsv2', 'aussieroidmuncherr', 'australianfox', 'avalanche', 'axm1111', 'b.k.r', 'b.vendorz', 'b6v7ee', 'backstreetboyz', 'badbear707', 'bagsandboxesuk', 'bahtramme', 'baltimoremeds', 'bank', 'barrybusiness', 'batman', 'bc-best-exports', 'bcbudking', 'bearman420', 'becel', 'bellsstuffing', 'benzo-uk', 'benzomania', 'benzoshop', 'berlinmannschaft', 'best_budz_uk', 'bestcoastplugs', 'bestganja', 'better-stuff-gmbh', 'betty-boop2.0', 'bigactionman50', 'bigdeal100', 'bigkushhunter', 'bigoil', 'bigpoppa7777', 'biocanna', 'bionik', 'bitcoinfrauder', 'bl4ckw0rms', 'blackhand', 'blackmail-nl', 'blowseph', 'blue62', 'bluefairy', 'bluepills', 'bluer', 'blueviking', 'bo0mers', 'bobarctor', 'bobbygoodstuff', 'bodega', 'boogeeman', 'bookface', 'boomers', 'boomtingzuk', 'bootymonster', 'brazilmed', 'brianna_tyler', 'briefsoven', 'britishairways', 'britishbeef', 'britishdragon', 'britishdrugs', 'brucelean', 'bruiser89', 'btcthc', 'bucketman', 'bud_central', 'budd', 'buddha.bazaar', 'budgetbudsexpress', 'budindustries', 'budmanting', 'budness', 'budprime', 'budsbunny', 'bugz', 'bulkbrigade', 'bulkhulk', 'bulletpr00f', 'bushplanet', 'bvb09army', 'c10labs', 'cabackdoormedical', 'cabbagefarmer', 'cadylass', 'cali_greenzog', 'calibuduk', 'california420service', 'californiacannabisco', 'caligreencross', 'calikindness', 'caliplug420', 'caliterps', 'calsource', 'cambridge20k', 'camorra', 'canada1', 'canadabuds', 'canadianpharmacy', 'canadianshop', 'canagroup', 'candyshop', 'canna-germanyinc', 'canna_crew', 'cannabisclub', 'cannacorner', 'cannadelivery', 'cannadepot', 'cannagods', 'cannalogic', 'cannalove', 'cannashipped', 'cannaspain', 'cannatech', 'cannaxpress000', 'capebaldy', 'captainblackbeard', 'captainkirk', 'cardboss', 'cardpass', 'careersclap', 'carnal_instinct_uk', 'cartelnorteafrica', 'carterpewterschmidt', 'cartmanproducts', 'cash_king', 'cashoutcalvin', 'cashteam', 'castro6969', 'castro69696', 'casualfox', 'cb2017', 'cdnven', 'center', 'centurydrugs', 'cerberus', 'certified', 'certified_medical', 'championsteroids', 'chaposkitchen', 'chappiestore', 'charlieoz', 'charlieukontor', 'cheapestmotherfucker', 'cheaptrip', 'cheech-chong', 'cheframsay', 'chemexpress', 'chemicalbros', 'chemicalexpress', 'chemikalie', 'chemist', 'chemmindful', 'chernobyl', 'chest', 'chickenoverbitches', 'chiefangel', 'chikata', 'chip_chap', 'chipchipperson', 'chopperman', 'christiania', 'christmastree', 'citra-world', 'cityhigh', 'clawedfeats', 'cleancocaine', 'clicknbuy', 'cloudn9neproducts', 'cloudoh9', 'clowncrown', 'clubmedia', 'cocacola-kid', 'cocacolacompany', 'cocacolafr', 'cocaineandbrandy', 'cocaineuk', 'cocaparis', 'coffeehouse', 'coffeeshoptm', 'coke556', 'collaborateur', 'colombiaconnection', 'colonelsanders', 'color', 'comfortably_numb', 'concentratesking', 'confucious', 'cookiecompany', 'coolfac3', 'copperhead', 'cornerbakery', 'cosmicconscious', 'cosmopull', 'courvoisier', 'cr1m1nal', 'crackfire', 'crave201', 'crazycoke', 'creditalert', 'crystal_cave', 'culturedhigh', 'culturequeens', 'curtiscockywarren', 'cyberbrickz', 'cyberwoman', 'cyberzen', 'czechairlines', 'czechoslovakfarm', 'd.a.v.e.', 'daballstarz', 'dailysupplies', 'dalailama', 'danhash', 'danish-finest', 'dank_green3', 'dankcity', 'dankfordayz', 'dankofengland1', 'dankservices', 'darcx', 'dark-taxi', 'darkchemist', 'darkmarket', 'darknetcartel', 'darknettor', 'darkovick', 'darkphoenix123', 'darkshopde', 'darkweeder', 'darthvapour', 'day-one', 'dayglow', 'dcdutchconnectionuk', 'dcompanyy', 'dcuk', 'debijenkorf', 'debuyerking', 'deepbay', 'deepee911', 'deepmeds', 'deepmedz', 'deepstatus', 'depanage', 'dependabledonkey', 'deutsche-post', 'dexuschem', 'dgslabz', 'dhl_worldwide', 'dhlexpress', 'diabolus', 'diemaskestore', 'digikartel', 'digitalwisdom', 'dionysos', 'directcalitree', 'directrx', 'dirtybristo', 'discounternl', 'discountweedco', 'discover', 'dismalcapricious', 'districtten', 'dixiemade', 'dkbv', 'dmant', 'dmsoldiersuk2018', 'dndrugseller', 'dnl-bulk', 'doctordrug', 'doctorexxl', 'doktorgreen', 'dominodrugs', 'donald-trump', 'donedeal', 'donpedro', 'donpericos', 'dope_king', 'dopedge', 'dopeyquality', 'doubledutch', 'doug-heffernan', 'douwe-egberts', 'dp-dutchrunners', 'dr-feelgood-nz', 'dr.madhatter', 'dr.pepper', 'dr.phil-phd', 'dr_bluex', 'dr_hofmann', 'dragondrugz', 'dragonfly-uk', 'drclarke', 'drdukehopkins', 'drgonzouk', 'drgreenthumb4201', 'drlysergic', 'drogenausniederlande', 'dropkick1', 'drposeidon', 'drrelax', 'drshrooms', 'drsyntax', 'drug-star', 'drug2pack', 'drugbox', 'drugflix', 'druggiebearsofficial', 'drugkingz', 'druglover', 'drugmasterxtc', 'drugpharmacist', 'drugs2go', 'drugsamsterdam', 'drugsco', 'drugsinc12', 'drugsinccompagnie', 'drugsincuk', 'drugsstore_sky', 'drugsuk', 'drugz4u', 'drunkninja', 'drweb', 'dsquared2', 'duckspremiumdecoys', 'duckthugg', 'dutch-aussie', 'dutch-dope-company', 'dutch-narco', 'dutch-top-quality', 'dutch-transport', 'dutch2go', 'dutch_hashexpert', 'dutchaussies', 'dutchbulk', 'dutchcandyshop', 'dutchcoffeeshop', 'dutchdelights', 'dutchdreams', 'dutchdrugz', 'dutchfactory', 'dutchfarmer', 'dutchhospital', 'dutchhq', 'dutchiesupps', 'dutchimport', 'dutchmail', 'dutchoffers', 'dutchpirates', 'dutchpiratesshop', 'dutchquality', 'dutchrabbit', 'dutchsanny', 'dutchshop.inc', 'dutchsolution', 'dutchspecialist', 'dutchweedshop', 'e-pal', 'eastcoastbarbarian', 'eastenders', 'easyfm', 'ebooklover', 'ecannameds', 'edelweisz', 'egregore', 'einsteingroup', 'ekeko', 'el.chapo', 'elcartel', 'eldeutschepostchapo', 'elhefe', 'elocin_7', 'emeraldgemini', 'emeraldtriangle', 'emeraldtrianglecarts', 'emperium', 'empireteam', 'encryptedkingdom', 'equestriandelivery', 'esco16', 'escobar-australia', 'escobaropablo', 'etimbuk', 'etizolam_pharmacy', 'eu-pharma-shop', 'eu_labs', 'eurekarebellionaus', 'europe', 'europeconnection', 'europills', 'europills2', 'evad4452', 'eveadamstein', 'evola', 'evolution-ii', 'evosdrugstore', 'expressdoctor', 'expresspharma', 'ezrider', 'eztest', 'factoryfloor', 'fairtraders', 'fajdros', 'fantasy44', 'farmafresh', 'farmhouse', 'fastamsterdam', 'fastfooduk', 'fastmedsuk', 'fastshipping', 'fatfreddyscat', 'fatsam', 'fatty1', 'fcdrugs10', 'fd-topservice', 'felixuk', 'fence', 'fetaisbetter', 'fifties', 'fiiness', 'firstonetobleed', 'fl0werchildsrosin', 'flavourstop', 'flexcompany', 'flordevida', 'fly-high', 'foggyperson', 'foreigner', 'formula1', 'fortunescookie', 'frankcostello', 'franklucass', 'freedomfighters', 'freetheweed', 'freihandelde', 'french_camorra', 'freshimport', 'freshpharm', 'friday13th', 'fromholland', 'frost_garden', 'fuckinfrenchtoast', 'fullyloaded', 'fumblebasher', 'fuxmey0162', 'g00d00', 'g0ldenboy', 'g3cko', 'gecko', 'geekgorilla', 'geileteile', 'gen_z', 'georgeofthejungle', 'german-kartel', 'german-masters', 'germanapotheke', 'germancannabisclub', 'germandrugsshippers', 'germandutchteam', 'germanflakeshop', 'germanteam', 'getafix_wizard', 'getlost', 'gfellas', 'girlleeks', 'givemesleep', 'glaceau', 'glasswerkz', 'glisteringtheir', 'globaldrugs', 'go-fast', 'godfatherofbulk', 'godsleftnut', 'gofast1', 'gofaster', 'gofastteam', 'goingpostal', 'goldencamel', 'goldenreaper', 'goldenteam', 'goldmarket', 'gomorraamsterdam', 'goodcatkilla', 'goodfellascompany2.0', 'gorillaexpress', 'gotmilk', 'grapape', 'grau-schmidt', 'green_usa', 'greenconnection', 'greenfactory', 'greenfingers', 'greenjackweed', 'greenleaflabs', 'greenmountainman', 'greenroad', 'greensupreme', 'greentaco', 'greenthedreem', 'grenouillebleu', 'greygooseglobal', 'griseldas', 'grower_direct', 'growwarehouse', 'gruenewaldscave', 'gustavo_', 'h00k3d', 'h0p360', 'h4ck3r320', 'haamujengi1', 'hackyboy', 'hammerhome123', 'handshake-drugs', 'happychef123', 'happydrugs', 'happydutch', 'happyeyes', 'happygarden', 'happypacky', 'harddrugsspecialist', 'haribosstore', 'haribosstorepart2', 'harold_and_kumar', 'hashhq', 'heath_robinson', 'heavenonearth', 'hectorstuff', 'heinekenexpress', 'hellofresh', 'herbalhealer', 'herbalife', 'herbchicks', 'herbinlegend', 'heroesv-x', 'hiddenhands', 'high_nation', 'highclass', 'highendhigh', 'highervibes', 'highheaven', 'highjuice', 'highpurity420', 'highrollers', 'highsnlows', 'highsocietyuk', 'hitchcovering', 'hoheajaunn', 'hollanddutch2.0', 'hollandshop', 'homeostasis', 'honesttrader', 'horizonlewis', 'hotmilk', 'house_lannister', 'houseofdank', 'houseofdank2.0', 'houseofdrugs', 'housto275', 'hqger', 'hrruin', 'hugsanddrugs', 'humboldt_fire', 'humboldtgrowers', 'hundredsandthousands', 'hzz-nl', 'ibuds', 'ibulk', 'idconnection', 'illusiveshop', 'ilovemymexicanplug', 'imperialstormtrooper', 'incorporated', 'incorporatedv2', 'indianpilldaddy1', 'indoorbudz4u', 'ing-bank', 'inhale', 'insanecocaine', 'insidethewhale', 'insta-gram', 'instadrugs', 'instagramz', 'instantgram', 'instrument', 'internationalcustoms', 'invisiblehand', 'ipot', 'ippharma', 'isleofweed', 'italian_underwood', 'jackking562', 'jacobgrimm', 'jarritos', 'jehovahuk', 'jerrygarcia', 'jetsetlife', 'jhoncook', 'jigglypuff', 'jnenfrancis', 'joeandthejuice', 'joeydalton', 'joeylunchboxes', 'johnbronz', 'johnd.rockefeller', 'johndelasvegas', 'johnnyutah', 'johnsonandjohnson', 'joker456', 'jokerdab', 'joostvanbellen', 'joseph44trader', 'joyneme89', 'jumbostore', 'jungleboyzeu', 'junotempleh', 'justaman1', 'justbuyit', 'justice4all', 'justintrudeau', 'kaliforniaproducts', 'kalikings', 'kamagra4bitcoin', 'kanada_kartel', 'kartelde', 'kaviar', 'kbueno', 'keepsmiling', 'kenzo.inc', 'kerets', 'keysersozen', 'kg-company', 'kimjong-il', 'king-brown', 'king-of-drugs', 'king.midas', 'king0fmeth', 'kingodua', 'kingofcannabiss', 'kingopium', 'kingscan', 'kingshot', 'kingsman', 'kingstonpharma', 'klaymen', 'kleinerpulvershop', 'klm-nl', 'klosterbier', 'knightking16', 'knockknock', 'konstapelknark', 'kony', 'koreanconnect', 'kratomic', 'kraut_ling', 'kruidvatnl', 'kruidvatnl01', 'ktm1190rc8', 'kushdoctor', 'kushskittles420', 'kwikdrugs', 'labsource2', 'lacoca', 'ladyskywalker', 'lafrenchconnection', 'laglass', 'lamborghini', 'largomonkey', 'layseu', 'lebara', 'legalcbd', 'leggedmailer', 'legit_seller', 'legitvendor', 'lemmonflavor', 'lenasbioladen', 'letswork', 'lhefe', 'lhomme-masquer', 'lieferando', 'lilc0st', 'limewire', 'linuxpro', 'liquidman', 'listnotlost', 'littlefellas', 'littlefrenchies', 'littlegoblin', 'llamadaddy', 'lloydspharmacy', 'localservice', 'london-underground', 'lordhermes', 'luckygambino', 'luckylukenl', 'lunis', 'lysanderspooner', 'lyso', 'maca', 'madammim', 'made-in-france', 'made_in_germany', 'magnaplaza', 'mailman4033', 'malcolmtucker', 'maligan', 'maling47', 'mamascards', 'manny101_dm', 'marcoback123', 'marcopolo420', 'marijuanaman', 'mark.howard', 'marksandspencer', 'marktschreier', 'marlborostore', 'marleys-main-man', 'marleys-shop', 'martymchigh', 'marytane', 'massive', 'massive-shop', 'mastermeds', 'masterthoth', 'mastery', 'matryoshka90', 'matzee', 'maximus147258', 'maxverstappen', 'mazzeltof', 'mcdonalds', 'mdma-team', 'mdma4usa', 'mdmamaster', 'mdmamphetamineusa', 'medibank', 'medical_grade', 'medicalmj2', 'medicalznl', 'medicinaes', 'medicineball', 'medicinemanuk', 'medicsnl', 'medindia', 'medsbusters', 'medsforyou', 'medsguru', 'meltdown', 'mendocinogreeno', 'meowsir', 'mer7in', 'mercenarygb', 'merchant', 'mesomorepharma', 'meth_master', 'methhcl', 'mgpanabaker', 'mh4life', 'microdroper', 'mikedelacruz', 'mile_high_meds', 'milka-top', 'milkman11new', 'milo8490', 'mindful-shaman', 'miraclemedz', 'missnarco', 'mister-molly', 'misterbudds', 'misterdutch', 'misterkushbush', 'mistermackey', 'misterreese', 'mk-ultra', 'mollyandcharlie', 'mollyboys', 'mondial-steroids', 'moneymakerboss', 'moneymule', 'monoko', 'montana193', 'moominman', 'morrisons', 'mr-big', 'mr-nice', 'mr.erection', 'mr.meds', 'mr_jingles', 'mraddydeals', 'mrcronk', 'mrdrogenkommandant', 'mrexclusive', 'mrfussy', 'mrgram', 'mrgreendoe', 'mrgreenery', 'mrgreenz', 'mrmaserati', 'mrmiyagi420', 'mrnice', 'mrpbateman', 'mrs.feelgood', 'mrsmileys', 'mrsniffer', 'mrsunshine', 'mrsupermario', 'mrtony', 'ms-dynamite', 'ms-fi', 'ms.postlady', 'msfoxy', 'mutant_gear', 'muttznutz', 'mydayishustlin', 'mygearguy', 'mymedic', 'mynarcotics', 'myyntimiesmynttinen', 'mzlisa', 'namedeclined', 'narcoticanl', 'narcotiks', 'nasalcandyshop', 'naturaldrugs', 'naturalminds', 'nbc1', 'nbfriend', 'ndd-dmt', 'ndduk', 'need4speed', 'neolytik', 'nestea93', 'neuropolis', 'new_demension', 'nextgeneration', 'neymarjunior', 'nike-2017', 'ninjaturtles', 'nolimits187', 'nomess', 'nooogz', 'norcoking', 'nordiskeapoteket', 'normanscay', 'northgifted', 'northpole', 'northstop', 'norwegiancom', 'notorioussbig', 'notoseller', 'noumena', 'nrgdriver', 'nswgreat', 'nuclearz', 'numba1vendor', 'nwherbs', 'oakmontuk', 'obelix.0.7', 'obiedabkenobi', 'obststand', 'oceanmind', 'octopussi', 'odin2030', 'offdabrick', 'officeworksau', 'offyatree', 'oildabber', 'old-chap', 'omnialabsaus', 'onenation', 'onepiece', 'onestop', 'onlythebrave12', 'optimum', 'orangeinc', 'organix', 'origano', 'original5.0', 'originalbenzos', 'others', 'outerviscera', 'overseas-pharma', 'oxumoron', 'ozalpha', 'ozcollective', 'ozconnection', 'ozlotto', 'ozplus', 'ozzyco', 'p4ypal', 'pabloesc0bar', 'pablopablito', 'pablos-kitchen', 'pablosantiago', 'pabst_paul', 'pachoherrera', 'panzerfaust1', 'parcelforceuk', 'party.makerrr', 'partydrugs', 'partyflocknl', 'partynl', 'partysquadnl', 'partysupply', 'patronescobar', 'paulsimon', 'pckabml', 'peace-inc.', 'peaceandpot', 'peaking-duck', 'penetrator', 'peppermintlarry', 'pepsi.co.au', 'perpetualeuphoria', 'persistentvolume', 'peter-pan', 'pfizeruk', 'phantomlabs', 'pharma2u', 'pharmaphil', 'pharmextra', 'pharmroids', 'phillippleinn', 'philobeto13', 'philppplein', 'phoenix_corporation', 'pill-cosby', 'pillendose', 'pills-r-us', 'pillsberry', 'pillsexpert', 'pimpin407', 'pingponguk', 'pinkqueen', 'pipelineuk', 'piratemexxpress', 'planet_express', 'planetpluto', 'plastica', 'pldrug', 'pleasureisland', 'pois0n', 'pol1', 'poland-q', 'postmandrugs', 'potmarket.eu', 'poundlanduk2uk', 'premier_pharma_uk', 'premiumcocaine-pc-', 'presidential', 'primark', 'princess-peach', 'princessp', 'prodruq', 'projeccao', 'psilomanufacture', 'psn-games-ps4', 'psychonauta02', 'pure12', 'puredopemagic', 'puregate', 'puremagic', 'purepharm', 'purex', 'purple-haze', 'pussy4champagne', 'qu4ntum', 'quadriga', 'qualitycocaine', 'qualitymedical', 'qualitymedicalbuds', 'qualitywhitee', 'quicklick', 'quickmeds', 'quicknquality', 'quickpharm', 'rackjaw2', 'radarbreeder', 'rainbowcat', 'raiseappeals', 'rantamplan', 'rautakoura', 'rawsforlife', 'rayfulwhyte', 'rcity', 'rcking', 'rcqueen', 'real420-delivery', 'real_megastore', 'realdealshop', 'realmalcomturnbull', 'realnhs', 'rechardsport', 'redbull7', 'remedyplus', 'repaaa', 'rgnl', 'righteous', 'riverra', 'robertmondale', 'robertpaulson', 'rocketchem', 'roidstop.is', 'rolexboyz', 'rolexx17', 'rotterdamus', 'routesgin', 'roxi-killa', 'royal_drugstore', 'royal_london', 'royaldrug', 'royaldrugsairlines', 'royalmail', 'royalqueenweed', 'rs6quattro', 'rvaska', 'rxlabs', 'rxpharmd', 's-line', 's093man', 'safedealsdirect', 'safestash', 'safesupply', 'santabuds', 'sargon', 'sataii', 'savagec', 'sayno2drugs', 'scarface-tony-m', 'scarlett_ohara', 'scarlettsk', 'sclabs', 'secondson', 'seebuyfly', 'seedsforeveryone', 'serenity', 'serotonin', 'sev-direct', 'seventy3', 'sexyhomer', 'shadyoperations', 'shattergod', 'shatterryder', 'shelldrugstore', 'shimshai', 'shineybudsuk', 'shineyflakeuk', 'shopchop', 'shroomprince', 'sicknessversion2', 'sigmaomicron', 'simplythebest', 'simplywild1isback', 'sinolacartell', 'skunky', 'sky-high', 'skylerpinkman', 'skyscraper', 'sl3vin', 'sladewilson', 'slixkrixk', 'slowmotion', 'smart666tiger', 'smartmart', 'smartserve', 'smil3', 'smokersco.', 'smokeyjo', 'smokingjoes', 'snelleplanga', 'snowcap', 'snowflakes', 'socialcannabisclub', 'softkingus', 'soldgold', 'solidsupply', 'somecvvvendor', 'somethingterps', 'sons-of-anarchy', 'sorryforthat187', 'spaceworld', 'spanishgarden', 'spartacus2015', 'speed-vendor', 'speedexpress', 'speedlab', 'speedygonzalez75', 'speedytv4you', 'spiceman', 'spielzeugladen', 'st0n3d', 'stankdepot', 'stardockgalix', 'stayawake', 'stealthfarmer', 'stealthmeds', 'stealthpharmacy', 'steroidchem', 'steroidking', 'steroidsshop', 'steroidwarehouse', 'stevejobs666', 'stiffstyles', 'stimulat3d', 'stimz', 'stoned100', 'stoneisland', 'straightbiz', 'straightfireuk', 'strawhatcrew', 'straylight', 'streetpharmacy', 'strongweed', 'subs_unlimited', 'sunglasses', 'sunny987', 'sunny9879', 'sunnycalifornia', 'super_shards', 'supercoop', 'superdrug', 'superdrugz', 'superfella', 'superhqsups', 'superiorbrain', 'superman1990', 'supermarket', 'superpuff', 'superweedsonic', 'supremeweed', 'surefour', 'sweetworld', 'syndicatex', 'synester', 'tabletmagic', 'tanukiman', 'tbccrew', 'tcooke529', 'team10uk', 'teamgb', 'technohippy', 'tectus', 'tenderwoodcock', 'terrysukstock', 'tescokes', 'tetralabs710', 'th3professionals', 'thatnewplug', 'thatsteroidguy', 'thatsuperdrugfeeling', 'thckings', 'thcpharmer', 'thcsupply', 'the-mushroom-lab', 'the-wired', 'the.outfit', 'the_goodfellas-1', 'the_mad_hatter', 'the_magic_school_bus', 'the_scurvy_crew', 'thealphahero', 'theanchor', 'thebestchemist', 'thecentral', 'thecheesecakefactory', 'thechinaexpress', 'theconnect', 'thecornershop', 'thedablab', 'thedarkhorse', 'thedh', 'thedoctorhustler', 'thedopestman', 'thedragonstone', 'thedrawkward', 'thedrrx', 'thedrugllama', 'thedrugscartel', 'thedudesspecialstash', 'thefamilyguy', 'theflyingdutchmen', 'thegermanbudtender', 'thegodfather', 'thegodfather2017', 'thegoodfellascompany', 'theh1tman', 'thehappycampers9', 'theheissenberg', 'theherbaliser', 'thejustifier', 'thelittleguys', 'theme_song', 'thenarcostoreuk', 'thenotorious', 'theonlinesource', 'thepillfactory', 'thepirateisland', 'thepostmanpat', 'theprofessionals', 'therealhera', 'therealjefe', 'thereallindalovelace', 'therealtrapgod', 'therisingbastards', 'theshaman', 'theshattering', 'theshop', 'thestealthman', 'thesteroidking', 'thesupply', 'thetordealer', 'thetrip', 'thetuckshop', 'thetyt', 'theuntouchables', 'thewealthmaker', 'theweroll', 'thewizard', 'thewizzardnl', 'theworldisyours', 'third-eye-pirate', 'thisisholland', 'threekings', 'thrillseekers', 'thurgood-ops-jenkins', 'tijuanapaisa', 'timetofiesta', 'timmyturnerofficial', 'tinsel', 'tommyhilfiger', 'tony_montana', 'tonysdrugsstore', 'tonystarkweed', 'top_cat', 'topflight', 'topgear', 'topgear69', 'topkapi', 'topnotchmoneymaker', 'topseller2018', 'topshelfcanna', 'topshelfextracts', 'topshelfnugs', 'topshelfsales', 'topstore', 'toptierdrugs', 'tordrug', 'tornadotravel', 'torso', 'torwebshop', 'tourette', 'tr4derjo3', 'trapgod', 'treacletown', 'treesntreats', 'trentaye', 'triceraterps', 'tripwirewiki', 'trotters_stash', 'trueblueimports', 'trueconcentrates', 'turkishairlines', 'turpan', 'turtles', 'tutofrprixjustes', 'tuts4ever', 'tyrrelll', 'ubershop', 'uk.cannaisseurs', 'uk420', 'uk4twenty', 'uk_connoisseurs', 'uk_meds', 'ukbk', 'ukcartel', 'ukdrugmafia', 'ukgradeaproducts', 'ukjuiceman', 'ukpackaging', 'ukweedshop', 'ukwhite', 'ukxan', 'ultimatum2016', 'umbrellaturtle', 'uncompressed', 'uncut_connect', 'uncut_ozzie_rox', 'undergroundcoco', 'unifiedeforts', 'unleashclearloyalty', 'upactiveltd', 'upstar', 'urano27', 'uridol', 'usashroomdepot', 'utopia420', 'valleyheat', 'value.lucid', 'valuedarkservices', 'vanillasurf', 'var462', 'vendy_mcvendface', 'versaceuk', 'victorias-secret', 'viking_king', 'vitamin-store', 'vitaminclub', 'vyce36', 'wa_2018', 'wackywestweed', 'wakikiweedshop', 'warnerbos', 'washingcannabisco', 'waxtailor8', 'waxthtazz', 'way2sharpint', 'weaverofdreams', 'web-designer', 'wec4021', 'weed-420', 'weed24', 'weeddeal', 'weedhouse', 'weedjs', 'weedndd', 'weedpacks', 'weedparadise', 'weedy2017', 'wheninneedof', 'whitechapel', 'whitedoc', 'whitedr3ams', 'whitewallet', 'whitey', 'whiteyford', 'wholesalers', 'wholeswift', 'williamshatner', 'winstonchurchill', 'wizzardofoz', 'worldwidecompany', 'wowdeal', 'x-caliber', 'xanaxcanada', 'xanaxlife', 'xanmasterfrank', 'xfuckx', 'xiao_baobei', 'xscalex', 'xtc-shop', 'xtc_king', 'xtcfactory', 'xtcwarehousexl', 'xxmarlbor0xx', 'xxxmafiaxxx', 'yahwehdm', 'yofoci', 'youngamsterdam', 'yourdealer', 'yourdrug', 'yourmomsbox', 'yummy5656', 'yummymunchies', 'zaguble', 'zealotxanax', 'zertheplug', 'zeuss']\n"
     ]
    }
   ],
   "source": [
    "print(a)"
   ]
  },
  {
   "cell_type": "code",
   "execution_count": 214,
   "id": "582e2fde",
   "metadata": {},
   "outputs": [
    {
     "data": {
      "text/plain": [
       "113"
      ]
     },
     "execution_count": 214,
     "metadata": {},
     "output_type": "execute_result"
    }
   ],
   "source": [
    "common_vendors = list(set(agora_df.vendor.unique()).intersection(set(vendor_to_idx_dict.keys())))\n",
    "len(common_vendors)"
   ]
  },
  {
   "cell_type": "code",
   "execution_count": 215,
   "id": "fa080a2e",
   "metadata": {},
   "outputs": [],
   "source": [
    "common_df = agora_df.loc[agora_df['vendor'].isin(common_vendors)]\n",
    "# common_df = merge_and_create_dataframe(common_df)"
   ]
  },
  {
   "cell_type": "code",
   "execution_count": 216,
   "id": "a277948a",
   "metadata": {},
   "outputs": [
    {
     "data": {
      "text/plain": [
       "(25635, 3)"
      ]
     },
     "execution_count": 216,
     "metadata": {},
     "output_type": "execute_result"
    }
   ],
   "source": [
    "common_df.shape"
   ]
  },
  {
   "cell_type": "markdown",
   "id": "32c77798",
   "metadata": {},
   "source": [
    "# Alpha-Dreams"
   ]
  },
  {
   "cell_type": "code",
   "execution_count": 8,
   "id": "09f378c5",
   "metadata": {},
   "outputs": [],
   "source": [
    "# Vectorizing class labels\n",
    "# data = pd.concat([train_dreams, test_dreams, train_alpha, test_alpha, train_silk, test_silk])\n",
    "data = pd.concat([train_dreams, test_dreams])\n",
    "all_vendors = list(data['vendor'].unique())\n",
    "vendor_to_idx_dict = {vendor_name:index for index, vendor_name in enumerate(all_vendors)}"
   ]
  },
  {
   "cell_type": "code",
   "execution_count": 36,
   "id": "512851bd",
   "metadata": {},
   "outputs": [],
   "source": [
    "# df_train = pd.concat([train_alpha, train_silk])\n",
    "# df_test = pd.concat([test_alpha, test_silk])\n",
    "df_train = train_dreams\n",
    "df_test = test_dreams\n",
    "# vendors = [vendor if vendor in vendor_to_idx_dict.keys() else 'others' for vendor in df_test['vendor']]\n",
    "# df_test['vendor'] = vendors\n",
    "\n",
    "df_train['vendor'] = df_train['vendor'].replace(vendor_to_idx_dict, regex=True)\n",
    "df_test['vendor'] = df_test['vendor'].replace(vendor_to_idx_dict, regex=True)\n",
    "\n",
    "# train_df = merge_and_create_dataframe(train_dreams)\n",
    "# test_df = merge_and_create_dataframe(test_dreams)\n",
    "train_df = merge_and_create_dataframe(df_train).drop_duplicates()\n",
    "test_df = merge_and_create_dataframe(df_test).drop_duplicates()"
   ]
  },
  {
   "cell_type": "markdown",
   "id": "f2afa73d",
   "metadata": {},
   "source": [
    "# Valhalla-Berlusconi"
   ]
  },
  {
   "cell_type": "code",
   "execution_count": 38,
   "id": "3f74f70e",
   "metadata": {},
   "outputs": [],
   "source": [
    "data = pd.concat([train_valhalla, test_valhalla, train_berlusconi, test_berlusconi])\n",
    "all_vendors = list(data['vendor'].unique())\n",
    "vendor_to_idx_dict = {vendor_name:index for index, vendor_name in enumerate(all_vendors)}"
   ]
  },
  {
   "cell_type": "code",
   "execution_count": 39,
   "id": "af8d22f8",
   "metadata": {},
   "outputs": [],
   "source": []
  },
  {
   "cell_type": "code",
   "execution_count": null,
   "id": "dda2909f",
   "metadata": {},
   "outputs": [],
   "source": [
    "# df_train = pd.concat([train_dreams, train_alpha, train_silk])\n",
    "# df_test = pd.concat([test_dreams, test_alpha, test_silk])\n",
    "\n",
    "df_train = pd.concat([train_valhalla, train_berlusconi])\n",
    "df_test = pd.concat([test_valhalla, test_berlusconi])\n",
    "\n",
    "df_train['vendor'] = df_train['vendor'].replace(vendor_to_idx_dict, regex=True)\n",
    "df_test['vendor'] = df_test['vendor'].replace(vendor_to_idx_dict, regex=True)\n",
    "\n",
    "# train_df = merge_and_create_dataframe(train_dreams)\n",
    "# test_df = merge_and_create_dataframe(test_dreams)\n",
    "train_df = merge_and_create_dataframe(df_train).drop_duplicates()\n",
    "test_df = merge_and_create_dataframe(df_test).drop_duplicates()"
   ]
  },
  {
   "cell_type": "markdown",
   "id": "bbd7122e",
   "metadata": {},
   "source": [
    "# Traderoute-Agora"
   ]
  },
  {
   "cell_type": "code",
   "execution_count": 10,
   "id": "5878d2cc",
   "metadata": {},
   "outputs": [],
   "source": [
    "data = pd.concat([train_traderoute, test_traderoute, train_agora, test_agora])\n",
    "all_vendors = list(data['vendor'].unique())\n",
    "vendor_to_idx_dict = {vendor_name:index for index, vendor_name in enumerate(all_vendors)}"
   ]
  },
  {
   "cell_type": "code",
   "execution_count": null,
   "id": "25959f49",
   "metadata": {},
   "outputs": [],
   "source": [
    "df_train = pd.concat([train_traderoute, train_agora])\n",
    "df_test = pd.concat([test_traderoute, test_agora])\n",
    "\n",
    "df_train['vendor'] = df_train['vendor'].replace(vendor_to_idx_dict, regex=True)\n",
    "df_test['vendor'] = df_test['vendor'].replace(vendor_to_idx_dict, regex=True)\n",
    "\n",
    "# train_df = merge_and_create_dataframe(train_dreams)\n",
    "# test_df = merge_and_create_dataframe(test_dreams)\n",
    "train_df = merge_and_create_dataframe(df_train).drop_duplicates()\n",
    "test_df = merge_and_create_dataframe(df_test).drop_duplicates()"
   ]
  },
  {
   "cell_type": "markdown",
   "id": "f99ec167",
   "metadata": {},
   "source": [
    "# Adapter model"
   ]
  },
  {
   "cell_type": "code",
   "execution_count": 21,
   "id": "3d6ebbc9",
   "metadata": {},
   "outputs": [
    {
     "data": {
      "text/plain": [
       "'from datasets import load_dataset\\n\\ndata_files = {\"train\": \"train.csv\", \"test\": \"test.csv\", \"valid\":\"valid.csv\"}\\nprint(\"Loading the Merged dataset .... \")\\ndataset = load_dataset(\"Vageesh/merged\", data_files=data_files, use_auth_token=\"api_azAmDxuDpyfUgNahyXDcJjAOKVeTUkHkdZ\")'"
      ]
     },
     "execution_count": 21,
     "metadata": {},
     "output_type": "execute_result"
    }
   ],
   "source": [
    "\"\"\"from datasets import load_dataset\n",
    "\n",
    "data_files = {\"train\": \"train.csv\", \"test\": \"test.csv\", \"valid\":\"valid.csv\"}\n",
    "print(\"Loading the Merged dataset .... \")\n",
    "dataset = load_dataset(\"Vageesh/merged\", data_files=data_files, use_auth_token=\"api_azAmDxuDpyfUgNahyXDcJjAOKVeTUkHkdZ\")\"\"\""
   ]
  },
  {
   "cell_type": "code",
   "execution_count": 22,
   "id": "7fc59871",
   "metadata": {},
   "outputs": [
    {
     "data": {
      "text/plain": [
       "'from transformers import BertTokenizer, BertConfig, BertModelWithHeads\\n# Initializing the model\\nconfig = BertConfig.from_pretrained(\"bert-base-uncased\", num_labels=len(vendor_to_idx_dict), )\\nmodel = BertModelWithHeads.from_pretrained(\"bert-base-uncased\", config=config, )'"
      ]
     },
     "execution_count": 22,
     "metadata": {},
     "output_type": "execute_result"
    }
   ],
   "source": [
    "\"\"\"from transformers import BertTokenizer, BertConfig, BertModelWithHeads\n",
    "# Initializing the model\n",
    "config = BertConfig.from_pretrained(\"bert-base-uncased\", num_labels=len(vendor_to_idx_dict), )\n",
    "model = BertModelWithHeads.from_pretrained(\"bert-base-uncased\", config=config, )\"\"\""
   ]
  },
  {
   "cell_type": "code",
   "execution_count": 23,
   "id": "57e2a2b5",
   "metadata": {},
   "outputs": [
    {
     "data": {
      "text/plain": [
       "\"# load model\\nmodel = BertModel.from_pretrained('../models/merged/adapt-bert/checkpoint-299500/')\\nmodel.load_adapter('../models/merged/adapt-bert/checkpoint-299500/')\""
      ]
     },
     "execution_count": 23,
     "metadata": {},
     "output_type": "execute_result"
    }
   ],
   "source": [
    "\"\"\"# load model\n",
    "model = BertModel.from_pretrained('../models/merged/adapt-bert/checkpoint-299500/')\n",
    "model.load_adapter('../models/merged/adapt-bert/checkpoint-299500/')\"\"\""
   ]
  },
  {
   "cell_type": "markdown",
   "id": "600ae6dc",
   "metadata": {},
   "source": [
    "# Loading the Bert base model"
   ]
  },
  {
   "cell_type": "code",
   "execution_count": 40,
   "id": "623bff3f",
   "metadata": {},
   "outputs": [],
   "source": [
    "from transformers import BertTokenizer, BertTokenizerFast, BertForSequenceClassification"
   ]
  },
  {
   "cell_type": "code",
   "execution_count": 41,
   "id": "189b3b09",
   "metadata": {},
   "outputs": [],
   "source": [
    "# from ipywidgets import FloatProgress"
   ]
  },
  {
   "cell_type": "code",
   "execution_count": 42,
   "id": "4ed641f8",
   "metadata": {},
   "outputs": [
    {
     "name": "stderr",
     "output_type": "stream",
     "text": [
      "Some weights of the model checkpoint at bert-base-uncased were not used when initializing BertForSequenceClassification: ['cls.seq_relationship.weight', 'cls.predictions.transform.dense.weight', 'cls.seq_relationship.bias', 'cls.predictions.transform.LayerNorm.weight', 'cls.predictions.transform.dense.bias', 'cls.predictions.transform.LayerNorm.bias', 'cls.predictions.decoder.weight', 'cls.predictions.bias']\n",
      "- This IS expected if you are initializing BertForSequenceClassification from the checkpoint of a model trained on another task or with another architecture (e.g. initializing a BertForSequenceClassification model from a BertForPreTraining model).\n",
      "- This IS NOT expected if you are initializing BertForSequenceClassification from the checkpoint of a model that you expect to be exactly identical (initializing a BertForSequenceClassification model from a BertForSequenceClassification model).\n",
      "Some weights of BertForSequenceClassification were not initialized from the model checkpoint at bert-base-uncased and are newly initialized: ['classifier.bias', 'classifier.weight']\n",
      "You should probably TRAIN this model on a down-stream task to be able to use it for predictions and inference.\n"
     ]
    }
   ],
   "source": [
    "from transformers import BertTokenizer, BertForSequenceClassification\n",
    "# Load the BERT tokenizer and model\n",
    "# tokenizer = BertTokenizer.from_pretrained('bert-base-uncased', truncation=True, do_lower_case=True)\n",
    "tokenizer = BertTokenizer.from_pretrained('bert-base-uncased', truncation=True, do_lower_case=True)\n",
    "model = BertForSequenceClassification.from_pretrained(\"bert-base-uncased\",\n",
    "                                            num_labels=len(vendor_to_idx_dict),\n",
    "                                            output_attentions=False,\n",
    "                                            output_hidden_states=False).to(device)"
   ]
  },
  {
   "cell_type": "code",
   "execution_count": 154,
   "id": "17171606",
   "metadata": {},
   "outputs": [
    {
     "data": {
      "text/plain": [
       "'model = BertForSequenceClassification.from_pretrained(\"../models/uncased/bert/epoch_1.model\", \\n                                                        num_labels=len(vendor_to_idx_dict),\\n                                                        output_attentions=False,\\n                                                        output_hidden_states=False).to(device)'"
      ]
     },
     "execution_count": 154,
     "metadata": {},
     "output_type": "execute_result"
    }
   ],
   "source": [
    "\"\"\"model = BertForSequenceClassification.from_pretrained(\"../models/uncased/bert/epoch_1.model\", \n",
    "                                                        num_labels=len(vendor_to_idx_dict),\n",
    "                                                        output_attentions=False,\n",
    "                                                        output_hidden_states=False).to(device)\"\"\""
   ]
  },
  {
   "cell_type": "code",
   "execution_count": 43,
   "id": "ba007ae7",
   "metadata": {},
   "outputs": [],
   "source": [
    "# load model\n",
    "model.load_state_dict(torch.load(\"../models/merged/valhalla-berlusconi/bert/epoch_14.model\"))\n",
    "model.eval()\n",
    "model.zero_grad()"
   ]
  },
  {
   "cell_type": "code",
   "execution_count": null,
   "id": "7c04db63",
   "metadata": {},
   "outputs": [],
   "source": []
  },
  {
   "cell_type": "code",
   "execution_count": 96,
   "id": "be3163a0",
   "metadata": {},
   "outputs": [
    {
     "name": "stderr",
     "output_type": "stream",
     "text": [
      "Some weights of the model checkpoint at google/electra-small-discriminator were not used when initializing ElectraForSequenceClassification: ['discriminator_predictions.dense_prediction.weight', 'discriminator_predictions.dense.bias', 'discriminator_predictions.dense.weight', 'discriminator_predictions.dense_prediction.bias']\n",
      "- This IS expected if you are initializing ElectraForSequenceClassification from the checkpoint of a model trained on another task or with another architecture (e.g. initializing a BertForSequenceClassification model from a BertForPreTraining model).\n",
      "- This IS NOT expected if you are initializing ElectraForSequenceClassification from the checkpoint of a model that you expect to be exactly identical (initializing a BertForSequenceClassification model from a BertForSequenceClassification model).\n",
      "Some weights of ElectraForSequenceClassification were not initialized from the model checkpoint at google/electra-small-discriminator and are newly initialized: ['classifier.out_proj.weight', 'classifier.dense.weight', 'classifier.dense.bias', 'classifier.out_proj.bias']\n",
      "You should probably TRAIN this model on a down-stream task to be able to use it for predictions and inference.\n"
     ]
    }
   ],
   "source": [
    "\"\"\"from transformers import RobertaTokenizer, RobertaForSequenceClassification\n",
    "# Load the RoBERTa tokenizer and model\n",
    "tokenizer = RobertaTokenizer.from_pretrained('roberta-base', truncation=True, do_lower_case=True)\n",
    "model = RobertaForSequenceClassification.from_pretrained(\"roberta-base\",\n",
    "                                            num_labels=len(vendor_to_idx_dict),\n",
    "                                            output_attentions=False,\n",
    "                                            output_hidden_states=False).to(device)\"\"\"\n",
    "\n",
    "from transformers import ElectraTokenizer, ElectraForSequenceClassification\n",
    "# Load the Electra tokenizer and model\n",
    "tokenizer = ElectraTokenizer.from_pretrained('google/electra-small-discriminator', truncation=True, do_lower_case=True)\n",
    "model = ElectraForSequenceClassification.from_pretrained('google/electra-small-discriminator',\n",
    "                                            num_labels=len(vendor_to_idx_dict),\n",
    "                                            output_attentions=False,\n",
    "                                            output_hidden_states=False).to(device)\n"
   ]
  },
  {
   "cell_type": "code",
   "execution_count": 15,
   "id": "fb165cc9",
   "metadata": {},
   "outputs": [],
   "source": [
    "# load model\n",
    "model.load_state_dict(torch.load(\"../models/merged/traderoute-agora/electra/epoch_40.model\"))\n",
    "model.eval()\n",
    "model.zero_grad()"
   ]
  },
  {
   "cell_type": "markdown",
   "id": "6d229ec8",
   "metadata": {},
   "source": [
    "# Loading Distill Bert"
   ]
  },
  {
   "cell_type": "code",
   "execution_count": 50,
   "id": "7de2bc1c",
   "metadata": {},
   "outputs": [
    {
     "name": "stderr",
     "output_type": "stream",
     "text": [
      "Some weights of the model checkpoint at distilbert-base-uncased were not used when initializing DistilBertForSequenceClassification: ['vocab_transform.weight', 'vocab_projector.weight', 'vocab_layer_norm.weight', 'vocab_transform.bias', 'vocab_projector.bias', 'vocab_layer_norm.bias']\n",
      "- This IS expected if you are initializing DistilBertForSequenceClassification from the checkpoint of a model trained on another task or with another architecture (e.g. initializing a BertForSequenceClassification model from a BertForPreTraining model).\n",
      "- This IS NOT expected if you are initializing DistilBertForSequenceClassification from the checkpoint of a model that you expect to be exactly identical (initializing a BertForSequenceClassification model from a BertForSequenceClassification model).\n",
      "Some weights of DistilBertForSequenceClassification were not initialized from the model checkpoint at distilbert-base-uncased and are newly initialized: ['pre_classifier.weight', 'classifier.weight', 'pre_classifier.bias', 'classifier.bias']\n",
      "You should probably TRAIN this model on a down-stream task to be able to use it for predictions and inference.\n"
     ]
    }
   ],
   "source": [
    "from transformers import DistilBertTokenizer, DistilBertForSequenceClassification\n",
    "# Load the Distill bert tokenizer and model\n",
    "tokenizer = DistilBertTokenizer.from_pretrained(\"distilbert-base-uncased\")\n",
    "model = DistilBertForSequenceClassification.from_pretrained(\"distilbert-base-uncased\",\n",
    "                                            num_labels=len(vendor_to_idx_dict),\n",
    "                                            output_attentions=False,\n",
    "                                            output_hidden_states=False).to(device)"
   ]
  },
  {
   "cell_type": "code",
   "execution_count": 56,
   "id": "e860769b",
   "metadata": {},
   "outputs": [],
   "source": [
    "# load model\n",
    "model.load_state_dict(torch.load(\"../models/merged/valhalla-berlusconi/distill/epoch_10.model\"))\n",
    "model.eval()\n",
    "model.zero_grad()"
   ]
  },
  {
   "cell_type": "code",
   "execution_count": 45,
   "id": "e8cc4970",
   "metadata": {},
   "outputs": [
    {
     "data": {
      "text/plain": [
       "1422"
      ]
     },
     "execution_count": 45,
     "metadata": {},
     "output_type": "execute_result"
    }
   ],
   "source": [
    "len(vendor_to_idx_dict)"
   ]
  },
  {
   "cell_type": "code",
   "execution_count": null,
   "id": "7dae11cd",
   "metadata": {},
   "outputs": [],
   "source": []
  },
  {
   "cell_type": "code",
   "execution_count": null,
   "id": "fd994c51",
   "metadata": {},
   "outputs": [],
   "source": []
  },
  {
   "cell_type": "code",
   "execution_count": null,
   "id": "87d7fde6",
   "metadata": {},
   "outputs": [],
   "source": []
  },
  {
   "cell_type": "markdown",
   "id": "4aafacc0",
   "metadata": {},
   "source": [
    "# Evaluating trained model"
   ]
  },
  {
   "cell_type": "code",
   "execution_count": 46,
   "id": "a7144f45",
   "metadata": {},
   "outputs": [],
   "source": [
    "# test_df = pd.concat([test_alpha, test_dreams, test_silk])"
   ]
  },
  {
   "cell_type": "code",
   "execution_count": 54,
   "id": "c9fe8340",
   "metadata": {},
   "outputs": [],
   "source": [
    "def create_data_for_evaluation(test_data):\n",
    "    # vendors = [vendor if vendor in vendor_to_idx_dict.keys() else 'others' for vendor in test_data['vendor']]\n",
    "    # test_data['vendor'] = vendors\n",
    "    # test_data['vendor'] = test_data['vendor'].replace(vendor_to_idx_dict, regex=True)\n",
    "    # test_df = merge_and_create_dataframe(test_data)\n",
    "\n",
    "    encoded_data_test = tokenizer.batch_encode_plus(test_data.text.values, add_special_tokens=True, return_attention_mask=True, \n",
    "                                                    pad_to_max_length=True, max_length=512, return_tensors='pt')\n",
    "    input_ids_test = encoded_data_test['input_ids']\n",
    "    attention_masks_test = encoded_data_test['attention_mask']\n",
    "    labels_test = torch.tensor(list(test_data.labels.values))\n",
    "\n",
    "    dataset_test = TensorDataset(input_ids_test, attention_masks_test, labels_test)\n",
    "    dataloader_test = DataLoader(dataset_test, sampler=SequentialSampler(dataset_test), batch_size=32)\n",
    "\n",
    "    return dataloader_test"
   ]
  },
  {
   "cell_type": "code",
   "execution_count": 58,
   "id": "00c39ef1",
   "metadata": {},
   "outputs": [],
   "source": [
    "test_df = pd.concat([test_valhalla_berlusconi])"
   ]
  },
  {
   "cell_type": "code",
   "execution_count": 59,
   "id": "b5440684",
   "metadata": {},
   "outputs": [],
   "source": [
    "vendors = [vendor if vendor in vendor_to_idx_dict.keys() else 'others' for vendor in test_df['vendor']]"
   ]
  },
  {
   "cell_type": "code",
   "execution_count": 60,
   "id": "393bb1f7",
   "metadata": {},
   "outputs": [],
   "source": [
    "test_df['vendor'] = vendors\n",
    "test_df['vendor'] = test_df['vendor'].replace(vendor_to_idx_dict, regex=True)\n",
    "test_df = merge_and_create_dataframe(test_df)"
   ]
  },
  {
   "cell_type": "code",
   "execution_count": 61,
   "id": "73a85489",
   "metadata": {},
   "outputs": [
    {
     "name": "stderr",
     "output_type": "stream",
     "text": [
      "/opt/conda/lib/python3.8/site-packages/transformers/tokenization_utils_base.py:2271: FutureWarning: The `pad_to_max_length` argument is deprecated and will be removed in a future version, use `padding=True` or `padding='longest'` to pad to the longest sequence in the batch, or use `padding='max_length'` to pad to a max length. In this case, you can give a specific length with `max_length` (e.g. `max_length=45`) or leave max_length to None to pad to the maximal input size of the model (e.g. 512 for Bert).\n",
      "  warnings.warn(\n"
     ]
    },
    {
     "name": "stdout",
     "output_type": "stream",
     "text": [
      "Evaluating model ....\n"
     ]
    }
   ],
   "source": [
    "# Evaluating on the Alphabay dataset\n",
    "dataloader_test = create_data_for_evaluation(test_df)\n",
    "_, predictions, true_vals = evaluate_model(model, dataloader_test, device)"
   ]
  },
  {
   "cell_type": "code",
   "execution_count": 62,
   "id": "d64d7e37",
   "metadata": {},
   "outputs": [
    {
     "name": "stdout",
     "output_type": "stream",
     "text": [
      "              precision    recall  f1-score   support\n",
      "\n",
      "           0     1.0000    1.0000    1.0000         9\n",
      "           1     1.0000    1.0000    1.0000         3\n",
      "           2     1.0000    1.0000    1.0000         6\n",
      "           3     1.0000    1.0000    1.0000         4\n",
      "           4     1.0000    1.0000    1.0000         6\n",
      "           5     1.0000    1.0000    1.0000         2\n",
      "           6     1.0000    0.8333    0.9091         6\n",
      "           7     1.0000    1.0000    1.0000         1\n",
      "           8     0.9405    0.9651    0.9527       344\n",
      "           9     1.0000    1.0000    1.0000         9\n",
      "          10     1.0000    1.0000    1.0000         4\n",
      "          11     1.0000    1.0000    1.0000         3\n",
      "          12     1.0000    1.0000    1.0000         4\n",
      "          13     1.0000    1.0000    1.0000         2\n",
      "          14     1.0000    1.0000    1.0000        14\n",
      "          15     1.0000    1.0000    1.0000         1\n",
      "          16     1.0000    1.0000    1.0000         5\n",
      "          17     0.8182    0.8182    0.8182        11\n",
      "          18     1.0000    1.0000    1.0000        12\n",
      "          19     1.0000    1.0000    1.0000         6\n",
      "          20     1.0000    1.0000    1.0000         3\n",
      "          21     1.0000    1.0000    1.0000         5\n",
      "          22     1.0000    0.5000    0.6667         2\n",
      "          23     0.6667    1.0000    0.8000         6\n",
      "          24     1.0000    0.7778    0.8750         9\n",
      "          25     1.0000    1.0000    1.0000         1\n",
      "          26     1.0000    0.9167    0.9565        12\n",
      "          27     1.0000    0.7500    0.8571         4\n",
      "          28     0.7500    1.0000    0.8571         3\n",
      "          29     1.0000    1.0000    1.0000         4\n",
      "          30     1.0000    0.8000    0.8889         5\n",
      "          31     1.0000    1.0000    1.0000         3\n",
      "          32     1.0000    1.0000    1.0000        12\n",
      "          33     1.0000    1.0000    1.0000         4\n",
      "          34     1.0000    1.0000    1.0000         5\n",
      "          35     1.0000    1.0000    1.0000         2\n",
      "          36     1.0000    1.0000    1.0000         5\n",
      "          37     1.0000    1.0000    1.0000         1\n",
      "          38     0.6667    1.0000    0.8000         2\n",
      "          39     1.0000    1.0000    1.0000         4\n",
      "          40     1.0000    1.0000    1.0000         1\n",
      "          41     1.0000    1.0000    1.0000         8\n",
      "          42     1.0000    1.0000    1.0000         7\n",
      "          43     1.0000    1.0000    1.0000         2\n",
      "          44     1.0000    1.0000    1.0000         2\n",
      "          45     1.0000    1.0000    1.0000         5\n",
      "          46     1.0000    1.0000    1.0000         6\n",
      "          47     1.0000    1.0000    1.0000         1\n",
      "          48     1.0000    1.0000    1.0000         2\n",
      "          49     1.0000    1.0000    1.0000         7\n",
      "          50     1.0000    1.0000    1.0000         2\n",
      "          52     0.5000    0.6667    0.5714         3\n",
      "          54     1.0000    1.0000    1.0000         1\n",
      "          55     1.0000    1.0000    1.0000        18\n",
      "          56     1.0000    1.0000    1.0000         2\n",
      "          57     1.0000    1.0000    1.0000        10\n",
      "          58     1.0000    1.0000    1.0000         1\n",
      "          59     0.5000    1.0000    0.6667         1\n",
      "          60     1.0000    1.0000    1.0000         1\n",
      "          61     1.0000    1.0000    1.0000         1\n",
      "          62     1.0000    1.0000    1.0000         2\n",
      "          63     1.0000    1.0000    1.0000         9\n",
      "          64     1.0000    1.0000    1.0000         1\n",
      "          65     1.0000    0.6667    0.8000         3\n",
      "          66     1.0000    1.0000    1.0000         4\n",
      "          68     1.0000    1.0000    1.0000         2\n",
      "          69     0.0000    0.0000    0.0000         2\n",
      "          71     1.0000    1.0000    1.0000         7\n",
      "          72     1.0000    1.0000    1.0000         4\n",
      "          73     1.0000    1.0000    1.0000         2\n",
      "          74     0.0000    0.0000    0.0000         1\n",
      "          75     0.6000    1.0000    0.7500         3\n",
      "          76     0.6000    0.7500    0.6667         4\n",
      "          77     1.0000    1.0000    1.0000         1\n",
      "          79     1.0000    0.3333    0.5000         3\n",
      "          80     0.7500    1.0000    0.8571         3\n",
      "          81     0.0000    0.0000    0.0000         1\n",
      "          82     1.0000    1.0000    1.0000         1\n",
      "          83     0.6667    1.0000    0.8000         2\n",
      "          84     0.0000    0.0000    0.0000         1\n",
      "          85     1.0000    1.0000    1.0000         1\n",
      "          86     1.0000    1.0000    1.0000         4\n",
      "          87     0.5000    1.0000    0.6667         1\n",
      "          88     1.0000    1.0000    1.0000         1\n",
      "          90     1.0000    1.0000    1.0000         1\n",
      "          92     1.0000    1.0000    1.0000         1\n",
      "          94     1.0000    1.0000    1.0000         3\n",
      "          95     0.0000    0.0000    0.0000         1\n",
      "          97     1.0000    1.0000    1.0000         4\n",
      "          99     0.9412    1.0000    0.9697        16\n",
      "         101     0.9286    1.0000    0.9630        13\n",
      "         107     0.0000    0.0000    0.0000         2\n",
      "         110     1.0000    1.0000    1.0000         8\n",
      "         111     1.0000    1.0000    1.0000        13\n",
      "         112     1.0000    1.0000    1.0000         1\n",
      "         113     1.0000    1.0000    1.0000         3\n",
      "         114     0.8333    0.7143    0.7692         7\n",
      "         115     1.0000    1.0000    1.0000         5\n",
      "         116     1.0000    1.0000    1.0000        13\n",
      "         117     0.0000    0.0000    0.0000         1\n",
      "         118     1.0000    0.9231    0.9600        13\n",
      "         119     0.5455    0.6667    0.6000         9\n",
      "         120     1.0000    1.0000    1.0000         1\n",
      "         121     1.0000    0.6667    0.8000         3\n",
      "         123     1.0000    1.0000    1.0000        10\n",
      "         124     1.0000    1.0000    1.0000         4\n",
      "         125     1.0000    1.0000    1.0000         7\n",
      "         126     1.0000    1.0000    1.0000         4\n",
      "         128     1.0000    1.0000    1.0000         1\n",
      "         129     1.0000    0.7500    0.8571         4\n",
      "         130     1.0000    1.0000    1.0000         6\n",
      "         131     1.0000    1.0000    1.0000         3\n",
      "         132     1.0000    1.0000    1.0000         7\n",
      "         133     0.5000    1.0000    0.6667         1\n",
      "         135     1.0000    1.0000    1.0000         3\n",
      "         136     1.0000    1.0000    1.0000         5\n",
      "         137     0.8571    1.0000    0.9231         6\n",
      "         138     1.0000    1.0000    1.0000         4\n",
      "         139     1.0000    1.0000    1.0000         1\n",
      "         140     1.0000    1.0000    1.0000         5\n",
      "         141     1.0000    0.5000    0.6667         2\n",
      "         142     1.0000    1.0000    1.0000         1\n",
      "         143     1.0000    1.0000    1.0000         1\n",
      "         144     1.0000    1.0000    1.0000         3\n",
      "         146     0.5000    1.0000    0.6667         1\n",
      "         148     1.0000    1.0000    1.0000         1\n",
      "         149     1.0000    1.0000    1.0000         1\n",
      "         150     1.0000    1.0000    1.0000         1\n",
      "         151     1.0000    1.0000    1.0000         1\n",
      "         152     0.0000    0.0000    0.0000         1\n",
      "         155     1.0000    0.5000    0.6667         4\n",
      "         158     1.0000    1.0000    1.0000         2\n",
      "         159     1.0000    1.0000    1.0000         1\n",
      "         160     0.0000    0.0000    0.0000         1\n",
      "         161     0.0000    0.0000    0.0000         1\n",
      "         162     0.0000    0.0000    0.0000         0\n",
      "         165     1.0000    1.0000    1.0000         2\n",
      "         169     0.0000    0.0000    0.0000         1\n",
      "         171     1.0000    1.0000    1.0000         1\n",
      "\n",
      "    accuracy                         0.9446       903\n",
      "   macro avg     0.8710    0.8741    0.8645       903\n",
      "weighted avg     0.9396    0.9446    0.9388       903\n",
      "\n"
     ]
    },
    {
     "name": "stderr",
     "output_type": "stream",
     "text": [
      "/opt/conda/lib/python3.8/site-packages/sklearn/metrics/_classification.py:1248: UndefinedMetricWarning: Precision and F-score are ill-defined and being set to 0.0 in labels with no predicted samples. Use `zero_division` parameter to control this behavior.\n",
      "  _warn_prf(average, modifier, msg_start, len(result))\n",
      "/opt/conda/lib/python3.8/site-packages/sklearn/metrics/_classification.py:1248: UndefinedMetricWarning: Recall and F-score are ill-defined and being set to 0.0 in labels with no true samples. Use `zero_division` parameter to control this behavior.\n",
      "  _warn_prf(average, modifier, msg_start, len(result))\n",
      "/opt/conda/lib/python3.8/site-packages/sklearn/metrics/_classification.py:1248: UndefinedMetricWarning: Precision and F-score are ill-defined and being set to 0.0 in labels with no predicted samples. Use `zero_division` parameter to control this behavior.\n",
      "  _warn_prf(average, modifier, msg_start, len(result))\n",
      "/opt/conda/lib/python3.8/site-packages/sklearn/metrics/_classification.py:1248: UndefinedMetricWarning: Recall and F-score are ill-defined and being set to 0.0 in labels with no true samples. Use `zero_division` parameter to control this behavior.\n",
      "  _warn_prf(average, modifier, msg_start, len(result))\n",
      "/opt/conda/lib/python3.8/site-packages/sklearn/metrics/_classification.py:1248: UndefinedMetricWarning: Precision and F-score are ill-defined and being set to 0.0 in labels with no predicted samples. Use `zero_division` parameter to control this behavior.\n",
      "  _warn_prf(average, modifier, msg_start, len(result))\n",
      "/opt/conda/lib/python3.8/site-packages/sklearn/metrics/_classification.py:1248: UndefinedMetricWarning: Recall and F-score are ill-defined and being set to 0.0 in labels with no true samples. Use `zero_division` parameter to control this behavior.\n",
      "  _warn_prf(average, modifier, msg_start, len(result))\n"
     ]
    }
   ],
   "source": [
    "print(sklearn.metrics.classification_report(np.array(test_df.labels), torch.argmax(torch.tensor(predictions), dim=1).numpy(), digits=4))"
   ]
  },
  {
   "cell_type": "code",
   "execution_count": 20,
   "id": "744671f4",
   "metadata": {},
   "outputs": [
    {
     "data": {
      "text/plain": [
       "68509928"
      ]
     },
     "execution_count": 20,
     "metadata": {},
     "output_type": "execute_result"
    }
   ],
   "source": [
    "pytorch_total_params = sum(p.numel() for p in model.parameters() if p.requires_grad)\n",
    "pytorch_total_params"
   ]
  },
  {
   "cell_type": "markdown",
   "id": "e853e7c9",
   "metadata": {},
   "source": [
    "# Helper Functions"
   ]
  },
  {
   "cell_type": "code",
   "execution_count": 183,
   "id": "8f9e1fd8",
   "metadata": {},
   "outputs": [],
   "source": [
    "ref_token_id = tokenizer.pad_token_id # A token used for generating token reference\n",
    "sep_token_id = tokenizer.sep_token_id # A token used as a separator between question and text and it is also added to the end of the text.\n",
    "cls_token_id = tokenizer.cls_token_id # A token used for prepending to the concatenated question-text word sequence"
   ]
  },
  {
   "cell_type": "code",
   "execution_count": 184,
   "id": "d8012ff7",
   "metadata": {},
   "outputs": [],
   "source": [
    "def predict(inputs):\n",
    "    return model(inputs)[0]"
   ]
  },
  {
   "cell_type": "code",
   "execution_count": 185,
   "id": "9da1c4da",
   "metadata": {},
   "outputs": [],
   "source": [
    "def construct_input_ref_pair(text, ref_token_id, sep_token_id, cls_token_id):\n",
    "    text_ids = tokenizer.encode(text, add_special_tokens=False)\n",
    "    # construct input token ids\n",
    "    input_ids = [cls_token_id] + text_ids + [sep_token_id]\n",
    "    # construct reference token ids \n",
    "    ref_input_ids = [cls_token_id] + [ref_token_id] * len(text_ids) + [sep_token_id]\n",
    "    return torch.tensor([input_ids], device=device), torch.tensor([ref_input_ids], device=device), len(text_ids)\n",
    "\n",
    "def construct_input_ref_token_type_pair(input_ids, sep_ind=0):\n",
    "    seq_len = input_ids.size(1)\n",
    "    token_type_ids = torch.tensor([[0 if i <= sep_ind else 1 for i in range(seq_len)]], device=device)\n",
    "    ref_token_type_ids = torch.zeros_like(token_type_ids, device=device)# * -1\n",
    "    return token_type_ids, ref_token_type_ids\n",
    "\n",
    "def construct_input_ref_pos_id_pair(input_ids):\n",
    "    seq_length = input_ids.size(1)\n",
    "    position_ids = torch.arange(seq_length, dtype=torch.long, device=device)\n",
    "    # we could potentially also use random permutation with `torch.randperm(seq_length, device=device)`\n",
    "    ref_position_ids = torch.zeros(seq_length, dtype=torch.long, device=device)\n",
    "\n",
    "    position_ids = position_ids.unsqueeze(0).expand_as(input_ids)\n",
    "    ref_position_ids = ref_position_ids.unsqueeze(0).expand_as(input_ids)\n",
    "    return position_ids, ref_position_ids\n",
    "    \n",
    "def construct_attention_mask(input_ids):\n",
    "    return torch.ones_like(input_ids)\n",
    "\n",
    "def construct_whole_bert_embeddings(input_ids, ref_input_ids, \\\n",
    "                                    token_type_ids=None, ref_token_type_ids=None, \\\n",
    "                                    position_ids=None, ref_position_ids=None):\n",
    "    input_embeddings = model.bert.embeddings(input_ids, token_type_ids=token_type_ids, position_ids=position_ids)\n",
    "    ref_input_embeddings = model.bert.embeddings(ref_input_ids, token_type_ids=ref_token_type_ids, position_ids=ref_position_ids)\n",
    "    \n",
    "    return input_embeddings, ref_input_embeddings"
   ]
  },
  {
   "cell_type": "code",
   "execution_count": 186,
   "id": "02f8becb",
   "metadata": {},
   "outputs": [],
   "source": [
    "def custom_forward(inputs):\n",
    "    preds = predict(inputs)\n",
    "    return torch.softmax(preds, dim = 1)[0][1].unsqueeze(-1)"
   ]
  },
  {
   "cell_type": "code",
   "execution_count": 187,
   "id": "71b9a735",
   "metadata": {},
   "outputs": [],
   "source": [
    "def summarize_attributions(attributions):\n",
    "    attributions = attributions.sum(dim=-1).squeeze(0)\n",
    "    attributions = attributions / torch.norm(attributions)\n",
    "    return attributions"
   ]
  },
  {
   "cell_type": "code",
   "execution_count": 188,
   "id": "4a323f1b",
   "metadata": {},
   "outputs": [],
   "source": [
    "lig = LayerIntegratedGradients(custom_forward, model.bert.embeddings)"
   ]
  },
  {
   "cell_type": "code",
   "execution_count": 189,
   "id": "863fdcba",
   "metadata": {},
   "outputs": [
    {
     "data": {
      "text/plain": [
       "'def generate_visualization(df, idx, vendor_to_idx_dict):\\n    print(\"Vendor name:\", list(vendor_to_idx_dict.keys())[list(vendor_to_idx_dict.values()).index(idx)])\\n    text = df[df[\\'text\\']==idx]\\n    \\n    input_ids, ref_input_ids, sep_id = construct_input_ref_pair(text, ref_token_id, sep_token_id, cls_token_id)\\n    token_type_ids, ref_token_type_ids = construct_input_ref_token_type_pair(input_ids, sep_id)\\n    position_ids, ref_position_ids = construct_input_ref_pos_id_pair(input_ids)\\n    attention_mask = construct_attention_mask(input_ids)\\n\\n    indices = input_ids[0].detach().tolist()\\n    all_tokens = tokenizer.convert_ids_to_tokens(indices)\\n    \\n    attributions, delta = lig.attribute(inputs=input_ids,\\n                                    baselines=ref_input_ids,\\n                                    n_steps=700,\\n                                    internal_batch_size=3,\\n                                    return_convergence_delta=True)\\n    \\n    attributions_sum = summarize_attributions(attributions)\\n    \\n    score_vis = viz.VisualizationDataRecord(attributions_sum,\\n                                        torch.softmax(score, dim = 1)[0][1],\\n                                        torch.argmax(torch.softmax(score, dim = 1)[0]),\\n                                        df[\\'labels\\'].iloc[idx],\\n                                        text,\\n                                        attributions_sum.sum(),       \\n                                        all_tokens,\\n                                        delta)\\n    \\n    print(\\'\\x1b[1m\\', \\'Visualization For Score\\', \\'\\x1b[0m\\')\\n    viz.visualize_text([score_vis])\\n    return score, attributions_sum'"
      ]
     },
     "execution_count": 189,
     "metadata": {},
     "output_type": "execute_result"
    }
   ],
   "source": [
    "\"\"\"def generate_visualization(df, idx, vendor_to_idx_dict):\n",
    "    print(\"Vendor name:\", list(vendor_to_idx_dict.keys())[list(vendor_to_idx_dict.values()).index(idx)])\n",
    "    text = df[df['text']==idx]\n",
    "    \n",
    "    input_ids, ref_input_ids, sep_id = construct_input_ref_pair(text, ref_token_id, sep_token_id, cls_token_id)\n",
    "    token_type_ids, ref_token_type_ids = construct_input_ref_token_type_pair(input_ids, sep_id)\n",
    "    position_ids, ref_position_ids = construct_input_ref_pos_id_pair(input_ids)\n",
    "    attention_mask = construct_attention_mask(input_ids)\n",
    "\n",
    "    indices = input_ids[0].detach().tolist()\n",
    "    all_tokens = tokenizer.convert_ids_to_tokens(indices)\n",
    "    \n",
    "    attributions, delta = lig.attribute(inputs=input_ids,\n",
    "                                    baselines=ref_input_ids,\n",
    "                                    n_steps=700,\n",
    "                                    internal_batch_size=3,\n",
    "                                    return_convergence_delta=True)\n",
    "    \n",
    "    attributions_sum = summarize_attributions(attributions)\n",
    "    \n",
    "    score_vis = viz.VisualizationDataRecord(attributions_sum,\n",
    "                                        torch.softmax(score, dim = 1)[0][1],\n",
    "                                        torch.argmax(torch.softmax(score, dim = 1)[0]),\n",
    "                                        df['labels'].iloc[idx],\n",
    "                                        text,\n",
    "                                        attributions_sum.sum(),       \n",
    "                                        all_tokens,\n",
    "                                        delta)\n",
    "    \n",
    "    print('\\033[1m', 'Visualization For Score', '\\033[0m')\n",
    "    viz.visualize_text([score_vis])\n",
    "    return score, attributions_sum\"\"\""
   ]
  },
  {
   "cell_type": "code",
   "execution_count": 190,
   "id": "e6e39ba1",
   "metadata": {},
   "outputs": [],
   "source": [
    "vendor = list(vendor_to_idx_dict.keys())[20]\n",
    "vendor_id = vendor_to_idx_dict[vendor]"
   ]
  },
  {
   "cell_type": "code",
   "execution_count": 192,
   "id": "8be62c93",
   "metadata": {},
   "outputs": [
    {
     "data": {
      "text/plain": [
       "'Title : starEmoji  instahearts || instagram success starEmoji \\n Description : (censored due to possible presence of pii)'"
      ]
     },
     "execution_count": 192,
     "metadata": {},
     "output_type": "execute_result"
    }
   ],
   "source": [
    "# One can test a couple of examples and check that the sentiment classifier is behaving\n",
    "text = sample_df['text'].iloc[24]\n",
    "text\n",
    "#text = \"The movie was one of those crappy movies you can't forget."
   ]
  },
  {
   "cell_type": "code",
   "execution_count": 193,
   "id": "d70ec6a9",
   "metadata": {},
   "outputs": [],
   "source": [
    "input_ids, ref_input_ids, sep_id = construct_input_ref_pair(text, ref_token_id, sep_token_id, cls_token_id)\n",
    "token_type_ids, ref_token_type_ids = construct_input_ref_token_type_pair(input_ids, sep_id)\n",
    "position_ids, ref_position_ids = construct_input_ref_pos_id_pair(input_ids)\n",
    "attention_mask = construct_attention_mask(input_ids)\n",
    "\n",
    "indices = input_ids[0].detach().tolist()\n",
    "all_tokens = tokenizer.convert_ids_to_tokens(indices)"
   ]
  },
  {
   "cell_type": "code",
   "execution_count": 194,
   "id": "453fd894",
   "metadata": {},
   "outputs": [
    {
     "data": {
      "text/plain": [
       "tensor([[ 6.9189, -0.6540, -0.1456,  ...,  2.3671, -1.0465, -2.8723]],\n",
       "       device='cuda:0', grad_fn=<AddmmBackward>)"
      ]
     },
     "execution_count": 194,
     "metadata": {},
     "output_type": "execute_result"
    }
   ],
   "source": [
    "# Check predict output\n",
    "predict(input_ids)"
   ]
  },
  {
   "cell_type": "code",
   "execution_count": 195,
   "id": "1a495722",
   "metadata": {},
   "outputs": [
    {
     "data": {
      "text/plain": [
       "tensor([7.2332e-11], device='cuda:0', grad_fn=<UnsqueezeBackward0>)"
      ]
     },
     "execution_count": 195,
     "metadata": {},
     "output_type": "execute_result"
    }
   ],
   "source": [
    "# Check output of custom_forward\n",
    "custom_forward(input_ids)"
   ]
  },
  {
   "cell_type": "code",
   "execution_count": 196,
   "id": "4203d9d6",
   "metadata": {},
   "outputs": [],
   "source": [
    "attributions, delta = lig.attribute(inputs=input_ids,\n",
    "                                    baselines=ref_input_ids,\n",
    "                                    n_steps=1000,\n",
    "                                    internal_batch_size=3,\n",
    "                                    return_convergence_delta=True)"
   ]
  },
  {
   "cell_type": "code",
   "execution_count": 197,
   "id": "9b34fbf4",
   "metadata": {},
   "outputs": [
    {
     "name": "stdout",
     "output_type": "stream",
     "text": [
      "Advertisement:  Title : starEmoji  instahearts || instagram success starEmoji \n",
      " Description : (censored due to possible presence of pii)\n",
      "Prediction: 20, Probability positive: 7.233172e-11\n"
     ]
    }
   ],
   "source": [
    "score = predict(input_ids)\n",
    "\n",
    "print('Advertisement: ', text)\n",
    "print('Prediction: ' + str(torch.argmax(score[0]).cpu().numpy()) + \\\n",
    "      ', Probability positive: ' + str(torch.softmax(score, dim = 1)[0][1].cpu().detach().numpy()))\n",
    "\n"
   ]
  },
  {
   "cell_type": "code",
   "execution_count": 217,
   "id": "a4ee8bc7",
   "metadata": {},
   "outputs": [
    {
     "data": {
      "text/plain": [
       "tensor([1.4067e-07, 7.2332e-11, 1.2026e-10,  ..., 1.4839e-09, 4.8851e-11,\n",
       "        7.8690e-12], device='cuda:0', grad_fn=<SelectBackward>)"
      ]
     },
     "execution_count": 217,
     "metadata": {},
     "output_type": "execute_result"
    }
   ],
   "source": [
    "torch.softmax(score, dim = 1)[0]"
   ]
  },
  {
   "cell_type": "code",
   "execution_count": 198,
   "id": "9a24901c",
   "metadata": {},
   "outputs": [],
   "source": [
    "prediction_probs = list(score[0].cpu().detach().numpy())"
   ]
  },
  {
   "cell_type": "code",
   "execution_count": 199,
   "id": "1447dfd6",
   "metadata": {},
   "outputs": [],
   "source": [
    "attributions_sum = summarize_attributions(attributions)"
   ]
  },
  {
   "cell_type": "code",
   "execution_count": 200,
   "id": "53a3da0a",
   "metadata": {},
   "outputs": [
    {
     "data": {
      "text/plain": [
       "tensor([ 0.0000e+00, -5.3472e-02, -2.0227e-01,  1.8990e-01, -8.4392e-02,\n",
       "        -2.9028e-01, -1.7298e-01, -4.0119e-02,  2.9922e-01, -3.5510e-02,\n",
       "        -5.7739e-02, -1.8759e-01, -1.1684e-01, -1.7097e-04,  3.0305e-01,\n",
       "        -2.9476e-01, -1.2952e-02, -4.4370e-01,  1.3903e-01,  4.2050e-02,\n",
       "        -2.2160e-01, -5.5021e-02, -2.7620e-01, -1.2343e-01,  2.5250e-02,\n",
       "         5.1196e-02,  4.1175e-02,  6.4433e-03, -6.5567e-02,  8.1828e-02,\n",
       "         2.2770e-02,  3.1185e-01,  0.0000e+00], device='cuda:0',\n",
       "       dtype=torch.float64)"
      ]
     },
     "execution_count": 200,
     "metadata": {},
     "output_type": "execute_result"
    }
   ],
   "source": [
    "attributions_sum"
   ]
  },
  {
   "cell_type": "code",
   "execution_count": 201,
   "id": "7832ace7",
   "metadata": {},
   "outputs": [],
   "source": [
    "token_list, attribution_list = ([] for i in range(2))\n",
    "for idx, token in enumerate(all_tokens):\n",
    "    if \"#\" not in token:\n",
    "        token_list.append(token)\n",
    "        attribution_list.append(attributions_sum[idx])\n",
    "    else:\n",
    "        token_list[-1] += token.replace(\"##\",\"\")\n",
    "        attribution_list[-1] += attributions_sum[idx]\n",
    "\n",
    "attribution_list = torch.tensor(attribution_list)"
   ]
  },
  {
   "cell_type": "code",
   "execution_count": 212,
   "id": "c76889bb",
   "metadata": {},
   "outputs": [],
   "source": [
    "score_vis = viz.VisualizationDataRecord(attributions_sum,\n",
    "                                        torch.softmax(score, dim = 1)[0][1],\n",
    "                                        torch.argmax(torch.softmax(score, dim = 1)[0]),\n",
    "                                        sample_df['labels'].iloc[2],\n",
    "                                        text,\n",
    "                                        attributions_sum.sum(),       \n",
    "                                        token_list,\n",
    "                                        delta)"
   ]
  },
  {
   "cell_type": "code",
   "execution_count": 213,
   "id": "33daf4cd",
   "metadata": {},
   "outputs": [
    {
     "name": "stdout",
     "output_type": "stream",
     "text": [
      "\u001b[1m Visualization For Score \u001b[0m\n"
     ]
    },
    {
     "data": {
      "text/html": [
       "<table width: 100%><div style=\"border-top: 1px solid; margin-top: 5px;             padding-top: 5px; display: inline-block\"><b>Legend: </b><span style=\"display: inline-block; width: 10px; height: 10px;                 border: 1px solid; background-color:                 hsl(0, 75%, 60%)\"></span> Negative  <span style=\"display: inline-block; width: 10px; height: 10px;                 border: 1px solid; background-color:                 hsl(0, 75%, 100%)\"></span> Neutral  <span style=\"display: inline-block; width: 10px; height: 10px;                 border: 1px solid; background-color:                 hsl(120, 75%, 50%)\"></span> Positive  </div><tr><th>True Label</th><th>Predicted Label</th><th>Attribution Label</th><th>Attribution Score</th><th>Word Importance</th><tr><td><text style=\"padding-right:2em\"><b>20</b></text></td><td><text style=\"padding-right:2em\"><b>20 (0.00)</b></text></td><td><text style=\"padding-right:2em\"><b>Title : starEmoji  instahearts || instagram success starEmoji \n",
       " Description : (censored due to possible presence of pii)</b></text></td><td><text style=\"padding-right:2em\"><b>-2.21</b></text></td><td><mark style=\"background-color: hsl(0, 75%, 100%); opacity:1.0;                     line-height:1.75\"><font color=\"black\"> [CLS]                    </font></mark><mark style=\"background-color: hsl(0, 75%, 98%); opacity:1.0;                     line-height:1.75\"><font color=\"black\"> title                    </font></mark><mark style=\"background-color: hsl(0, 75%, 92%); opacity:1.0;                     line-height:1.75\"><font color=\"black\"> :                    </font></mark><mark style=\"background-color: hsl(0, 75%, 93%); opacity:1.0;                     line-height:1.75\"><font color=\"black\"> staremoji                    </font></mark><mark style=\"background-color: hsl(0, 75%, 97%); opacity:1.0;                     line-height:1.75\"><font color=\"black\"> instahearts                    </font></mark><mark style=\"background-color: hsl(0, 75%, 89%); opacity:1.0;                     line-height:1.75\"><font color=\"black\"> |                    </font></mark><mark style=\"background-color: hsl(120, 75%, 98%); opacity:1.0;                     line-height:1.75\"><font color=\"black\"> |                    </font></mark><mark style=\"background-color: hsl(0, 75%, 99%); opacity:1.0;                     line-height:1.75\"><font color=\"black\"> instagram                    </font></mark><mark style=\"background-color: hsl(120, 75%, 86%); opacity:1.0;                     line-height:1.75\"><font color=\"black\"> success                    </font></mark><mark style=\"background-color: hsl(0, 75%, 99%); opacity:1.0;                     line-height:1.75\"><font color=\"black\"> staremoji                    </font></mark><mark style=\"background-color: hsl(0, 75%, 98%); opacity:1.0;                     line-height:1.75\"><font color=\"black\"> description                    </font></mark><mark style=\"background-color: hsl(0, 75%, 93%); opacity:1.0;                     line-height:1.75\"><font color=\"black\"> :                    </font></mark><mark style=\"background-color: hsl(0, 75%, 96%); opacity:1.0;                     line-height:1.75\"><font color=\"black\"> (                    </font></mark><mark style=\"background-color: hsl(0, 75%, 100%); opacity:1.0;                     line-height:1.75\"><font color=\"black\"> censored                    </font></mark><mark style=\"background-color: hsl(120, 75%, 85%); opacity:1.0;                     line-height:1.75\"><font color=\"black\"> due                    </font></mark><mark style=\"background-color: hsl(0, 75%, 70%); opacity:1.0;                     line-height:1.75\"><font color=\"black\"> to                    </font></mark><mark style=\"background-color: hsl(0, 75%, 100%); opacity:1.0;                     line-height:1.75\"><font color=\"black\"> possible                    </font></mark><mark style=\"background-color: hsl(0, 75%, 83%); opacity:1.0;                     line-height:1.75\"><font color=\"black\"> presence                    </font></mark><mark style=\"background-color: hsl(120, 75%, 94%); opacity:1.0;                     line-height:1.75\"><font color=\"black\"> of                    </font></mark><mark style=\"background-color: hsl(120, 75%, 98%); opacity:1.0;                     line-height:1.75\"><font color=\"black\"> pii                    </font></mark><mark style=\"background-color: hsl(0, 75%, 92%); opacity:1.0;                     line-height:1.75\"><font color=\"black\"> )                    </font></mark><mark style=\"background-color: hsl(0, 75%, 82%); opacity:1.0;                     line-height:1.75\"><font color=\"black\"> [SEP]                    </font></mark></td><tr></table>"
      ],
      "text/plain": [
       "<IPython.core.display.HTML object>"
      ]
     },
     "metadata": {},
     "output_type": "display_data"
    },
    {
     "data": {
      "text/html": [
       "<table width: 100%><div style=\"border-top: 1px solid; margin-top: 5px;             padding-top: 5px; display: inline-block\"><b>Legend: </b><span style=\"display: inline-block; width: 10px; height: 10px;                 border: 1px solid; background-color:                 hsl(0, 75%, 60%)\"></span> Negative  <span style=\"display: inline-block; width: 10px; height: 10px;                 border: 1px solid; background-color:                 hsl(0, 75%, 100%)\"></span> Neutral  <span style=\"display: inline-block; width: 10px; height: 10px;                 border: 1px solid; background-color:                 hsl(120, 75%, 50%)\"></span> Positive  </div><tr><th>True Label</th><th>Predicted Label</th><th>Attribution Label</th><th>Attribution Score</th><th>Word Importance</th><tr><td><text style=\"padding-right:2em\"><b>20</b></text></td><td><text style=\"padding-right:2em\"><b>20 (0.00)</b></text></td><td><text style=\"padding-right:2em\"><b>Title : starEmoji  instahearts || instagram success starEmoji \n",
       " Description : (censored due to possible presence of pii)</b></text></td><td><text style=\"padding-right:2em\"><b>-2.21</b></text></td><td><mark style=\"background-color: hsl(0, 75%, 100%); opacity:1.0;                     line-height:1.75\"><font color=\"black\"> [CLS]                    </font></mark><mark style=\"background-color: hsl(0, 75%, 98%); opacity:1.0;                     line-height:1.75\"><font color=\"black\"> title                    </font></mark><mark style=\"background-color: hsl(0, 75%, 92%); opacity:1.0;                     line-height:1.75\"><font color=\"black\"> :                    </font></mark><mark style=\"background-color: hsl(0, 75%, 93%); opacity:1.0;                     line-height:1.75\"><font color=\"black\"> staremoji                    </font></mark><mark style=\"background-color: hsl(0, 75%, 97%); opacity:1.0;                     line-height:1.75\"><font color=\"black\"> instahearts                    </font></mark><mark style=\"background-color: hsl(0, 75%, 89%); opacity:1.0;                     line-height:1.75\"><font color=\"black\"> |                    </font></mark><mark style=\"background-color: hsl(120, 75%, 98%); opacity:1.0;                     line-height:1.75\"><font color=\"black\"> |                    </font></mark><mark style=\"background-color: hsl(0, 75%, 99%); opacity:1.0;                     line-height:1.75\"><font color=\"black\"> instagram                    </font></mark><mark style=\"background-color: hsl(120, 75%, 86%); opacity:1.0;                     line-height:1.75\"><font color=\"black\"> success                    </font></mark><mark style=\"background-color: hsl(0, 75%, 99%); opacity:1.0;                     line-height:1.75\"><font color=\"black\"> staremoji                    </font></mark><mark style=\"background-color: hsl(0, 75%, 98%); opacity:1.0;                     line-height:1.75\"><font color=\"black\"> description                    </font></mark><mark style=\"background-color: hsl(0, 75%, 93%); opacity:1.0;                     line-height:1.75\"><font color=\"black\"> :                    </font></mark><mark style=\"background-color: hsl(0, 75%, 96%); opacity:1.0;                     line-height:1.75\"><font color=\"black\"> (                    </font></mark><mark style=\"background-color: hsl(0, 75%, 100%); opacity:1.0;                     line-height:1.75\"><font color=\"black\"> censored                    </font></mark><mark style=\"background-color: hsl(120, 75%, 85%); opacity:1.0;                     line-height:1.75\"><font color=\"black\"> due                    </font></mark><mark style=\"background-color: hsl(0, 75%, 70%); opacity:1.0;                     line-height:1.75\"><font color=\"black\"> to                    </font></mark><mark style=\"background-color: hsl(0, 75%, 100%); opacity:1.0;                     line-height:1.75\"><font color=\"black\"> possible                    </font></mark><mark style=\"background-color: hsl(0, 75%, 83%); opacity:1.0;                     line-height:1.75\"><font color=\"black\"> presence                    </font></mark><mark style=\"background-color: hsl(120, 75%, 94%); opacity:1.0;                     line-height:1.75\"><font color=\"black\"> of                    </font></mark><mark style=\"background-color: hsl(120, 75%, 98%); opacity:1.0;                     line-height:1.75\"><font color=\"black\"> pii                    </font></mark><mark style=\"background-color: hsl(0, 75%, 92%); opacity:1.0;                     line-height:1.75\"><font color=\"black\"> )                    </font></mark><mark style=\"background-color: hsl(0, 75%, 82%); opacity:1.0;                     line-height:1.75\"><font color=\"black\"> [SEP]                    </font></mark></td><tr></table>"
      ],
      "text/plain": [
       "<IPython.core.display.HTML object>"
      ]
     },
     "execution_count": 213,
     "metadata": {},
     "output_type": "execute_result"
    }
   ],
   "source": [
    "print('\\033[1m', 'Visualization For Score', '\\033[0m')\n",
    "viz.visualize_text([score_vis])"
   ]
  },
  {
   "cell_type": "code",
   "execution_count": 93,
   "id": "3e975cd6",
   "metadata": {},
   "outputs": [
    {
     "name": "stdout",
     "output_type": "stream",
     "text": [
      "\u001b[1m Visualization For Score \u001b[0m\n"
     ]
    },
    {
     "data": {
      "text/html": [
       "<table width: 100%><div style=\"border-top: 1px solid; margin-top: 5px;             padding-top: 5px; display: inline-block\"><b>Legend: </b><span style=\"display: inline-block; width: 10px; height: 10px;                 border: 1px solid; background-color:                 hsl(0, 75%, 60%)\"></span> Negative  <span style=\"display: inline-block; width: 10px; height: 10px;                 border: 1px solid; background-color:                 hsl(0, 75%, 100%)\"></span> Neutral  <span style=\"display: inline-block; width: 10px; height: 10px;                 border: 1px solid; background-color:                 hsl(120, 75%, 50%)\"></span> Positive  </div><tr><th>True Label</th><th>Predicted Label</th><th>Attribution Label</th><th>Attribution Score</th><th>Word Importance</th><tr><td><text style=\"padding-right:2em\"><b>20</b></text></td><td><text style=\"padding-right:2em\"><b>20 (0.00)</b></text></td><td><text style=\"padding-right:2em\"><b>Title : kingPieceEmoji  paypal / ebay transfer method kingPieceEmoji \n",
       " Description : (censored due to possible presence of pii)</b></text></td><td><text style=\"padding-right:2em\"><b>-2.59</b></text></td><td><mark style=\"background-color: hsl(0, 75%, 100%); opacity:1.0;                     line-height:1.75\"><font color=\"black\"> [CLS]                    </font></mark><mark style=\"background-color: hsl(0, 75%, 97%); opacity:1.0;                     line-height:1.75\"><font color=\"black\"> title                    </font></mark><mark style=\"background-color: hsl(0, 75%, 88%); opacity:1.0;                     line-height:1.75\"><font color=\"black\"> :                    </font></mark><mark style=\"background-color: hsl(120, 75%, 96%); opacity:1.0;                     line-height:1.75\"><font color=\"black\"> kingpieceemoji                    </font></mark><mark style=\"background-color: hsl(120, 75%, 100%); opacity:1.0;                     line-height:1.75\"><font color=\"black\"> paypal                    </font></mark><mark style=\"background-color: hsl(0, 75%, 97%); opacity:1.0;                     line-height:1.75\"><font color=\"black\"> /                    </font></mark><mark style=\"background-color: hsl(0, 75%, 94%); opacity:1.0;                     line-height:1.75\"><font color=\"black\"> ebay                    </font></mark><mark style=\"background-color: hsl(0, 75%, 95%); opacity:1.0;                     line-height:1.75\"><font color=\"black\"> transfer                    </font></mark><mark style=\"background-color: hsl(0, 75%, 98%); opacity:1.0;                     line-height:1.75\"><font color=\"black\"> method                    </font></mark><mark style=\"background-color: hsl(0, 75%, 98%); opacity:1.0;                     line-height:1.75\"><font color=\"black\"> kingpieceemoji                    </font></mark><mark style=\"background-color: hsl(120, 75%, 100%); opacity:1.0;                     line-height:1.75\"><font color=\"black\"> description                    </font></mark><mark style=\"background-color: hsl(0, 75%, 94%); opacity:1.0;                     line-height:1.75\"><font color=\"black\"> :                    </font></mark><mark style=\"background-color: hsl(0, 75%, 94%); opacity:1.0;                     line-height:1.75\"><font color=\"black\"> (                    </font></mark><mark style=\"background-color: hsl(0, 75%, 89%); opacity:1.0;                     line-height:1.75\"><font color=\"black\"> censored                    </font></mark><mark style=\"background-color: hsl(0, 75%, 82%); opacity:1.0;                     line-height:1.75\"><font color=\"black\"> due                    </font></mark><mark style=\"background-color: hsl(0, 75%, 99%); opacity:1.0;                     line-height:1.75\"><font color=\"black\"> to                    </font></mark><mark style=\"background-color: hsl(120, 75%, 95%); opacity:1.0;                     line-height:1.75\"><font color=\"black\"> possible                    </font></mark><mark style=\"background-color: hsl(120, 75%, 100%); opacity:1.0;                     line-height:1.75\"><font color=\"black\"> presence                    </font></mark><mark style=\"background-color: hsl(120, 75%, 99%); opacity:1.0;                     line-height:1.75\"><font color=\"black\"> of                    </font></mark><mark style=\"background-color: hsl(0, 75%, 97%); opacity:1.0;                     line-height:1.75\"><font color=\"black\"> pii                    </font></mark><mark style=\"background-color: hsl(0, 75%, 100%); opacity:1.0;                     line-height:1.75\"><font color=\"black\"> )                    </font></mark><mark style=\"background-color: hsl(0, 75%, 99%); opacity:1.0;                     line-height:1.75\"><font color=\"black\"> [SEP]                    </font></mark></td><tr></table>"
      ],
      "text/plain": [
       "<IPython.core.display.HTML object>"
      ]
     },
     "metadata": {},
     "output_type": "display_data"
    },
    {
     "data": {
      "text/html": [
       "<table width: 100%><div style=\"border-top: 1px solid; margin-top: 5px;             padding-top: 5px; display: inline-block\"><b>Legend: </b><span style=\"display: inline-block; width: 10px; height: 10px;                 border: 1px solid; background-color:                 hsl(0, 75%, 60%)\"></span> Negative  <span style=\"display: inline-block; width: 10px; height: 10px;                 border: 1px solid; background-color:                 hsl(0, 75%, 100%)\"></span> Neutral  <span style=\"display: inline-block; width: 10px; height: 10px;                 border: 1px solid; background-color:                 hsl(120, 75%, 50%)\"></span> Positive  </div><tr><th>True Label</th><th>Predicted Label</th><th>Attribution Label</th><th>Attribution Score</th><th>Word Importance</th><tr><td><text style=\"padding-right:2em\"><b>20</b></text></td><td><text style=\"padding-right:2em\"><b>20 (0.00)</b></text></td><td><text style=\"padding-right:2em\"><b>Title : kingPieceEmoji  paypal / ebay transfer method kingPieceEmoji \n",
       " Description : (censored due to possible presence of pii)</b></text></td><td><text style=\"padding-right:2em\"><b>-2.59</b></text></td><td><mark style=\"background-color: hsl(0, 75%, 100%); opacity:1.0;                     line-height:1.75\"><font color=\"black\"> [CLS]                    </font></mark><mark style=\"background-color: hsl(0, 75%, 97%); opacity:1.0;                     line-height:1.75\"><font color=\"black\"> title                    </font></mark><mark style=\"background-color: hsl(0, 75%, 88%); opacity:1.0;                     line-height:1.75\"><font color=\"black\"> :                    </font></mark><mark style=\"background-color: hsl(120, 75%, 96%); opacity:1.0;                     line-height:1.75\"><font color=\"black\"> kingpieceemoji                    </font></mark><mark style=\"background-color: hsl(120, 75%, 100%); opacity:1.0;                     line-height:1.75\"><font color=\"black\"> paypal                    </font></mark><mark style=\"background-color: hsl(0, 75%, 97%); opacity:1.0;                     line-height:1.75\"><font color=\"black\"> /                    </font></mark><mark style=\"background-color: hsl(0, 75%, 94%); opacity:1.0;                     line-height:1.75\"><font color=\"black\"> ebay                    </font></mark><mark style=\"background-color: hsl(0, 75%, 95%); opacity:1.0;                     line-height:1.75\"><font color=\"black\"> transfer                    </font></mark><mark style=\"background-color: hsl(0, 75%, 98%); opacity:1.0;                     line-height:1.75\"><font color=\"black\"> method                    </font></mark><mark style=\"background-color: hsl(0, 75%, 98%); opacity:1.0;                     line-height:1.75\"><font color=\"black\"> kingpieceemoji                    </font></mark><mark style=\"background-color: hsl(120, 75%, 100%); opacity:1.0;                     line-height:1.75\"><font color=\"black\"> description                    </font></mark><mark style=\"background-color: hsl(0, 75%, 94%); opacity:1.0;                     line-height:1.75\"><font color=\"black\"> :                    </font></mark><mark style=\"background-color: hsl(0, 75%, 94%); opacity:1.0;                     line-height:1.75\"><font color=\"black\"> (                    </font></mark><mark style=\"background-color: hsl(0, 75%, 89%); opacity:1.0;                     line-height:1.75\"><font color=\"black\"> censored                    </font></mark><mark style=\"background-color: hsl(0, 75%, 82%); opacity:1.0;                     line-height:1.75\"><font color=\"black\"> due                    </font></mark><mark style=\"background-color: hsl(0, 75%, 99%); opacity:1.0;                     line-height:1.75\"><font color=\"black\"> to                    </font></mark><mark style=\"background-color: hsl(120, 75%, 95%); opacity:1.0;                     line-height:1.75\"><font color=\"black\"> possible                    </font></mark><mark style=\"background-color: hsl(120, 75%, 100%); opacity:1.0;                     line-height:1.75\"><font color=\"black\"> presence                    </font></mark><mark style=\"background-color: hsl(120, 75%, 99%); opacity:1.0;                     line-height:1.75\"><font color=\"black\"> of                    </font></mark><mark style=\"background-color: hsl(0, 75%, 97%); opacity:1.0;                     line-height:1.75\"><font color=\"black\"> pii                    </font></mark><mark style=\"background-color: hsl(0, 75%, 100%); opacity:1.0;                     line-height:1.75\"><font color=\"black\"> )                    </font></mark><mark style=\"background-color: hsl(0, 75%, 99%); opacity:1.0;                     line-height:1.75\"><font color=\"black\"> [SEP]                    </font></mark></td><tr></table>"
      ],
      "text/plain": [
       "<IPython.core.display.HTML object>"
      ]
     },
     "execution_count": 93,
     "metadata": {},
     "output_type": "execute_result"
    }
   ],
   "source": [
    "print('\\033[1m', 'Visualization For Score', '\\033[0m')\n",
    "viz.visualize_text([score_vis])"
   ]
  },
  {
   "cell_type": "code",
   "execution_count": 105,
   "id": "36da539a",
   "metadata": {},
   "outputs": [
    {
     "name": "stdout",
     "output_type": "stream",
     "text": [
      "\u001b[1m Visualization For Score \u001b[0m\n"
     ]
    },
    {
     "data": {
      "text/html": [
       "<table width: 100%><div style=\"border-top: 1px solid; margin-top: 5px;             padding-top: 5px; display: inline-block\"><b>Legend: </b><span style=\"display: inline-block; width: 10px; height: 10px;                 border: 1px solid; background-color:                 hsl(0, 75%, 60%)\"></span> Negative  <span style=\"display: inline-block; width: 10px; height: 10px;                 border: 1px solid; background-color:                 hsl(0, 75%, 100%)\"></span> Neutral  <span style=\"display: inline-block; width: 10px; height: 10px;                 border: 1px solid; background-color:                 hsl(120, 75%, 50%)\"></span> Positive  </div><tr><th>True Label</th><th>Predicted Label</th><th>Attribution Label</th><th>Attribution Score</th><th>Word Importance</th><tr><td><text style=\"padding-right:2em\"><b>20</b></text></td><td><text style=\"padding-right:2em\"><b>20 (0.00)</b></text></td><td><text style=\"padding-right:2em\"><b>Title : kingPieceEmoji  multiple ways to make money online kingPieceEmoji \n",
       " Description : (censored due to possible presence of pii)</b></text></td><td><text style=\"padding-right:2em\"><b>-0.56</b></text></td><td><mark style=\"background-color: hsl(0, 75%, 100%); opacity:1.0;                     line-height:1.75\"><font color=\"black\"> [CLS]                    </font></mark><mark style=\"background-color: hsl(0, 75%, 94%); opacity:1.0;                     line-height:1.75\"><font color=\"black\"> title                    </font></mark><mark style=\"background-color: hsl(0, 75%, 91%); opacity:1.0;                     line-height:1.75\"><font color=\"black\"> :                    </font></mark><mark style=\"background-color: hsl(0, 75%, 92%); opacity:1.0;                     line-height:1.75\"><font color=\"black\"> kingpieceemoji                    </font></mark><mark style=\"background-color: hsl(0, 75%, 97%); opacity:1.0;                     line-height:1.75\"><font color=\"black\"> multiple                    </font></mark><mark style=\"background-color: hsl(0, 75%, 97%); opacity:1.0;                     line-height:1.75\"><font color=\"black\"> ways                    </font></mark><mark style=\"background-color: hsl(0, 75%, 94%); opacity:1.0;                     line-height:1.75\"><font color=\"black\"> to                    </font></mark><mark style=\"background-color: hsl(0, 75%, 95%); opacity:1.0;                     line-height:1.75\"><font color=\"black\"> make                    </font></mark><mark style=\"background-color: hsl(120, 75%, 96%); opacity:1.0;                     line-height:1.75\"><font color=\"black\"> money                    </font></mark><mark style=\"background-color: hsl(120, 75%, 90%); opacity:1.0;                     line-height:1.75\"><font color=\"black\"> online                    </font></mark><mark style=\"background-color: hsl(120, 75%, 97%); opacity:1.0;                     line-height:1.75\"><font color=\"black\"> kingpieceemoji                    </font></mark><mark style=\"background-color: hsl(120, 75%, 96%); opacity:1.0;                     line-height:1.75\"><font color=\"black\"> description                    </font></mark><mark style=\"background-color: hsl(0, 75%, 96%); opacity:1.0;                     line-height:1.75\"><font color=\"black\"> :                    </font></mark><mark style=\"background-color: hsl(0, 75%, 81%); opacity:1.0;                     line-height:1.75\"><font color=\"black\"> (                    </font></mark><mark style=\"background-color: hsl(0, 75%, 93%); opacity:1.0;                     line-height:1.75\"><font color=\"black\"> censored                    </font></mark><mark style=\"background-color: hsl(120, 75%, 96%); opacity:1.0;                     line-height:1.75\"><font color=\"black\"> due                    </font></mark><mark style=\"background-color: hsl(120, 75%, 94%); opacity:1.0;                     line-height:1.75\"><font color=\"black\"> to                    </font></mark><mark style=\"background-color: hsl(120, 75%, 100%); opacity:1.0;                     line-height:1.75\"><font color=\"black\"> possible                    </font></mark><mark style=\"background-color: hsl(0, 75%, 97%); opacity:1.0;                     line-height:1.75\"><font color=\"black\"> presence                    </font></mark><mark style=\"background-color: hsl(120, 75%, 89%); opacity:1.0;                     line-height:1.75\"><font color=\"black\"> of                    </font></mark><mark style=\"background-color: hsl(0, 75%, 90%); opacity:1.0;                     line-height:1.75\"><font color=\"black\"> pii                    </font></mark><mark style=\"background-color: hsl(120, 75%, 100%); opacity:1.0;                     line-height:1.75\"><font color=\"black\"> )                    </font></mark><mark style=\"background-color: hsl(120, 75%, 88%); opacity:1.0;                     line-height:1.75\"><font color=\"black\"> [SEP]                    </font></mark></td><tr></table>"
      ],
      "text/plain": [
       "<IPython.core.display.HTML object>"
      ]
     },
     "metadata": {},
     "output_type": "display_data"
    },
    {
     "data": {
      "text/html": [
       "<table width: 100%><div style=\"border-top: 1px solid; margin-top: 5px;             padding-top: 5px; display: inline-block\"><b>Legend: </b><span style=\"display: inline-block; width: 10px; height: 10px;                 border: 1px solid; background-color:                 hsl(0, 75%, 60%)\"></span> Negative  <span style=\"display: inline-block; width: 10px; height: 10px;                 border: 1px solid; background-color:                 hsl(0, 75%, 100%)\"></span> Neutral  <span style=\"display: inline-block; width: 10px; height: 10px;                 border: 1px solid; background-color:                 hsl(120, 75%, 50%)\"></span> Positive  </div><tr><th>True Label</th><th>Predicted Label</th><th>Attribution Label</th><th>Attribution Score</th><th>Word Importance</th><tr><td><text style=\"padding-right:2em\"><b>20</b></text></td><td><text style=\"padding-right:2em\"><b>20 (0.00)</b></text></td><td><text style=\"padding-right:2em\"><b>Title : kingPieceEmoji  multiple ways to make money online kingPieceEmoji \n",
       " Description : (censored due to possible presence of pii)</b></text></td><td><text style=\"padding-right:2em\"><b>-0.56</b></text></td><td><mark style=\"background-color: hsl(0, 75%, 100%); opacity:1.0;                     line-height:1.75\"><font color=\"black\"> [CLS]                    </font></mark><mark style=\"background-color: hsl(0, 75%, 94%); opacity:1.0;                     line-height:1.75\"><font color=\"black\"> title                    </font></mark><mark style=\"background-color: hsl(0, 75%, 91%); opacity:1.0;                     line-height:1.75\"><font color=\"black\"> :                    </font></mark><mark style=\"background-color: hsl(0, 75%, 92%); opacity:1.0;                     line-height:1.75\"><font color=\"black\"> kingpieceemoji                    </font></mark><mark style=\"background-color: hsl(0, 75%, 97%); opacity:1.0;                     line-height:1.75\"><font color=\"black\"> multiple                    </font></mark><mark style=\"background-color: hsl(0, 75%, 97%); opacity:1.0;                     line-height:1.75\"><font color=\"black\"> ways                    </font></mark><mark style=\"background-color: hsl(0, 75%, 94%); opacity:1.0;                     line-height:1.75\"><font color=\"black\"> to                    </font></mark><mark style=\"background-color: hsl(0, 75%, 95%); opacity:1.0;                     line-height:1.75\"><font color=\"black\"> make                    </font></mark><mark style=\"background-color: hsl(120, 75%, 96%); opacity:1.0;                     line-height:1.75\"><font color=\"black\"> money                    </font></mark><mark style=\"background-color: hsl(120, 75%, 90%); opacity:1.0;                     line-height:1.75\"><font color=\"black\"> online                    </font></mark><mark style=\"background-color: hsl(120, 75%, 97%); opacity:1.0;                     line-height:1.75\"><font color=\"black\"> kingpieceemoji                    </font></mark><mark style=\"background-color: hsl(120, 75%, 96%); opacity:1.0;                     line-height:1.75\"><font color=\"black\"> description                    </font></mark><mark style=\"background-color: hsl(0, 75%, 96%); opacity:1.0;                     line-height:1.75\"><font color=\"black\"> :                    </font></mark><mark style=\"background-color: hsl(0, 75%, 81%); opacity:1.0;                     line-height:1.75\"><font color=\"black\"> (                    </font></mark><mark style=\"background-color: hsl(0, 75%, 93%); opacity:1.0;                     line-height:1.75\"><font color=\"black\"> censored                    </font></mark><mark style=\"background-color: hsl(120, 75%, 96%); opacity:1.0;                     line-height:1.75\"><font color=\"black\"> due                    </font></mark><mark style=\"background-color: hsl(120, 75%, 94%); opacity:1.0;                     line-height:1.75\"><font color=\"black\"> to                    </font></mark><mark style=\"background-color: hsl(120, 75%, 100%); opacity:1.0;                     line-height:1.75\"><font color=\"black\"> possible                    </font></mark><mark style=\"background-color: hsl(0, 75%, 97%); opacity:1.0;                     line-height:1.75\"><font color=\"black\"> presence                    </font></mark><mark style=\"background-color: hsl(120, 75%, 89%); opacity:1.0;                     line-height:1.75\"><font color=\"black\"> of                    </font></mark><mark style=\"background-color: hsl(0, 75%, 90%); opacity:1.0;                     line-height:1.75\"><font color=\"black\"> pii                    </font></mark><mark style=\"background-color: hsl(120, 75%, 100%); opacity:1.0;                     line-height:1.75\"><font color=\"black\"> )                    </font></mark><mark style=\"background-color: hsl(120, 75%, 88%); opacity:1.0;                     line-height:1.75\"><font color=\"black\"> [SEP]                    </font></mark></td><tr></table>"
      ],
      "text/plain": [
       "<IPython.core.display.HTML object>"
      ]
     },
     "execution_count": 105,
     "metadata": {},
     "output_type": "execute_result"
    }
   ],
   "source": [
    "print('\\033[1m', 'Visualization For Score', '\\033[0m')\n",
    "viz.visualize_text([score_vis])"
   ]
  },
  {
   "cell_type": "code",
   "execution_count": 122,
   "id": "fc62361d",
   "metadata": {},
   "outputs": [
    {
     "name": "stdout",
     "output_type": "stream",
     "text": [
      "\u001b[1m Visualization For Score \u001b[0m\n"
     ]
    },
    {
     "data": {
      "text/html": [
       "<table width: 100%><div style=\"border-top: 1px solid; margin-top: 5px;             padding-top: 5px; display: inline-block\"><b>Legend: </b><span style=\"display: inline-block; width: 10px; height: 10px;                 border: 1px solid; background-color:                 hsl(0, 75%, 60%)\"></span> Negative  <span style=\"display: inline-block; width: 10px; height: 10px;                 border: 1px solid; background-color:                 hsl(0, 75%, 100%)\"></span> Neutral  <span style=\"display: inline-block; width: 10px; height: 10px;                 border: 1px solid; background-color:                 hsl(120, 75%, 50%)\"></span> Positive  </div><tr><th>True Label</th><th>Predicted Label</th><th>Attribution Label</th><th>Attribution Score</th><th>Word Importance</th><tr><td><text style=\"padding-right:2em\"><b>20</b></text></td><td><text style=\"padding-right:2em\"><b>20 (0.00)</b></text></td><td><text style=\"padding-right:2em\"><b>Title : starEmoji porn accountstarEmoji  jizzonteens – lifetime\n",
       " Description : (censored due to possible presence of pii)</b></text></td><td><text style=\"padding-right:2em\"><b>-2.07</b></text></td><td><mark style=\"background-color: hsl(0, 75%, 100%); opacity:1.0;                     line-height:1.75\"><font color=\"black\"> [CLS]                    </font></mark><mark style=\"background-color: hsl(0, 75%, 98%); opacity:1.0;                     line-height:1.75\"><font color=\"black\"> title                    </font></mark><mark style=\"background-color: hsl(0, 75%, 93%); opacity:1.0;                     line-height:1.75\"><font color=\"black\"> :                    </font></mark><mark style=\"background-color: hsl(120, 75%, 87%); opacity:1.0;                     line-height:1.75\"><font color=\"black\"> staremoji                    </font></mark><mark style=\"background-color: hsl(0, 75%, 99%); opacity:1.0;                     line-height:1.75\"><font color=\"black\"> porn                    </font></mark><mark style=\"background-color: hsl(0, 75%, 93%); opacity:1.0;                     line-height:1.75\"><font color=\"black\"> accountstaremoji                    </font></mark><mark style=\"background-color: hsl(0, 75%, 98%); opacity:1.0;                     line-height:1.75\"><font color=\"black\"> jizzonteens                    </font></mark><mark style=\"background-color: hsl(0, 75%, 72%); opacity:1.0;                     line-height:1.75\"><font color=\"black\"> –                    </font></mark><mark style=\"background-color: hsl(0, 75%, 97%); opacity:1.0;                     line-height:1.75\"><font color=\"black\"> lifetime                    </font></mark><mark style=\"background-color: hsl(0, 75%, 98%); opacity:1.0;                     line-height:1.75\"><font color=\"black\"> description                    </font></mark><mark style=\"background-color: hsl(0, 75%, 91%); opacity:1.0;                     line-height:1.75\"><font color=\"black\"> :                    </font></mark><mark style=\"background-color: hsl(0, 75%, 92%); opacity:1.0;                     line-height:1.75\"><font color=\"black\"> (                    </font></mark><mark style=\"background-color: hsl(120, 75%, 90%); opacity:1.0;                     line-height:1.75\"><font color=\"black\"> censored                    </font></mark><mark style=\"background-color: hsl(0, 75%, 99%); opacity:1.0;                     line-height:1.75\"><font color=\"black\"> due                    </font></mark><mark style=\"background-color: hsl(120, 75%, 92%); opacity:1.0;                     line-height:1.75\"><font color=\"black\"> to                    </font></mark><mark style=\"background-color: hsl(120, 75%, 91%); opacity:1.0;                     line-height:1.75\"><font color=\"black\"> possible                    </font></mark><mark style=\"background-color: hsl(120, 75%, 98%); opacity:1.0;                     line-height:1.75\"><font color=\"black\"> presence                    </font></mark><mark style=\"background-color: hsl(120, 75%, 97%); opacity:1.0;                     line-height:1.75\"><font color=\"black\"> of                    </font></mark><mark style=\"background-color: hsl(120, 75%, 95%); opacity:1.0;                     line-height:1.75\"><font color=\"black\"> pii                    </font></mark><mark style=\"background-color: hsl(0, 75%, 95%); opacity:1.0;                     line-height:1.75\"><font color=\"black\"> )                    </font></mark><mark style=\"background-color: hsl(0, 75%, 91%); opacity:1.0;                     line-height:1.75\"><font color=\"black\"> [SEP]                    </font></mark></td><tr></table>"
      ],
      "text/plain": [
       "<IPython.core.display.HTML object>"
      ]
     },
     "metadata": {},
     "output_type": "display_data"
    },
    {
     "data": {
      "text/html": [
       "<table width: 100%><div style=\"border-top: 1px solid; margin-top: 5px;             padding-top: 5px; display: inline-block\"><b>Legend: </b><span style=\"display: inline-block; width: 10px; height: 10px;                 border: 1px solid; background-color:                 hsl(0, 75%, 60%)\"></span> Negative  <span style=\"display: inline-block; width: 10px; height: 10px;                 border: 1px solid; background-color:                 hsl(0, 75%, 100%)\"></span> Neutral  <span style=\"display: inline-block; width: 10px; height: 10px;                 border: 1px solid; background-color:                 hsl(120, 75%, 50%)\"></span> Positive  </div><tr><th>True Label</th><th>Predicted Label</th><th>Attribution Label</th><th>Attribution Score</th><th>Word Importance</th><tr><td><text style=\"padding-right:2em\"><b>20</b></text></td><td><text style=\"padding-right:2em\"><b>20 (0.00)</b></text></td><td><text style=\"padding-right:2em\"><b>Title : starEmoji porn accountstarEmoji  jizzonteens – lifetime\n",
       " Description : (censored due to possible presence of pii)</b></text></td><td><text style=\"padding-right:2em\"><b>-2.07</b></text></td><td><mark style=\"background-color: hsl(0, 75%, 100%); opacity:1.0;                     line-height:1.75\"><font color=\"black\"> [CLS]                    </font></mark><mark style=\"background-color: hsl(0, 75%, 98%); opacity:1.0;                     line-height:1.75\"><font color=\"black\"> title                    </font></mark><mark style=\"background-color: hsl(0, 75%, 93%); opacity:1.0;                     line-height:1.75\"><font color=\"black\"> :                    </font></mark><mark style=\"background-color: hsl(120, 75%, 87%); opacity:1.0;                     line-height:1.75\"><font color=\"black\"> staremoji                    </font></mark><mark style=\"background-color: hsl(0, 75%, 99%); opacity:1.0;                     line-height:1.75\"><font color=\"black\"> porn                    </font></mark><mark style=\"background-color: hsl(0, 75%, 93%); opacity:1.0;                     line-height:1.75\"><font color=\"black\"> accountstaremoji                    </font></mark><mark style=\"background-color: hsl(0, 75%, 98%); opacity:1.0;                     line-height:1.75\"><font color=\"black\"> jizzonteens                    </font></mark><mark style=\"background-color: hsl(0, 75%, 72%); opacity:1.0;                     line-height:1.75\"><font color=\"black\"> –                    </font></mark><mark style=\"background-color: hsl(0, 75%, 97%); opacity:1.0;                     line-height:1.75\"><font color=\"black\"> lifetime                    </font></mark><mark style=\"background-color: hsl(0, 75%, 98%); opacity:1.0;                     line-height:1.75\"><font color=\"black\"> description                    </font></mark><mark style=\"background-color: hsl(0, 75%, 91%); opacity:1.0;                     line-height:1.75\"><font color=\"black\"> :                    </font></mark><mark style=\"background-color: hsl(0, 75%, 92%); opacity:1.0;                     line-height:1.75\"><font color=\"black\"> (                    </font></mark><mark style=\"background-color: hsl(120, 75%, 90%); opacity:1.0;                     line-height:1.75\"><font color=\"black\"> censored                    </font></mark><mark style=\"background-color: hsl(0, 75%, 99%); opacity:1.0;                     line-height:1.75\"><font color=\"black\"> due                    </font></mark><mark style=\"background-color: hsl(120, 75%, 92%); opacity:1.0;                     line-height:1.75\"><font color=\"black\"> to                    </font></mark><mark style=\"background-color: hsl(120, 75%, 91%); opacity:1.0;                     line-height:1.75\"><font color=\"black\"> possible                    </font></mark><mark style=\"background-color: hsl(120, 75%, 98%); opacity:1.0;                     line-height:1.75\"><font color=\"black\"> presence                    </font></mark><mark style=\"background-color: hsl(120, 75%, 97%); opacity:1.0;                     line-height:1.75\"><font color=\"black\"> of                    </font></mark><mark style=\"background-color: hsl(120, 75%, 95%); opacity:1.0;                     line-height:1.75\"><font color=\"black\"> pii                    </font></mark><mark style=\"background-color: hsl(0, 75%, 95%); opacity:1.0;                     line-height:1.75\"><font color=\"black\"> )                    </font></mark><mark style=\"background-color: hsl(0, 75%, 91%); opacity:1.0;                     line-height:1.75\"><font color=\"black\"> [SEP]                    </font></mark></td><tr></table>"
      ],
      "text/plain": [
       "<IPython.core.display.HTML object>"
      ]
     },
     "execution_count": 122,
     "metadata": {},
     "output_type": "execute_result"
    }
   ],
   "source": [
    "print('\\033[1m', 'Visualization For Score', '\\033[0m')\n",
    "viz.visualize_text([score_vis])"
   ]
  },
  {
   "cell_type": "code",
   "execution_count": 138,
   "id": "4785093c",
   "metadata": {},
   "outputs": [
    {
     "name": "stdout",
     "output_type": "stream",
     "text": [
      "\u001b[1m Visualization For Score \u001b[0m\n"
     ]
    },
    {
     "data": {
      "text/html": [
       "<table width: 100%><div style=\"border-top: 1px solid; margin-top: 5px;             padding-top: 5px; display: inline-block\"><b>Legend: </b><span style=\"display: inline-block; width: 10px; height: 10px;                 border: 1px solid; background-color:                 hsl(0, 75%, 60%)\"></span> Negative  <span style=\"display: inline-block; width: 10px; height: 10px;                 border: 1px solid; background-color:                 hsl(0, 75%, 100%)\"></span> Neutral  <span style=\"display: inline-block; width: 10px; height: 10px;                 border: 1px solid; background-color:                 hsl(120, 75%, 50%)\"></span> Positive  </div><tr><th>True Label</th><th>Predicted Label</th><th>Attribution Label</th><th>Attribution Score</th><th>Word Importance</th><tr><td><text style=\"padding-right:2em\"><b>20</b></text></td><td><text style=\"padding-right:2em\"><b>20 (0.00)</b></text></td><td><text style=\"padding-right:2em\"><b>Title : starEmoji  instahearts || instagram success starEmoji \n",
       " Description : (censored due to possible presence of pii)</b></text></td><td><text style=\"padding-right:2em\"><b>-2.21</b></text></td><td><mark style=\"background-color: hsl(0, 75%, 100%); opacity:1.0;                     line-height:1.75\"><font color=\"black\"> [CLS]                    </font></mark><mark style=\"background-color: hsl(0, 75%, 98%); opacity:1.0;                     line-height:1.75\"><font color=\"black\"> title                    </font></mark><mark style=\"background-color: hsl(0, 75%, 92%); opacity:1.0;                     line-height:1.75\"><font color=\"black\"> :                    </font></mark><mark style=\"background-color: hsl(0, 75%, 93%); opacity:1.0;                     line-height:1.75\"><font color=\"black\"> staremoji                    </font></mark><mark style=\"background-color: hsl(0, 75%, 97%); opacity:1.0;                     line-height:1.75\"><font color=\"black\"> instahearts                    </font></mark><mark style=\"background-color: hsl(0, 75%, 89%); opacity:1.0;                     line-height:1.75\"><font color=\"black\"> |                    </font></mark><mark style=\"background-color: hsl(120, 75%, 98%); opacity:1.0;                     line-height:1.75\"><font color=\"black\"> |                    </font></mark><mark style=\"background-color: hsl(0, 75%, 99%); opacity:1.0;                     line-height:1.75\"><font color=\"black\"> instagram                    </font></mark><mark style=\"background-color: hsl(120, 75%, 86%); opacity:1.0;                     line-height:1.75\"><font color=\"black\"> success                    </font></mark><mark style=\"background-color: hsl(0, 75%, 99%); opacity:1.0;                     line-height:1.75\"><font color=\"black\"> staremoji                    </font></mark><mark style=\"background-color: hsl(0, 75%, 98%); opacity:1.0;                     line-height:1.75\"><font color=\"black\"> description                    </font></mark><mark style=\"background-color: hsl(0, 75%, 93%); opacity:1.0;                     line-height:1.75\"><font color=\"black\"> :                    </font></mark><mark style=\"background-color: hsl(0, 75%, 96%); opacity:1.0;                     line-height:1.75\"><font color=\"black\"> (                    </font></mark><mark style=\"background-color: hsl(0, 75%, 100%); opacity:1.0;                     line-height:1.75\"><font color=\"black\"> censored                    </font></mark><mark style=\"background-color: hsl(120, 75%, 85%); opacity:1.0;                     line-height:1.75\"><font color=\"black\"> due                    </font></mark><mark style=\"background-color: hsl(0, 75%, 70%); opacity:1.0;                     line-height:1.75\"><font color=\"black\"> to                    </font></mark><mark style=\"background-color: hsl(0, 75%, 100%); opacity:1.0;                     line-height:1.75\"><font color=\"black\"> possible                    </font></mark><mark style=\"background-color: hsl(0, 75%, 83%); opacity:1.0;                     line-height:1.75\"><font color=\"black\"> presence                    </font></mark><mark style=\"background-color: hsl(120, 75%, 94%); opacity:1.0;                     line-height:1.75\"><font color=\"black\"> of                    </font></mark><mark style=\"background-color: hsl(120, 75%, 98%); opacity:1.0;                     line-height:1.75\"><font color=\"black\"> pii                    </font></mark><mark style=\"background-color: hsl(0, 75%, 92%); opacity:1.0;                     line-height:1.75\"><font color=\"black\"> )                    </font></mark><mark style=\"background-color: hsl(0, 75%, 82%); opacity:1.0;                     line-height:1.75\"><font color=\"black\"> [SEP]                    </font></mark></td><tr></table>"
      ],
      "text/plain": [
       "<IPython.core.display.HTML object>"
      ]
     },
     "metadata": {},
     "output_type": "display_data"
    },
    {
     "data": {
      "text/html": [
       "<table width: 100%><div style=\"border-top: 1px solid; margin-top: 5px;             padding-top: 5px; display: inline-block\"><b>Legend: </b><span style=\"display: inline-block; width: 10px; height: 10px;                 border: 1px solid; background-color:                 hsl(0, 75%, 60%)\"></span> Negative  <span style=\"display: inline-block; width: 10px; height: 10px;                 border: 1px solid; background-color:                 hsl(0, 75%, 100%)\"></span> Neutral  <span style=\"display: inline-block; width: 10px; height: 10px;                 border: 1px solid; background-color:                 hsl(120, 75%, 50%)\"></span> Positive  </div><tr><th>True Label</th><th>Predicted Label</th><th>Attribution Label</th><th>Attribution Score</th><th>Word Importance</th><tr><td><text style=\"padding-right:2em\"><b>20</b></text></td><td><text style=\"padding-right:2em\"><b>20 (0.00)</b></text></td><td><text style=\"padding-right:2em\"><b>Title : starEmoji  instahearts || instagram success starEmoji \n",
       " Description : (censored due to possible presence of pii)</b></text></td><td><text style=\"padding-right:2em\"><b>-2.21</b></text></td><td><mark style=\"background-color: hsl(0, 75%, 100%); opacity:1.0;                     line-height:1.75\"><font color=\"black\"> [CLS]                    </font></mark><mark style=\"background-color: hsl(0, 75%, 98%); opacity:1.0;                     line-height:1.75\"><font color=\"black\"> title                    </font></mark><mark style=\"background-color: hsl(0, 75%, 92%); opacity:1.0;                     line-height:1.75\"><font color=\"black\"> :                    </font></mark><mark style=\"background-color: hsl(0, 75%, 93%); opacity:1.0;                     line-height:1.75\"><font color=\"black\"> staremoji                    </font></mark><mark style=\"background-color: hsl(0, 75%, 97%); opacity:1.0;                     line-height:1.75\"><font color=\"black\"> instahearts                    </font></mark><mark style=\"background-color: hsl(0, 75%, 89%); opacity:1.0;                     line-height:1.75\"><font color=\"black\"> |                    </font></mark><mark style=\"background-color: hsl(120, 75%, 98%); opacity:1.0;                     line-height:1.75\"><font color=\"black\"> |                    </font></mark><mark style=\"background-color: hsl(0, 75%, 99%); opacity:1.0;                     line-height:1.75\"><font color=\"black\"> instagram                    </font></mark><mark style=\"background-color: hsl(120, 75%, 86%); opacity:1.0;                     line-height:1.75\"><font color=\"black\"> success                    </font></mark><mark style=\"background-color: hsl(0, 75%, 99%); opacity:1.0;                     line-height:1.75\"><font color=\"black\"> staremoji                    </font></mark><mark style=\"background-color: hsl(0, 75%, 98%); opacity:1.0;                     line-height:1.75\"><font color=\"black\"> description                    </font></mark><mark style=\"background-color: hsl(0, 75%, 93%); opacity:1.0;                     line-height:1.75\"><font color=\"black\"> :                    </font></mark><mark style=\"background-color: hsl(0, 75%, 96%); opacity:1.0;                     line-height:1.75\"><font color=\"black\"> (                    </font></mark><mark style=\"background-color: hsl(0, 75%, 100%); opacity:1.0;                     line-height:1.75\"><font color=\"black\"> censored                    </font></mark><mark style=\"background-color: hsl(120, 75%, 85%); opacity:1.0;                     line-height:1.75\"><font color=\"black\"> due                    </font></mark><mark style=\"background-color: hsl(0, 75%, 70%); opacity:1.0;                     line-height:1.75\"><font color=\"black\"> to                    </font></mark><mark style=\"background-color: hsl(0, 75%, 100%); opacity:1.0;                     line-height:1.75\"><font color=\"black\"> possible                    </font></mark><mark style=\"background-color: hsl(0, 75%, 83%); opacity:1.0;                     line-height:1.75\"><font color=\"black\"> presence                    </font></mark><mark style=\"background-color: hsl(120, 75%, 94%); opacity:1.0;                     line-height:1.75\"><font color=\"black\"> of                    </font></mark><mark style=\"background-color: hsl(120, 75%, 98%); opacity:1.0;                     line-height:1.75\"><font color=\"black\"> pii                    </font></mark><mark style=\"background-color: hsl(0, 75%, 92%); opacity:1.0;                     line-height:1.75\"><font color=\"black\"> )                    </font></mark><mark style=\"background-color: hsl(0, 75%, 82%); opacity:1.0;                     line-height:1.75\"><font color=\"black\"> [SEP]                    </font></mark></td><tr></table>"
      ],
      "text/plain": [
       "<IPython.core.display.HTML object>"
      ]
     },
     "execution_count": 138,
     "metadata": {},
     "output_type": "execute_result"
    }
   ],
   "source": [
    "print('\\033[1m', 'Visualization For Score', '\\033[0m')\n",
    "viz.visualize_text([score_vis])"
   ]
  },
  {
   "cell_type": "code",
   "execution_count": null,
   "id": "26ab065a",
   "metadata": {},
   "outputs": [],
   "source": []
  },
  {
   "cell_type": "code",
   "execution_count": null,
   "id": "db61f010",
   "metadata": {},
   "outputs": [],
   "source": []
  },
  {
   "cell_type": "code",
   "execution_count": null,
   "id": "adcb359d",
   "metadata": {},
   "outputs": [],
   "source": []
  },
  {
   "cell_type": "code",
   "execution_count": null,
   "id": "4399b115",
   "metadata": {},
   "outputs": [],
   "source": []
  },
  {
   "cell_type": "code",
   "execution_count": null,
   "id": "e9749284",
   "metadata": {},
   "outputs": [],
   "source": []
  },
  {
   "cell_type": "code",
   "execution_count": 153,
   "id": "18bc4318",
   "metadata": {},
   "outputs": [],
   "source": [
    "from transformers_interpret import SequenceClassificationExplainer\n",
    "cls_explainer = SequenceClassificationExplainer(model,tokenizer)"
   ]
  },
  {
   "cell_type": "code",
   "execution_count": 162,
   "id": "d0156cd3",
   "metadata": {},
   "outputs": [
    {
     "data": {
      "text/plain": [
       "'Title : kingPieceEmoji  bank and paypal cashout with video kingPieceEmoji \\n Description : (censored due to possible presence of pii)'"
      ]
     },
     "execution_count": 162,
     "metadata": {},
     "output_type": "execute_result"
    }
   ],
   "source": [
    "# One can test a couple of examples and check that the sentiment classifier is behaving\n",
    "text = sample_df['text'].iloc[0]\n",
    "text"
   ]
  },
  {
   "cell_type": "code",
   "execution_count": 163,
   "id": "37824451",
   "metadata": {},
   "outputs": [
    {
     "name": "stdout",
     "output_type": "stream",
     "text": [
      "[('[CLS]', 0.0), ('title', 0.0021046673678678253), (':', 0.041838146675838656), ('king', 0.10049682539379798), ('##piece', 0.09746727482201298), ('##em', 0.110747435114034), ('##oj', 0.209761232713998), ('##i', 0.3170736407300666), ('bank', -0.06845975443838256), ('and', -0.09489295977044694), ('pay', 0.0022840341332830286), ('##pal', -0.0017140839983914586), ('cash', 0.1490077051857321), ('##out', 0.07869648654741095), ('with', 0.024431973592838108), ('video', 0.020016347548299014), ('king', 0.08358778948649748), ('##piece', 0.1426965623451249), ('##em', 0.1972250629327529), ('##oj', 0.12336607595397744), ('##i', 0.26030187609038463), ('description', 0.12879453383492623), (':', 0.10225753701545438), ('(', 0.3093147225077939), ('ce', 0.07580953162722846), ('##nsor', 0.4702827561144549), ('##ed', 0.2823009026196751), ('due', 0.3175758422487204), ('to', 0.14862154244461265), ('possible', 0.09143839048455309), ('presence', 0.16406632744458763), ('of', 0.09350405974083252), ('pi', 0.02708068692604069), ('##i', 0.10344030599784722), (')', 0.14766054251950048), ('[SEP]', 0.0)]\n"
     ]
    }
   ],
   "source": [
    "word_attributions = cls_explainer(text)\n",
    "print(word_attributions)\n",
    "all_tokens = [token for (token, attribution) in word_attributions]\n",
    "all_attributions = [attribution for (token, attribution) in word_attributions]"
   ]
  },
  {
   "cell_type": "code",
   "execution_count": 165,
   "id": "3117e5db",
   "metadata": {},
   "outputs": [],
   "source": [
    "token_list, attribution_list = ([] for i in range(2))\n",
    "for idx, token in enumerate(all_tokens):\n",
    "    if \"#\" not in token:\n",
    "        token_list.append(token)\n",
    "        attribution_list.append(all_attributions[idx])\n",
    "    else:\n",
    "        token_list[-1] += token.replace(\"##\",\"\")\n",
    "        attribution_list[-1] += all_attributions[idx]\n",
    "\n",
    "attribution_list = torch.tensor(attribution_list)"
   ]
  },
  {
   "cell_type": "code",
   "execution_count": 166,
   "id": "9a1623a8",
   "metadata": {},
   "outputs": [
    {
     "data": {
      "text/plain": [
       "tensor([ 0.0000e+00,  2.1047e-03,  4.1838e-02,  8.3555e-01, -6.8460e-02,\n",
       "        -9.4893e-02,  5.6995e-04,  2.2770e-01,  2.4432e-02,  2.0016e-02,\n",
       "         8.0718e-01,  1.2879e-01,  1.0226e-01,  3.0931e-01,  8.2839e-01,\n",
       "         3.1758e-01,  1.4862e-01,  9.1438e-02,  1.6407e-01,  9.3504e-02,\n",
       "         1.3052e-01,  1.4766e-01,  0.0000e+00])"
      ]
     },
     "execution_count": 166,
     "metadata": {},
     "output_type": "execute_result"
    }
   ],
   "source": [
    "attribution_list"
   ]
  },
  {
   "cell_type": "code",
   "execution_count": 167,
   "id": "0d3b30ce",
   "metadata": {},
   "outputs": [],
   "source": [
    "score_vis = viz.VisualizationDataRecord(attribution_list,\n",
    "                                        torch.softmax(score, dim = 1)[0][1],\n",
    "                                        torch.argmax(torch.softmax(score, dim = 1)[0]),\n",
    "                                        sample_df['labels'].iloc[2],\n",
    "                                        text,\n",
    "                                        sum(attribution_list),       \n",
    "                                        token_list,\n",
    "                                        delta)"
   ]
  },
  {
   "cell_type": "code",
   "execution_count": 147,
   "id": "6eb0b054",
   "metadata": {},
   "outputs": [
    {
     "name": "stdout",
     "output_type": "stream",
     "text": [
      "\u001b[1m Visualization For Score \u001b[0m\n"
     ]
    },
    {
     "data": {
      "text/html": [
       "<table width: 100%><div style=\"border-top: 1px solid; margin-top: 5px;             padding-top: 5px; display: inline-block\"><b>Legend: </b><span style=\"display: inline-block; width: 10px; height: 10px;                 border: 1px solid; background-color:                 hsl(0, 75%, 60%)\"></span> Negative  <span style=\"display: inline-block; width: 10px; height: 10px;                 border: 1px solid; background-color:                 hsl(0, 75%, 100%)\"></span> Neutral  <span style=\"display: inline-block; width: 10px; height: 10px;                 border: 1px solid; background-color:                 hsl(120, 75%, 50%)\"></span> Positive  </div><tr><th>True Label</th><th>Predicted Label</th><th>Attribution Label</th><th>Attribution Score</th><th>Word Importance</th><tr><td><text style=\"padding-right:2em\"><b>20</b></text></td><td><text style=\"padding-right:2em\"><b>20 (0.00)</b></text></td><td><text style=\"padding-right:2em\"><b>Title : starEmoji  instahearts || instagram success starEmoji \n",
       " Description : (censored due to possible presence of pii)</b></text></td><td><text style=\"padding-right:2em\"><b>3.99</b></text></td><td><mark style=\"background-color: hsl(0, 75%, 100%); opacity:1.0;                     line-height:1.75\"><font color=\"black\"> [CLS]                    </font></mark><mark style=\"background-color: hsl(0, 75%, 100%); opacity:1.0;                     line-height:1.75\"><font color=\"black\"> title                    </font></mark><mark style=\"background-color: hsl(120, 75%, 99%); opacity:1.0;                     line-height:1.75\"><font color=\"black\"> :                    </font></mark><mark style=\"background-color: hsl(120, 75%, 87%); opacity:1.0;                     line-height:1.75\"><font color=\"black\"> staremoji                    </font></mark><mark style=\"background-color: hsl(120, 75%, 87%); opacity:1.0;                     line-height:1.75\"><font color=\"black\"> instahearts                    </font></mark><mark style=\"background-color: hsl(120, 75%, 94%); opacity:1.0;                     line-height:1.75\"><font color=\"black\"> |                    </font></mark><mark style=\"background-color: hsl(120, 75%, 92%); opacity:1.0;                     line-height:1.75\"><font color=\"black\"> |                    </font></mark><mark style=\"background-color: hsl(120, 75%, 91%); opacity:1.0;                     line-height:1.75\"><font color=\"black\"> instagram                    </font></mark><mark style=\"background-color: hsl(120, 75%, 94%); opacity:1.0;                     line-height:1.75\"><font color=\"black\"> success                    </font></mark><mark style=\"background-color: hsl(120, 75%, 86%); opacity:1.0;                     line-height:1.75\"><font color=\"black\"> staremoji                    </font></mark><mark style=\"background-color: hsl(120, 75%, 84%); opacity:1.0;                     line-height:1.75\"><font color=\"black\"> description                    </font></mark><mark style=\"background-color: hsl(120, 75%, 89%); opacity:1.0;                     line-height:1.75\"><font color=\"black\"> :                    </font></mark><mark style=\"background-color: hsl(120, 75%, 84%); opacity:1.0;                     line-height:1.75\"><font color=\"black\"> (                    </font></mark><mark style=\"background-color: hsl(120, 75%, 54%); opacity:1.0;                     line-height:1.75\"><font color=\"black\"> censored                    </font></mark><mark style=\"background-color: hsl(120, 75%, 87%); opacity:1.0;                     line-height:1.75\"><font color=\"black\"> due                    </font></mark><mark style=\"background-color: hsl(120, 75%, 92%); opacity:1.0;                     line-height:1.75\"><font color=\"black\"> to                    </font></mark><mark style=\"background-color: hsl(120, 75%, 96%); opacity:1.0;                     line-height:1.75\"><font color=\"black\"> possible                    </font></mark><mark style=\"background-color: hsl(120, 75%, 95%); opacity:1.0;                     line-height:1.75\"><font color=\"black\"> presence                    </font></mark><mark style=\"background-color: hsl(120, 75%, 99%); opacity:1.0;                     line-height:1.75\"><font color=\"black\"> of                    </font></mark><mark style=\"background-color: hsl(0, 75%, 97%); opacity:1.0;                     line-height:1.75\"><font color=\"black\"> pii                    </font></mark><mark style=\"background-color: hsl(120, 75%, 93%); opacity:1.0;                     line-height:1.75\"><font color=\"black\"> )                    </font></mark><mark style=\"background-color: hsl(0, 75%, 100%); opacity:1.0;                     line-height:1.75\"><font color=\"black\"> [SEP]                    </font></mark></td><tr></table>"
      ],
      "text/plain": [
       "<IPython.core.display.HTML object>"
      ]
     },
     "metadata": {},
     "output_type": "display_data"
    },
    {
     "data": {
      "text/html": [
       "<table width: 100%><div style=\"border-top: 1px solid; margin-top: 5px;             padding-top: 5px; display: inline-block\"><b>Legend: </b><span style=\"display: inline-block; width: 10px; height: 10px;                 border: 1px solid; background-color:                 hsl(0, 75%, 60%)\"></span> Negative  <span style=\"display: inline-block; width: 10px; height: 10px;                 border: 1px solid; background-color:                 hsl(0, 75%, 100%)\"></span> Neutral  <span style=\"display: inline-block; width: 10px; height: 10px;                 border: 1px solid; background-color:                 hsl(120, 75%, 50%)\"></span> Positive  </div><tr><th>True Label</th><th>Predicted Label</th><th>Attribution Label</th><th>Attribution Score</th><th>Word Importance</th><tr><td><text style=\"padding-right:2em\"><b>20</b></text></td><td><text style=\"padding-right:2em\"><b>20 (0.00)</b></text></td><td><text style=\"padding-right:2em\"><b>Title : starEmoji  instahearts || instagram success starEmoji \n",
       " Description : (censored due to possible presence of pii)</b></text></td><td><text style=\"padding-right:2em\"><b>3.99</b></text></td><td><mark style=\"background-color: hsl(0, 75%, 100%); opacity:1.0;                     line-height:1.75\"><font color=\"black\"> [CLS]                    </font></mark><mark style=\"background-color: hsl(0, 75%, 100%); opacity:1.0;                     line-height:1.75\"><font color=\"black\"> title                    </font></mark><mark style=\"background-color: hsl(120, 75%, 99%); opacity:1.0;                     line-height:1.75\"><font color=\"black\"> :                    </font></mark><mark style=\"background-color: hsl(120, 75%, 87%); opacity:1.0;                     line-height:1.75\"><font color=\"black\"> staremoji                    </font></mark><mark style=\"background-color: hsl(120, 75%, 87%); opacity:1.0;                     line-height:1.75\"><font color=\"black\"> instahearts                    </font></mark><mark style=\"background-color: hsl(120, 75%, 94%); opacity:1.0;                     line-height:1.75\"><font color=\"black\"> |                    </font></mark><mark style=\"background-color: hsl(120, 75%, 92%); opacity:1.0;                     line-height:1.75\"><font color=\"black\"> |                    </font></mark><mark style=\"background-color: hsl(120, 75%, 91%); opacity:1.0;                     line-height:1.75\"><font color=\"black\"> instagram                    </font></mark><mark style=\"background-color: hsl(120, 75%, 94%); opacity:1.0;                     line-height:1.75\"><font color=\"black\"> success                    </font></mark><mark style=\"background-color: hsl(120, 75%, 86%); opacity:1.0;                     line-height:1.75\"><font color=\"black\"> staremoji                    </font></mark><mark style=\"background-color: hsl(120, 75%, 84%); opacity:1.0;                     line-height:1.75\"><font color=\"black\"> description                    </font></mark><mark style=\"background-color: hsl(120, 75%, 89%); opacity:1.0;                     line-height:1.75\"><font color=\"black\"> :                    </font></mark><mark style=\"background-color: hsl(120, 75%, 84%); opacity:1.0;                     line-height:1.75\"><font color=\"black\"> (                    </font></mark><mark style=\"background-color: hsl(120, 75%, 54%); opacity:1.0;                     line-height:1.75\"><font color=\"black\"> censored                    </font></mark><mark style=\"background-color: hsl(120, 75%, 87%); opacity:1.0;                     line-height:1.75\"><font color=\"black\"> due                    </font></mark><mark style=\"background-color: hsl(120, 75%, 92%); opacity:1.0;                     line-height:1.75\"><font color=\"black\"> to                    </font></mark><mark style=\"background-color: hsl(120, 75%, 96%); opacity:1.0;                     line-height:1.75\"><font color=\"black\"> possible                    </font></mark><mark style=\"background-color: hsl(120, 75%, 95%); opacity:1.0;                     line-height:1.75\"><font color=\"black\"> presence                    </font></mark><mark style=\"background-color: hsl(120, 75%, 99%); opacity:1.0;                     line-height:1.75\"><font color=\"black\"> of                    </font></mark><mark style=\"background-color: hsl(0, 75%, 97%); opacity:1.0;                     line-height:1.75\"><font color=\"black\"> pii                    </font></mark><mark style=\"background-color: hsl(120, 75%, 93%); opacity:1.0;                     line-height:1.75\"><font color=\"black\"> )                    </font></mark><mark style=\"background-color: hsl(0, 75%, 100%); opacity:1.0;                     line-height:1.75\"><font color=\"black\"> [SEP]                    </font></mark></td><tr></table>"
      ],
      "text/plain": [
       "<IPython.core.display.HTML object>"
      ]
     },
     "execution_count": 147,
     "metadata": {},
     "output_type": "execute_result"
    }
   ],
   "source": [
    "print('\\033[1m', 'Visualization For Score', '\\033[0m')\n",
    "viz.visualize_text([score_vis])"
   ]
  },
  {
   "cell_type": "code",
   "execution_count": 157,
   "id": "0b1adb2e",
   "metadata": {},
   "outputs": [
    {
     "data": {
      "text/html": [
       "<table width: 100%><div style=\"border-top: 1px solid; margin-top: 5px;             padding-top: 5px; display: inline-block\"><b>Legend: </b><span style=\"display: inline-block; width: 10px; height: 10px;                 border: 1px solid; background-color:                 hsl(0, 75%, 60%)\"></span> Negative  <span style=\"display: inline-block; width: 10px; height: 10px;                 border: 1px solid; background-color:                 hsl(0, 75%, 100%)\"></span> Neutral  <span style=\"display: inline-block; width: 10px; height: 10px;                 border: 1px solid; background-color:                 hsl(120, 75%, 50%)\"></span> Positive  </div><tr><th>True Label</th><th>Predicted Label</th><th>Attribution Label</th><th>Attribution Score</th><th>Word Importance</th><tr><td><text style=\"padding-right:2em\"><b>20</b></text></td><td><text style=\"padding-right:2em\"><b>LABEL_20 (1.00)</b></text></td><td><text style=\"padding-right:2em\"><b>LABEL_20</b></text></td><td><text style=\"padding-right:2em\"><b>3.99</b></text></td><td><mark style=\"background-color: hsl(0, 75%, 100%); opacity:1.0;                     line-height:1.75\"><font color=\"black\"> [CLS]                    </font></mark><mark style=\"background-color: hsl(0, 75%, 100%); opacity:1.0;                     line-height:1.75\"><font color=\"black\"> title                    </font></mark><mark style=\"background-color: hsl(120, 75%, 99%); opacity:1.0;                     line-height:1.75\"><font color=\"black\"> :                    </font></mark><mark style=\"background-color: hsl(120, 75%, 97%); opacity:1.0;                     line-height:1.75\"><font color=\"black\"> stare                    </font></mark><mark style=\"background-color: hsl(120, 75%, 100%); opacity:1.0;                     line-height:1.75\"><font color=\"black\"> ##mo                    </font></mark><mark style=\"background-color: hsl(120, 75%, 90%); opacity:1.0;                     line-height:1.75\"><font color=\"black\"> ##ji                    </font></mark><mark style=\"background-color: hsl(120, 75%, 95%); opacity:1.0;                     line-height:1.75\"><font color=\"black\"> ins                    </font></mark><mark style=\"background-color: hsl(120, 75%, 98%); opacity:1.0;                     line-height:1.75\"><font color=\"black\"> ##ta                    </font></mark><mark style=\"background-color: hsl(0, 75%, 100%); opacity:1.0;                     line-height:1.75\"><font color=\"black\"> ##heart                    </font></mark><mark style=\"background-color: hsl(120, 75%, 96%); opacity:1.0;                     line-height:1.75\"><font color=\"black\"> ##s                    </font></mark><mark style=\"background-color: hsl(120, 75%, 94%); opacity:1.0;                     line-height:1.75\"><font color=\"black\"> |                    </font></mark><mark style=\"background-color: hsl(120, 75%, 92%); opacity:1.0;                     line-height:1.75\"><font color=\"black\"> |                    </font></mark><mark style=\"background-color: hsl(120, 75%, 93%); opacity:1.0;                     line-height:1.75\"><font color=\"black\"> ins                    </font></mark><mark style=\"background-color: hsl(120, 75%, 98%); opacity:1.0;                     line-height:1.75\"><font color=\"black\"> ##tagram                    </font></mark><mark style=\"background-color: hsl(120, 75%, 94%); opacity:1.0;                     line-height:1.75\"><font color=\"black\"> success                    </font></mark><mark style=\"background-color: hsl(120, 75%, 99%); opacity:1.0;                     line-height:1.75\"><font color=\"black\"> stare                    </font></mark><mark style=\"background-color: hsl(120, 75%, 97%); opacity:1.0;                     line-height:1.75\"><font color=\"black\"> ##mo                    </font></mark><mark style=\"background-color: hsl(120, 75%, 92%); opacity:1.0;                     line-height:1.75\"><font color=\"black\"> ##ji                    </font></mark><mark style=\"background-color: hsl(120, 75%, 84%); opacity:1.0;                     line-height:1.75\"><font color=\"black\"> description                    </font></mark><mark style=\"background-color: hsl(120, 75%, 89%); opacity:1.0;                     line-height:1.75\"><font color=\"black\"> :                    </font></mark><mark style=\"background-color: hsl(120, 75%, 84%); opacity:1.0;                     line-height:1.75\"><font color=\"black\"> (                    </font></mark><mark style=\"background-color: hsl(120, 75%, 94%); opacity:1.0;                     line-height:1.75\"><font color=\"black\"> ce                    </font></mark><mark style=\"background-color: hsl(120, 75%, 75%); opacity:1.0;                     line-height:1.75\"><font color=\"black\"> ##nsor                    </font></mark><mark style=\"background-color: hsl(120, 75%, 86%); opacity:1.0;                     line-height:1.75\"><font color=\"black\"> ##ed                    </font></mark><mark style=\"background-color: hsl(120, 75%, 87%); opacity:1.0;                     line-height:1.75\"><font color=\"black\"> due                    </font></mark><mark style=\"background-color: hsl(120, 75%, 92%); opacity:1.0;                     line-height:1.75\"><font color=\"black\"> to                    </font></mark><mark style=\"background-color: hsl(120, 75%, 96%); opacity:1.0;                     line-height:1.75\"><font color=\"black\"> possible                    </font></mark><mark style=\"background-color: hsl(120, 75%, 95%); opacity:1.0;                     line-height:1.75\"><font color=\"black\"> presence                    </font></mark><mark style=\"background-color: hsl(120, 75%, 99%); opacity:1.0;                     line-height:1.75\"><font color=\"black\"> of                    </font></mark><mark style=\"background-color: hsl(0, 75%, 94%); opacity:1.0;                     line-height:1.75\"><font color=\"black\"> pi                    </font></mark><mark style=\"background-color: hsl(120, 75%, 96%); opacity:1.0;                     line-height:1.75\"><font color=\"black\"> ##i                    </font></mark><mark style=\"background-color: hsl(120, 75%, 93%); opacity:1.0;                     line-height:1.75\"><font color=\"black\"> )                    </font></mark><mark style=\"background-color: hsl(0, 75%, 100%); opacity:1.0;                     line-height:1.75\"><font color=\"black\"> [SEP]                    </font></mark></td><tr></table>"
      ],
      "text/plain": [
       "<IPython.core.display.HTML object>"
      ]
     },
     "metadata": {},
     "output_type": "display_data"
    },
    {
     "data": {
      "text/html": [
       "<table width: 100%><div style=\"border-top: 1px solid; margin-top: 5px;             padding-top: 5px; display: inline-block\"><b>Legend: </b><span style=\"display: inline-block; width: 10px; height: 10px;                 border: 1px solid; background-color:                 hsl(0, 75%, 60%)\"></span> Negative  <span style=\"display: inline-block; width: 10px; height: 10px;                 border: 1px solid; background-color:                 hsl(0, 75%, 100%)\"></span> Neutral  <span style=\"display: inline-block; width: 10px; height: 10px;                 border: 1px solid; background-color:                 hsl(120, 75%, 50%)\"></span> Positive  </div><tr><th>True Label</th><th>Predicted Label</th><th>Attribution Label</th><th>Attribution Score</th><th>Word Importance</th><tr><td><text style=\"padding-right:2em\"><b>20</b></text></td><td><text style=\"padding-right:2em\"><b>LABEL_20 (1.00)</b></text></td><td><text style=\"padding-right:2em\"><b>LABEL_20</b></text></td><td><text style=\"padding-right:2em\"><b>3.99</b></text></td><td><mark style=\"background-color: hsl(0, 75%, 100%); opacity:1.0;                     line-height:1.75\"><font color=\"black\"> [CLS]                    </font></mark><mark style=\"background-color: hsl(0, 75%, 100%); opacity:1.0;                     line-height:1.75\"><font color=\"black\"> title                    </font></mark><mark style=\"background-color: hsl(120, 75%, 99%); opacity:1.0;                     line-height:1.75\"><font color=\"black\"> :                    </font></mark><mark style=\"background-color: hsl(120, 75%, 97%); opacity:1.0;                     line-height:1.75\"><font color=\"black\"> stare                    </font></mark><mark style=\"background-color: hsl(120, 75%, 100%); opacity:1.0;                     line-height:1.75\"><font color=\"black\"> ##mo                    </font></mark><mark style=\"background-color: hsl(120, 75%, 90%); opacity:1.0;                     line-height:1.75\"><font color=\"black\"> ##ji                    </font></mark><mark style=\"background-color: hsl(120, 75%, 95%); opacity:1.0;                     line-height:1.75\"><font color=\"black\"> ins                    </font></mark><mark style=\"background-color: hsl(120, 75%, 98%); opacity:1.0;                     line-height:1.75\"><font color=\"black\"> ##ta                    </font></mark><mark style=\"background-color: hsl(0, 75%, 100%); opacity:1.0;                     line-height:1.75\"><font color=\"black\"> ##heart                    </font></mark><mark style=\"background-color: hsl(120, 75%, 96%); opacity:1.0;                     line-height:1.75\"><font color=\"black\"> ##s                    </font></mark><mark style=\"background-color: hsl(120, 75%, 94%); opacity:1.0;                     line-height:1.75\"><font color=\"black\"> |                    </font></mark><mark style=\"background-color: hsl(120, 75%, 92%); opacity:1.0;                     line-height:1.75\"><font color=\"black\"> |                    </font></mark><mark style=\"background-color: hsl(120, 75%, 93%); opacity:1.0;                     line-height:1.75\"><font color=\"black\"> ins                    </font></mark><mark style=\"background-color: hsl(120, 75%, 98%); opacity:1.0;                     line-height:1.75\"><font color=\"black\"> ##tagram                    </font></mark><mark style=\"background-color: hsl(120, 75%, 94%); opacity:1.0;                     line-height:1.75\"><font color=\"black\"> success                    </font></mark><mark style=\"background-color: hsl(120, 75%, 99%); opacity:1.0;                     line-height:1.75\"><font color=\"black\"> stare                    </font></mark><mark style=\"background-color: hsl(120, 75%, 97%); opacity:1.0;                     line-height:1.75\"><font color=\"black\"> ##mo                    </font></mark><mark style=\"background-color: hsl(120, 75%, 92%); opacity:1.0;                     line-height:1.75\"><font color=\"black\"> ##ji                    </font></mark><mark style=\"background-color: hsl(120, 75%, 84%); opacity:1.0;                     line-height:1.75\"><font color=\"black\"> description                    </font></mark><mark style=\"background-color: hsl(120, 75%, 89%); opacity:1.0;                     line-height:1.75\"><font color=\"black\"> :                    </font></mark><mark style=\"background-color: hsl(120, 75%, 84%); opacity:1.0;                     line-height:1.75\"><font color=\"black\"> (                    </font></mark><mark style=\"background-color: hsl(120, 75%, 94%); opacity:1.0;                     line-height:1.75\"><font color=\"black\"> ce                    </font></mark><mark style=\"background-color: hsl(120, 75%, 75%); opacity:1.0;                     line-height:1.75\"><font color=\"black\"> ##nsor                    </font></mark><mark style=\"background-color: hsl(120, 75%, 86%); opacity:1.0;                     line-height:1.75\"><font color=\"black\"> ##ed                    </font></mark><mark style=\"background-color: hsl(120, 75%, 87%); opacity:1.0;                     line-height:1.75\"><font color=\"black\"> due                    </font></mark><mark style=\"background-color: hsl(120, 75%, 92%); opacity:1.0;                     line-height:1.75\"><font color=\"black\"> to                    </font></mark><mark style=\"background-color: hsl(120, 75%, 96%); opacity:1.0;                     line-height:1.75\"><font color=\"black\"> possible                    </font></mark><mark style=\"background-color: hsl(120, 75%, 95%); opacity:1.0;                     line-height:1.75\"><font color=\"black\"> presence                    </font></mark><mark style=\"background-color: hsl(120, 75%, 99%); opacity:1.0;                     line-height:1.75\"><font color=\"black\"> of                    </font></mark><mark style=\"background-color: hsl(0, 75%, 94%); opacity:1.0;                     line-height:1.75\"><font color=\"black\"> pi                    </font></mark><mark style=\"background-color: hsl(120, 75%, 96%); opacity:1.0;                     line-height:1.75\"><font color=\"black\"> ##i                    </font></mark><mark style=\"background-color: hsl(120, 75%, 93%); opacity:1.0;                     line-height:1.75\"><font color=\"black\"> )                    </font></mark><mark style=\"background-color: hsl(0, 75%, 100%); opacity:1.0;                     line-height:1.75\"><font color=\"black\"> [SEP]                    </font></mark></td><tr></table>"
      ],
      "text/plain": [
       "<IPython.core.display.HTML object>"
      ]
     },
     "execution_count": 157,
     "metadata": {},
     "output_type": "execute_result"
    }
   ],
   "source": [
    "cls_explainer.visualize(\"distilbert_negative_attr.html\")\n"
   ]
  },
  {
   "cell_type": "code",
   "execution_count": null,
   "id": "9d381887",
   "metadata": {},
   "outputs": [],
   "source": []
  },
  {
   "cell_type": "code",
   "execution_count": null,
   "id": "d0219d88",
   "metadata": {},
   "outputs": [],
   "source": []
  },
  {
   "cell_type": "code",
   "execution_count": null,
   "id": "cc660ea8",
   "metadata": {},
   "outputs": [],
   "source": []
  },
  {
   "cell_type": "code",
   "execution_count": 168,
   "id": "cbf82cb6",
   "metadata": {},
   "outputs": [
    {
     "name": "stdout",
     "output_type": "stream",
     "text": [
      "\u001b[1m Visualization For Score \u001b[0m\n"
     ]
    },
    {
     "data": {
      "text/html": [
       "<table width: 100%><div style=\"border-top: 1px solid; margin-top: 5px;             padding-top: 5px; display: inline-block\"><b>Legend: </b><span style=\"display: inline-block; width: 10px; height: 10px;                 border: 1px solid; background-color:                 hsl(0, 75%, 60%)\"></span> Negative  <span style=\"display: inline-block; width: 10px; height: 10px;                 border: 1px solid; background-color:                 hsl(0, 75%, 100%)\"></span> Neutral  <span style=\"display: inline-block; width: 10px; height: 10px;                 border: 1px solid; background-color:                 hsl(120, 75%, 50%)\"></span> Positive  </div><tr><th>True Label</th><th>Predicted Label</th><th>Attribution Label</th><th>Attribution Score</th><th>Word Importance</th><tr><td><text style=\"padding-right:2em\"><b>20</b></text></td><td><text style=\"padding-right:2em\"><b>20 (0.00)</b></text></td><td><text style=\"padding-right:2em\"><b>Title : kingPieceEmoji  bank and paypal cashout with video kingPieceEmoji \n",
       " Description : (censored due to possible presence of pii)</b></text></td><td><text style=\"padding-right:2em\"><b>4.26</b></text></td><td><mark style=\"background-color: hsl(0, 75%, 100%); opacity:1.0;                     line-height:1.75\"><font color=\"black\"> [CLS]                    </font></mark><mark style=\"background-color: hsl(120, 75%, 100%); opacity:1.0;                     line-height:1.75\"><font color=\"black\"> title                    </font></mark><mark style=\"background-color: hsl(120, 75%, 98%); opacity:1.0;                     line-height:1.75\"><font color=\"black\"> :                    </font></mark><mark style=\"background-color: hsl(120, 75%, 59%); opacity:1.0;                     line-height:1.75\"><font color=\"black\"> kingpieceemoji                    </font></mark><mark style=\"background-color: hsl(0, 75%, 98%); opacity:1.0;                     line-height:1.75\"><font color=\"black\"> bank                    </font></mark><mark style=\"background-color: hsl(0, 75%, 97%); opacity:1.0;                     line-height:1.75\"><font color=\"black\"> and                    </font></mark><mark style=\"background-color: hsl(120, 75%, 100%); opacity:1.0;                     line-height:1.75\"><font color=\"black\"> paypal                    </font></mark><mark style=\"background-color: hsl(120, 75%, 89%); opacity:1.0;                     line-height:1.75\"><font color=\"black\"> cashout                    </font></mark><mark style=\"background-color: hsl(120, 75%, 99%); opacity:1.0;                     line-height:1.75\"><font color=\"black\"> with                    </font></mark><mark style=\"background-color: hsl(120, 75%, 99%); opacity:1.0;                     line-height:1.75\"><font color=\"black\"> video                    </font></mark><mark style=\"background-color: hsl(120, 75%, 60%); opacity:1.0;                     line-height:1.75\"><font color=\"black\"> kingpieceemoji                    </font></mark><mark style=\"background-color: hsl(120, 75%, 94%); opacity:1.0;                     line-height:1.75\"><font color=\"black\"> description                    </font></mark><mark style=\"background-color: hsl(120, 75%, 95%); opacity:1.0;                     line-height:1.75\"><font color=\"black\"> :                    </font></mark><mark style=\"background-color: hsl(120, 75%, 85%); opacity:1.0;                     line-height:1.75\"><font color=\"black\"> (                    </font></mark><mark style=\"background-color: hsl(120, 75%, 59%); opacity:1.0;                     line-height:1.75\"><font color=\"black\"> censored                    </font></mark><mark style=\"background-color: hsl(120, 75%, 85%); opacity:1.0;                     line-height:1.75\"><font color=\"black\"> due                    </font></mark><mark style=\"background-color: hsl(120, 75%, 93%); opacity:1.0;                     line-height:1.75\"><font color=\"black\"> to                    </font></mark><mark style=\"background-color: hsl(120, 75%, 96%); opacity:1.0;                     line-height:1.75\"><font color=\"black\"> possible                    </font></mark><mark style=\"background-color: hsl(120, 75%, 92%); opacity:1.0;                     line-height:1.75\"><font color=\"black\"> presence                    </font></mark><mark style=\"background-color: hsl(120, 75%, 96%); opacity:1.0;                     line-height:1.75\"><font color=\"black\"> of                    </font></mark><mark style=\"background-color: hsl(120, 75%, 94%); opacity:1.0;                     line-height:1.75\"><font color=\"black\"> pii                    </font></mark><mark style=\"background-color: hsl(120, 75%, 93%); opacity:1.0;                     line-height:1.75\"><font color=\"black\"> )                    </font></mark><mark style=\"background-color: hsl(0, 75%, 100%); opacity:1.0;                     line-height:1.75\"><font color=\"black\"> [SEP]                    </font></mark></td><tr></table>"
      ],
      "text/plain": [
       "<IPython.core.display.HTML object>"
      ]
     },
     "metadata": {},
     "output_type": "display_data"
    },
    {
     "data": {
      "text/html": [
       "<table width: 100%><div style=\"border-top: 1px solid; margin-top: 5px;             padding-top: 5px; display: inline-block\"><b>Legend: </b><span style=\"display: inline-block; width: 10px; height: 10px;                 border: 1px solid; background-color:                 hsl(0, 75%, 60%)\"></span> Negative  <span style=\"display: inline-block; width: 10px; height: 10px;                 border: 1px solid; background-color:                 hsl(0, 75%, 100%)\"></span> Neutral  <span style=\"display: inline-block; width: 10px; height: 10px;                 border: 1px solid; background-color:                 hsl(120, 75%, 50%)\"></span> Positive  </div><tr><th>True Label</th><th>Predicted Label</th><th>Attribution Label</th><th>Attribution Score</th><th>Word Importance</th><tr><td><text style=\"padding-right:2em\"><b>20</b></text></td><td><text style=\"padding-right:2em\"><b>20 (0.00)</b></text></td><td><text style=\"padding-right:2em\"><b>Title : kingPieceEmoji  bank and paypal cashout with video kingPieceEmoji \n",
       " Description : (censored due to possible presence of pii)</b></text></td><td><text style=\"padding-right:2em\"><b>4.26</b></text></td><td><mark style=\"background-color: hsl(0, 75%, 100%); opacity:1.0;                     line-height:1.75\"><font color=\"black\"> [CLS]                    </font></mark><mark style=\"background-color: hsl(120, 75%, 100%); opacity:1.0;                     line-height:1.75\"><font color=\"black\"> title                    </font></mark><mark style=\"background-color: hsl(120, 75%, 98%); opacity:1.0;                     line-height:1.75\"><font color=\"black\"> :                    </font></mark><mark style=\"background-color: hsl(120, 75%, 59%); opacity:1.0;                     line-height:1.75\"><font color=\"black\"> kingpieceemoji                    </font></mark><mark style=\"background-color: hsl(0, 75%, 98%); opacity:1.0;                     line-height:1.75\"><font color=\"black\"> bank                    </font></mark><mark style=\"background-color: hsl(0, 75%, 97%); opacity:1.0;                     line-height:1.75\"><font color=\"black\"> and                    </font></mark><mark style=\"background-color: hsl(120, 75%, 100%); opacity:1.0;                     line-height:1.75\"><font color=\"black\"> paypal                    </font></mark><mark style=\"background-color: hsl(120, 75%, 89%); opacity:1.0;                     line-height:1.75\"><font color=\"black\"> cashout                    </font></mark><mark style=\"background-color: hsl(120, 75%, 99%); opacity:1.0;                     line-height:1.75\"><font color=\"black\"> with                    </font></mark><mark style=\"background-color: hsl(120, 75%, 99%); opacity:1.0;                     line-height:1.75\"><font color=\"black\"> video                    </font></mark><mark style=\"background-color: hsl(120, 75%, 60%); opacity:1.0;                     line-height:1.75\"><font color=\"black\"> kingpieceemoji                    </font></mark><mark style=\"background-color: hsl(120, 75%, 94%); opacity:1.0;                     line-height:1.75\"><font color=\"black\"> description                    </font></mark><mark style=\"background-color: hsl(120, 75%, 95%); opacity:1.0;                     line-height:1.75\"><font color=\"black\"> :                    </font></mark><mark style=\"background-color: hsl(120, 75%, 85%); opacity:1.0;                     line-height:1.75\"><font color=\"black\"> (                    </font></mark><mark style=\"background-color: hsl(120, 75%, 59%); opacity:1.0;                     line-height:1.75\"><font color=\"black\"> censored                    </font></mark><mark style=\"background-color: hsl(120, 75%, 85%); opacity:1.0;                     line-height:1.75\"><font color=\"black\"> due                    </font></mark><mark style=\"background-color: hsl(120, 75%, 93%); opacity:1.0;                     line-height:1.75\"><font color=\"black\"> to                    </font></mark><mark style=\"background-color: hsl(120, 75%, 96%); opacity:1.0;                     line-height:1.75\"><font color=\"black\"> possible                    </font></mark><mark style=\"background-color: hsl(120, 75%, 92%); opacity:1.0;                     line-height:1.75\"><font color=\"black\"> presence                    </font></mark><mark style=\"background-color: hsl(120, 75%, 96%); opacity:1.0;                     line-height:1.75\"><font color=\"black\"> of                    </font></mark><mark style=\"background-color: hsl(120, 75%, 94%); opacity:1.0;                     line-height:1.75\"><font color=\"black\"> pii                    </font></mark><mark style=\"background-color: hsl(120, 75%, 93%); opacity:1.0;                     line-height:1.75\"><font color=\"black\"> )                    </font></mark><mark style=\"background-color: hsl(0, 75%, 100%); opacity:1.0;                     line-height:1.75\"><font color=\"black\"> [SEP]                    </font></mark></td><tr></table>"
      ],
      "text/plain": [
       "<IPython.core.display.HTML object>"
      ]
     },
     "execution_count": 168,
     "metadata": {},
     "output_type": "execute_result"
    }
   ],
   "source": [
    "print('\\033[1m', 'Visualization For Score', '\\033[0m')\n",
    "viz.visualize_text([score_vis])"
   ]
  },
  {
   "cell_type": "code",
   "execution_count": 164,
   "id": "b7f0c13b",
   "metadata": {},
   "outputs": [
    {
     "data": {
      "text/html": [
       "<table width: 100%><div style=\"border-top: 1px solid; margin-top: 5px;             padding-top: 5px; display: inline-block\"><b>Legend: </b><span style=\"display: inline-block; width: 10px; height: 10px;                 border: 1px solid; background-color:                 hsl(0, 75%, 60%)\"></span> Negative  <span style=\"display: inline-block; width: 10px; height: 10px;                 border: 1px solid; background-color:                 hsl(0, 75%, 100%)\"></span> Neutral  <span style=\"display: inline-block; width: 10px; height: 10px;                 border: 1px solid; background-color:                 hsl(120, 75%, 50%)\"></span> Positive  </div><tr><th>True Label</th><th>Predicted Label</th><th>Attribution Label</th><th>Attribution Score</th><th>Word Importance</th><tr><td><text style=\"padding-right:2em\"><b>20</b></text></td><td><text style=\"padding-right:2em\"><b>LABEL_20 (1.00)</b></text></td><td><text style=\"padding-right:2em\"><b>LABEL_20</b></text></td><td><text style=\"padding-right:2em\"><b>4.26</b></text></td><td><mark style=\"background-color: hsl(0, 75%, 100%); opacity:1.0;                     line-height:1.75\"><font color=\"black\"> [CLS]                    </font></mark><mark style=\"background-color: hsl(120, 75%, 100%); opacity:1.0;                     line-height:1.75\"><font color=\"black\"> title                    </font></mark><mark style=\"background-color: hsl(120, 75%, 98%); opacity:1.0;                     line-height:1.75\"><font color=\"black\"> :                    </font></mark><mark style=\"background-color: hsl(120, 75%, 95%); opacity:1.0;                     line-height:1.75\"><font color=\"black\"> king                    </font></mark><mark style=\"background-color: hsl(120, 75%, 96%); opacity:1.0;                     line-height:1.75\"><font color=\"black\"> ##piece                    </font></mark><mark style=\"background-color: hsl(120, 75%, 95%); opacity:1.0;                     line-height:1.75\"><font color=\"black\"> ##em                    </font></mark><mark style=\"background-color: hsl(120, 75%, 90%); opacity:1.0;                     line-height:1.75\"><font color=\"black\"> ##oj                    </font></mark><mark style=\"background-color: hsl(120, 75%, 85%); opacity:1.0;                     line-height:1.75\"><font color=\"black\"> ##i                    </font></mark><mark style=\"background-color: hsl(0, 75%, 98%); opacity:1.0;                     line-height:1.75\"><font color=\"black\"> bank                    </font></mark><mark style=\"background-color: hsl(0, 75%, 97%); opacity:1.0;                     line-height:1.75\"><font color=\"black\"> and                    </font></mark><mark style=\"background-color: hsl(120, 75%, 100%); opacity:1.0;                     line-height:1.75\"><font color=\"black\"> pay                    </font></mark><mark style=\"background-color: hsl(0, 75%, 100%); opacity:1.0;                     line-height:1.75\"><font color=\"black\"> ##pal                    </font></mark><mark style=\"background-color: hsl(120, 75%, 93%); opacity:1.0;                     line-height:1.75\"><font color=\"black\"> cash                    </font></mark><mark style=\"background-color: hsl(120, 75%, 97%); opacity:1.0;                     line-height:1.75\"><font color=\"black\"> ##out                    </font></mark><mark style=\"background-color: hsl(120, 75%, 99%); opacity:1.0;                     line-height:1.75\"><font color=\"black\"> with                    </font></mark><mark style=\"background-color: hsl(120, 75%, 99%); opacity:1.0;                     line-height:1.75\"><font color=\"black\"> video                    </font></mark><mark style=\"background-color: hsl(120, 75%, 96%); opacity:1.0;                     line-height:1.75\"><font color=\"black\"> king                    </font></mark><mark style=\"background-color: hsl(120, 75%, 93%); opacity:1.0;                     line-height:1.75\"><font color=\"black\"> ##piece                    </font></mark><mark style=\"background-color: hsl(120, 75%, 91%); opacity:1.0;                     line-height:1.75\"><font color=\"black\"> ##em                    </font></mark><mark style=\"background-color: hsl(120, 75%, 94%); opacity:1.0;                     line-height:1.75\"><font color=\"black\"> ##oj                    </font></mark><mark style=\"background-color: hsl(120, 75%, 87%); opacity:1.0;                     line-height:1.75\"><font color=\"black\"> ##i                    </font></mark><mark style=\"background-color: hsl(120, 75%, 94%); opacity:1.0;                     line-height:1.75\"><font color=\"black\"> description                    </font></mark><mark style=\"background-color: hsl(120, 75%, 95%); opacity:1.0;                     line-height:1.75\"><font color=\"black\"> :                    </font></mark><mark style=\"background-color: hsl(120, 75%, 85%); opacity:1.0;                     line-height:1.75\"><font color=\"black\"> (                    </font></mark><mark style=\"background-color: hsl(120, 75%, 97%); opacity:1.0;                     line-height:1.75\"><font color=\"black\"> ce                    </font></mark><mark style=\"background-color: hsl(120, 75%, 77%); opacity:1.0;                     line-height:1.75\"><font color=\"black\"> ##nsor                    </font></mark><mark style=\"background-color: hsl(120, 75%, 86%); opacity:1.0;                     line-height:1.75\"><font color=\"black\"> ##ed                    </font></mark><mark style=\"background-color: hsl(120, 75%, 85%); opacity:1.0;                     line-height:1.75\"><font color=\"black\"> due                    </font></mark><mark style=\"background-color: hsl(120, 75%, 93%); opacity:1.0;                     line-height:1.75\"><font color=\"black\"> to                    </font></mark><mark style=\"background-color: hsl(120, 75%, 96%); opacity:1.0;                     line-height:1.75\"><font color=\"black\"> possible                    </font></mark><mark style=\"background-color: hsl(120, 75%, 92%); opacity:1.0;                     line-height:1.75\"><font color=\"black\"> presence                    </font></mark><mark style=\"background-color: hsl(120, 75%, 96%); opacity:1.0;                     line-height:1.75\"><font color=\"black\"> of                    </font></mark><mark style=\"background-color: hsl(120, 75%, 99%); opacity:1.0;                     line-height:1.75\"><font color=\"black\"> pi                    </font></mark><mark style=\"background-color: hsl(120, 75%, 95%); opacity:1.0;                     line-height:1.75\"><font color=\"black\"> ##i                    </font></mark><mark style=\"background-color: hsl(120, 75%, 93%); opacity:1.0;                     line-height:1.75\"><font color=\"black\"> )                    </font></mark><mark style=\"background-color: hsl(0, 75%, 100%); opacity:1.0;                     line-height:1.75\"><font color=\"black\"> [SEP]                    </font></mark></td><tr></table>"
      ],
      "text/plain": [
       "<IPython.core.display.HTML object>"
      ]
     },
     "metadata": {},
     "output_type": "display_data"
    },
    {
     "data": {
      "text/html": [
       "<table width: 100%><div style=\"border-top: 1px solid; margin-top: 5px;             padding-top: 5px; display: inline-block\"><b>Legend: </b><span style=\"display: inline-block; width: 10px; height: 10px;                 border: 1px solid; background-color:                 hsl(0, 75%, 60%)\"></span> Negative  <span style=\"display: inline-block; width: 10px; height: 10px;                 border: 1px solid; background-color:                 hsl(0, 75%, 100%)\"></span> Neutral  <span style=\"display: inline-block; width: 10px; height: 10px;                 border: 1px solid; background-color:                 hsl(120, 75%, 50%)\"></span> Positive  </div><tr><th>True Label</th><th>Predicted Label</th><th>Attribution Label</th><th>Attribution Score</th><th>Word Importance</th><tr><td><text style=\"padding-right:2em\"><b>20</b></text></td><td><text style=\"padding-right:2em\"><b>LABEL_20 (1.00)</b></text></td><td><text style=\"padding-right:2em\"><b>LABEL_20</b></text></td><td><text style=\"padding-right:2em\"><b>4.26</b></text></td><td><mark style=\"background-color: hsl(0, 75%, 100%); opacity:1.0;                     line-height:1.75\"><font color=\"black\"> [CLS]                    </font></mark><mark style=\"background-color: hsl(120, 75%, 100%); opacity:1.0;                     line-height:1.75\"><font color=\"black\"> title                    </font></mark><mark style=\"background-color: hsl(120, 75%, 98%); opacity:1.0;                     line-height:1.75\"><font color=\"black\"> :                    </font></mark><mark style=\"background-color: hsl(120, 75%, 95%); opacity:1.0;                     line-height:1.75\"><font color=\"black\"> king                    </font></mark><mark style=\"background-color: hsl(120, 75%, 96%); opacity:1.0;                     line-height:1.75\"><font color=\"black\"> ##piece                    </font></mark><mark style=\"background-color: hsl(120, 75%, 95%); opacity:1.0;                     line-height:1.75\"><font color=\"black\"> ##em                    </font></mark><mark style=\"background-color: hsl(120, 75%, 90%); opacity:1.0;                     line-height:1.75\"><font color=\"black\"> ##oj                    </font></mark><mark style=\"background-color: hsl(120, 75%, 85%); opacity:1.0;                     line-height:1.75\"><font color=\"black\"> ##i                    </font></mark><mark style=\"background-color: hsl(0, 75%, 98%); opacity:1.0;                     line-height:1.75\"><font color=\"black\"> bank                    </font></mark><mark style=\"background-color: hsl(0, 75%, 97%); opacity:1.0;                     line-height:1.75\"><font color=\"black\"> and                    </font></mark><mark style=\"background-color: hsl(120, 75%, 100%); opacity:1.0;                     line-height:1.75\"><font color=\"black\"> pay                    </font></mark><mark style=\"background-color: hsl(0, 75%, 100%); opacity:1.0;                     line-height:1.75\"><font color=\"black\"> ##pal                    </font></mark><mark style=\"background-color: hsl(120, 75%, 93%); opacity:1.0;                     line-height:1.75\"><font color=\"black\"> cash                    </font></mark><mark style=\"background-color: hsl(120, 75%, 97%); opacity:1.0;                     line-height:1.75\"><font color=\"black\"> ##out                    </font></mark><mark style=\"background-color: hsl(120, 75%, 99%); opacity:1.0;                     line-height:1.75\"><font color=\"black\"> with                    </font></mark><mark style=\"background-color: hsl(120, 75%, 99%); opacity:1.0;                     line-height:1.75\"><font color=\"black\"> video                    </font></mark><mark style=\"background-color: hsl(120, 75%, 96%); opacity:1.0;                     line-height:1.75\"><font color=\"black\"> king                    </font></mark><mark style=\"background-color: hsl(120, 75%, 93%); opacity:1.0;                     line-height:1.75\"><font color=\"black\"> ##piece                    </font></mark><mark style=\"background-color: hsl(120, 75%, 91%); opacity:1.0;                     line-height:1.75\"><font color=\"black\"> ##em                    </font></mark><mark style=\"background-color: hsl(120, 75%, 94%); opacity:1.0;                     line-height:1.75\"><font color=\"black\"> ##oj                    </font></mark><mark style=\"background-color: hsl(120, 75%, 87%); opacity:1.0;                     line-height:1.75\"><font color=\"black\"> ##i                    </font></mark><mark style=\"background-color: hsl(120, 75%, 94%); opacity:1.0;                     line-height:1.75\"><font color=\"black\"> description                    </font></mark><mark style=\"background-color: hsl(120, 75%, 95%); opacity:1.0;                     line-height:1.75\"><font color=\"black\"> :                    </font></mark><mark style=\"background-color: hsl(120, 75%, 85%); opacity:1.0;                     line-height:1.75\"><font color=\"black\"> (                    </font></mark><mark style=\"background-color: hsl(120, 75%, 97%); opacity:1.0;                     line-height:1.75\"><font color=\"black\"> ce                    </font></mark><mark style=\"background-color: hsl(120, 75%, 77%); opacity:1.0;                     line-height:1.75\"><font color=\"black\"> ##nsor                    </font></mark><mark style=\"background-color: hsl(120, 75%, 86%); opacity:1.0;                     line-height:1.75\"><font color=\"black\"> ##ed                    </font></mark><mark style=\"background-color: hsl(120, 75%, 85%); opacity:1.0;                     line-height:1.75\"><font color=\"black\"> due                    </font></mark><mark style=\"background-color: hsl(120, 75%, 93%); opacity:1.0;                     line-height:1.75\"><font color=\"black\"> to                    </font></mark><mark style=\"background-color: hsl(120, 75%, 96%); opacity:1.0;                     line-height:1.75\"><font color=\"black\"> possible                    </font></mark><mark style=\"background-color: hsl(120, 75%, 92%); opacity:1.0;                     line-height:1.75\"><font color=\"black\"> presence                    </font></mark><mark style=\"background-color: hsl(120, 75%, 96%); opacity:1.0;                     line-height:1.75\"><font color=\"black\"> of                    </font></mark><mark style=\"background-color: hsl(120, 75%, 99%); opacity:1.0;                     line-height:1.75\"><font color=\"black\"> pi                    </font></mark><mark style=\"background-color: hsl(120, 75%, 95%); opacity:1.0;                     line-height:1.75\"><font color=\"black\"> ##i                    </font></mark><mark style=\"background-color: hsl(120, 75%, 93%); opacity:1.0;                     line-height:1.75\"><font color=\"black\"> )                    </font></mark><mark style=\"background-color: hsl(0, 75%, 100%); opacity:1.0;                     line-height:1.75\"><font color=\"black\"> [SEP]                    </font></mark></td><tr></table>"
      ],
      "text/plain": [
       "<IPython.core.display.HTML object>"
      ]
     },
     "execution_count": 164,
     "metadata": {},
     "output_type": "execute_result"
    }
   ],
   "source": [
    "cls_explainer.visualize(\"distilbert_negative_attr.html\")\n"
   ]
  },
  {
   "cell_type": "code",
   "execution_count": null,
   "id": "c12e83bd",
   "metadata": {},
   "outputs": [],
   "source": []
  },
  {
   "cell_type": "code",
   "execution_count": null,
   "id": "f489642c",
   "metadata": {},
   "outputs": [],
   "source": []
  }
 ],
 "metadata": {
  "kernelspec": {
   "display_name": "Python 3",
   "language": "python",
   "name": "python3"
  },
  "language_info": {
   "codemirror_mode": {
    "name": "ipython",
    "version": 3
   },
   "file_extension": ".py",
   "mimetype": "text/x-python",
   "name": "python",
   "nbconvert_exporter": "python",
   "pygments_lexer": "ipython3",
   "version": "3.8.8"
  }
 },
 "nbformat": 4,
 "nbformat_minor": 5
}
