{
 "cells": [
  {
   "cell_type": "code",
   "execution_count": 1,
   "metadata": {},
   "outputs": [],
   "source": [
    "from IPython import display \n",
    "import os\n",
    "from datetime import datetime\n",
    "import sys\n",
    "import pickle\n",
    "from tqdm import tqdm\n",
    "import itertools\n",
    "import collections\n",
    "from collections import Counter, defaultdict\n",
    "\n",
    "import numpy as np\n",
    "import pandas as pd\n",
    "\n",
    "import plotly\n",
    "import plotly.express as px\n",
    "import plotly.graph_objects as go\n",
    "\n",
    "# Custom import\n",
    "sys.path.append(\"../viz/\")\n",
    "from generate_distributions_for_data import generate_distribution, calculate_hellinger_distance_between_data_distribution\n",
    "\n",
    "import warnings\n",
    "warnings.filterwarnings('ignore')"
   ]
  },
  {
   "cell_type": "code",
   "execution_count": 2,
   "metadata": {},
   "outputs": [],
   "source": [
    "alpha_items_df = pd.read_csv(\"../data/non-anonymous/alphabay/items.csv\", error_bad_lines=False, \n",
    "                    lineterminator='\\n', usecols=['marketplace', 'title', 'vendor', 'last_observed', 'prediction', 'ships_to', 'ships_from', 'description']).drop_duplicates()\n",
    "alpha_feedback_df = pd.read_csv(\"../data/non-anonymous/alphabay/feedbacks.csv\", error_bad_lines=False, \n",
    "                    lineterminator='\\n', usecols=['reciever', 'order_title', 'order_amount_usd'])\n",
    "alpha_feedback_df.columns = ['vendor', 'title', 'order_amount_usd']\n",
    "alpha_df = alpha_items_df.merge(alpha_feedback_df, how = 'inner', on = ['title', 'vendor'])\n",
    "\n",
    "dreams_items_df = pd.read_csv(\"../data/non-anonymous/dream/items.csv\", error_bad_lines=False, \n",
    "                    lineterminator='\\n', usecols=['marketplace', 'title', 'vendor', 'last_observed', 'prediction', 'ships_to', 'ships_from', 'description']).drop_duplicates()\n",
    "dreams_feedback_df = pd.read_csv(\"../data/non-anonymous/dream/feedbacks.csv\", error_bad_lines=False, \n",
    "                    lineterminator='\\n', usecols=['reciever', 'order_title', 'order_amount_usd'])\n",
    "dreams_feedback_df.columns = ['vendor', 'title', 'order_amount_usd']\n",
    "dreams_df = dreams_items_df.merge(dreams_feedback_df, how = 'inner', on = ['title', 'vendor'])\n",
    "\n",
    "silk_df = pd.read_csv(\"../data/non-anonymous/silk-road/items.csv\", error_bad_lines=False, \n",
    "                    lineterminator='\\n', usecols=['marketplace', 'date', 'title', 'seller_id', 'category', 'ship_to', 'ship_from', 'listing_description', 'price_btc']).drop_duplicates()\n",
    "silk_df.columns = ['marketplace' , 'last_observed', 'title', 'prediction', 'order_amount_usd', 'ships_to', 'ships_from', 'vendor', 'description']\n",
    "silk_df['order_amount_usd'] = silk_df['order_amount_usd'].apply(lambda x: x*54.46)"
   ]
  },
  {
   "cell_type": "code",
   "execution_count": 3,
   "metadata": {},
   "outputs": [],
   "source": [
    "alpha_df['last_observed'] = alpha_df['last_observed'].apply(lambda x : str(x).split(\"-\")[0])\n",
    "dreams_df['last_observed'] = dreams_df['last_observed'].apply(lambda x : str(x).split(\"-\")[0])\n",
    "silk_df['last_observed'] = silk_df['last_observed'].apply(lambda x : datetime.fromtimestamp(x).year)"
   ]
  },
  {
   "cell_type": "markdown",
   "metadata": {},
   "source": [
    "# Alphabay dataset"
   ]
  },
  {
   "cell_type": "code",
   "execution_count": 4,
   "metadata": {},
   "outputs": [],
   "source": [
    "alpha_2015 = alpha_df[alpha_df['last_observed']=='2015']\n",
    "alpha_2016 = alpha_df[alpha_df['last_observed']=='2016']\n",
    "alpha_2017 = alpha_df[alpha_df['last_observed']=='2017']"
   ]
  },
  {
   "cell_type": "code",
   "execution_count": 7,
   "metadata": {},
   "outputs": [
    {
     "name": "stdout",
     "output_type": "stream",
     "text": [
      "Total no of shared vendors :  620\n"
     ]
    }
   ],
   "source": [
    "alpha_2015_vendor = alpha_2015.vendor.unique()\n",
    "alpha_2016_vendor = alpha_2016.vendor.unique()\n",
    "alpha_2017_vendor = alpha_2017.vendor.unique()\n",
    "shared_alpha_vendors = set(alpha_2015_vendor) & set(alpha_2016_vendor) & set(alpha_2017_vendor)\n",
    "print(\"Total no of shared vendors : \", len(shared_alpha_vendors))"
   ]
  },
  {
   "cell_type": "code",
   "execution_count": 6,
   "metadata": {},
   "outputs": [],
   "source": [
    "alpha_2015_df_shared = alpha_2015[alpha_2015['vendor'].isin(shared_alpha_vendors)]\n",
    "alpha_2016_df_shared = alpha_2016[alpha_2016['vendor'].isin(shared_alpha_vendors)]\n",
    "alpha_2017_df_shared = alpha_2017[alpha_2017['vendor'].isin(shared_alpha_vendors)] "
   ]
  },
  {
   "cell_type": "code",
   "execution_count": 43,
   "metadata": {},
   "outputs": [
    {
     "name": "stdout",
     "output_type": "stream",
     "text": [
      "Years : ['2017' '2015' '2016']\n"
     ]
    },
    {
     "data": {
      "text/plain": [
       "1263063"
      ]
     },
     "execution_count": 43,
     "metadata": {},
     "output_type": "execute_result"
    }
   ],
   "source": [
    "print(\"Years :\", alpha_df['last_observed'].unique())\n",
    "alpha_2017.shape[0] + alpha_2015.shape[0]"
   ]
  },
  {
   "cell_type": "markdown",
   "metadata": {},
   "source": [
    "# Dreams dataset"
   ]
  },
  {
   "cell_type": "code",
   "execution_count": 19,
   "metadata": {},
   "outputs": [],
   "source": [
    "dream_df = dreams_df[dreams_df['marketplace']=='Dream']"
   ]
  },
  {
   "cell_type": "code",
   "execution_count": 20,
   "metadata": {},
   "outputs": [
    {
     "name": "stdout",
     "output_type": "stream",
     "text": [
      "Total no of shared vendors :  877\n",
      "Years : ['2017' '2018' '1970']\n"
     ]
    },
    {
     "data": {
      "text/plain": [
       "1509525"
      ]
     },
     "execution_count": 20,
     "metadata": {},
     "output_type": "execute_result"
    }
   ],
   "source": [
    "dream_2017 = dream_df[dream_df['last_observed']=='2017']\n",
    "dream_2018 = dream_df[dream_df['last_observed']=='2018']\n",
    "dream_1970 = dream_df[dream_df['last_observed']=='1970']\n",
    "\n",
    "dream_2017_vendor = dream_2017.vendor.unique()\n",
    "dream_2018_vendor = dream_2018.vendor.unique()\n",
    "dream_1970_vendor = dream_1970.vendor.unique()\n",
    "shared_dream_vendors = set(dream_2017_vendor) & set(dream_2018_vendor)\n",
    "print(\"Total no of shared vendors : \", len(shared_dream_vendors))\n",
    "\n",
    "dream_2017_df_shared = dream_2017[dream_2017['vendor'].isin(shared_dream_vendors)]\n",
    "dream_2018_df_shared = dream_2018[dream_2018['vendor'].isin(shared_dream_vendors)]\n",
    "dream_1970_df_shared = dream_1970[dream_1970['vendor'].isin(shared_dream_vendors)] \n",
    "\n",
    "print(\"Years :\", dream_df['last_observed'].unique())\n",
    "dream_2017.shape[0]+ dream_2018.shape[0]"
   ]
  },
  {
   "cell_type": "markdown",
   "metadata": {},
   "source": [
    "# Valhalla dataset"
   ]
  },
  {
   "cell_type": "code",
   "execution_count": 10,
   "metadata": {},
   "outputs": [],
   "source": [
    "valhalla_df = dreams_df[dreams_df['marketplace']=='Valhalla']"
   ]
  },
  {
   "cell_type": "code",
   "execution_count": 11,
   "metadata": {},
   "outputs": [
    {
     "name": "stdout",
     "output_type": "stream",
     "text": [
      "Years : ['2017']\n"
     ]
    },
    {
     "data": {
      "text/plain": [
       "(20423, 9)"
      ]
     },
     "execution_count": 11,
     "metadata": {},
     "output_type": "execute_result"
    }
   ],
   "source": [
    "print(\"Years :\", valhalla_df['last_observed'].unique())\n",
    "valhalla_df.shape"
   ]
  },
  {
   "cell_type": "markdown",
   "metadata": {},
   "source": [
    "# Traderoute dataset"
   ]
  },
  {
   "cell_type": "code",
   "execution_count": 12,
   "metadata": {},
   "outputs": [],
   "source": [
    "traderoute_df = dreams_df[dreams_df['marketplace']=='Traderoute']"
   ]
  },
  {
   "cell_type": "code",
   "execution_count": 46,
   "metadata": {},
   "outputs": [
    {
     "name": "stdout",
     "output_type": "stream",
     "text": [
      "Total no of shared vendors :  5\n",
      "Years : ['2017' '2016']\n"
     ]
    },
    {
     "data": {
      "text/plain": [
       "265250"
      ]
     },
     "execution_count": 46,
     "metadata": {},
     "output_type": "execute_result"
    }
   ],
   "source": [
    "traderoute_2016 = traderoute_df[traderoute_df['last_observed']=='2016']\n",
    "traderoute_2017 = traderoute_df[traderoute_df['last_observed']=='2017']\n",
    "\n",
    "traderoute_2016_vendor = traderoute_2016.vendor.unique()\n",
    "traderoute_2017_vendor = traderoute_2017.vendor.unique()\n",
    "shared_traderoute_vendors = set(traderoute_2016_vendor) & set(traderoute_2017_vendor)\n",
    "print(\"Total no of shared vendors : \", len(shared_traderoute_vendors))\n",
    "\n",
    "traderoute_2016_df_shared = traderoute_2016[traderoute_2016['vendor'].isin(shared_traderoute_vendors)]\n",
    "traderoute_2017_df_shared = traderoute_2017[traderoute_2017['vendor'].isin(shared_traderoute_vendors)] \n",
    "\n",
    "print(\"Years :\", traderoute_df['last_observed'].unique())\n",
    "traderoute_2016.shape[0] + traderoute_2017.shape[0]"
   ]
  },
  {
   "cell_type": "markdown",
   "metadata": {},
   "source": [
    "# Berlusconi dataset"
   ]
  },
  {
   "cell_type": "code",
   "execution_count": 14,
   "metadata": {},
   "outputs": [],
   "source": [
    "berlusconi_df = dreams_df[dreams_df['marketplace']=='Berlusconi']"
   ]
  },
  {
   "cell_type": "code",
   "execution_count": 47,
   "metadata": {},
   "outputs": [
    {
     "name": "stdout",
     "output_type": "stream",
     "text": [
      "Total no of shared vendors :  68\n",
      "Years : ['2018' '2017']\n"
     ]
    },
    {
     "data": {
      "text/plain": [
       "21656"
      ]
     },
     "execution_count": 47,
     "metadata": {},
     "output_type": "execute_result"
    }
   ],
   "source": [
    "berlusconi_2017 = berlusconi_df[berlusconi_df['last_observed']=='2017']\n",
    "berlusconi_2018 = berlusconi_df[berlusconi_df['last_observed']=='2018']\n",
    "\n",
    "berlusconi_2017_vendor = berlusconi_2017.vendor.unique()\n",
    "berlusconi_2018_vendor = berlusconi_2018.vendor.unique()\n",
    "shared_berlusconi_vendors = set(berlusconi_2017_vendor) & set(berlusconi_2018_vendor)\n",
    "print(\"Total no of shared vendors : \", len(shared_berlusconi_vendors))\n",
    "\n",
    "berlusconi_2017_df_shared = berlusconi_2017[berlusconi_2017['vendor'].isin(shared_berlusconi_vendors)]\n",
    "berlusconi_2018_df_shared = berlusconi_2018[berlusconi_2018['vendor'].isin(shared_berlusconi_vendors)]\n",
    "\n",
    "print(\"Years :\", berlusconi_df['last_observed'].unique())\n",
    "berlusconi_2017.shape[0] + berlusconi_2018.shape[0]"
   ]
  },
  {
   "cell_type": "markdown",
   "metadata": {},
   "source": [
    "# Silk-Road Dataset"
   ]
  },
  {
   "cell_type": "code",
   "execution_count": 49,
   "metadata": {},
   "outputs": [
    {
     "name": "stdout",
     "output_type": "stream",
     "text": [
      "Total no of shared vendors :  421\n",
      "Years : [2012 2013]\n"
     ]
    },
    {
     "data": {
      "text/plain": [
       "1065801"
      ]
     },
     "execution_count": 49,
     "metadata": {},
     "output_type": "execute_result"
    }
   ],
   "source": [
    "silk_2012 = silk_df[silk_df['last_observed']==2012]\n",
    "silk_2013 = silk_df[silk_df['last_observed']==2013]\n",
    "\n",
    "silk_2012_vendor = silk_2012.vendor.unique()\n",
    "silk_2013_vendor = silk_2013.vendor.unique()\n",
    "shared_silk_vendors = set(silk_2012_vendor) & set(silk_2013_vendor)\n",
    "print(\"Total no of shared vendors : \", len(shared_silk_vendors))\n",
    "\n",
    "silk_2012_df_shared = silk_2012[silk_2012['vendor'].isin(shared_silk_vendors)]\n",
    "silk_2013_df_shared = silk_2013[silk_2013['vendor'].isin(shared_silk_vendors)]\n",
    "\n",
    "print(\"Years :\", silk_df['last_observed'].unique())\n",
    "silk_2012.shape[0] + silk_2013.shape[0]"
   ]
  },
  {
   "cell_type": "markdown",
   "metadata": {},
   "source": [
    "# Generating the stats"
   ]
  },
  {
   "cell_type": "code",
   "execution_count": 59,
   "metadata": {},
   "outputs": [],
   "source": [
    "layer1_market_display_list = ['Alphabay', '', '', 'Dreams', '', '', 'Valhalla', 'Traderoute', '', 'Berlusconi', '', 'Silk-Road 1', '']\n",
    "layer1_market_count_list = [alpha_df.shape[0], '', '', dream_df.shape[0], '', '', valhalla_df.shape[0], traderoute_df.shape[0], '', berlusconi_df.shape[0], '', silk_df.shape[0], '']\n",
    "\n",
    "layer2_year_display_list = ['2015', '2016', '2017', '1970', '2017', '2018', '2017', '2016', '2017', '2017', '2018', '2012','2013']\n",
    "layer2_year_count_list = [alpha_2015.shape[0], alpha_2016.shape[0], alpha_2017.shape[0], dream_1970.shape[0], dream_2017.shape[0], dream_2018.shape[0], valhalla_df.shape[0], traderoute_2016.shape[0], traderoute_2017.shape[0], berlusconi_2017.shape[0], berlusconi_2018.shape[0], silk_2012.shape[0], silk_2013.shape[0]]\n",
    "\n",
    "layer_temp = ['2015-16', '2016-17', '']\n",
    "layer_temp = [1221]\n",
    "\n",
    "layer3_sybil_count_list = [620, '', '', '', 877, '', 0, 5, '', 68, '', 421, '']\n",
    "layer3_year_count_list = [alpha_2015_df_shared.shape[0], alpha_2016_df_shared.shape[0], alpha_2017_df_shared.shape[0], dream_1970_df_shared.shape[0], dream_2017_df_shared.shape[0], dream_2018_df_shared.shape[0], valhalla_df.shape[0], traderoute_2016_df_shared.shape[0], traderoute_2017_df_shared.shape[0], berlusconi_2017_df_shared.shape[0], berlusconi_2018_df_shared.shape[0], silk_2012_df_shared.shape[0], silk_2013_df_shared.shape[0]]"
   ]
  },
  {
   "cell_type": "code",
   "execution_count": 60,
   "metadata": {},
   "outputs": [],
   "source": [
    "df = pd.DataFrame({'MARKET':layer1_market_display_list, 'TOTAL ADS':layer1_market_count_list, 'YEARS':layer2_year_display_list, 'ADS/YEAR':layer2_year_count_list, 'SYBILS':layer3_sybil_count_list, 'SHARED ADS/YEAR':layer3_year_count_list})"
   ]
  },
  {
   "cell_type": "code",
   "execution_count": 35,
   "metadata": {},
   "outputs": [],
   "source": [
    "df['TOTAL ADS'] = df['TOTAL ADS'].fillna(0)\n",
    "df['SYBILS'] = df['SYBILS'].fillna(0)"
   ]
  },
  {
   "cell_type": "code",
   "execution_count": 40,
   "metadata": {},
   "outputs": [
    {
     "data": {
      "application/vnd.plotly.v1+json": {
       "config": {
        "plotlyServerURL": "https://plot.ly"
       },
       "data": [
        {
         "branchvalues": "total",
         "domain": {
          "x": [
           0,
           1
          ],
          "y": [
           0,
           1
          ]
         },
         "hovertemplate": "labels=%{label}<br>count=%{value}<br>parent=%{parent}<br>id=%{id}<extra></extra>",
         "ids": [
          "Dreams/1509526.0/1970/1/877.0/1",
          "Traderoute/265250.0/2016/13/5.0/13",
          "Berlusconi/21656.0/2017/2425/68.0/2051",
          "Traderoute/0.0/2017/265237/0.0/2916",
          "Berlusconi/0.0/2018/19231/0.0/10733",
          "Valhalla/20423.0/2017/20423/0.0/20423",
          "Alphabay/1771258.0/2015/85826/620.0/31525",
          "Silk-Road 1/0.0/2013/491817/0.0/177576",
          "Dreams/0.0/2017/556454/0.0/190285",
          "Alphabay/0.0/2016/508195/0.0/206974",
          "Silk-Road 1/1065801.0/2012/573984/421.0/292000",
          "Alphabay/0.0/2017/1177237/0.0/507488",
          "Dreams/0.0/2018/953071/0.0/614471",
          "Berlusconi/0.0/2018/19231/0.0",
          "Valhalla/20423.0/2017/20423/0.0",
          "Traderoute/0.0/2017/265237/0.0",
          "Silk-Road 1/0.0/2013/491817/0.0",
          "Alphabay/0.0/2016/508195/0.0",
          "Dreams/0.0/2017/556454/0.0",
          "Dreams/0.0/2018/953071/0.0",
          "Alphabay/0.0/2017/1177237/0.0",
          "Traderoute/265250.0/2016/13/5.0",
          "Berlusconi/21656.0/2017/2425/68.0",
          "Silk-Road 1/1065801.0/2012/573984/421.0",
          "Alphabay/1771258.0/2015/85826/620.0",
          "Dreams/1509526.0/1970/1/877.0",
          "Dreams/1509526.0/1970/1",
          "Traderoute/265250.0/2016/13",
          "Berlusconi/21656.0/2017/2425",
          "Berlusconi/0.0/2018/19231",
          "Valhalla/20423.0/2017/20423",
          "Alphabay/1771258.0/2015/85826",
          "Traderoute/0.0/2017/265237",
          "Silk-Road 1/0.0/2013/491817",
          "Alphabay/0.0/2016/508195",
          "Dreams/0.0/2017/556454",
          "Silk-Road 1/1065801.0/2012/573984",
          "Dreams/0.0/2018/953071",
          "Alphabay/0.0/2017/1177237",
          "Dreams/1509526.0/1970",
          "Silk-Road 1/1065801.0/2012",
          "Silk-Road 1/0.0/2013",
          "Alphabay/1771258.0/2015",
          "Alphabay/0.0/2016",
          "Traderoute/265250.0/2016",
          "Alphabay/0.0/2017",
          "Dreams/0.0/2017",
          "Traderoute/0.0/2017",
          "Valhalla/20423.0/2017",
          "Berlusconi/21656.0/2017",
          "Berlusconi/0.0/2018",
          "Dreams/0.0/2018",
          "Alphabay/0.0",
          "Berlusconi/0.0",
          "Dreams/0.0",
          "Silk-Road 1/0.0",
          "Traderoute/0.0",
          "Valhalla/20423.0",
          "Berlusconi/21656.0",
          "Traderoute/265250.0",
          "Silk-Road 1/1065801.0",
          "Dreams/1509526.0",
          "Alphabay/1771258.0",
          "Alphabay",
          "Berlusconi",
          "Dreams",
          "Silk-Road 1",
          "Traderoute",
          "Valhalla"
         ],
         "labels": [
          "1",
          "13",
          "2051",
          "2916",
          "10733",
          "20423",
          "31525",
          "177576",
          "190285",
          "206974",
          "292000",
          "507488",
          "614471",
          "0.0",
          "0.0",
          "0.0",
          "0.0",
          "0.0",
          "0.0",
          "0.0",
          "0.0",
          "5.0",
          "68.0",
          "421.0",
          "620.0",
          "877.0",
          "1",
          "13",
          "2425",
          "19231",
          "20423",
          "85826",
          "265237",
          "491817",
          "508195",
          "556454",
          "573984",
          "953071",
          "1177237",
          "1970",
          "2012",
          "2013",
          "2015",
          "2016",
          "2016",
          "2017",
          "2017",
          "2017",
          "2017",
          "2017",
          "2018",
          "2018",
          "0.0",
          "0.0",
          "0.0",
          "0.0",
          "0.0",
          "20423.0",
          "21656.0",
          "265250.0",
          "1065801.0",
          "1509526.0",
          "1771258.0",
          "Alphabay",
          "Berlusconi",
          "Dreams",
          "Silk-Road 1",
          "Traderoute",
          "Valhalla"
         ],
         "name": "",
         "parents": [
          "Dreams/1509526.0/1970/1/877.0",
          "Traderoute/265250.0/2016/13/5.0",
          "Berlusconi/21656.0/2017/2425/68.0",
          "Traderoute/0.0/2017/265237/0.0",
          "Berlusconi/0.0/2018/19231/0.0",
          "Valhalla/20423.0/2017/20423/0.0",
          "Alphabay/1771258.0/2015/85826/620.0",
          "Silk-Road 1/0.0/2013/491817/0.0",
          "Dreams/0.0/2017/556454/0.0",
          "Alphabay/0.0/2016/508195/0.0",
          "Silk-Road 1/1065801.0/2012/573984/421.0",
          "Alphabay/0.0/2017/1177237/0.0",
          "Dreams/0.0/2018/953071/0.0",
          "Berlusconi/0.0/2018/19231",
          "Valhalla/20423.0/2017/20423",
          "Traderoute/0.0/2017/265237",
          "Silk-Road 1/0.0/2013/491817",
          "Alphabay/0.0/2016/508195",
          "Dreams/0.0/2017/556454",
          "Dreams/0.0/2018/953071",
          "Alphabay/0.0/2017/1177237",
          "Traderoute/265250.0/2016/13",
          "Berlusconi/21656.0/2017/2425",
          "Silk-Road 1/1065801.0/2012/573984",
          "Alphabay/1771258.0/2015/85826",
          "Dreams/1509526.0/1970/1",
          "Dreams/1509526.0/1970",
          "Traderoute/265250.0/2016",
          "Berlusconi/21656.0/2017",
          "Berlusconi/0.0/2018",
          "Valhalla/20423.0/2017",
          "Alphabay/1771258.0/2015",
          "Traderoute/0.0/2017",
          "Silk-Road 1/0.0/2013",
          "Alphabay/0.0/2016",
          "Dreams/0.0/2017",
          "Silk-Road 1/1065801.0/2012",
          "Dreams/0.0/2018",
          "Alphabay/0.0/2017",
          "Dreams/1509526.0",
          "Silk-Road 1/1065801.0",
          "Silk-Road 1/0.0",
          "Alphabay/1771258.0",
          "Alphabay/0.0",
          "Traderoute/265250.0",
          "Alphabay/0.0",
          "Dreams/0.0",
          "Traderoute/0.0",
          "Valhalla/20423.0",
          "Berlusconi/21656.0",
          "Berlusconi/0.0",
          "Dreams/0.0",
          "Alphabay",
          "Berlusconi",
          "Dreams",
          "Silk-Road 1",
          "Traderoute",
          "Valhalla",
          "Berlusconi",
          "Traderoute",
          "Silk-Road 1",
          "Dreams",
          "Alphabay",
          "",
          "",
          "",
          "",
          "",
          ""
         ],
         "type": "sunburst",
         "values": [
          1,
          1,
          1,
          1,
          1,
          1,
          1,
          1,
          1,
          1,
          1,
          1,
          1,
          1,
          1,
          1,
          1,
          1,
          1,
          1,
          1,
          1,
          1,
          1,
          1,
          1,
          1,
          1,
          1,
          1,
          1,
          1,
          1,
          1,
          1,
          1,
          1,
          1,
          1,
          1,
          1,
          1,
          1,
          1,
          1,
          1,
          1,
          1,
          1,
          1,
          1,
          1,
          2,
          1,
          2,
          1,
          1,
          1,
          1,
          1,
          1,
          1,
          1,
          3,
          2,
          3,
          2,
          2,
          1
         ]
        }
       ],
       "layout": {
        "legend": {
         "tracegroupgap": 0
        },
        "margin": {
         "t": 60
        },
        "template": {
         "data": {
          "bar": [
           {
            "error_x": {
             "color": "#2a3f5f"
            },
            "error_y": {
             "color": "#2a3f5f"
            },
            "marker": {
             "line": {
              "color": "#E5ECF6",
              "width": 0.5
             }
            },
            "type": "bar"
           }
          ],
          "barpolar": [
           {
            "marker": {
             "line": {
              "color": "#E5ECF6",
              "width": 0.5
             }
            },
            "type": "barpolar"
           }
          ],
          "carpet": [
           {
            "aaxis": {
             "endlinecolor": "#2a3f5f",
             "gridcolor": "white",
             "linecolor": "white",
             "minorgridcolor": "white",
             "startlinecolor": "#2a3f5f"
            },
            "baxis": {
             "endlinecolor": "#2a3f5f",
             "gridcolor": "white",
             "linecolor": "white",
             "minorgridcolor": "white",
             "startlinecolor": "#2a3f5f"
            },
            "type": "carpet"
           }
          ],
          "choropleth": [
           {
            "colorbar": {
             "outlinewidth": 0,
             "ticks": ""
            },
            "type": "choropleth"
           }
          ],
          "contour": [
           {
            "colorbar": {
             "outlinewidth": 0,
             "ticks": ""
            },
            "colorscale": [
             [
              0,
              "#0d0887"
             ],
             [
              0.1111111111111111,
              "#46039f"
             ],
             [
              0.2222222222222222,
              "#7201a8"
             ],
             [
              0.3333333333333333,
              "#9c179e"
             ],
             [
              0.4444444444444444,
              "#bd3786"
             ],
             [
              0.5555555555555556,
              "#d8576b"
             ],
             [
              0.6666666666666666,
              "#ed7953"
             ],
             [
              0.7777777777777778,
              "#fb9f3a"
             ],
             [
              0.8888888888888888,
              "#fdca26"
             ],
             [
              1,
              "#f0f921"
             ]
            ],
            "type": "contour"
           }
          ],
          "contourcarpet": [
           {
            "colorbar": {
             "outlinewidth": 0,
             "ticks": ""
            },
            "type": "contourcarpet"
           }
          ],
          "heatmap": [
           {
            "colorbar": {
             "outlinewidth": 0,
             "ticks": ""
            },
            "colorscale": [
             [
              0,
              "#0d0887"
             ],
             [
              0.1111111111111111,
              "#46039f"
             ],
             [
              0.2222222222222222,
              "#7201a8"
             ],
             [
              0.3333333333333333,
              "#9c179e"
             ],
             [
              0.4444444444444444,
              "#bd3786"
             ],
             [
              0.5555555555555556,
              "#d8576b"
             ],
             [
              0.6666666666666666,
              "#ed7953"
             ],
             [
              0.7777777777777778,
              "#fb9f3a"
             ],
             [
              0.8888888888888888,
              "#fdca26"
             ],
             [
              1,
              "#f0f921"
             ]
            ],
            "type": "heatmap"
           }
          ],
          "heatmapgl": [
           {
            "colorbar": {
             "outlinewidth": 0,
             "ticks": ""
            },
            "colorscale": [
             [
              0,
              "#0d0887"
             ],
             [
              0.1111111111111111,
              "#46039f"
             ],
             [
              0.2222222222222222,
              "#7201a8"
             ],
             [
              0.3333333333333333,
              "#9c179e"
             ],
             [
              0.4444444444444444,
              "#bd3786"
             ],
             [
              0.5555555555555556,
              "#d8576b"
             ],
             [
              0.6666666666666666,
              "#ed7953"
             ],
             [
              0.7777777777777778,
              "#fb9f3a"
             ],
             [
              0.8888888888888888,
              "#fdca26"
             ],
             [
              1,
              "#f0f921"
             ]
            ],
            "type": "heatmapgl"
           }
          ],
          "histogram": [
           {
            "marker": {
             "colorbar": {
              "outlinewidth": 0,
              "ticks": ""
             }
            },
            "type": "histogram"
           }
          ],
          "histogram2d": [
           {
            "colorbar": {
             "outlinewidth": 0,
             "ticks": ""
            },
            "colorscale": [
             [
              0,
              "#0d0887"
             ],
             [
              0.1111111111111111,
              "#46039f"
             ],
             [
              0.2222222222222222,
              "#7201a8"
             ],
             [
              0.3333333333333333,
              "#9c179e"
             ],
             [
              0.4444444444444444,
              "#bd3786"
             ],
             [
              0.5555555555555556,
              "#d8576b"
             ],
             [
              0.6666666666666666,
              "#ed7953"
             ],
             [
              0.7777777777777778,
              "#fb9f3a"
             ],
             [
              0.8888888888888888,
              "#fdca26"
             ],
             [
              1,
              "#f0f921"
             ]
            ],
            "type": "histogram2d"
           }
          ],
          "histogram2dcontour": [
           {
            "colorbar": {
             "outlinewidth": 0,
             "ticks": ""
            },
            "colorscale": [
             [
              0,
              "#0d0887"
             ],
             [
              0.1111111111111111,
              "#46039f"
             ],
             [
              0.2222222222222222,
              "#7201a8"
             ],
             [
              0.3333333333333333,
              "#9c179e"
             ],
             [
              0.4444444444444444,
              "#bd3786"
             ],
             [
              0.5555555555555556,
              "#d8576b"
             ],
             [
              0.6666666666666666,
              "#ed7953"
             ],
             [
              0.7777777777777778,
              "#fb9f3a"
             ],
             [
              0.8888888888888888,
              "#fdca26"
             ],
             [
              1,
              "#f0f921"
             ]
            ],
            "type": "histogram2dcontour"
           }
          ],
          "mesh3d": [
           {
            "colorbar": {
             "outlinewidth": 0,
             "ticks": ""
            },
            "type": "mesh3d"
           }
          ],
          "parcoords": [
           {
            "line": {
             "colorbar": {
              "outlinewidth": 0,
              "ticks": ""
             }
            },
            "type": "parcoords"
           }
          ],
          "pie": [
           {
            "automargin": true,
            "type": "pie"
           }
          ],
          "scatter": [
           {
            "marker": {
             "colorbar": {
              "outlinewidth": 0,
              "ticks": ""
             }
            },
            "type": "scatter"
           }
          ],
          "scatter3d": [
           {
            "line": {
             "colorbar": {
              "outlinewidth": 0,
              "ticks": ""
             }
            },
            "marker": {
             "colorbar": {
              "outlinewidth": 0,
              "ticks": ""
             }
            },
            "type": "scatter3d"
           }
          ],
          "scattercarpet": [
           {
            "marker": {
             "colorbar": {
              "outlinewidth": 0,
              "ticks": ""
             }
            },
            "type": "scattercarpet"
           }
          ],
          "scattergeo": [
           {
            "marker": {
             "colorbar": {
              "outlinewidth": 0,
              "ticks": ""
             }
            },
            "type": "scattergeo"
           }
          ],
          "scattergl": [
           {
            "marker": {
             "colorbar": {
              "outlinewidth": 0,
              "ticks": ""
             }
            },
            "type": "scattergl"
           }
          ],
          "scattermapbox": [
           {
            "marker": {
             "colorbar": {
              "outlinewidth": 0,
              "ticks": ""
             }
            },
            "type": "scattermapbox"
           }
          ],
          "scatterpolar": [
           {
            "marker": {
             "colorbar": {
              "outlinewidth": 0,
              "ticks": ""
             }
            },
            "type": "scatterpolar"
           }
          ],
          "scatterpolargl": [
           {
            "marker": {
             "colorbar": {
              "outlinewidth": 0,
              "ticks": ""
             }
            },
            "type": "scatterpolargl"
           }
          ],
          "scatterternary": [
           {
            "marker": {
             "colorbar": {
              "outlinewidth": 0,
              "ticks": ""
             }
            },
            "type": "scatterternary"
           }
          ],
          "surface": [
           {
            "colorbar": {
             "outlinewidth": 0,
             "ticks": ""
            },
            "colorscale": [
             [
              0,
              "#0d0887"
             ],
             [
              0.1111111111111111,
              "#46039f"
             ],
             [
              0.2222222222222222,
              "#7201a8"
             ],
             [
              0.3333333333333333,
              "#9c179e"
             ],
             [
              0.4444444444444444,
              "#bd3786"
             ],
             [
              0.5555555555555556,
              "#d8576b"
             ],
             [
              0.6666666666666666,
              "#ed7953"
             ],
             [
              0.7777777777777778,
              "#fb9f3a"
             ],
             [
              0.8888888888888888,
              "#fdca26"
             ],
             [
              1,
              "#f0f921"
             ]
            ],
            "type": "surface"
           }
          ],
          "table": [
           {
            "cells": {
             "fill": {
              "color": "#EBF0F8"
             },
             "line": {
              "color": "white"
             }
            },
            "header": {
             "fill": {
              "color": "#C8D4E3"
             },
             "line": {
              "color": "white"
             }
            },
            "type": "table"
           }
          ]
         },
         "layout": {
          "annotationdefaults": {
           "arrowcolor": "#2a3f5f",
           "arrowhead": 0,
           "arrowwidth": 1
          },
          "autotypenumbers": "strict",
          "coloraxis": {
           "colorbar": {
            "outlinewidth": 0,
            "ticks": ""
           }
          },
          "colorscale": {
           "diverging": [
            [
             0,
             "#8e0152"
            ],
            [
             0.1,
             "#c51b7d"
            ],
            [
             0.2,
             "#de77ae"
            ],
            [
             0.3,
             "#f1b6da"
            ],
            [
             0.4,
             "#fde0ef"
            ],
            [
             0.5,
             "#f7f7f7"
            ],
            [
             0.6,
             "#e6f5d0"
            ],
            [
             0.7,
             "#b8e186"
            ],
            [
             0.8,
             "#7fbc41"
            ],
            [
             0.9,
             "#4d9221"
            ],
            [
             1,
             "#276419"
            ]
           ],
           "sequential": [
            [
             0,
             "#0d0887"
            ],
            [
             0.1111111111111111,
             "#46039f"
            ],
            [
             0.2222222222222222,
             "#7201a8"
            ],
            [
             0.3333333333333333,
             "#9c179e"
            ],
            [
             0.4444444444444444,
             "#bd3786"
            ],
            [
             0.5555555555555556,
             "#d8576b"
            ],
            [
             0.6666666666666666,
             "#ed7953"
            ],
            [
             0.7777777777777778,
             "#fb9f3a"
            ],
            [
             0.8888888888888888,
             "#fdca26"
            ],
            [
             1,
             "#f0f921"
            ]
           ],
           "sequentialminus": [
            [
             0,
             "#0d0887"
            ],
            [
             0.1111111111111111,
             "#46039f"
            ],
            [
             0.2222222222222222,
             "#7201a8"
            ],
            [
             0.3333333333333333,
             "#9c179e"
            ],
            [
             0.4444444444444444,
             "#bd3786"
            ],
            [
             0.5555555555555556,
             "#d8576b"
            ],
            [
             0.6666666666666666,
             "#ed7953"
            ],
            [
             0.7777777777777778,
             "#fb9f3a"
            ],
            [
             0.8888888888888888,
             "#fdca26"
            ],
            [
             1,
             "#f0f921"
            ]
           ]
          },
          "colorway": [
           "#636efa",
           "#EF553B",
           "#00cc96",
           "#ab63fa",
           "#FFA15A",
           "#19d3f3",
           "#FF6692",
           "#B6E880",
           "#FF97FF",
           "#FECB52"
          ],
          "font": {
           "color": "#2a3f5f"
          },
          "geo": {
           "bgcolor": "white",
           "lakecolor": "white",
           "landcolor": "#E5ECF6",
           "showlakes": true,
           "showland": true,
           "subunitcolor": "white"
          },
          "hoverlabel": {
           "align": "left"
          },
          "hovermode": "closest",
          "mapbox": {
           "style": "light"
          },
          "paper_bgcolor": "white",
          "plot_bgcolor": "#E5ECF6",
          "polar": {
           "angularaxis": {
            "gridcolor": "white",
            "linecolor": "white",
            "ticks": ""
           },
           "bgcolor": "#E5ECF6",
           "radialaxis": {
            "gridcolor": "white",
            "linecolor": "white",
            "ticks": ""
           }
          },
          "scene": {
           "xaxis": {
            "backgroundcolor": "#E5ECF6",
            "gridcolor": "white",
            "gridwidth": 2,
            "linecolor": "white",
            "showbackground": true,
            "ticks": "",
            "zerolinecolor": "white"
           },
           "yaxis": {
            "backgroundcolor": "#E5ECF6",
            "gridcolor": "white",
            "gridwidth": 2,
            "linecolor": "white",
            "showbackground": true,
            "ticks": "",
            "zerolinecolor": "white"
           },
           "zaxis": {
            "backgroundcolor": "#E5ECF6",
            "gridcolor": "white",
            "gridwidth": 2,
            "linecolor": "white",
            "showbackground": true,
            "ticks": "",
            "zerolinecolor": "white"
           }
          },
          "shapedefaults": {
           "line": {
            "color": "#2a3f5f"
           }
          },
          "ternary": {
           "aaxis": {
            "gridcolor": "white",
            "linecolor": "white",
            "ticks": ""
           },
           "baxis": {
            "gridcolor": "white",
            "linecolor": "white",
            "ticks": ""
           },
           "bgcolor": "#E5ECF6",
           "caxis": {
            "gridcolor": "white",
            "linecolor": "white",
            "ticks": ""
           }
          },
          "title": {
           "x": 0.05
          },
          "xaxis": {
           "automargin": true,
           "gridcolor": "white",
           "linecolor": "white",
           "ticks": "",
           "title": {
            "standoff": 15
           },
           "zerolinecolor": "white",
           "zerolinewidth": 2
          },
          "yaxis": {
           "automargin": true,
           "gridcolor": "white",
           "linecolor": "white",
           "ticks": "",
           "title": {
            "standoff": 15
           },
           "zerolinecolor": "white",
           "zerolinewidth": 2
          }
         }
        }
       }
      },
      "text/html": [
       "<div>                            <div id=\"95a6b2de-4a85-480f-b55e-3ebca8825174\" class=\"plotly-graph-div\" style=\"height:525px; width:100%;\"></div>            <script type=\"text/javascript\">                require([\"plotly\"], function(Plotly) {                    window.PLOTLYENV=window.PLOTLYENV || {};                                    if (document.getElementById(\"95a6b2de-4a85-480f-b55e-3ebca8825174\")) {                    Plotly.newPlot(                        \"95a6b2de-4a85-480f-b55e-3ebca8825174\",                        [{\"branchvalues\": \"total\", \"domain\": {\"x\": [0.0, 1.0], \"y\": [0.0, 1.0]}, \"hovertemplate\": \"labels=%{label}<br>count=%{value}<br>parent=%{parent}<br>id=%{id}<extra></extra>\", \"ids\": [\"Dreams/1509526.0/1970/1/877.0/1\", \"Traderoute/265250.0/2016/13/5.0/13\", \"Berlusconi/21656.0/2017/2425/68.0/2051\", \"Traderoute/0.0/2017/265237/0.0/2916\", \"Berlusconi/0.0/2018/19231/0.0/10733\", \"Valhalla/20423.0/2017/20423/0.0/20423\", \"Alphabay/1771258.0/2015/85826/620.0/31525\", \"Silk-Road 1/0.0/2013/491817/0.0/177576\", \"Dreams/0.0/2017/556454/0.0/190285\", \"Alphabay/0.0/2016/508195/0.0/206974\", \"Silk-Road 1/1065801.0/2012/573984/421.0/292000\", \"Alphabay/0.0/2017/1177237/0.0/507488\", \"Dreams/0.0/2018/953071/0.0/614471\", \"Berlusconi/0.0/2018/19231/0.0\", \"Valhalla/20423.0/2017/20423/0.0\", \"Traderoute/0.0/2017/265237/0.0\", \"Silk-Road 1/0.0/2013/491817/0.0\", \"Alphabay/0.0/2016/508195/0.0\", \"Dreams/0.0/2017/556454/0.0\", \"Dreams/0.0/2018/953071/0.0\", \"Alphabay/0.0/2017/1177237/0.0\", \"Traderoute/265250.0/2016/13/5.0\", \"Berlusconi/21656.0/2017/2425/68.0\", \"Silk-Road 1/1065801.0/2012/573984/421.0\", \"Alphabay/1771258.0/2015/85826/620.0\", \"Dreams/1509526.0/1970/1/877.0\", \"Dreams/1509526.0/1970/1\", \"Traderoute/265250.0/2016/13\", \"Berlusconi/21656.0/2017/2425\", \"Berlusconi/0.0/2018/19231\", \"Valhalla/20423.0/2017/20423\", \"Alphabay/1771258.0/2015/85826\", \"Traderoute/0.0/2017/265237\", \"Silk-Road 1/0.0/2013/491817\", \"Alphabay/0.0/2016/508195\", \"Dreams/0.0/2017/556454\", \"Silk-Road 1/1065801.0/2012/573984\", \"Dreams/0.0/2018/953071\", \"Alphabay/0.0/2017/1177237\", \"Dreams/1509526.0/1970\", \"Silk-Road 1/1065801.0/2012\", \"Silk-Road 1/0.0/2013\", \"Alphabay/1771258.0/2015\", \"Alphabay/0.0/2016\", \"Traderoute/265250.0/2016\", \"Alphabay/0.0/2017\", \"Dreams/0.0/2017\", \"Traderoute/0.0/2017\", \"Valhalla/20423.0/2017\", \"Berlusconi/21656.0/2017\", \"Berlusconi/0.0/2018\", \"Dreams/0.0/2018\", \"Alphabay/0.0\", \"Berlusconi/0.0\", \"Dreams/0.0\", \"Silk-Road 1/0.0\", \"Traderoute/0.0\", \"Valhalla/20423.0\", \"Berlusconi/21656.0\", \"Traderoute/265250.0\", \"Silk-Road 1/1065801.0\", \"Dreams/1509526.0\", \"Alphabay/1771258.0\", \"Alphabay\", \"Berlusconi\", \"Dreams\", \"Silk-Road 1\", \"Traderoute\", \"Valhalla\"], \"labels\": [\"1\", \"13\", \"2051\", \"2916\", \"10733\", \"20423\", \"31525\", \"177576\", \"190285\", \"206974\", \"292000\", \"507488\", \"614471\", \"0.0\", \"0.0\", \"0.0\", \"0.0\", \"0.0\", \"0.0\", \"0.0\", \"0.0\", \"5.0\", \"68.0\", \"421.0\", \"620.0\", \"877.0\", \"1\", \"13\", \"2425\", \"19231\", \"20423\", \"85826\", \"265237\", \"491817\", \"508195\", \"556454\", \"573984\", \"953071\", \"1177237\", \"1970\", \"2012\", \"2013\", \"2015\", \"2016\", \"2016\", \"2017\", \"2017\", \"2017\", \"2017\", \"2017\", \"2018\", \"2018\", \"0.0\", \"0.0\", \"0.0\", \"0.0\", \"0.0\", \"20423.0\", \"21656.0\", \"265250.0\", \"1065801.0\", \"1509526.0\", \"1771258.0\", \"Alphabay\", \"Berlusconi\", \"Dreams\", \"Silk-Road 1\", \"Traderoute\", \"Valhalla\"], \"name\": \"\", \"parents\": [\"Dreams/1509526.0/1970/1/877.0\", \"Traderoute/265250.0/2016/13/5.0\", \"Berlusconi/21656.0/2017/2425/68.0\", \"Traderoute/0.0/2017/265237/0.0\", \"Berlusconi/0.0/2018/19231/0.0\", \"Valhalla/20423.0/2017/20423/0.0\", \"Alphabay/1771258.0/2015/85826/620.0\", \"Silk-Road 1/0.0/2013/491817/0.0\", \"Dreams/0.0/2017/556454/0.0\", \"Alphabay/0.0/2016/508195/0.0\", \"Silk-Road 1/1065801.0/2012/573984/421.0\", \"Alphabay/0.0/2017/1177237/0.0\", \"Dreams/0.0/2018/953071/0.0\", \"Berlusconi/0.0/2018/19231\", \"Valhalla/20423.0/2017/20423\", \"Traderoute/0.0/2017/265237\", \"Silk-Road 1/0.0/2013/491817\", \"Alphabay/0.0/2016/508195\", \"Dreams/0.0/2017/556454\", \"Dreams/0.0/2018/953071\", \"Alphabay/0.0/2017/1177237\", \"Traderoute/265250.0/2016/13\", \"Berlusconi/21656.0/2017/2425\", \"Silk-Road 1/1065801.0/2012/573984\", \"Alphabay/1771258.0/2015/85826\", \"Dreams/1509526.0/1970/1\", \"Dreams/1509526.0/1970\", \"Traderoute/265250.0/2016\", \"Berlusconi/21656.0/2017\", \"Berlusconi/0.0/2018\", \"Valhalla/20423.0/2017\", \"Alphabay/1771258.0/2015\", \"Traderoute/0.0/2017\", \"Silk-Road 1/0.0/2013\", \"Alphabay/0.0/2016\", \"Dreams/0.0/2017\", \"Silk-Road 1/1065801.0/2012\", \"Dreams/0.0/2018\", \"Alphabay/0.0/2017\", \"Dreams/1509526.0\", \"Silk-Road 1/1065801.0\", \"Silk-Road 1/0.0\", \"Alphabay/1771258.0\", \"Alphabay/0.0\", \"Traderoute/265250.0\", \"Alphabay/0.0\", \"Dreams/0.0\", \"Traderoute/0.0\", \"Valhalla/20423.0\", \"Berlusconi/21656.0\", \"Berlusconi/0.0\", \"Dreams/0.0\", \"Alphabay\", \"Berlusconi\", \"Dreams\", \"Silk-Road 1\", \"Traderoute\", \"Valhalla\", \"Berlusconi\", \"Traderoute\", \"Silk-Road 1\", \"Dreams\", \"Alphabay\", \"\", \"\", \"\", \"\", \"\", \"\"], \"type\": \"sunburst\", \"values\": [1, 1, 1, 1, 1, 1, 1, 1, 1, 1, 1, 1, 1, 1, 1, 1, 1, 1, 1, 1, 1, 1, 1, 1, 1, 1, 1, 1, 1, 1, 1, 1, 1, 1, 1, 1, 1, 1, 1, 1, 1, 1, 1, 1, 1, 1, 1, 1, 1, 1, 1, 1, 2, 1, 2, 1, 1, 1, 1, 1, 1, 1, 1, 3, 2, 3, 2, 2, 1]}],                        {\"legend\": {\"tracegroupgap\": 0}, \"margin\": {\"t\": 60}, \"template\": {\"data\": {\"bar\": [{\"error_x\": {\"color\": \"#2a3f5f\"}, \"error_y\": {\"color\": \"#2a3f5f\"}, \"marker\": {\"line\": {\"color\": \"#E5ECF6\", \"width\": 0.5}}, \"type\": \"bar\"}], \"barpolar\": [{\"marker\": {\"line\": {\"color\": \"#E5ECF6\", \"width\": 0.5}}, \"type\": \"barpolar\"}], \"carpet\": [{\"aaxis\": {\"endlinecolor\": \"#2a3f5f\", \"gridcolor\": \"white\", \"linecolor\": \"white\", \"minorgridcolor\": \"white\", \"startlinecolor\": \"#2a3f5f\"}, \"baxis\": {\"endlinecolor\": \"#2a3f5f\", \"gridcolor\": \"white\", \"linecolor\": \"white\", \"minorgridcolor\": \"white\", \"startlinecolor\": \"#2a3f5f\"}, \"type\": \"carpet\"}], \"choropleth\": [{\"colorbar\": {\"outlinewidth\": 0, \"ticks\": \"\"}, \"type\": \"choropleth\"}], \"contour\": [{\"colorbar\": {\"outlinewidth\": 0, \"ticks\": \"\"}, \"colorscale\": [[0.0, \"#0d0887\"], [0.1111111111111111, \"#46039f\"], [0.2222222222222222, \"#7201a8\"], [0.3333333333333333, \"#9c179e\"], [0.4444444444444444, \"#bd3786\"], [0.5555555555555556, \"#d8576b\"], [0.6666666666666666, \"#ed7953\"], [0.7777777777777778, \"#fb9f3a\"], [0.8888888888888888, \"#fdca26\"], [1.0, \"#f0f921\"]], \"type\": \"contour\"}], \"contourcarpet\": [{\"colorbar\": {\"outlinewidth\": 0, \"ticks\": \"\"}, \"type\": \"contourcarpet\"}], \"heatmap\": [{\"colorbar\": {\"outlinewidth\": 0, \"ticks\": \"\"}, \"colorscale\": [[0.0, \"#0d0887\"], [0.1111111111111111, \"#46039f\"], [0.2222222222222222, \"#7201a8\"], [0.3333333333333333, \"#9c179e\"], [0.4444444444444444, \"#bd3786\"], [0.5555555555555556, \"#d8576b\"], [0.6666666666666666, \"#ed7953\"], [0.7777777777777778, \"#fb9f3a\"], [0.8888888888888888, \"#fdca26\"], [1.0, \"#f0f921\"]], \"type\": \"heatmap\"}], \"heatmapgl\": [{\"colorbar\": {\"outlinewidth\": 0, \"ticks\": \"\"}, \"colorscale\": [[0.0, \"#0d0887\"], [0.1111111111111111, \"#46039f\"], [0.2222222222222222, \"#7201a8\"], [0.3333333333333333, \"#9c179e\"], [0.4444444444444444, \"#bd3786\"], [0.5555555555555556, \"#d8576b\"], [0.6666666666666666, \"#ed7953\"], [0.7777777777777778, \"#fb9f3a\"], [0.8888888888888888, \"#fdca26\"], [1.0, \"#f0f921\"]], \"type\": \"heatmapgl\"}], \"histogram\": [{\"marker\": {\"colorbar\": {\"outlinewidth\": 0, \"ticks\": \"\"}}, \"type\": \"histogram\"}], \"histogram2d\": [{\"colorbar\": {\"outlinewidth\": 0, \"ticks\": \"\"}, \"colorscale\": [[0.0, \"#0d0887\"], [0.1111111111111111, \"#46039f\"], [0.2222222222222222, \"#7201a8\"], [0.3333333333333333, \"#9c179e\"], [0.4444444444444444, \"#bd3786\"], [0.5555555555555556, \"#d8576b\"], [0.6666666666666666, \"#ed7953\"], [0.7777777777777778, \"#fb9f3a\"], [0.8888888888888888, \"#fdca26\"], [1.0, \"#f0f921\"]], \"type\": \"histogram2d\"}], \"histogram2dcontour\": [{\"colorbar\": {\"outlinewidth\": 0, \"ticks\": \"\"}, \"colorscale\": [[0.0, \"#0d0887\"], [0.1111111111111111, \"#46039f\"], [0.2222222222222222, \"#7201a8\"], [0.3333333333333333, \"#9c179e\"], [0.4444444444444444, \"#bd3786\"], [0.5555555555555556, \"#d8576b\"], [0.6666666666666666, \"#ed7953\"], [0.7777777777777778, \"#fb9f3a\"], [0.8888888888888888, \"#fdca26\"], [1.0, \"#f0f921\"]], \"type\": \"histogram2dcontour\"}], \"mesh3d\": [{\"colorbar\": {\"outlinewidth\": 0, \"ticks\": \"\"}, \"type\": \"mesh3d\"}], \"parcoords\": [{\"line\": {\"colorbar\": {\"outlinewidth\": 0, \"ticks\": \"\"}}, \"type\": \"parcoords\"}], \"pie\": [{\"automargin\": true, \"type\": \"pie\"}], \"scatter\": [{\"marker\": {\"colorbar\": {\"outlinewidth\": 0, \"ticks\": \"\"}}, \"type\": \"scatter\"}], \"scatter3d\": [{\"line\": {\"colorbar\": {\"outlinewidth\": 0, \"ticks\": \"\"}}, \"marker\": {\"colorbar\": {\"outlinewidth\": 0, \"ticks\": \"\"}}, \"type\": \"scatter3d\"}], \"scattercarpet\": [{\"marker\": {\"colorbar\": {\"outlinewidth\": 0, \"ticks\": \"\"}}, \"type\": \"scattercarpet\"}], \"scattergeo\": [{\"marker\": {\"colorbar\": {\"outlinewidth\": 0, \"ticks\": \"\"}}, \"type\": \"scattergeo\"}], \"scattergl\": [{\"marker\": {\"colorbar\": {\"outlinewidth\": 0, \"ticks\": \"\"}}, \"type\": \"scattergl\"}], \"scattermapbox\": [{\"marker\": {\"colorbar\": {\"outlinewidth\": 0, \"ticks\": \"\"}}, \"type\": \"scattermapbox\"}], \"scatterpolar\": [{\"marker\": {\"colorbar\": {\"outlinewidth\": 0, \"ticks\": \"\"}}, \"type\": \"scatterpolar\"}], \"scatterpolargl\": [{\"marker\": {\"colorbar\": {\"outlinewidth\": 0, \"ticks\": \"\"}}, \"type\": \"scatterpolargl\"}], \"scatterternary\": [{\"marker\": {\"colorbar\": {\"outlinewidth\": 0, \"ticks\": \"\"}}, \"type\": \"scatterternary\"}], \"surface\": [{\"colorbar\": {\"outlinewidth\": 0, \"ticks\": \"\"}, \"colorscale\": [[0.0, \"#0d0887\"], [0.1111111111111111, \"#46039f\"], [0.2222222222222222, \"#7201a8\"], [0.3333333333333333, \"#9c179e\"], [0.4444444444444444, \"#bd3786\"], [0.5555555555555556, \"#d8576b\"], [0.6666666666666666, \"#ed7953\"], [0.7777777777777778, \"#fb9f3a\"], [0.8888888888888888, \"#fdca26\"], [1.0, \"#f0f921\"]], \"type\": \"surface\"}], \"table\": [{\"cells\": {\"fill\": {\"color\": \"#EBF0F8\"}, \"line\": {\"color\": \"white\"}}, \"header\": {\"fill\": {\"color\": \"#C8D4E3\"}, \"line\": {\"color\": \"white\"}}, \"type\": \"table\"}]}, \"layout\": {\"annotationdefaults\": {\"arrowcolor\": \"#2a3f5f\", \"arrowhead\": 0, \"arrowwidth\": 1}, \"autotypenumbers\": \"strict\", \"coloraxis\": {\"colorbar\": {\"outlinewidth\": 0, \"ticks\": \"\"}}, \"colorscale\": {\"diverging\": [[0, \"#8e0152\"], [0.1, \"#c51b7d\"], [0.2, \"#de77ae\"], [0.3, \"#f1b6da\"], [0.4, \"#fde0ef\"], [0.5, \"#f7f7f7\"], [0.6, \"#e6f5d0\"], [0.7, \"#b8e186\"], [0.8, \"#7fbc41\"], [0.9, \"#4d9221\"], [1, \"#276419\"]], \"sequential\": [[0.0, \"#0d0887\"], [0.1111111111111111, \"#46039f\"], [0.2222222222222222, \"#7201a8\"], [0.3333333333333333, \"#9c179e\"], [0.4444444444444444, \"#bd3786\"], [0.5555555555555556, \"#d8576b\"], [0.6666666666666666, \"#ed7953\"], [0.7777777777777778, \"#fb9f3a\"], [0.8888888888888888, \"#fdca26\"], [1.0, \"#f0f921\"]], \"sequentialminus\": [[0.0, \"#0d0887\"], [0.1111111111111111, \"#46039f\"], [0.2222222222222222, \"#7201a8\"], [0.3333333333333333, \"#9c179e\"], [0.4444444444444444, \"#bd3786\"], [0.5555555555555556, \"#d8576b\"], [0.6666666666666666, \"#ed7953\"], [0.7777777777777778, \"#fb9f3a\"], [0.8888888888888888, \"#fdca26\"], [1.0, \"#f0f921\"]]}, \"colorway\": [\"#636efa\", \"#EF553B\", \"#00cc96\", \"#ab63fa\", \"#FFA15A\", \"#19d3f3\", \"#FF6692\", \"#B6E880\", \"#FF97FF\", \"#FECB52\"], \"font\": {\"color\": \"#2a3f5f\"}, \"geo\": {\"bgcolor\": \"white\", \"lakecolor\": \"white\", \"landcolor\": \"#E5ECF6\", \"showlakes\": true, \"showland\": true, \"subunitcolor\": \"white\"}, \"hoverlabel\": {\"align\": \"left\"}, \"hovermode\": \"closest\", \"mapbox\": {\"style\": \"light\"}, \"paper_bgcolor\": \"white\", \"plot_bgcolor\": \"#E5ECF6\", \"polar\": {\"angularaxis\": {\"gridcolor\": \"white\", \"linecolor\": \"white\", \"ticks\": \"\"}, \"bgcolor\": \"#E5ECF6\", \"radialaxis\": {\"gridcolor\": \"white\", \"linecolor\": \"white\", \"ticks\": \"\"}}, \"scene\": {\"xaxis\": {\"backgroundcolor\": \"#E5ECF6\", \"gridcolor\": \"white\", \"gridwidth\": 2, \"linecolor\": \"white\", \"showbackground\": true, \"ticks\": \"\", \"zerolinecolor\": \"white\"}, \"yaxis\": {\"backgroundcolor\": \"#E5ECF6\", \"gridcolor\": \"white\", \"gridwidth\": 2, \"linecolor\": \"white\", \"showbackground\": true, \"ticks\": \"\", \"zerolinecolor\": \"white\"}, \"zaxis\": {\"backgroundcolor\": \"#E5ECF6\", \"gridcolor\": \"white\", \"gridwidth\": 2, \"linecolor\": \"white\", \"showbackground\": true, \"ticks\": \"\", \"zerolinecolor\": \"white\"}}, \"shapedefaults\": {\"line\": {\"color\": \"#2a3f5f\"}}, \"ternary\": {\"aaxis\": {\"gridcolor\": \"white\", \"linecolor\": \"white\", \"ticks\": \"\"}, \"baxis\": {\"gridcolor\": \"white\", \"linecolor\": \"white\", \"ticks\": \"\"}, \"bgcolor\": \"#E5ECF6\", \"caxis\": {\"gridcolor\": \"white\", \"linecolor\": \"white\", \"ticks\": \"\"}}, \"title\": {\"x\": 0.05}, \"xaxis\": {\"automargin\": true, \"gridcolor\": \"white\", \"linecolor\": \"white\", \"ticks\": \"\", \"title\": {\"standoff\": 15}, \"zerolinecolor\": \"white\", \"zerolinewidth\": 2}, \"yaxis\": {\"automargin\": true, \"gridcolor\": \"white\", \"linecolor\": \"white\", \"ticks\": \"\", \"title\": {\"standoff\": 15}, \"zerolinecolor\": \"white\", \"zerolinewidth\": 2}}}},                        {\"responsive\": true}                    ).then(function(){\n",
       "                            \n",
       "var gd = document.getElementById('95a6b2de-4a85-480f-b55e-3ebca8825174');\n",
       "var x = new MutationObserver(function (mutations, observer) {{\n",
       "        var display = window.getComputedStyle(gd).display;\n",
       "        if (!display || display === 'none') {{\n",
       "            console.log([gd, 'removed!']);\n",
       "            Plotly.purge(gd);\n",
       "            observer.disconnect();\n",
       "        }}\n",
       "}});\n",
       "\n",
       "// Listen for the removal of the full notebook cells\n",
       "var notebookContainer = gd.closest('#notebook-container');\n",
       "if (notebookContainer) {{\n",
       "    x.observe(notebookContainer, {childList: true});\n",
       "}}\n",
       "\n",
       "// Listen for the clearing of the current output cell\n",
       "var outputEl = gd.closest('.output');\n",
       "if (outputEl) {{\n",
       "    x.observe(outputEl, {childList: true});\n",
       "}}\n",
       "\n",
       "                        })                };                });            </script>        </div>"
      ]
     },
     "metadata": {},
     "output_type": "display_data"
    }
   ],
   "source": [
    "fig = px.sunburst(df, path=['MARKET', 'TOTAL ADS', 'YEARS', 'ADS/YEAR', 'SYBILS', 'SHARED ADS/YEAR'])\n",
    "fig.show()"
   ]
  },
  {
   "cell_type": "code",
   "execution_count": 62,
   "metadata": {},
   "outputs": [
    {
     "data": {
      "text/html": [
       "<div>\n",
       "<style scoped>\n",
       "    .dataframe tbody tr th:only-of-type {\n",
       "        vertical-align: middle;\n",
       "    }\n",
       "\n",
       "    .dataframe tbody tr th {\n",
       "        vertical-align: top;\n",
       "    }\n",
       "\n",
       "    .dataframe thead th {\n",
       "        text-align: right;\n",
       "    }\n",
       "</style>\n",
       "<table border=\"1\" class=\"dataframe\">\n",
       "  <thead>\n",
       "    <tr style=\"text-align: right;\">\n",
       "      <th></th>\n",
       "      <th>TOTAL ADS</th>\n",
       "      <th>YEARS</th>\n",
       "      <th>ADS/YEAR</th>\n",
       "      <th>SYBILS</th>\n",
       "      <th>SHARED ADS/YEAR</th>\n",
       "    </tr>\n",
       "    <tr>\n",
       "      <th>MARKET</th>\n",
       "      <th></th>\n",
       "      <th></th>\n",
       "      <th></th>\n",
       "      <th></th>\n",
       "      <th></th>\n",
       "    </tr>\n",
       "  </thead>\n",
       "  <tbody>\n",
       "    <tr>\n",
       "      <th>Alphabay</th>\n",
       "      <td>1771258</td>\n",
       "      <td>2015</td>\n",
       "      <td>85826</td>\n",
       "      <td>620</td>\n",
       "      <td>31525</td>\n",
       "    </tr>\n",
       "    <tr>\n",
       "      <th></th>\n",
       "      <td></td>\n",
       "      <td>2016</td>\n",
       "      <td>508195</td>\n",
       "      <td></td>\n",
       "      <td>206974</td>\n",
       "    </tr>\n",
       "    <tr>\n",
       "      <th></th>\n",
       "      <td></td>\n",
       "      <td>2017</td>\n",
       "      <td>1177237</td>\n",
       "      <td></td>\n",
       "      <td>507488</td>\n",
       "    </tr>\n",
       "    <tr>\n",
       "      <th>Dreams</th>\n",
       "      <td>1509526</td>\n",
       "      <td>1970</td>\n",
       "      <td>1</td>\n",
       "      <td></td>\n",
       "      <td>1</td>\n",
       "    </tr>\n",
       "    <tr>\n",
       "      <th></th>\n",
       "      <td></td>\n",
       "      <td>2017</td>\n",
       "      <td>556454</td>\n",
       "      <td>877</td>\n",
       "      <td>190285</td>\n",
       "    </tr>\n",
       "    <tr>\n",
       "      <th></th>\n",
       "      <td></td>\n",
       "      <td>2018</td>\n",
       "      <td>953071</td>\n",
       "      <td></td>\n",
       "      <td>614471</td>\n",
       "    </tr>\n",
       "    <tr>\n",
       "      <th>Valhalla</th>\n",
       "      <td>20423</td>\n",
       "      <td>2017</td>\n",
       "      <td>20423</td>\n",
       "      <td>0</td>\n",
       "      <td>20423</td>\n",
       "    </tr>\n",
       "    <tr>\n",
       "      <th>Traderoute</th>\n",
       "      <td>265250</td>\n",
       "      <td>2016</td>\n",
       "      <td>13</td>\n",
       "      <td>5</td>\n",
       "      <td>13</td>\n",
       "    </tr>\n",
       "    <tr>\n",
       "      <th></th>\n",
       "      <td></td>\n",
       "      <td>2017</td>\n",
       "      <td>265237</td>\n",
       "      <td></td>\n",
       "      <td>2916</td>\n",
       "    </tr>\n",
       "    <tr>\n",
       "      <th>Berlusconi</th>\n",
       "      <td>21656</td>\n",
       "      <td>2017</td>\n",
       "      <td>2425</td>\n",
       "      <td>68</td>\n",
       "      <td>2051</td>\n",
       "    </tr>\n",
       "    <tr>\n",
       "      <th></th>\n",
       "      <td></td>\n",
       "      <td>2018</td>\n",
       "      <td>19231</td>\n",
       "      <td></td>\n",
       "      <td>10733</td>\n",
       "    </tr>\n",
       "    <tr>\n",
       "      <th>Silk-Road 1</th>\n",
       "      <td>1065801</td>\n",
       "      <td>2012</td>\n",
       "      <td>573984</td>\n",
       "      <td>421</td>\n",
       "      <td>292000</td>\n",
       "    </tr>\n",
       "    <tr>\n",
       "      <th></th>\n",
       "      <td></td>\n",
       "      <td>2013</td>\n",
       "      <td>491817</td>\n",
       "      <td></td>\n",
       "      <td>177576</td>\n",
       "    </tr>\n",
       "  </tbody>\n",
       "</table>\n",
       "</div>"
      ],
      "text/plain": [
       "            TOTAL ADS YEARS  ADS/YEAR SYBILS  SHARED ADS/YEAR\n",
       "MARKET                                                       \n",
       "Alphabay      1771258  2015     85826    620            31525\n",
       "                       2016    508195                  206974\n",
       "                       2017   1177237                  507488\n",
       "Dreams        1509526  1970         1                       1\n",
       "                       2017    556454    877           190285\n",
       "                       2018    953071                  614471\n",
       "Valhalla        20423  2017     20423      0            20423\n",
       "Traderoute     265250  2016        13      5               13\n",
       "                       2017    265237                    2916\n",
       "Berlusconi      21656  2017      2425     68             2051\n",
       "                       2018     19231                   10733\n",
       "Silk-Road 1   1065801  2012    573984    421           292000\n",
       "                       2013    491817                  177576"
      ]
     },
     "execution_count": 62,
     "metadata": {},
     "output_type": "execute_result"
    }
   ],
   "source": [
    "df.set_index('MARKET')"
   ]
  },
  {
   "cell_type": "code",
   "execution_count": 21,
   "metadata": {},
   "outputs": [],
   "source": [
    "alpha_vendors = alpha_df.vendor.unique()\n",
    "dream_vendors = dream_df.vendor.unique()\n",
    "silk_vendors = silk_df.vendor.unique()"
   ]
  },
  {
   "cell_type": "code",
   "execution_count": 37,
   "metadata": {},
   "outputs": [
    {
     "data": {
      "text/html": [
       "<div>\n",
       "<style scoped>\n",
       "    .dataframe tbody tr th:only-of-type {\n",
       "        vertical-align: middle;\n",
       "    }\n",
       "\n",
       "    .dataframe tbody tr th {\n",
       "        vertical-align: top;\n",
       "    }\n",
       "\n",
       "    .dataframe thead th {\n",
       "        text-align: right;\n",
       "    }\n",
       "</style>\n",
       "<table border=\"1\" class=\"dataframe\">\n",
       "  <thead>\n",
       "    <tr style=\"text-align: right;\">\n",
       "      <th></th>\n",
       "      <th>title</th>\n",
       "      <th>description</th>\n",
       "    </tr>\n",
       "  </thead>\n",
       "  <tbody>\n",
       "    <tr>\n",
       "      <th>133430</th>\n",
       "      <td>Generic Levitra - Vardenafil Citrate - 20mg - ...</td>\n",
       "      <td>Generic Levitra - Vardenafil Citrate - 20mg\\r ...</td>\n",
       "    </tr>\n",
       "    <tr>\n",
       "      <th>184081</th>\n",
       "      <td>Seroquel (Quetiapine) 200mg - 100x</td>\n",
       "      <td>Seroquel (Quetiapine) 200mg\\r Temporary availa...</td>\n",
       "    </tr>\n",
       "    <tr>\n",
       "      <th>361327</th>\n",
       "      <td>Zofran (Ondansetron) 4mg + Clonidine 0.1mg Wit...</td>\n",
       "      <td>Zofran (Ondansetron) 4mg\\rClonidine 0.3mg\\r DE...</td>\n",
       "    </tr>\n",
       "    <tr>\n",
       "      <th>368671</th>\n",
       "      <td>SOMA (Carisoprodol) 350mg - ProSoma Brand - 100x</td>\n",
       "      <td>ProSoma  SOMA (Carisoprolol) 350mg\\r DESCRIPTI...</td>\n",
       "    </tr>\n",
       "    <tr>\n",
       "      <th>410503</th>\n",
       "      <td>Seroquel (Quetiapine) 200mg - 200x</td>\n",
       "      <td>Seroquel (Quetiapine) 200mg\\r Temporary availa...</td>\n",
       "    </tr>\n",
       "  </tbody>\n",
       "</table>\n",
       "</div>"
      ],
      "text/plain": [
       "                                                    title  \\\n",
       "133430  Generic Levitra - Vardenafil Citrate - 20mg - ...   \n",
       "184081                 Seroquel (Quetiapine) 200mg - 100x   \n",
       "361327  Zofran (Ondansetron) 4mg + Clonidine 0.1mg Wit...   \n",
       "368671   SOMA (Carisoprodol) 350mg - ProSoma Brand - 100x   \n",
       "410503                 Seroquel (Quetiapine) 200mg - 200x   \n",
       "\n",
       "                                              description  \n",
       "133430  Generic Levitra - Vardenafil Citrate - 20mg\\r ...  \n",
       "184081  Seroquel (Quetiapine) 200mg\\r Temporary availa...  \n",
       "361327  Zofran (Ondansetron) 4mg\\rClonidine 0.3mg\\r DE...  \n",
       "368671  ProSoma  SOMA (Carisoprolol) 350mg\\r DESCRIPTI...  \n",
       "410503  Seroquel (Quetiapine) 200mg\\r Temporary availa...  "
      ]
     },
     "execution_count": 37,
     "metadata": {},
     "output_type": "execute_result"
    }
   ],
   "source": [
    "a = alpha_df[alpha_df['vendor']=='Angelina']\n",
    "a[a['prediction']=='Prescription'][['title','description']].drop_duplicates().head()"
   ]
  },
  {
   "cell_type": "code",
   "execution_count": 38,
   "metadata": {},
   "outputs": [
    {
     "data": {
      "text/html": [
       "<div>\n",
       "<style scoped>\n",
       "    .dataframe tbody tr th:only-of-type {\n",
       "        vertical-align: middle;\n",
       "    }\n",
       "\n",
       "    .dataframe tbody tr th {\n",
       "        vertical-align: top;\n",
       "    }\n",
       "\n",
       "    .dataframe thead th {\n",
       "        text-align: right;\n",
       "    }\n",
       "</style>\n",
       "<table border=\"1\" class=\"dataframe\">\n",
       "  <thead>\n",
       "    <tr style=\"text-align: right;\">\n",
       "      <th></th>\n",
       "      <th>title</th>\n",
       "      <th>description</th>\n",
       "    </tr>\n",
       "  </thead>\n",
       "  <tbody>\n",
       "    <tr>\n",
       "      <th>257193</th>\n",
       "      <td>Gabapentin (Neurontin) - 5 x 300mg</td>\n",
       "      <td>This is a mainstay drug for migraines and Gaba...</td>\n",
       "    </tr>\n",
       "    <tr>\n",
       "      <th>257662</th>\n",
       "      <td>Gabapentin (Neurontin) - 10 x 300mg</td>\n",
       "      <td>This is a mainstay drug for migraines and Gaba...</td>\n",
       "    </tr>\n",
       "    <tr>\n",
       "      <th>258138</th>\n",
       "      <td>Propranolol (Inderal) - Beta-Blocker - 1 x 80mg</td>\n",
       "      <td>Propranolol is a sympatholytic non-selective b...</td>\n",
       "    </tr>\n",
       "    <tr>\n",
       "      <th>258440</th>\n",
       "      <td>Propranolol (Inderal) - Beta-Blocker - 10 x 80mg</td>\n",
       "      <td>Propranolol is a sympatholytic non-selective b...</td>\n",
       "    </tr>\n",
       "    <tr>\n",
       "      <th>260044</th>\n",
       "      <td>Propranolol (Inderal) - Beta-Blocker - 5 x 80mg</td>\n",
       "      <td>Propranolol is a sympatholytic non-selective b...</td>\n",
       "    </tr>\n",
       "  </tbody>\n",
       "</table>\n",
       "</div>"
      ],
      "text/plain": [
       "                                                   title  \\\n",
       "257193                Gabapentin (Neurontin) - 5 x 300mg   \n",
       "257662               Gabapentin (Neurontin) - 10 x 300mg   \n",
       "258138   Propranolol (Inderal) - Beta-Blocker - 1 x 80mg   \n",
       "258440  Propranolol (Inderal) - Beta-Blocker - 10 x 80mg   \n",
       "260044   Propranolol (Inderal) - Beta-Blocker - 5 x 80mg   \n",
       "\n",
       "                                              description  \n",
       "257193  This is a mainstay drug for migraines and Gaba...  \n",
       "257662  This is a mainstay drug for migraines and Gaba...  \n",
       "258138  Propranolol is a sympatholytic non-selective b...  \n",
       "258440  Propranolol is a sympatholytic non-selective b...  \n",
       "260044  Propranolol is a sympatholytic non-selective b...  "
      ]
     },
     "execution_count": 38,
     "metadata": {},
     "output_type": "execute_result"
    }
   ],
   "source": [
    "alpha_2016[alpha_2015['vendor']=='03welle'][['title','description']].drop_duplicates()"
   ]
  },
  {
   "cell_type": "code",
   "execution_count": 39,
   "metadata": {},
   "outputs": [
    {
     "data": {
      "text/html": [
       "<div>\n",
       "<style scoped>\n",
       "    .dataframe tbody tr th:only-of-type {\n",
       "        vertical-align: middle;\n",
       "    }\n",
       "\n",
       "    .dataframe tbody tr th {\n",
       "        vertical-align: top;\n",
       "    }\n",
       "\n",
       "    .dataframe thead th {\n",
       "        text-align: right;\n",
       "    }\n",
       "</style>\n",
       "<table border=\"1\" class=\"dataframe\">\n",
       "  <thead>\n",
       "    <tr style=\"text-align: right;\">\n",
       "      <th></th>\n",
       "      <th>title</th>\n",
       "      <th>description</th>\n",
       "    </tr>\n",
       "  </thead>\n",
       "  <tbody>\n",
       "    <tr>\n",
       "      <th>52171</th>\n",
       "      <td>Zofran and Clonidine Withdrawl Kit - 20x</td>\n",
       "      <td>DESCRIPTION\\r\\n--------------------\\r\\nZofran ...</td>\n",
       "    </tr>\n",
       "    <tr>\n",
       "      <th>207476</th>\n",
       "      <td>Lunesta 3mg - 100x</td>\n",
       "      <td>Generic Lunesta (Eszopiclone) 3mg\\r\\n\\r\\nDESCR...</td>\n",
       "    </tr>\n",
       "    <tr>\n",
       "      <th>589280</th>\n",
       "      <td>SOMA (Carisoprolol) 350mg - 50x</td>\n",
       "      <td>Generic SOMA (Carisoprolol) 350mg\\r\\n\\r\\nDESCR...</td>\n",
       "    </tr>\n",
       "    <tr>\n",
       "      <th>652309</th>\n",
       "      <td>Orlistat (Xenical, weight loss) 120mg  X  200</td>\n",
       "      <td>Generic Orlistat (Xenical, weight loss) 120mg\\...</td>\n",
       "    </tr>\n",
       "    <tr>\n",
       "      <th>663648</th>\n",
       "      <td>SOMA (Carisoprolol) 350mg - 200x</td>\n",
       "      <td>Generic SOMA (Carisoprolol) 350mg\\r\\n\\r\\nDESCR...</td>\n",
       "    </tr>\n",
       "  </tbody>\n",
       "</table>\n",
       "</div>"
      ],
      "text/plain": [
       "                                                title  \\\n",
       "52171        Zofran and Clonidine Withdrawl Kit - 20x   \n",
       "207476                             Lunesta 3mg - 100x   \n",
       "589280                SOMA (Carisoprolol) 350mg - 50x   \n",
       "652309  Orlistat (Xenical, weight loss) 120mg  X  200   \n",
       "663648               SOMA (Carisoprolol) 350mg - 200x   \n",
       "\n",
       "                                              description  \n",
       "52171   DESCRIPTION\\r\\n--------------------\\r\\nZofran ...  \n",
       "207476  Generic Lunesta (Eszopiclone) 3mg\\r\\n\\r\\nDESCR...  \n",
       "589280  Generic SOMA (Carisoprolol) 350mg\\r\\n\\r\\nDESCR...  \n",
       "652309  Generic Orlistat (Xenical, weight loss) 120mg\\...  \n",
       "663648  Generic SOMA (Carisoprolol) 350mg\\r\\n\\r\\nDESCR...  "
      ]
     },
     "execution_count": 39,
     "metadata": {},
     "output_type": "execute_result"
    }
   ],
   "source": [
    "c = dream_df[dream_df['vendor']=='Angelina']\n",
    "c[c['prediction']=='Prescription'][['title','description']].drop_duplicates().head()"
   ]
  },
  {
   "cell_type": "code",
   "execution_count": null,
   "metadata": {},
   "outputs": [],
   "source": []
  }
 ],
 "metadata": {
  "kernelspec": {
   "display_name": "Python 3",
   "language": "python",
   "name": "python3"
  },
  "language_info": {
   "codemirror_mode": {
    "name": "ipython",
    "version": 3
   },
   "file_extension": ".py",
   "mimetype": "text/x-python",
   "name": "python",
   "nbconvert_exporter": "python",
   "pygments_lexer": "ipython3",
   "version": "3.8.5"
  }
 },
 "nbformat": 4,
 "nbformat_minor": 4
}
