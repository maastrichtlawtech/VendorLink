{
 "cells": [
  {
   "cell_type": "markdown",
   "metadata": {},
   "source": [
    "# Importing Libraries"
   ]
  },
  {
   "cell_type": "code",
   "execution_count": 1,
   "metadata": {},
   "outputs": [],
   "source": [
    "import os\n",
    "import re\n",
    "import numpy as np\n",
    "import pandas as pd\n",
    "from pandas import read_excel\n",
    "from tqdm import tqdm\n",
    "import pickle\n",
    "import collections\n",
    "from collections import Counter\n",
    "\n",
    "import emoji\n",
    "import itertools\n",
    "\n",
    "import spacy\n",
    "from spacy_cld import LanguageDetector\n",
    "import contextualSpellCheck\n",
    "\n",
    "import matplotlib.pyplot as plt\n",
    "\n",
    "import plotly\n",
    "import plotly.express as px\n",
    "import plotly.graph_objects as go\n",
    "import plotly.figure_factory as ff\n",
    "\n",
    "import warnings\n",
    "warnings.filterwarnings('ignore')"
   ]
  },
  {
   "cell_type": "code",
   "execution_count": 2,
   "metadata": {},
   "outputs": [],
   "source": [
    "nlp = spacy.load('en_core_web_sm')\n",
    "language_detector = LanguageDetector()\n",
    "nlp.add_pipe(language_detector)"
   ]
  },
  {
   "cell_type": "markdown",
   "metadata": {},
   "source": [
    "# Loading data"
   ]
  },
  {
   "cell_type": "markdown",
   "metadata": {},
   "source": [
    "Alphabay Dataset"
   ]
  },
  {
   "cell_type": "code",
   "execution_count": 3,
   "metadata": {},
   "outputs": [],
   "source": [
    "alpha_listing_df = pd.read_csv(\"../../data/non-anonymous/alphabay/items.csv\", error_bad_lines=False, \n",
    "                      lineterminator='\\n', usecols=['title', 'vendor', 'first_observed', 'last_observed', 'prediction', 'total_sales', 'ships_to', 'ships_from', 'description'])"
   ]
  },
  {
   "cell_type": "code",
   "execution_count": null,
   "metadata": {},
   "outputs": [],
   "source": [
    "alpha_feedback_df = pd.read_csv(\"../../data/non-anonymous/alphabay/feedbacks.csv\", error_bad_lines=False, \n",
    "                      lineterminator='\\n', usecols=['reciever', 'message', 'order_title', 'order_amount_usd'])\n",
    "alpha_feedback_df.columns = ['vendor', 'message', 'title', 'order_amount_usd']"
   ]
  },
  {
   "cell_type": "code",
   "execution_count": null,
   "metadata": {},
   "outputs": [],
   "source": [
    "alphabay_df = alpha_listing_df.merge(alpha_feedback_df, how = 'inner', on = ['title', 'vendor'])"
   ]
  },
  {
   "cell_type": "code",
   "execution_count": null,
   "metadata": {},
   "outputs": [],
   "source": [
    "alphabay_df.to_csv(\"../../data/non-anonymous/alphabay/alphabay.csv\")"
   ]
  },
  {
   "cell_type": "code",
   "execution_count": 7,
   "metadata": {},
   "outputs": [
    {
     "data": {
      "text/plain": [
       "(1771258, 11)"
      ]
     },
     "execution_count": 7,
     "metadata": {},
     "output_type": "execute_result"
    }
   ],
   "source": [
    "alphabay_df.shape"
   ]
  },
  {
   "cell_type": "markdown",
   "metadata": {},
   "source": [
    "Dream (Valhalla) Dataset"
   ]
  },
  {
   "cell_type": "code",
   "execution_count": 6,
   "metadata": {},
   "outputs": [],
   "source": [
    "dreams_listing_df = pd.read_csv(\"../../data/non-anonymous/dream/items.csv\", error_bad_lines=False, \n",
    "                      lineterminator='\\n', usecols=['title', 'vendor', 'first_observed', 'last_observed', 'prediction', 'total_sales', 'ships_to', 'ships_from', 'description'])"
   ]
  },
  {
   "cell_type": "code",
   "execution_count": 7,
   "metadata": {},
   "outputs": [],
   "source": [
    "dreams_feedback_df = pd.read_csv(\"../../data/non-anonymous/dream/feedbacks.csv\", error_bad_lines=False, \n",
    "                      lineterminator='\\n', usecols=['reciever', 'message', 'order_title', 'order_amount_usd'])\n",
    "dreams_feedback_df.columns = ['vendor', 'message', 'title', 'order_amount_usd']"
   ]
  },
  {
   "cell_type": "code",
   "execution_count": 8,
   "metadata": {},
   "outputs": [],
   "source": [
    "dreams_df = dreams_feedback_df.merge(dreams_listing_df, how = 'inner', on = ['title', 'vendor'])"
   ]
  },
  {
   "cell_type": "code",
   "execution_count": 11,
   "metadata": {},
   "outputs": [],
   "source": [
    "dreams_df.to_csv(\"../../data/non-anonymous/alphabay/valhalla.csv\")"
   ]
  },
  {
   "cell_type": "code",
   "execution_count": 12,
   "metadata": {},
   "outputs": [
    {
     "data": {
      "text/plain": [
       "(1816855, 11)"
      ]
     },
     "execution_count": 12,
     "metadata": {},
     "output_type": "execute_result"
    }
   ],
   "source": [
    "dreams_df.shape"
   ]
  },
  {
   "cell_type": "markdown",
   "metadata": {},
   "source": [
    "Silk Road"
   ]
  },
  {
   "cell_type": "code",
   "execution_count": 9,
   "metadata": {},
   "outputs": [],
   "source": [
    "silk_listing_df = pd.read_csv(\"../../data/non-anonymous/silk-road/items.csv\", error_bad_lines=False, \n",
    "                      lineterminator='\\n', usecols=['title', 'seller_id', 'category', 'ship_to', 'ship_from', 'listing_description', 'price_btc'])\n",
    "# silk_listing_df.columns = ['title', 'vendor', 'prediction', 'ships_to', 'ships_from', 'description', 'price_btc']"
   ]
  },
  {
   "cell_type": "code",
   "execution_count": 10,
   "metadata": {},
   "outputs": [],
   "source": [
    "silk_listing_df.columns = ['title', 'prediction', 'price_btc', 'ships_to', 'ships_from', 'vendor', 'description']"
   ]
  },
  {
   "cell_type": "code",
   "execution_count": 11,
   "metadata": {},
   "outputs": [
    {
     "data": {
      "text/plain": [
       "(1109155, 7)"
      ]
     },
     "execution_count": 11,
     "metadata": {},
     "output_type": "execute_result"
    }
   ],
   "source": [
    "silk_listing_df.shape"
   ]
  },
  {
   "cell_type": "code",
   "execution_count": 11,
   "metadata": {},
   "outputs": [],
   "source": [
    "silk_feedback_df = pd.read_csv(\"../../data/non-anonymous/silk-road/feedbacks.csv\", error_bad_lines=False, \n",
    "                      lineterminator='\\n', usecols=['reciever', 'message', 'order_title'])\n",
    "silk_feedback_df.columns = ['vendor', 'message', 'title']"
   ]
  },
  {
   "cell_type": "code",
   "execution_count": 17,
   "metadata": {},
   "outputs": [
    {
     "data": {
      "text/plain": [
       "(10581507, 3)"
      ]
     },
     "execution_count": 17,
     "metadata": {},
     "output_type": "execute_result"
    }
   ],
   "source": [
    "silk_feedback_df.shape"
   ]
  },
  {
   "cell_type": "code",
   "execution_count": null,
   "metadata": {},
   "outputs": [],
   "source": [
    "silk_df = silk_feedback_df.merge(silk_listing_df, how = 'inner', on = ['title', 'vendor'])"
   ]
  },
  {
   "cell_type": "markdown",
   "metadata": {},
   "source": [
    "# Loading processed datasets to generate insights"
   ]
  },
  {
   "cell_type": "code",
   "execution_count": null,
   "metadata": {},
   "outputs": [],
   "source": [
    "import os\n",
    "if not os.path.exists(\"../../plots/non-anonymous\"):\n",
    "    os.makedirs(\"../../plots/non-anonymous\")"
   ]
  },
  {
   "cell_type": "markdown",
   "metadata": {},
   "source": [
    "Alphabay insights"
   ]
  },
  {
   "cell_type": "code",
   "execution_count": null,
   "metadata": {},
   "outputs": [],
   "source": [
    "fig = go.Figure(data=[go.Pie(labels=['Cannabis','Stimulants','Ecstasy','Opioids','Digital Goods','Benzos','Misc',\n",
    "                                    'Other', 'Psychedelics', 'Dissociatives', 'Prescription'],\n",
    "                             values=[25968,15323,9468,6911,17568,5194,3495,5388,6727,1982,4001])])\n",
    "# fig.update_traces(hoverinfo='label+percent', textinfo='value', textfont_size=20, marker=dict(line=dict(color='#000000', width=2)))\n",
    "plotly.offline.plot(fig, filename = os.path.join(\"../../plots/non-anonymous\", \"alphabay.pdf\"), auto_open=False)"
   ]
  },
  {
   "cell_type": "markdown",
   "metadata": {},
   "source": [
    "Valhalla insights"
   ]
  },
  {
   "cell_type": "code",
   "execution_count": null,
   "metadata": {},
   "outputs": [],
   "source": [
    "dream_stats = Counter(dreams_df['prediction'])"
   ]
  },
  {
   "cell_type": "code",
   "execution_count": null,
   "metadata": {},
   "outputs": [],
   "source": [
    "fig = go.Figure(data=[go.Pie(labels=list(dream_stats.keys()),\n",
    "                             values=list(dream_stats.values()))])\n",
    "# fig.update_traces(hoverinfo='label+percent', textinfo='value', textfont_size=20, marker=dict(line=dict(color='#000000', width=2)))\n",
    "plotly.offline.plot(fig, filename = os.path.join(\"../../plots/non-anonymous\", \"valhalla.pdf\"), auto_open=False)"
   ]
  },
  {
   "cell_type": "markdown",
   "metadata": {},
   "source": [
    "Silk Road"
   ]
  },
  {
   "cell_type": "code",
   "execution_count": 21,
   "metadata": {},
   "outputs": [],
   "source": [
    "silk_stats = dict(Counter(silk_listing_df['prediction']).most_common(25))"
   ]
  },
  {
   "cell_type": "code",
   "execution_count": 22,
   "metadata": {},
   "outputs": [
    {
     "data": {
      "text/plain": [
       "'../../plots/non-anonymous/silk.pdf.html'"
      ]
     },
     "execution_count": 22,
     "metadata": {},
     "output_type": "execute_result"
    }
   ],
   "source": [
    "fig = go.Figure(data=[go.Pie(labels=list(silk_stats.keys()),\n",
    "                             values=list(silk_stats.values()))])\n",
    "# fig.update_traces(hoverinfo='label+percent', textinfo='value', textfont_size=20, marker=dict(line=dict(color='#000000', width=2)))\n",
    "plotly.offline.plot(fig, filename = os.path.join(\"../../plots/non-anonymous\", \"silk.pdf\"), auto_open=False)"
   ]
  },
  {
   "cell_type": "markdown",
   "metadata": {},
   "source": [
    "# Looking into the vendor stats"
   ]
  },
  {
   "cell_type": "code",
   "execution_count": 24,
   "metadata": {},
   "outputs": [],
   "source": [
    "alpha_vendors = alphabay_df['vendor'].nunique()\n",
    "dream_vendors = dreams_df['vendor'].nunique()\n",
    "silk_vendors = silk_listing_df['vendor'].nunique()"
   ]
  },
  {
   "cell_type": "code",
   "execution_count": 25,
   "metadata": {},
   "outputs": [],
   "source": [
    "x = [\"Alphabay\", \"Dreams\", \"Silk Board\"]\n",
    "y = [alpha_vendors, dream_vendors, silk_vendors]"
   ]
  },
  {
   "cell_type": "code",
   "execution_count": 28,
   "metadata": {},
   "outputs": [
    {
     "data": {
      "text/plain": [
       "'../../plots/non-anonymous/no_of_vendors.pdf.html'"
      ]
     },
     "execution_count": 28,
     "metadata": {},
     "output_type": "execute_result"
    }
   ],
   "source": [
    "fig = go.Figure()\n",
    "fig.add_bar(x=x,y=y)\n",
    "fig.update_layout(barmode=\"relative\", xaxis_title=\"Markets\", yaxis_title=\"No. of Vendors\")\n",
    "plotly.offline.plot(fig, filename = os.path.join(\"../../plots/non-anonymous\", \"no_of_vendors.pdf\"), auto_open=False)"
   ]
  },
  {
   "cell_type": "markdown",
   "metadata": {},
   "source": [
    "# Sybils in Alphabay and Dreams dataset"
   ]
  },
  {
   "cell_type": "code",
   "execution_count": 16,
   "metadata": {},
   "outputs": [],
   "source": [
    "ad_sybils = set(alphabay_df['vendor'].unique()).intersection(set(dreams_df['vendor'].unique()))\n",
    "ad_sybils = [str(sybil).lower() for sybil in ad_sybils]\n",
    "alpha_dreams = pd.concat([alphabay_df, dreams_df], axis=0).drop(columns=['message'])\n",
    "alpha_dreams.drop_duplicates(inplace=True)"
   ]
  },
  {
   "cell_type": "code",
   "execution_count": null,
   "metadata": {},
   "outputs": [],
   "source": [
    "vendor_list = list(alpha_dreams['vendor'])\n",
    "vendor_list = [str(vendor).lower() for vendor in vendor_list]\n",
    "\n",
    "for index, vendor in enumerate(vendor_list):\n",
    "    if vendor in ad_sybils:\n",
    "        pass\n",
    "    else:\n",
    "        vendor_list[index] = 'others'"
   ]
  },
  {
   "cell_type": "code",
   "execution_count": null,
   "metadata": {},
   "outputs": [],
   "source": [
    "alpha_dreams_stats = dict(Counter(vendor_list))\n",
    "del alpha_dreams_stats['others']\n",
    "alpha_dreams_stats = {k: v for k, v in sorted(alpha_dreams_stats.items(), key=lambda item: item[1], reverse=True)}"
   ]
  },
  {
   "cell_type": "code",
   "execution_count": null,
   "metadata": {},
   "outputs": [],
   "source": [
    "fig = go.Figure()\n",
    "fig.add_bar(x=tuple(alpha_dreams_stats.keys()),y=list(alpha_dreams_stats.values()))\n",
    "fig.update_layout(barmode=\"relative\", xaxis_title=\"Vendors\", yaxis_title=\"No. of advertisements\", title=\"Number of Sybils found: \" + str(len(ad_sybils)))\n",
    "plotly.offline.plot(fig, filename = os.path.join(\"../../plots/non-anonymous\", \"alpha_dreams_sybils.pdf\"), auto_open=False)"
   ]
  },
  {
   "cell_type": "markdown",
   "metadata": {},
   "source": [
    "# Sybils in Alphabay and Silk Road dataset"
   ]
  },
  {
   "cell_type": "code",
   "execution_count": 11,
   "metadata": {},
   "outputs": [],
   "source": [
    "alphabay_df_temp = alphabay_df.copy()\n",
    "alphabay_df_temp.drop(columns=['first_observed', 'last_observed', 'message', 'total_sales'], inplace=True)"
   ]
  },
  {
   "cell_type": "code",
   "execution_count": 12,
   "metadata": {},
   "outputs": [],
   "source": [
    "silk_listing_df['price_btc'] = silk_listing_df['price_btc'].apply(lambda x : float(x*57.95))\n",
    "silk_listing_df.rename(columns={\"price_btc\": \"order_amount_usd\"}, inplace=True)"
   ]
  },
  {
   "cell_type": "code",
   "execution_count": 13,
   "metadata": {},
   "outputs": [],
   "source": [
    "alpha_silk = pd.concat([alphabay_df_temp, silk_listing_df], axis=0)\n",
    "alpha_silk.drop_duplicates(inplace=True)"
   ]
  },
  {
   "cell_type": "code",
   "execution_count": 94,
   "metadata": {},
   "outputs": [],
   "source": [
    "as_sybils = set(alphabay_df['vendor'].unique()).intersection(set(silk_listing_df['vendor'].unique()))\n",
    "as_sybils = [str(sybil).lower() for sybil in as_sybils]"
   ]
  },
  {
   "cell_type": "code",
   "execution_count": 95,
   "metadata": {},
   "outputs": [],
   "source": [
    "vendor_list = list(alpha_silk['vendor'])\n",
    "vendor_list = [str(vendor).lower() for vendor in vendor_list]\n",
    "\n",
    "for index, vendor in enumerate(vendor_list):\n",
    "    if vendor in sybils:\n",
    "        pass\n",
    "    else:\n",
    "        vendor_list[index] = 'others'"
   ]
  },
  {
   "cell_type": "code",
   "execution_count": 96,
   "metadata": {},
   "outputs": [],
   "source": [
    "alpha_silk_stats = dict(Counter(vendor_list))\n",
    "del alpha_silk_stats['others']\n",
    "alpha_silk_stats = {k: v for k, v in sorted(alpha_silk_stats.items(), key=lambda item: item[1], reverse=True)}"
   ]
  },
  {
   "cell_type": "code",
   "execution_count": 97,
   "metadata": {},
   "outputs": [
    {
     "data": {
      "text/plain": [
       "'../../plots/non-anonymous/alpha_silk_sybils.pdf.html'"
      ]
     },
     "execution_count": 97,
     "metadata": {},
     "output_type": "execute_result"
    }
   ],
   "source": [
    "fig = go.Figure()\n",
    "fig.add_bar(x=tuple(alpha_silk_stats.keys()),y=list(alpha_silk_stats.values()))\n",
    "fig.update_layout(barmode=\"relative\", xaxis_title=\"Vendors\", yaxis_title=\"No. of advertisements\", title=\"Number of Sybils found: \" + str(len(as_sybils)))\n",
    "plotly.offline.plot(fig, filename = os.path.join(\"../../plots/non-anonymous\", \"alpha_silk_sybils.pdf\"), auto_open=False)"
   ]
  },
  {
   "cell_type": "markdown",
   "metadata": {},
   "source": [
    "# Sybils in Dreams and Silk Road dataset"
   ]
  },
  {
   "cell_type": "code",
   "execution_count": 14,
   "metadata": {},
   "outputs": [],
   "source": [
    "dreams_df_temp = dreams_df.copy()\n",
    "dreams_df_temp.drop(columns=['first_observed', 'last_observed', 'message', 'total_sales'], inplace=True)"
   ]
  },
  {
   "cell_type": "code",
   "execution_count": 15,
   "metadata": {},
   "outputs": [],
   "source": [
    "dreams_silk = pd.concat([dreams_df_temp, silk_listing_df], axis=0)\n",
    "dreams_silk.drop_duplicates(inplace=True)"
   ]
  },
  {
   "cell_type": "code",
   "execution_count": 19,
   "metadata": {},
   "outputs": [],
   "source": [
    "ds_sybils = set(dreams_df['vendor'].unique()).intersection(set(silk_listing_df['vendor'].unique()))\n",
    "ds_sybils = [str(sybil).lower() for sybil in ds_sybils]"
   ]
  },
  {
   "cell_type": "code",
   "execution_count": 100,
   "metadata": {},
   "outputs": [],
   "source": [
    "vendor_list = list(dreams_silk['vendor'])\n",
    "vendor_list = [str(vendor).lower() for vendor in vendor_list]\n",
    "\n",
    "for index, vendor in enumerate(vendor_list):\n",
    "    if vendor in sybils:\n",
    "        pass\n",
    "    else:\n",
    "        vendor_list[index] = 'others'"
   ]
  },
  {
   "cell_type": "code",
   "execution_count": 101,
   "metadata": {},
   "outputs": [],
   "source": [
    "dreams_silk_stats = dict(Counter(vendor_list))\n",
    "del dreams_silk_stats['others']\n",
    "dreams_silk_stats = {k: v for k, v in sorted(dreams_silk_stats.items(), key=lambda item: item[1], reverse=True)}"
   ]
  },
  {
   "cell_type": "code",
   "execution_count": 103,
   "metadata": {},
   "outputs": [
    {
     "data": {
      "text/plain": [
       "'../../plots/non-anonymous/dreams_silk_sybils.pdf.html'"
      ]
     },
     "execution_count": 103,
     "metadata": {},
     "output_type": "execute_result"
    }
   ],
   "source": [
    "fig = go.Figure()\n",
    "fig.add_bar(x=tuple(alpha_silk_stats.keys()),y=list(alpha_silk_stats.values()))\n",
    "fig.update_layout(barmode=\"relative\", xaxis_title=\"Vendors\", yaxis_title=\"No. of advertisements\", title=\"Number of Sybils found: \" + str(len(ds_sybils)))\n",
    "plotly.offline.plot(fig, filename = os.path.join(\"../../plots/non-anonymous\", \"dreams_silk_sybils.pdf\"), auto_open=False)"
   ]
  },
  {
   "cell_type": "markdown",
   "metadata": {},
   "source": [
    "# Checking the title and description stats in each of the 3 sybil datasets"
   ]
  },
  {
   "cell_type": "markdown",
   "metadata": {},
   "source": [
    "Alpha-Dreams dataset"
   ]
  },
  {
   "cell_type": "code",
   "execution_count": 17,
   "metadata": {},
   "outputs": [],
   "source": [
    "title_len = list(alpha_dreams['title'])\n",
    "description_len = list(alpha_dreams['description'])\n",
    "\n",
    "title_len = [str(title).lower().split(\" \") for title in title_len]\n",
    "description_len = [str(description).lower().split(\" \") for description in description_len]"
   ]
  },
  {
   "cell_type": "code",
   "execution_count": 18,
   "metadata": {},
   "outputs": [],
   "source": [
    "title_len = [len(title) for title in title_len]\n",
    "description_len = [len(description) for description in description_len]"
   ]
  },
  {
   "cell_type": "code",
   "execution_count": null,
   "metadata": {},
   "outputs": [],
   "source": [
    "fig = ff.create_distplot([title_len], ['title'], show_hist=False, colors=['slategray'])\n",
    "fig.update_layout(xaxis_title=\"Titles\", yaxis_title=\"Length\", title=\"Title distribution with an average length of \" + str(np.mean(title_len)))\n",
    "plotly.offline.plot(fig, filename = os.path.join(\"../../plots/non-anonymous\", \"alpha_dream_title.pdf\"), auto_open=False)"
   ]
  },
  {
   "cell_type": "code",
   "execution_count": null,
   "metadata": {},
   "outputs": [],
   "source": [
    "fig = ff.create_distplot([description_len], ['description'], show_hist=False, colors=['slategray'])\n",
    "fig.update_layout(xaxis_title=\"Descriptions\", yaxis_title=\"Length\", title=\"Description distribution with an average length of \" + str(np.mean(description_len)))\n",
    "plotly.offline.plot(fig, filename = os.path.join(\"../../plots/non-anonymous\", \"alpha_dream_description.pdf\"), auto_open=False)"
   ]
  },
  {
   "cell_type": "markdown",
   "metadata": {},
   "source": [
    "Alpha-Silk dataset"
   ]
  },
  {
   "cell_type": "code",
   "execution_count": 14,
   "metadata": {},
   "outputs": [],
   "source": [
    "title_len = list(alpha_silk['title'])\n",
    "description_len = list(alpha_silk['description'])\n",
    "title_len = [str(title).lower().split(\" \") for title in title_len]\n",
    "description_len = [str(description).lower().split(\" \") for description in description_len]\n",
    "title_len = [len(title) for title in title_len]\n",
    "description_len = [len(description) for description in description_len]"
   ]
  },
  {
   "cell_type": "code",
   "execution_count": 15,
   "metadata": {},
   "outputs": [],
   "source": [
    "\n"
   ]
  },
  {
   "cell_type": "code",
   "execution_count": 17,
   "metadata": {},
   "outputs": [
    {
     "data": {
      "text/html": [
       "<div>\n",
       "<style scoped>\n",
       "    .dataframe tbody tr th:only-of-type {\n",
       "        vertical-align: middle;\n",
       "    }\n",
       "\n",
       "    .dataframe tbody tr th {\n",
       "        vertical-align: top;\n",
       "    }\n",
       "\n",
       "    .dataframe thead th {\n",
       "        text-align: right;\n",
       "    }\n",
       "</style>\n",
       "<table border=\"1\" class=\"dataframe\">\n",
       "  <thead>\n",
       "    <tr style=\"text-align: right;\">\n",
       "      <th></th>\n",
       "      <th>vendor</th>\n",
       "      <th>title</th>\n",
       "      <th>order_amount_usd</th>\n",
       "      <th>prediction</th>\n",
       "      <th>ships_to</th>\n",
       "      <th>ships_from</th>\n",
       "      <th>description</th>\n",
       "    </tr>\n",
       "  </thead>\n",
       "  <tbody>\n",
       "    <tr>\n",
       "      <th>0</th>\n",
       "      <td>DreamWeaver</td>\n",
       "      <td>2.5g Jack Herer | UK Vendor | Free UK post</td>\n",
       "      <td>35.3700</td>\n",
       "      <td>Cannabis</td>\n",
       "      <td>Worldwide</td>\n",
       "      <td>United Kingdom</td>\n",
       "      <td>\\nSCANDINAVIAN CUSTOMERS - Please, read out T&amp;...</td>\n",
       "    </tr>\n",
       "    <tr>\n",
       "      <th>1</th>\n",
       "      <td>DreamWeaver</td>\n",
       "      <td>2.5g Jack Herer | UK Vendor | Free UK post</td>\n",
       "      <td>35.3700</td>\n",
       "      <td>Cannabis</td>\n",
       "      <td>Worldwide</td>\n",
       "      <td>United Kingdom</td>\n",
       "      <td>We would like to introduce the newest product ...</td>\n",
       "    </tr>\n",
       "    <tr>\n",
       "      <th>10</th>\n",
       "      <td>DreamWeaver</td>\n",
       "      <td>2.5g Jack Herer | UK Vendor | Free UK post</td>\n",
       "      <td>34.9700</td>\n",
       "      <td>Cannabis</td>\n",
       "      <td>Worldwide</td>\n",
       "      <td>United Kingdom</td>\n",
       "      <td>\\nSCANDINAVIAN CUSTOMERS - Please, read out T&amp;...</td>\n",
       "    </tr>\n",
       "    <tr>\n",
       "      <th>11</th>\n",
       "      <td>DreamWeaver</td>\n",
       "      <td>2.5g Jack Herer | UK Vendor | Free UK post</td>\n",
       "      <td>34.9700</td>\n",
       "      <td>Cannabis</td>\n",
       "      <td>Worldwide</td>\n",
       "      <td>United Kingdom</td>\n",
       "      <td>We would like to introduce the newest product ...</td>\n",
       "    </tr>\n",
       "    <tr>\n",
       "      <th>14</th>\n",
       "      <td>DreamWeaver</td>\n",
       "      <td>2.5g Jack Herer | UK Vendor | Free UK post</td>\n",
       "      <td>35.2000</td>\n",
       "      <td>Cannabis</td>\n",
       "      <td>Worldwide</td>\n",
       "      <td>United Kingdom</td>\n",
       "      <td>\\nSCANDINAVIAN CUSTOMERS - Please, read out T&amp;...</td>\n",
       "    </tr>\n",
       "    <tr>\n",
       "      <th>...</th>\n",
       "      <td>...</td>\n",
       "      <td>...</td>\n",
       "      <td>...</td>\n",
       "      <td>...</td>\n",
       "      <td>...</td>\n",
       "      <td>...</td>\n",
       "      <td>...</td>\n",
       "    </tr>\n",
       "    <tr>\n",
       "      <th>1109146</th>\n",
       "      <td>Halfway Crooks</td>\n",
       "      <td>1G - Strawberry Cheesecake- Next Day Delivery</td>\n",
       "      <td>16.2260</td>\n",
       "      <td>Yubikeys</td>\n",
       "      <td>United Kingdom</td>\n",
       "      <td>United Kingdom</td>\n",
       "      <td>Genetics: Chronic x Cheese Variety: Mostly Ind...</td>\n",
       "    </tr>\n",
       "    <tr>\n",
       "      <th>1109147</th>\n",
       "      <td>Space Factory</td>\n",
       "      <td>Speed 5G</td>\n",
       "      <td>66.0630</td>\n",
       "      <td>Yubikeys</td>\n",
       "      <td>Netherlands</td>\n",
       "      <td>Worldwide except USA</td>\n",
       "      <td>â–¡â– â– â– â– â– â–¡â–¡â–¡ â– â– â–¡â–¡â–¡â–¡...</td>\n",
       "    </tr>\n",
       "    <tr>\n",
       "      <th>1109149</th>\n",
       "      <td>IceIceIce</td>\n",
       "      <td>Ò³Ì¸Ò²Ì¸Ò³ 1.75g High Quality Chinese Ice/Meth...</td>\n",
       "      <td>494.3135</td>\n",
       "      <td>Yubikeys</td>\n",
       "      <td>Australia</td>\n",
       "      <td>Australia</td>\n",
       "      <td>â–ˆâ–€â–€â–€â–€â–€â–€â–€â–€â–€â–€â–€â–€â–€â–€â...</td>\n",
       "    </tr>\n",
       "    <tr>\n",
       "      <th>1109152</th>\n",
       "      <td>namedeclined</td>\n",
       "      <td>â™” Forged Service Dog ID / Fake Guide Dog ID ...</td>\n",
       "      <td>24.9185</td>\n",
       "      <td>Yubikeys</td>\n",
       "      <td>United States of America</td>\n",
       "      <td>Worldwide</td>\n",
       "      <td>This listing is for a forged / fake United Sta...</td>\n",
       "    </tr>\n",
       "    <tr>\n",
       "      <th>1109154</th>\n",
       "      <td>PharmacyCrowd</td>\n",
       "      <td>TRAMADOL 100mg ( 50st tabletter)</td>\n",
       "      <td>76.4940</td>\n",
       "      <td>Yubikeys</td>\n",
       "      <td>Sweden</td>\n",
       "      <td>Sweden</td>\n",
       "      <td>50st tabletter TRAMAJACK Tramadol 100mg 10st i...</td>\n",
       "    </tr>\n",
       "  </tbody>\n",
       "</table>\n",
       "<p>841374 rows × 7 columns</p>\n",
       "</div>"
      ],
      "text/plain": [
       "                 vendor                                              title  \\\n",
       "0           DreamWeaver         2.5g Jack Herer | UK Vendor | Free UK post   \n",
       "1           DreamWeaver         2.5g Jack Herer | UK Vendor | Free UK post   \n",
       "10          DreamWeaver         2.5g Jack Herer | UK Vendor | Free UK post   \n",
       "11          DreamWeaver         2.5g Jack Herer | UK Vendor | Free UK post   \n",
       "14          DreamWeaver         2.5g Jack Herer | UK Vendor | Free UK post   \n",
       "...                 ...                                                ...   \n",
       "1109146  Halfway Crooks      1G - Strawberry Cheesecake- Next Day Delivery   \n",
       "1109147   Space Factory                                           Speed 5G   \n",
       "1109149       IceIceIce  Ò³Ì¸Ò²Ì¸Ò³ 1.75g High Quality Chinese Ice/Meth...   \n",
       "1109152    namedeclined  â™” Forged Service Dog ID / Fake Guide Dog ID ...   \n",
       "1109154   PharmacyCrowd                   TRAMADOL 100mg ( 50st tabletter)   \n",
       "\n",
       "         order_amount_usd prediction                  ships_to  \\\n",
       "0                 35.3700   Cannabis                 Worldwide   \n",
       "1                 35.3700   Cannabis                 Worldwide   \n",
       "10                34.9700   Cannabis                 Worldwide   \n",
       "11                34.9700   Cannabis                 Worldwide   \n",
       "14                35.2000   Cannabis                 Worldwide   \n",
       "...                   ...        ...                       ...   \n",
       "1109146           16.2260   Yubikeys            United Kingdom   \n",
       "1109147           66.0630   Yubikeys               Netherlands   \n",
       "1109149          494.3135   Yubikeys                 Australia   \n",
       "1109152           24.9185   Yubikeys  United States of America   \n",
       "1109154           76.4940   Yubikeys                    Sweden   \n",
       "\n",
       "                   ships_from  \\\n",
       "0             United Kingdom    \n",
       "1              United Kingdom   \n",
       "10            United Kingdom    \n",
       "11             United Kingdom   \n",
       "14            United Kingdom    \n",
       "...                       ...   \n",
       "1109146        United Kingdom   \n",
       "1109147  Worldwide except USA   \n",
       "1109149             Australia   \n",
       "1109152             Worldwide   \n",
       "1109154                Sweden   \n",
       "\n",
       "                                               description  \n",
       "0        \\nSCANDINAVIAN CUSTOMERS - Please, read out T&...  \n",
       "1        We would like to introduce the newest product ...  \n",
       "10       \\nSCANDINAVIAN CUSTOMERS - Please, read out T&...  \n",
       "11       We would like to introduce the newest product ...  \n",
       "14       \\nSCANDINAVIAN CUSTOMERS - Please, read out T&...  \n",
       "...                                                    ...  \n",
       "1109146  Genetics: Chronic x Cheese Variety: Mostly Ind...  \n",
       "1109147  â–¡â– â– â– â– â– â–¡â–¡â–¡ â– â– â–¡â–¡â–¡â–¡...  \n",
       "1109149  â–ˆâ–€â–€â–€â–€â–€â–€â–€â–€â–€â–€â–€â–€â–€â–€â...  \n",
       "1109152  This listing is for a forged / fake United Sta...  \n",
       "1109154  50st tabletter TRAMAJACK Tramadol 100mg 10st i...  \n",
       "\n",
       "[841374 rows x 7 columns]"
      ]
     },
     "execution_count": 17,
     "metadata": {},
     "output_type": "execute_result"
    }
   ],
   "source": [
    "dreams_silk"
   ]
  },
  {
   "cell_type": "code",
   "execution_count": null,
   "metadata": {},
   "outputs": [],
   "source": []
  },
  {
   "cell_type": "code",
   "execution_count": 17,
   "metadata": {},
   "outputs": [],
   "source": [
    "title_len = [len(title) for title in title_len]\n"
   ]
  },
  {
   "cell_type": "code",
   "execution_count": 18,
   "metadata": {},
   "outputs": [
    {
     "ename": "TypeError",
     "evalue": "object of type 'float' has no len()",
     "output_type": "error",
     "traceback": [
      "\u001b[0;31m---------------------------------------------------------------------------\u001b[0m",
      "\u001b[0;31mTypeError\u001b[0m                                 Traceback (most recent call last)",
      "\u001b[0;32m<ipython-input-18-0f0b067421ac>\u001b[0m in \u001b[0;36m<module>\u001b[0;34m\u001b[0m\n\u001b[0;32m----> 1\u001b[0;31m \u001b[0mdescription_len\u001b[0m \u001b[0;34m=\u001b[0m \u001b[0;34m[\u001b[0m\u001b[0mlen\u001b[0m\u001b[0;34m(\u001b[0m\u001b[0mdescription\u001b[0m\u001b[0;34m)\u001b[0m \u001b[0;32mfor\u001b[0m \u001b[0mdescription\u001b[0m \u001b[0;32min\u001b[0m \u001b[0mdescription_len\u001b[0m\u001b[0;34m]\u001b[0m\u001b[0;34m\u001b[0m\u001b[0;34m\u001b[0m\u001b[0m\n\u001b[0m",
      "\u001b[0;32m<ipython-input-18-0f0b067421ac>\u001b[0m in \u001b[0;36m<listcomp>\u001b[0;34m(.0)\u001b[0m\n\u001b[0;32m----> 1\u001b[0;31m \u001b[0mdescription_len\u001b[0m \u001b[0;34m=\u001b[0m \u001b[0;34m[\u001b[0m\u001b[0mlen\u001b[0m\u001b[0;34m(\u001b[0m\u001b[0mdescription\u001b[0m\u001b[0;34m)\u001b[0m \u001b[0;32mfor\u001b[0m \u001b[0mdescription\u001b[0m \u001b[0;32min\u001b[0m \u001b[0mdescription_len\u001b[0m\u001b[0;34m]\u001b[0m\u001b[0;34m\u001b[0m\u001b[0;34m\u001b[0m\u001b[0m\n\u001b[0m",
      "\u001b[0;31mTypeError\u001b[0m: object of type 'float' has no len()"
     ]
    }
   ],
   "source": [
    "description_len = [len(description) for description in description_len]"
   ]
  },
  {
   "cell_type": "code",
   "execution_count": null,
   "metadata": {},
   "outputs": [],
   "source": []
  }
 ],
 "metadata": {
  "kernelspec": {
   "display_name": "Python 3",
   "language": "python",
   "name": "python3"
  },
  "language_info": {
   "codemirror_mode": {
    "name": "ipython",
    "version": 3
   },
   "file_extension": ".py",
   "mimetype": "text/x-python",
   "name": "python",
   "nbconvert_exporter": "python",
   "pygments_lexer": "ipython3",
   "version": "3.8.5"
  }
 },
 "nbformat": 4,
 "nbformat_minor": 4
}
