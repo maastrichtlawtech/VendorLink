{
 "cells": [
  {
   "cell_type": "markdown",
   "metadata": {},
   "source": [
    "# Importing Libraries"
   ]
  },
  {
   "cell_type": "code",
   "execution_count": 9,
   "metadata": {},
   "outputs": [
    {
     "output_type": "stream",
     "name": "stdout",
     "text": [
      "Downloading emoji data ...\n",
      "... OK (Got response in 0.59 seconds)\n",
      "Writing emoji data to /home/vageesh/.demoji/codes.json ...\n",
      "... OK\n"
     ]
    }
   ],
   "source": [
    "import os\n",
    "import re\n",
    "import numpy as np\n",
    "import pandas as pd\n",
    "from pandas import read_excel\n",
    "from tqdm import tqdm\n",
    "import pickle\n",
    "import collections\n",
    "from collections import Counter\n",
    "\n",
    "import emoji\n",
    "import demoji\n",
    "demoji.download_codes()\n",
    "import itertools\n",
    "\n",
    "import spacy\n",
    "from spacy_cld import LanguageDetector\n",
    "import contextualSpellCheck\n",
    "\n",
    "import matplotlib.pyplot as plt\n",
    "\n",
    "import plotly\n",
    "import plotly.express as px\n",
    "import plotly.graph_objects as go\n",
    "import plotly.figure_factory as ff\n",
    "\n",
    "import warnings\n",
    "warnings.filterwarnings('ignore')"
   ]
  },
  {
   "cell_type": "code",
   "execution_count": 10,
   "metadata": {},
   "outputs": [],
   "source": [
    "nlp = spacy.load('en_core_web_sm')\n",
    "language_detector = LanguageDetector()\n",
    "nlp.add_pipe(language_detector)"
   ]
  },
  {
   "cell_type": "markdown",
   "metadata": {},
   "source": [
    "# Loading data"
   ]
  },
  {
   "cell_type": "markdown",
   "metadata": {},
   "source": [
    "Alphabay Dataset"
   ]
  },
  {
   "cell_type": "code",
   "execution_count": 11,
   "metadata": {},
   "outputs": [],
   "source": [
    "alpha_listing_df = pd.read_csv(\"../../data/non-anonymous/alphabay/items.csv\", error_bad_lines=False, \n",
    "                      lineterminator='\\n', usecols=['title', 'vendor', 'first_observed', 'last_observed', 'prediction', 'total_sales', 'ships_to', 'ships_from', 'description'])"
   ]
  },
  {
   "cell_type": "code",
   "execution_count": 12,
   "metadata": {},
   "outputs": [],
   "source": [
    "alpha_feedback_df = pd.read_csv(\"../../data/non-anonymous/alphabay/feedbacks.csv\", error_bad_lines=False, \n",
    "                      lineterminator='\\n', usecols=['reciever', 'message', 'order_title', 'order_amount_usd'])\n",
    "alpha_feedback_df.columns = ['vendor', 'message', 'title', 'order_amount_usd']"
   ]
  },
  {
   "cell_type": "code",
   "execution_count": 13,
   "metadata": {},
   "outputs": [],
   "source": [
    "alphabay_df = alpha_listing_df.merge(alpha_feedback_df, how = 'inner', on = ['title', 'vendor'])"
   ]
  },
  {
   "cell_type": "code",
   "execution_count": 57,
   "metadata": {},
   "outputs": [
    {
     "data": {
      "text/plain": [
       "array(['Cannabis', 'Stimulants', 'Ecstasy', 'Opioids', 'Benzos',\n",
       "       'Digital Goods', 'Misc', 'Other', 'Psychedelics', 'Dissociatives',\n",
       "       'Prescription'], dtype=object)"
      ]
     },
     "execution_count": 57,
     "metadata": {},
     "output_type": "execute_result"
    }
   ],
   "source": [
    "alphabay_df.prediction.unique()"
   ]
  },
  {
   "cell_type": "code",
   "execution_count": 6,
   "metadata": {},
   "outputs": [],
   "source": [
    "alphabay_df.to_csv(\"../../data/non-anonymous/alphabay/alphabay.csv\")"
   ]
  },
  {
   "cell_type": "code",
   "execution_count": 7,
   "metadata": {},
   "outputs": [
    {
     "data": {
      "text/plain": [
       "(1771258, 11)"
      ]
     },
     "execution_count": 7,
     "metadata": {},
     "output_type": "execute_result"
    }
   ],
   "source": [
    "alphabay_df.shape"
   ]
  },
  {
   "cell_type": "markdown",
   "metadata": {},
   "source": [
    "Dream (Valhalla) Dataset"
   ]
  },
  {
   "cell_type": "code",
   "execution_count": 14,
   "metadata": {},
   "outputs": [],
   "source": [
    "dreams_listing_df = pd.read_csv(\"../../data/non-anonymous/dream/items.csv\", error_bad_lines=False, \n",
    "                      lineterminator='\\n', usecols=['title', 'vendor', 'first_observed', 'last_observed', 'prediction', 'total_sales', 'ships_to', 'ships_from', 'description'])"
   ]
  },
  {
   "cell_type": "code",
   "execution_count": 15,
   "metadata": {},
   "outputs": [],
   "source": [
    "dreams_feedback_df = pd.read_csv(\"../../data/non-anonymous/dream/feedbacks.csv\", error_bad_lines=False, \n",
    "                      lineterminator='\\n', usecols=['reciever', 'message', 'order_title', 'order_amount_usd'])\n",
    "dreams_feedback_df.columns = ['vendor', 'message', 'title', 'order_amount_usd']"
   ]
  },
  {
   "cell_type": "code",
   "execution_count": 16,
   "metadata": {},
   "outputs": [],
   "source": [
    "dreams_df = dreams_feedback_df.merge(dreams_listing_df, how = 'inner', on = ['title', 'vendor'])"
   ]
  },
  {
   "cell_type": "code",
   "execution_count": 11,
   "metadata": {},
   "outputs": [],
   "source": [
    "dreams_df.to_csv(\"../../data/non-anonymous/alphabay/valhalla.csv\")"
   ]
  },
  {
   "cell_type": "code",
   "execution_count": 12,
   "metadata": {},
   "outputs": [
    {
     "data": {
      "text/plain": [
       "(1816855, 11)"
      ]
     },
     "execution_count": 12,
     "metadata": {},
     "output_type": "execute_result"
    }
   ],
   "source": [
    "dreams_df.shape"
   ]
  },
  {
   "cell_type": "markdown",
   "metadata": {},
   "source": [
    "Silk Road"
   ]
  },
  {
   "cell_type": "code",
   "execution_count": 9,
   "metadata": {},
   "outputs": [],
   "source": [
    "silk_listing_df = pd.read_csv(\"../../data/non-anonymous/silk-road/items.csv\", error_bad_lines=False, \n",
    "                      lineterminator='\\n', usecols=['title', 'seller_id', 'category', 'ship_to', 'ship_from', 'listing_description', 'price_btc'])\n",
    "# silk_listing_df.columns = ['title', 'vendor', 'prediction', 'ships_to', 'ships_from', 'description', 'price_btc']"
   ]
  },
  {
   "cell_type": "code",
   "execution_count": 10,
   "metadata": {},
   "outputs": [],
   "source": [
    "silk_listing_df.columns = ['title', 'prediction', 'price_btc', 'ships_to', 'ships_from', 'vendor', 'description']"
   ]
  },
  {
   "cell_type": "code",
   "execution_count": 11,
   "metadata": {},
   "outputs": [
    {
     "data": {
      "text/plain": [
       "(1109155, 7)"
      ]
     },
     "execution_count": 11,
     "metadata": {},
     "output_type": "execute_result"
    }
   ],
   "source": [
    "silk_listing_df.shape"
   ]
  },
  {
   "cell_type": "code",
   "execution_count": 11,
   "metadata": {},
   "outputs": [],
   "source": [
    "silk_feedback_df = pd.read_csv(\"../../data/non-anonymous/silk-road/feedbacks.csv\", error_bad_lines=False, \n",
    "                      lineterminator='\\n', usecols=['reciever', 'message', 'order_title'])\n",
    "silk_feedback_df.columns = ['vendor', 'message', 'title']"
   ]
  },
  {
   "cell_type": "code",
   "execution_count": 17,
   "metadata": {},
   "outputs": [
    {
     "data": {
      "text/plain": [
       "(10581507, 3)"
      ]
     },
     "execution_count": 17,
     "metadata": {},
     "output_type": "execute_result"
    }
   ],
   "source": [
    "silk_feedback_df.shape"
   ]
  },
  {
   "cell_type": "code",
   "execution_count": null,
   "metadata": {},
   "outputs": [],
   "source": [
    "silk_df = silk_feedback_df.merge(silk_listing_df, how = 'inner', on = ['title', 'vendor'])"
   ]
  },
  {
   "cell_type": "markdown",
   "metadata": {},
   "source": [
    "# Loading processed datasets to generate insights"
   ]
  },
  {
   "cell_type": "code",
   "execution_count": null,
   "metadata": {},
   "outputs": [],
   "source": [
    "import os\n",
    "if not os.path.exists(\"../../plots/non-anonymous\"):\n",
    "    os.makedirs(\"../../plots/non-anonymous\")"
   ]
  },
  {
   "cell_type": "markdown",
   "metadata": {},
   "source": [
    "Alphabay insights"
   ]
  },
  {
   "cell_type": "code",
   "execution_count": null,
   "metadata": {},
   "outputs": [],
   "source": [
    "fig = go.Figure(data=[go.Pie(labels=['Cannabis','Stimulants','Ecstasy','Opioids','Digital Goods','Benzos','Misc',\n",
    "                                    'Other', 'Psychedelics', 'Dissociatives', 'Prescription'],\n",
    "                             values=[25968,15323,9468,6911,17568,5194,3495,5388,6727,1982,4001])])\n",
    "# fig.update_traces(hoverinfo='label+percent', textinfo='value', textfont_size=20, marker=dict(line=dict(color='#000000', width=2)))\n",
    "plotly.offline.plot(fig, filename = os.path.join(\"../../plots/non-anonymous\", \"alphabay.pdf\"), auto_open=False)"
   ]
  },
  {
   "cell_type": "markdown",
   "metadata": {},
   "source": [
    "Valhalla insights"
   ]
  },
  {
   "cell_type": "code",
   "execution_count": null,
   "metadata": {},
   "outputs": [],
   "source": [
    "dream_stats = Counter(dreams_df['prediction'])"
   ]
  },
  {
   "cell_type": "code",
   "execution_count": null,
   "metadata": {},
   "outputs": [],
   "source": [
    "fig = go.Figure(data=[go.Pie(labels=list(dream_stats.keys()),\n",
    "                             values=list(dream_stats.values()))])\n",
    "# fig.update_traces(hoverinfo='label+percent', textinfo='value', textfont_size=20, marker=dict(line=dict(color='#000000', width=2)))\n",
    "plotly.offline.plot(fig, filename = os.path.join(\"../../plots/non-anonymous\", \"valhalla.pdf\"), auto_open=False)"
   ]
  },
  {
   "cell_type": "markdown",
   "metadata": {},
   "source": [
    "Silk Road"
   ]
  },
  {
   "cell_type": "code",
   "execution_count": 21,
   "metadata": {},
   "outputs": [],
   "source": [
    "silk_stats = dict(Counter(silk_listing_df['prediction']).most_common(25))"
   ]
  },
  {
   "cell_type": "code",
   "execution_count": 22,
   "metadata": {},
   "outputs": [
    {
     "data": {
      "text/plain": [
       "'../../plots/non-anonymous/silk.pdf.html'"
      ]
     },
     "execution_count": 22,
     "metadata": {},
     "output_type": "execute_result"
    }
   ],
   "source": [
    "fig = go.Figure(data=[go.Pie(labels=list(silk_stats.keys()),\n",
    "                             values=list(silk_stats.values()))])\n",
    "# fig.update_traces(hoverinfo='label+percent', textinfo='value', textfont_size=20, marker=dict(line=dict(color='#000000', width=2)))\n",
    "plotly.offline.plot(fig, filename = os.path.join(\"../../plots/non-anonymous\", \"silk.pdf\"), auto_open=False)"
   ]
  },
  {
   "cell_type": "markdown",
   "metadata": {},
   "source": [
    "# Looking into the vendor stats"
   ]
  },
  {
   "cell_type": "code",
   "execution_count": 24,
   "metadata": {},
   "outputs": [],
   "source": [
    "alpha_vendors = alphabay_df['vendor'].nunique()\n",
    "dream_vendors = dreams_df['vendor'].nunique()\n",
    "silk_vendors = silk_listing_df['vendor'].nunique()"
   ]
  },
  {
   "cell_type": "code",
   "execution_count": 25,
   "metadata": {},
   "outputs": [],
   "source": [
    "x = [\"Alphabay\", \"Dreams\", \"Silk Board\"]\n",
    "y = [alpha_vendors, dream_vendors, silk_vendors]"
   ]
  },
  {
   "cell_type": "code",
   "execution_count": 28,
   "metadata": {},
   "outputs": [
    {
     "data": {
      "text/plain": [
       "'../../plots/non-anonymous/no_of_vendors.pdf.html'"
      ]
     },
     "execution_count": 28,
     "metadata": {},
     "output_type": "execute_result"
    }
   ],
   "source": [
    "fig = go.Figure()\n",
    "fig.add_bar(x=x,y=y)\n",
    "fig.update_layout(barmode=\"relative\", xaxis_title=\"Markets\", yaxis_title=\"No. of Vendors\")\n",
    "plotly.offline.plot(fig, filename = os.path.join(\"../../plots/non-anonymous\", \"no_of_vendors.pdf\"), auto_open=False)"
   ]
  },
  {
   "cell_type": "markdown",
   "metadata": {},
   "source": [
    "# Sybils in Alphabay and Dreams dataset"
   ]
  },
  {
   "cell_type": "code",
   "execution_count": 17,
   "metadata": {},
   "outputs": [],
   "source": [
    "ad_sybils = set(alphabay_df['vendor'].unique()).intersection(set(dreams_df['vendor'].unique()))\n",
    "ad_sybils = [str(sybil).lower() for sybil in ad_sybils]\n",
    "alpha_dreams = pd.concat([alphabay_df, dreams_df], axis=0).drop(columns=['message'])\n",
    "alpha_dreams.drop_duplicates(inplace=True)"
   ]
  },
  {
   "cell_type": "code",
   "execution_count": 18,
   "metadata": {},
   "outputs": [],
   "source": [
    "vendor_list = list(alpha_dreams['vendor'])\n",
    "vendor_list = [str(vendor).lower() for vendor in vendor_list]\n",
    "\n",
    "for index, vendor in enumerate(vendor_list):\n",
    "    if vendor in ad_sybils:\n",
    "        pass\n",
    "    else:\n",
    "        vendor_list[index] = 'others'"
   ]
  },
  {
   "cell_type": "code",
   "execution_count": 19,
   "metadata": {},
   "outputs": [],
   "source": [
    "alpha_dreams_stats = dict(Counter(vendor_list))\n",
    "del alpha_dreams_stats['others']\n",
    "alpha_dreams_stats = {k: v for k, v in sorted(alpha_dreams_stats.items(), key=lambda item: item[1], reverse=True)}"
   ]
  },
  {
   "cell_type": "code",
   "execution_count": null,
   "metadata": {},
   "outputs": [],
   "source": [
    "fig = go.Figure()\n",
    "fig.add_bar(x=tuple(alpha_dreams_stats.keys()),y=list(alpha_dreams_stats.values()))\n",
    "fig.update_layout(barmode=\"relative\", xaxis_title=\"Vendors\", yaxis_title=\"No. of advertisements\", title=\"Number of Sybils found: \" + str(len(ad_sybils)))\n",
    "plotly.offline.plot(fig, filename = os.path.join(\"../../plots/non-anonymous\", \"alpha_dreams_sybils.pdf\"), auto_open=False)"
   ]
  },
  {
   "cell_type": "markdown",
   "metadata": {},
   "source": [
    "# Sybils in Alphabay and Silk Road dataset"
   ]
  },
  {
   "cell_type": "code",
   "execution_count": 20,
   "metadata": {},
   "outputs": [],
   "source": [
    "alphabay_df_temp = alphabay_df.copy()\n",
    "alphabay_df_temp.drop(columns=['first_observed', 'last_observed', 'message', 'total_sales'], inplace=True)"
   ]
  },
  {
   "cell_type": "code",
   "execution_count": 21,
   "metadata": {},
   "outputs": [
    {
     "output_type": "error",
     "ename": "NameError",
     "evalue": "name 'silk_listing_df' is not defined",
     "traceback": [
      "\u001b[0;31m---------------------------------------------------------------------------\u001b[0m",
      "\u001b[0;31mNameError\u001b[0m                                 Traceback (most recent call last)",
      "\u001b[0;32m<ipython-input-21-ef8f2a5bb7b7>\u001b[0m in \u001b[0;36m<module>\u001b[0;34m\u001b[0m\n\u001b[0;32m----> 1\u001b[0;31m \u001b[0msilk_listing_df\u001b[0m\u001b[0;34m[\u001b[0m\u001b[0;34m'price_btc'\u001b[0m\u001b[0;34m]\u001b[0m \u001b[0;34m=\u001b[0m \u001b[0msilk_listing_df\u001b[0m\u001b[0;34m[\u001b[0m\u001b[0;34m'price_btc'\u001b[0m\u001b[0;34m]\u001b[0m\u001b[0;34m.\u001b[0m\u001b[0mapply\u001b[0m\u001b[0;34m(\u001b[0m\u001b[0;32mlambda\u001b[0m \u001b[0mx\u001b[0m \u001b[0;34m:\u001b[0m \u001b[0mfloat\u001b[0m\u001b[0;34m(\u001b[0m\u001b[0mx\u001b[0m\u001b[0;34m*\u001b[0m\u001b[0;36m57.95\u001b[0m\u001b[0;34m)\u001b[0m\u001b[0;34m)\u001b[0m\u001b[0;34m\u001b[0m\u001b[0;34m\u001b[0m\u001b[0m\n\u001b[0m\u001b[1;32m      2\u001b[0m \u001b[0msilk_listing_df\u001b[0m\u001b[0;34m.\u001b[0m\u001b[0mrename\u001b[0m\u001b[0;34m(\u001b[0m\u001b[0mcolumns\u001b[0m\u001b[0;34m=\u001b[0m\u001b[0;34m{\u001b[0m\u001b[0;34m\"price_btc\"\u001b[0m\u001b[0;34m:\u001b[0m \u001b[0;34m\"order_amount_usd\"\u001b[0m\u001b[0;34m}\u001b[0m\u001b[0;34m,\u001b[0m \u001b[0minplace\u001b[0m\u001b[0;34m=\u001b[0m\u001b[0;32mTrue\u001b[0m\u001b[0;34m)\u001b[0m\u001b[0;34m\u001b[0m\u001b[0;34m\u001b[0m\u001b[0m\n",
      "\u001b[0;31mNameError\u001b[0m: name 'silk_listing_df' is not defined"
     ]
    }
   ],
   "source": [
    "silk_listing_df['price_btc'] = silk_listing_df['price_btc'].apply(lambda x : float(x*57.95))\n",
    "silk_listing_df.rename(columns={\"price_btc\": \"order_amount_usd\"}, inplace=True)"
   ]
  },
  {
   "cell_type": "code",
   "execution_count": 22,
   "metadata": {},
   "outputs": [
    {
     "output_type": "error",
     "ename": "NameError",
     "evalue": "name 'silk_listing_df' is not defined",
     "traceback": [
      "\u001b[0;31m---------------------------------------------------------------------------\u001b[0m",
      "\u001b[0;31mNameError\u001b[0m                                 Traceback (most recent call last)",
      "\u001b[0;32m<ipython-input-22-5ee68966b561>\u001b[0m in \u001b[0;36m<module>\u001b[0;34m\u001b[0m\n\u001b[0;32m----> 1\u001b[0;31m \u001b[0malpha_silk\u001b[0m \u001b[0;34m=\u001b[0m \u001b[0mpd\u001b[0m\u001b[0;34m.\u001b[0m\u001b[0mconcat\u001b[0m\u001b[0;34m(\u001b[0m\u001b[0;34m[\u001b[0m\u001b[0malphabay_df_temp\u001b[0m\u001b[0;34m,\u001b[0m \u001b[0msilk_listing_df\u001b[0m\u001b[0;34m]\u001b[0m\u001b[0;34m,\u001b[0m \u001b[0maxis\u001b[0m\u001b[0;34m=\u001b[0m\u001b[0;36m0\u001b[0m\u001b[0;34m)\u001b[0m\u001b[0;34m\u001b[0m\u001b[0;34m\u001b[0m\u001b[0m\n\u001b[0m\u001b[1;32m      2\u001b[0m \u001b[0malpha_silk\u001b[0m\u001b[0;34m.\u001b[0m\u001b[0mdrop_duplicates\u001b[0m\u001b[0;34m(\u001b[0m\u001b[0minplace\u001b[0m\u001b[0;34m=\u001b[0m\u001b[0;32mTrue\u001b[0m\u001b[0;34m)\u001b[0m\u001b[0;34m\u001b[0m\u001b[0;34m\u001b[0m\u001b[0m\n",
      "\u001b[0;31mNameError\u001b[0m: name 'silk_listing_df' is not defined"
     ]
    }
   ],
   "source": [
    "alpha_silk = pd.concat([alphabay_df_temp, silk_listing_df], axis=0)\n",
    "alpha_silk.drop_duplicates(inplace=True)"
   ]
  },
  {
   "cell_type": "code",
   "execution_count": 94,
   "metadata": {},
   "outputs": [],
   "source": [
    "as_sybils = set(alphabay_df['vendor'].unique()).intersection(set(silk_listing_df['vendor'].unique()))\n",
    "as_sybils = [str(sybil).lower() for sybil in as_sybils]"
   ]
  },
  {
   "cell_type": "code",
   "execution_count": 95,
   "metadata": {},
   "outputs": [],
   "source": [
    "vendor_list = list(alpha_silk['vendor'])\n",
    "vendor_list = [str(vendor).lower() for vendor in vendor_list]\n",
    "\n",
    "for index, vendor in enumerate(vendor_list):\n",
    "    if vendor in sybils:\n",
    "        pass\n",
    "    else:\n",
    "        vendor_list[index] = 'others'"
   ]
  },
  {
   "cell_type": "code",
   "execution_count": 96,
   "metadata": {},
   "outputs": [],
   "source": [
    "alpha_silk_stats = dict(Counter(vendor_list))\n",
    "del alpha_silk_stats['others']\n",
    "alpha_silk_stats = {k: v for k, v in sorted(alpha_silk_stats.items(), key=lambda item: item[1], reverse=True)}"
   ]
  },
  {
   "cell_type": "code",
   "execution_count": 97,
   "metadata": {},
   "outputs": [
    {
     "data": {
      "text/plain": [
       "'../../plots/non-anonymous/alpha_silk_sybils.pdf.html'"
      ]
     },
     "execution_count": 97,
     "metadata": {},
     "output_type": "execute_result"
    }
   ],
   "source": [
    "fig = go.Figure()\n",
    "fig.add_bar(x=tuple(alpha_silk_stats.keys()),y=list(alpha_silk_stats.values()))\n",
    "fig.update_layout(barmode=\"relative\", xaxis_title=\"Vendors\", yaxis_title=\"No. of advertisements\", title=\"Number of Sybils found: \" + str(len(as_sybils)))\n",
    "plotly.offline.plot(fig, filename = os.path.join(\"../../plots/non-anonymous\", \"alpha_silk_sybils.pdf\"), auto_open=False)"
   ]
  },
  {
   "cell_type": "markdown",
   "metadata": {},
   "source": [
    "# Sybils in Dreams and Silk Road dataset"
   ]
  },
  {
   "cell_type": "code",
   "execution_count": 14,
   "metadata": {},
   "outputs": [],
   "source": [
    "dreams_df_temp = dreams_df.copy()\n",
    "dreams_df_temp.drop(columns=['first_observed', 'last_observed', 'message', 'total_sales'], inplace=True)"
   ]
  },
  {
   "cell_type": "code",
   "execution_count": 15,
   "metadata": {},
   "outputs": [],
   "source": [
    "dreams_silk = pd.concat([dreams_df_temp, silk_listing_df], axis=0)\n",
    "dreams_silk.drop_duplicates(inplace=True)"
   ]
  },
  {
   "cell_type": "code",
   "execution_count": 19,
   "metadata": {},
   "outputs": [],
   "source": [
    "ds_sybils = set(dreams_df['vendor'].unique()).intersection(set(silk_listing_df['vendor'].unique()))\n",
    "ds_sybils = [str(sybil).lower() for sybil in ds_sybils]"
   ]
  },
  {
   "cell_type": "code",
   "execution_count": 100,
   "metadata": {},
   "outputs": [],
   "source": [
    "vendor_list = list(dreams_silk['vendor'])\n",
    "vendor_list = [str(vendor).lower() for vendor in vendor_list]\n",
    "\n",
    "for index, vendor in enumerate(vendor_list):\n",
    "    if vendor in sybils:\n",
    "        pass\n",
    "    else:\n",
    "        vendor_list[index] = 'others'"
   ]
  },
  {
   "cell_type": "code",
   "execution_count": 101,
   "metadata": {},
   "outputs": [],
   "source": [
    "dreams_silk_stats = dict(Counter(vendor_list))\n",
    "del dreams_silk_stats['others']\n",
    "dreams_silk_stats = {k: v for k, v in sorted(dreams_silk_stats.items(), key=lambda item: item[1], reverse=True)}"
   ]
  },
  {
   "cell_type": "code",
   "execution_count": 103,
   "metadata": {},
   "outputs": [
    {
     "data": {
      "text/plain": [
       "'../../plots/non-anonymous/dreams_silk_sybils.pdf.html'"
      ]
     },
     "execution_count": 103,
     "metadata": {},
     "output_type": "execute_result"
    }
   ],
   "source": [
    "fig = go.Figure()\n",
    "fig.add_bar(x=tuple(alpha_silk_stats.keys()),y=list(alpha_silk_stats.values()))\n",
    "fig.update_layout(barmode=\"relative\", xaxis_title=\"Vendors\", yaxis_title=\"No. of advertisements\", title=\"Number of Sybils found: \" + str(len(ds_sybils)))\n",
    "plotly.offline.plot(fig, filename = os.path.join(\"../../plots/non-anonymous\", \"dreams_silk_sybils.pdf\"), auto_open=False)"
   ]
  },
  {
   "cell_type": "markdown",
   "metadata": {},
   "source": [
    "# Checking the title and description stats in each of the 3 sybil datasets"
   ]
  },
  {
   "cell_type": "markdown",
   "metadata": {},
   "source": [
    "Alpha-Dreams dataset"
   ]
  },
  {
   "cell_type": "code",
   "execution_count": 17,
   "metadata": {},
   "outputs": [],
   "source": [
    "title_len = list(alpha_dreams['title'])\n",
    "description_len = list(alpha_dreams['description'])\n",
    "\n",
    "title_len = [str(title).lower().split(\" \") for title in title_len]\n",
    "description_len = [str(description).lower().split(\" \") for description in description_len]"
   ]
  },
  {
   "cell_type": "code",
   "execution_count": 18,
   "metadata": {},
   "outputs": [],
   "source": [
    "title_len = [len(title) for title in title_len]\n",
    "description_len = [len(description) for description in description_len]"
   ]
  },
  {
   "cell_type": "code",
   "execution_count": null,
   "metadata": {},
   "outputs": [],
   "source": [
    "fig = ff.create_distplot([title_len], ['title'], show_hist=False, colors=['slategray'])\n",
    "fig.update_layout(xaxis_title=\"Titles\", yaxis_title=\"Length\", title=\"Title distribution with an average length of \" + str(np.mean(title_len)))\n",
    "plotly.offline.plot(fig, filename = os.path.join(\"../../plots/non-anonymous\", \"alpha_dream_title.pdf\"), auto_open=False)"
   ]
  },
  {
   "cell_type": "code",
   "execution_count": null,
   "metadata": {},
   "outputs": [],
   "source": [
    "fig = ff.create_distplot([description_len], ['description'], show_hist=False, colors=['slategray'])\n",
    "fig.update_layout(xaxis_title=\"Descriptions\", yaxis_title=\"Length\", title=\"Description distribution with an average length of \" + str(np.mean(description_len)))\n",
    "plotly.offline.plot(fig, filename = os.path.join(\"../../plots/non-anonymous\", \"alpha_dream_description.pdf\"), auto_open=False)"
   ]
  },
  {
   "cell_type": "code",
   "execution_count": 17,
   "metadata": {},
   "outputs": [],
   "source": [
    "most_active_user = Counter(alpha_dreams_stats).most_common(1)[0][0]\n",
    "least_active_user = Counter(alpha_dreams_stats).most_common()[-1][0]\n",
    "moderately_active_user = 'thecheekygirls1'"
   ]
  },
  {
   "cell_type": "markdown",
   "metadata": {},
   "source": [
    "Most active user"
   ]
  },
  {
   "cell_type": "code",
   "execution_count": 50,
   "metadata": {},
   "outputs": [],
   "source": [
    "def clean_data(text):\n",
    "    text = text.replace(\"♕\",\":kingPiece: \").replace(\"★\",\":star: \")\n",
    "    text = text.replace(\"\\r\", \" \\r \").replace(\"\\n\", \" \\n \")\n",
    "    return text"
   ]
  },
  {
   "cell_type": "code",
   "execution_count": null,
   "metadata": {},
   "outputs": [],
   "source": [
    "alphabay_df['vendor'] = alphabay_df['vendor'].apply(lambda x : str(x).lower())\n",
    "alphabay_df['title'] = alphabay_df['title'].apply(lambda x : str(x).lower())\n",
    "alphabay_df['description'] = alphabay_df['description'].apply(lambda x : str(x).lower())"
   ]
  },
  {
   "cell_type": "code",
   "execution_count": null,
   "metadata": {},
   "outputs": [],
   "source": [
    "most_active_alphabay_df = alphabay_df[alphabay_df['vendor']==most_active_user]\n",
    "most_active_alphabay_df['title'] = most_active_alphabay_df['title'].apply(lambda x : emoji.demojize(x))\n",
    "most_active_alphabay_df['description'] = most_active_alphabay_df['description'].apply(lambda x : emoji.demojize(x))\n",
    "most_active_alphabay_df['title'] = most_active_alphabay_df['title'].apply(lambda x : clean_data(x))\n",
    "most_active_alphabay_df['description'] = most_active_alphabay_df['description'].apply(lambda x : clean_data(x))"
   ]
  },
  {
   "cell_type": "code",
   "execution_count": 52,
   "metadata": {},
   "outputs": [],
   "source": [
    "most_active_dreams_df = dreams_df[dreams_df['vendor']==most_active_user]\n",
    "most_active_dreams_df['title'] = most_active_dreams_df['title'].apply(lambda x : emoji.demojize(x))\n",
    "most_active_dreams_df['description'] = most_active_dreams_df['description'].apply(lambda x : emoji.demojize(x))\n",
    "most_active_dreams_df['title'] = most_active_dreams_df['title'].apply(lambda x : clean_data(x))\n",
    "most_active_dreams_df['description'] = most_active_dreams_df['description'].apply(lambda x : clean_data(x))"
   ]
  },
  {
   "cell_type": "code",
   "execution_count": 53,
   "metadata": {},
   "outputs": [
    {
     "data": {
      "text/html": [
       "<div>\n",
       "<style scoped>\n",
       "    .dataframe tbody tr th:only-of-type {\n",
       "        vertical-align: middle;\n",
       "    }\n",
       "\n",
       "    .dataframe tbody tr th {\n",
       "        vertical-align: top;\n",
       "    }\n",
       "\n",
       "    .dataframe thead th {\n",
       "        text-align: right;\n",
       "    }\n",
       "</style>\n",
       "<table border=\"1\" class=\"dataframe\">\n",
       "  <thead>\n",
       "    <tr style=\"text-align: right;\">\n",
       "      <th></th>\n",
       "      <th>title</th>\n",
       "      <th>vendor</th>\n",
       "      <th>total_sales</th>\n",
       "      <th>first_observed</th>\n",
       "      <th>last_observed</th>\n",
       "      <th>prediction</th>\n",
       "      <th>ships_to</th>\n",
       "      <th>ships_from</th>\n",
       "      <th>description</th>\n",
       "      <th>message</th>\n",
       "      <th>order_amount_usd</th>\n",
       "    </tr>\n",
       "  </thead>\n",
       "  <tbody>\n",
       "  </tbody>\n",
       "</table>\n",
       "</div>"
      ],
      "text/plain": [
       "Empty DataFrame\n",
       "Columns: [title, vendor, total_sales, first_observed, last_observed, prediction, ships_to, ships_from, description, message, order_amount_usd]\n",
       "Index: []"
      ]
     },
     "execution_count": 53,
     "metadata": {},
     "output_type": "execute_result"
    }
   ],
   "source": [
    "most_active_alphabay_df"
   ]
  },
  {
   "cell_type": "code",
   "execution_count": 49,
   "metadata": {},
   "outputs": [
    {
     "data": {
      "text/html": [
       "<div>\n",
       "<style scoped>\n",
       "    .dataframe tbody tr th:only-of-type {\n",
       "        vertical-align: middle;\n",
       "    }\n",
       "\n",
       "    .dataframe tbody tr th {\n",
       "        vertical-align: top;\n",
       "    }\n",
       "\n",
       "    .dataframe thead th {\n",
       "        text-align: right;\n",
       "    }\n",
       "</style>\n",
       "<table border=\"1\" class=\"dataframe\">\n",
       "  <thead>\n",
       "    <tr style=\"text-align: right;\">\n",
       "      <th></th>\n",
       "      <th>title</th>\n",
       "      <th>vendor</th>\n",
       "      <th>total_sales</th>\n",
       "      <th>first_observed</th>\n",
       "      <th>last_observed</th>\n",
       "      <th>prediction</th>\n",
       "      <th>ships_to</th>\n",
       "      <th>ships_from</th>\n",
       "      <th>description</th>\n",
       "      <th>order_amount_usd</th>\n",
       "    </tr>\n",
       "  </thead>\n",
       "  <tbody>\n",
       "    <tr>\n",
       "      <th>47964</th>\n",
       "      <td>:kingPiece: :kingPiece: :kingPiece:  :star: :s...</td>\n",
       "      <td>theshop</td>\n",
       "      <td>2.49</td>\n",
       "      <td>2016-08-01</td>\n",
       "      <td>2016-08-01</td>\n",
       "      <td>Digital Goods</td>\n",
       "      <td>Worldwide</td>\n",
       "      <td>Worldwide</td>\n",
       "      <td>buy a hulu account \\rjust for a few bucks!!!!!...</td>\n",
       "      <td>2.49</td>\n",
       "    </tr>\n",
       "    <tr>\n",
       "      <th>181336</th>\n",
       "      <td>:kingPiece: :kingPiece: :kingPiece:  :star: :s...</td>\n",
       "      <td>theshop</td>\n",
       "      <td>109.78</td>\n",
       "      <td>2016-10-23</td>\n",
       "      <td>2017-03-27</td>\n",
       "      <td>Digital Goods</td>\n",
       "      <td>Worldwide</td>\n",
       "      <td>Worldwide</td>\n",
       "      <td>:kingPiece: :kingPiece: :kingPiece:  :star: :s...</td>\n",
       "      <td>4.99</td>\n",
       "    </tr>\n",
       "    <tr>\n",
       "      <th>213251</th>\n",
       "      <td>:kingPiece: :kingPiece: :kingPiece:  :star: :s...</td>\n",
       "      <td>theshop</td>\n",
       "      <td>4.99</td>\n",
       "      <td>2016-07-24</td>\n",
       "      <td>2016-07-24</td>\n",
       "      <td>Digital Goods</td>\n",
       "      <td>Worldwide</td>\n",
       "      <td>Worldwide</td>\n",
       "      <td>buy a netflix account with the 4screens+ultrah...</td>\n",
       "      <td>4.99</td>\n",
       "    </tr>\n",
       "    <tr>\n",
       "      <th>286872</th>\n",
       "      <td>:kingPiece: :kingPiece: :kingPiece:  :star: :s...</td>\n",
       "      <td>theshop</td>\n",
       "      <td>35.88</td>\n",
       "      <td>2016-10-15</td>\n",
       "      <td>2016-11-24</td>\n",
       "      <td>Digital Goods</td>\n",
       "      <td>Worldwide</td>\n",
       "      <td>Worldwide</td>\n",
       "      <td>:kingPiece: :kingPiece: :kingPiece:  :star: :s...</td>\n",
       "      <td>2.99</td>\n",
       "    </tr>\n",
       "    <tr>\n",
       "      <th>358921</th>\n",
       "      <td>:kingPiece:  zenmate vpn premium account (auto...</td>\n",
       "      <td>theshop</td>\n",
       "      <td>49.90</td>\n",
       "      <td>2016-12-05</td>\n",
       "      <td>2017-05-12</td>\n",
       "      <td>Digital Goods</td>\n",
       "      <td>Worldwide</td>\n",
       "      <td>Worldwide</td>\n",
       "      <td>:kingPiece: :kingPiece: :kingPiece:  :star: :s...</td>\n",
       "      <td>4.99</td>\n",
       "    </tr>\n",
       "    <tr>\n",
       "      <th>...</th>\n",
       "      <td>...</td>\n",
       "      <td>...</td>\n",
       "      <td>...</td>\n",
       "      <td>...</td>\n",
       "      <td>...</td>\n",
       "      <td>...</td>\n",
       "      <td>...</td>\n",
       "      <td>...</td>\n",
       "      <td>...</td>\n",
       "      <td>...</td>\n",
       "    </tr>\n",
       "    <tr>\n",
       "      <th>1816395</th>\n",
       "      <td>:kingPiece:  cvv cashout via btc || credit car...</td>\n",
       "      <td>theshop</td>\n",
       "      <td>2.41</td>\n",
       "      <td>2018-05-07</td>\n",
       "      <td>2018-05-07</td>\n",
       "      <td>Misc</td>\n",
       "      <td>NaN</td>\n",
       "      <td>NaN</td>\n",
       "      <td>(censored due to possible presence of pii)</td>\n",
       "      <td>2.41</td>\n",
       "    </tr>\n",
       "    <tr>\n",
       "      <th>1816433</th>\n",
       "      <td>:star:  cc cashout ebay/amazon || triangulatio...</td>\n",
       "      <td>theshop</td>\n",
       "      <td>2.42</td>\n",
       "      <td>2018-05-13</td>\n",
       "      <td>2018-05-13</td>\n",
       "      <td>Digital Goods</td>\n",
       "      <td>NaN</td>\n",
       "      <td>NaN</td>\n",
       "      <td>(censored due to possible presence of pii)</td>\n",
       "      <td>2.42</td>\n",
       "    </tr>\n",
       "    <tr>\n",
       "      <th>1816588</th>\n",
       "      <td>:star:  socialbomber || earn 1000+ followers, ...</td>\n",
       "      <td>theshop</td>\n",
       "      <td>4.86</td>\n",
       "      <td>2018-06-04</td>\n",
       "      <td>2018-08-08</td>\n",
       "      <td>Digital Goods</td>\n",
       "      <td>NaN</td>\n",
       "      <td>NaN</td>\n",
       "      <td>(censored due to possible presence of pii)</td>\n",
       "      <td>2.43</td>\n",
       "    </tr>\n",
       "    <tr>\n",
       "      <th>1816614</th>\n",
       "      <td>:kingPiece:  cc cashout - the money circle :ki...</td>\n",
       "      <td>theshop</td>\n",
       "      <td>2.42</td>\n",
       "      <td>2018-06-08</td>\n",
       "      <td>2018-06-08</td>\n",
       "      <td>Misc</td>\n",
       "      <td>NaN</td>\n",
       "      <td>NaN</td>\n",
       "      <td>(censored due to possible presence of pii)</td>\n",
       "      <td>2.42</td>\n",
       "    </tr>\n",
       "    <tr>\n",
       "      <th>1816642</th>\n",
       "      <td>:star:  :kingPiece:  antidetect browser (fraud...</td>\n",
       "      <td>theshop</td>\n",
       "      <td>4.28</td>\n",
       "      <td>2018-06-13</td>\n",
       "      <td>2018-06-13</td>\n",
       "      <td>Digital Goods</td>\n",
       "      <td>NaN</td>\n",
       "      <td>NaN</td>\n",
       "      <td>(censored due to possible presence of pii)</td>\n",
       "      <td>4.28</td>\n",
       "    </tr>\n",
       "  </tbody>\n",
       "</table>\n",
       "<p>1842 rows × 10 columns</p>\n",
       "</div>"
      ],
      "text/plain": [
       "                                                     title   vendor  \\\n",
       "47964    :kingPiece: :kingPiece: :kingPiece:  :star: :s...  theshop   \n",
       "181336   :kingPiece: :kingPiece: :kingPiece:  :star: :s...  theshop   \n",
       "213251   :kingPiece: :kingPiece: :kingPiece:  :star: :s...  theshop   \n",
       "286872   :kingPiece: :kingPiece: :kingPiece:  :star: :s...  theshop   \n",
       "358921   :kingPiece:  zenmate vpn premium account (auto...  theshop   \n",
       "...                                                    ...      ...   \n",
       "1816395  :kingPiece:  cvv cashout via btc || credit car...  theshop   \n",
       "1816433  :star:  cc cashout ebay/amazon || triangulatio...  theshop   \n",
       "1816588  :star:  socialbomber || earn 1000+ followers, ...  theshop   \n",
       "1816614  :kingPiece:  cc cashout - the money circle :ki...  theshop   \n",
       "1816642  :star:  :kingPiece:  antidetect browser (fraud...  theshop   \n",
       "\n",
       "         total_sales first_observed last_observed     prediction   ships_to  \\\n",
       "47964           2.49     2016-08-01    2016-08-01  Digital Goods  Worldwide   \n",
       "181336        109.78     2016-10-23    2017-03-27  Digital Goods  Worldwide   \n",
       "213251          4.99     2016-07-24    2016-07-24  Digital Goods  Worldwide   \n",
       "286872         35.88     2016-10-15    2016-11-24  Digital Goods  Worldwide   \n",
       "358921         49.90     2016-12-05    2017-05-12  Digital Goods  Worldwide   \n",
       "...              ...            ...           ...            ...        ...   \n",
       "1816395         2.41     2018-05-07    2018-05-07           Misc        NaN   \n",
       "1816433         2.42     2018-05-13    2018-05-13  Digital Goods        NaN   \n",
       "1816588         4.86     2018-06-04    2018-08-08  Digital Goods        NaN   \n",
       "1816614         2.42     2018-06-08    2018-06-08           Misc        NaN   \n",
       "1816642         4.28     2018-06-13    2018-06-13  Digital Goods        NaN   \n",
       "\n",
       "         ships_from                                        description  \\\n",
       "47964     Worldwide  buy a hulu account \\rjust for a few bucks!!!!!...   \n",
       "181336    Worldwide  :kingPiece: :kingPiece: :kingPiece:  :star: :s...   \n",
       "213251    Worldwide  buy a netflix account with the 4screens+ultrah...   \n",
       "286872    Worldwide  :kingPiece: :kingPiece: :kingPiece:  :star: :s...   \n",
       "358921    Worldwide  :kingPiece: :kingPiece: :kingPiece:  :star: :s...   \n",
       "...             ...                                                ...   \n",
       "1816395         NaN         (censored due to possible presence of pii)   \n",
       "1816433         NaN         (censored due to possible presence of pii)   \n",
       "1816588         NaN         (censored due to possible presence of pii)   \n",
       "1816614         NaN         (censored due to possible presence of pii)   \n",
       "1816642         NaN         (censored due to possible presence of pii)   \n",
       "\n",
       "         order_amount_usd  \n",
       "47964                2.49  \n",
       "181336               4.99  \n",
       "213251               4.99  \n",
       "286872               2.99  \n",
       "358921               4.99  \n",
       "...                   ...  \n",
       "1816395              2.41  \n",
       "1816433              2.42  \n",
       "1816588              2.43  \n",
       "1816614              2.42  \n",
       "1816642              4.28  \n",
       "\n",
       "[1842 rows x 10 columns]"
      ]
     },
     "execution_count": 49,
     "metadata": {},
     "output_type": "execute_result"
    }
   ],
   "source": [
    "most_active_df"
   ]
  },
  {
   "cell_type": "code",
   "execution_count": 43,
   "metadata": {},
   "outputs": [
    {
     "data": {
      "text/plain": [
       "'#startspreadingthenews yankees win great start by :Santa_Claus_medium-dark_skin_tone: going 5strong innings with 5k’s:fire: :ox:\\nsolo homerun :volcano::volcano: with 2 solo homeruns and:ogre: 3run homerun… :clown_face: :person_rowing_boat_medium-light_skin_tone: :man_judge_medium_skin_tone: with rbi’s … :fire::fire:\\n:Mexico: and :Nicaragua: to close the game:fire::fire:!!!….\\nWHAT A GAME!!..\\n'"
      ]
     },
     "execution_count": 43,
     "metadata": {},
     "output_type": "execute_result"
    }
   ],
   "source": [
    "emoji.demojize(tweet)"
   ]
  },
  {
   "cell_type": "markdown",
   "metadata": {},
   "source": [
    "Alpha-Silk dataset"
   ]
  },
  {
   "cell_type": "code",
   "execution_count": 14,
   "metadata": {},
   "outputs": [],
   "source": [
    "title_len = list(alpha_silk['title'])\n",
    "description_len = list(alpha_silk['description'])\n",
    "title_len = [str(title).lower().split(\" \") for title in title_len]\n",
    "description_len = [str(description).lower().split(\" \") for description in description_len]\n",
    "title_len = [len(title) for title in title_len]\n",
    "description_len = [len(description) for description in description_len]"
   ]
  },
  {
   "cell_type": "code",
   "execution_count": null,
   "metadata": {},
   "outputs": [],
   "source": []
  }
 ],
 "metadata": {
  "kernelspec": {
   "display_name": "Python 3",
   "language": "python",
   "name": "python3"
  },
  "language_info": {
   "codemirror_mode": {
    "name": "ipython",
    "version": 3
   },
   "file_extension": ".py",
   "mimetype": "text/x-python",
   "name": "python",
   "nbconvert_exporter": "python",
   "pygments_lexer": "ipython3",
   "version": "3.8.3"
  }
 },
 "nbformat": 4,
 "nbformat_minor": 4
}