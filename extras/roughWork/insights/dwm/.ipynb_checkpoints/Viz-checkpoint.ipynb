{
 "cells": [
  {
   "cell_type": "markdown",
   "metadata": {},
   "source": [
    "# Importing Libraries"
   ]
  },
  {
   "cell_type": "code",
   "execution_count": 1,
   "metadata": {},
   "outputs": [],
   "source": [
    "import os\n",
    "import numpy as np\n",
    "import pandas as pd\n",
    "\n",
    "import emoji\n",
    "\n",
    "import spacy\n",
    "from spacy_cld import LanguageDetector\n",
    "import contextualSpellCheck\n",
    "\n",
    "import matplotlib.pyplot as plt\n",
    "\n",
    "import plotly\n",
    "import plotly.express as px\n",
    "import plotly.graph_objects as go"
   ]
  },
  {
   "cell_type": "code",
   "execution_count": 2,
   "metadata": {},
   "outputs": [],
   "source": [
    "nlp = spacy.load('en_core_web_sm')\n",
    "language_detector = LanguageDetector()\n",
    "nlp.add_pipe(language_detector)"
   ]
  },
  {
   "cell_type": "markdown",
   "metadata": {},
   "source": [
    "# Importing Datasets"
   ]
  },
  {
   "cell_type": "code",
   "execution_count": 9,
   "metadata": {},
   "outputs": [],
   "source": [
    "markets = pd.read_csv(\"../data/processed_data/market_data.tsv\", sep=\"\\t\", error_bad_lines=False)\n",
    "forums = pd.read_csv(\"../data/processed_data/forum_data.tsv\", sep=\"\\t\", error_bad_lines=False)"
   ]
  },
  {
   "cell_type": "markdown",
   "metadata": {},
   "source": [
    "# Decided Features"
   ]
  },
  {
   "cell_type": "code",
   "execution_count": 18,
   "metadata": {},
   "outputs": [
    {
     "data": {
      "text/plain": [
       "Index(['domain-type', 'domain-name', 'log-name', 'title', 'description',\n",
       "       'paragraphs', 'headings', 'listings', 'link-text'],\n",
       "      dtype='object')"
      ]
     },
     "execution_count": 18,
     "metadata": {},
     "output_type": "execute_result"
    }
   ],
   "source": [
    "markets.columns"
   ]
  },
  {
   "cell_type": "code",
   "execution_count": 19,
   "metadata": {},
   "outputs": [
    {
     "name": "stdout",
     "output_type": "stream",
     "text": [
      "No. of logs :\n"
     ]
    },
    {
     "data": {
      "text/plain": [
       "(3281, 938)"
      ]
     },
     "execution_count": 19,
     "metadata": {},
     "output_type": "execute_result"
    }
   ],
   "source": [
    "print(\"No. of logs :\")\n",
    "markets.shape[0], forums.shape[0]"
   ]
  },
  {
   "cell_type": "markdown",
   "metadata": {},
   "source": [
    "# Displaying the data"
   ]
  },
  {
   "cell_type": "code",
   "execution_count": 37,
   "metadata": {},
   "outputs": [
    {
     "data": {
      "text/html": [
       "<div>\n",
       "<style scoped>\n",
       "    .dataframe tbody tr th:only-of-type {\n",
       "        vertical-align: middle;\n",
       "    }\n",
       "\n",
       "    .dataframe tbody tr th {\n",
       "        vertical-align: top;\n",
       "    }\n",
       "\n",
       "    .dataframe thead th {\n",
       "        text-align: right;\n",
       "    }\n",
       "</style>\n",
       "<table border=\"1\" class=\"dataframe\">\n",
       "  <thead>\n",
       "    <tr style=\"text-align: right;\">\n",
       "      <th></th>\n",
       "      <th>domain-type</th>\n",
       "      <th>domain-name</th>\n",
       "      <th>log-name</th>\n",
       "      <th>title</th>\n",
       "      <th>description</th>\n",
       "      <th>paragraphs</th>\n",
       "      <th>headings</th>\n",
       "      <th>listings</th>\n",
       "      <th>link-text</th>\n",
       "    </tr>\n",
       "  </thead>\n",
       "  <tbody>\n",
       "    <tr>\n",
       "      <th>0</th>\n",
       "      <td>Markets</td>\n",
       "      <td>337595-1611226233</td>\n",
       "      <td>67116357-27692431.html</td>\n",
       "      <td>None</td>\n",
       "      <td>{'2M3YWDQe1bIxCzwx2FZlaTqiFavwD0NatNST+R7QuXxM...</td>\n",
       "      <td>None</td>\n",
       "      <td>None</td>\n",
       "      <td>None</td>\n",
       "      <td>None</td>\n",
       "    </tr>\n",
       "    <tr>\n",
       "      <th>1</th>\n",
       "      <td>Markets</td>\n",
       "      <td>337595-1611226233</td>\n",
       "      <td>67051067-27676428.html</td>\n",
       "      <td>Tor2door Market - Login</td>\n",
       "      <td>{'Create an account', 'Deutsche', 'Español', '...</td>\n",
       "      <td>None</td>\n",
       "      <td>{'Login'}</td>\n",
       "      <td>None</td>\n",
       "      <td>{'Deutsche', 'Create an account', 'English', '...</td>\n",
       "    </tr>\n",
       "    <tr>\n",
       "      <th>2</th>\n",
       "      <td>Markets</td>\n",
       "      <td>337595-1611226233</td>\n",
       "      <td>67051100-27676451.html</td>\n",
       "      <td>None</td>\n",
       "      <td>None</td>\n",
       "      <td>None</td>\n",
       "      <td>{'Anmeldung'}</td>\n",
       "      <td>None</td>\n",
       "      <td>{'Ein Konto erstellen', 'English', 'Deutsche'}</td>\n",
       "    </tr>\n",
       "    <tr>\n",
       "      <th>3</th>\n",
       "      <td>Markets</td>\n",
       "      <td>337595-1611226233</td>\n",
       "      <td>67115510-27692416.html</td>\n",
       "      <td>None</td>\n",
       "      <td>None</td>\n",
       "      <td>None</td>\n",
       "      <td>{'Anmeldung'}</td>\n",
       "      <td>None</td>\n",
       "      <td>{'Ein Konto erstellen', 'English', 'Deutsche'}</td>\n",
       "    </tr>\n",
       "    <tr>\n",
       "      <th>4</th>\n",
       "      <td>Markets</td>\n",
       "      <td>337595-1611226233</td>\n",
       "      <td>67116043-27692426.html</td>\n",
       "      <td>None</td>\n",
       "      <td>None</td>\n",
       "      <td>None</td>\n",
       "      <td>None</td>\n",
       "      <td>None</td>\n",
       "      <td>{'English', 'Crea una cuenta', 'Deutsche'}</td>\n",
       "    </tr>\n",
       "    <tr>\n",
       "      <th>...</th>\n",
       "      <td>...</td>\n",
       "      <td>...</td>\n",
       "      <td>...</td>\n",
       "      <td>...</td>\n",
       "      <td>...</td>\n",
       "      <td>...</td>\n",
       "      <td>...</td>\n",
       "      <td>...</td>\n",
       "      <td>...</td>\n",
       "    </tr>\n",
       "    <tr>\n",
       "      <th>95</th>\n",
       "      <td>Markets</td>\n",
       "      <td>332146-1611230991</td>\n",
       "      <td>61334004-26440124.html</td>\n",
       "      <td>Cash App money transfer 2020 - best market Hac...</td>\n",
       "      <td>{'We do not send from stolen Accounts, so no o...</td>\n",
       "      <td>{\"best market Hacker's Platform – hacked accou...</td>\n",
       "      <td>{'Related products', 'paypal transfer 2020', '...</td>\n",
       "      <td>{'order status', 'Cart', 'feedbacks', 'My acco...</td>\n",
       "      <td>{\"best market Hacker's Platform – hacked accou...</td>\n",
       "    </tr>\n",
       "    <tr>\n",
       "      <th>96</th>\n",
       "      <td>Markets</td>\n",
       "      <td>332146-1611230991</td>\n",
       "      <td>61333938-26440097.html</td>\n",
       "      <td>hardwares Archives - best market Hacker's Plat...</td>\n",
       "      <td>{'Filter', \"best market Hacker's Platform – ha...</td>\n",
       "      <td>{'Showing all 2 results', \"best market Hacker'...</td>\n",
       "      <td>{'Chip Msr Card Skimmer Mcr 200 Emv Mag Stripe...</td>\n",
       "      <td>{'Cash App money transfer 2020Rated 5.00 out o...</td>\n",
       "      <td>{\"best market Hacker's Platform – hacked accou...</td>\n",
       "    </tr>\n",
       "    <tr>\n",
       "      <th>97</th>\n",
       "      <td>Markets</td>\n",
       "      <td>332146-1611230991</td>\n",
       "      <td>61334152-26440164.html</td>\n",
       "      <td>free us fullz Archives - best market Hacker's ...</td>\n",
       "      <td>{'Filter', \"best market Hacker's Platform – ha...</td>\n",
       "      <td>{'Showing all 2 results', \"best market Hacker'...</td>\n",
       "      <td>{'Cart', 'Top rated products', 'Tag: free us f...</td>\n",
       "      <td>{'Cash App money transfer 2020Rated 5.00 out o...</td>\n",
       "      <td>{\"best market Hacker's Platform – hacked accou...</td>\n",
       "    </tr>\n",
       "    <tr>\n",
       "      <th>98</th>\n",
       "      <td>Markets</td>\n",
       "      <td>332146-1611230991</td>\n",
       "      <td>61334193-26440174.html</td>\n",
       "      <td>Heroin Archives - best market Hacker's Platfor...</td>\n",
       "      <td>{'Filter', \"Heroin Archives - best market Hack...</td>\n",
       "      <td>{'Showing all 2 results', \"best market Hacker'...</td>\n",
       "      <td>{'Heroin Lab tested ⦿ USA /EU stock', 'Cart', ...</td>\n",
       "      <td>{'Cash App money transfer 2020Rated 5.00 out o...</td>\n",
       "      <td>{'Select optionsKetamine Lab tested S(+) Isome...</td>\n",
       "    </tr>\n",
       "    <tr>\n",
       "      <th>99</th>\n",
       "      <td>Markets</td>\n",
       "      <td>332146-1611230991</td>\n",
       "      <td>61333863-26440068.html</td>\n",
       "      <td>Cart - best market Hacker's Platform - hacked ...</td>\n",
       "      <td>{'Cash App money transfer 2020', 'contact us',...</td>\n",
       "      <td>{\"best market Hacker's Platform – hacked accou...</td>\n",
       "      <td>{'Product tags', 'Cart', 'Products', 'Product ...</td>\n",
       "      <td>{'Counterfeit Australian Dollar Banknote$109.0...</td>\n",
       "      <td>{'Cash App money transfer 2020', 'contact us',...</td>\n",
       "    </tr>\n",
       "  </tbody>\n",
       "</table>\n",
       "<p>100 rows × 9 columns</p>\n",
       "</div>"
      ],
      "text/plain": [
       "   domain-type        domain-name                log-name  \\\n",
       "0      Markets  337595-1611226233  67116357-27692431.html   \n",
       "1      Markets  337595-1611226233  67051067-27676428.html   \n",
       "2      Markets  337595-1611226233  67051100-27676451.html   \n",
       "3      Markets  337595-1611226233  67115510-27692416.html   \n",
       "4      Markets  337595-1611226233  67116043-27692426.html   \n",
       "..         ...                ...                     ...   \n",
       "95     Markets  332146-1611230991  61334004-26440124.html   \n",
       "96     Markets  332146-1611230991  61333938-26440097.html   \n",
       "97     Markets  332146-1611230991  61334152-26440164.html   \n",
       "98     Markets  332146-1611230991  61334193-26440174.html   \n",
       "99     Markets  332146-1611230991  61333863-26440068.html   \n",
       "\n",
       "                                                title  \\\n",
       "0                                                None   \n",
       "1                             Tor2door Market - Login   \n",
       "2                                                None   \n",
       "3                                                None   \n",
       "4                                                None   \n",
       "..                                                ...   \n",
       "95  Cash App money transfer 2020 - best market Hac...   \n",
       "96  hardwares Archives - best market Hacker's Plat...   \n",
       "97  free us fullz Archives - best market Hacker's ...   \n",
       "98  Heroin Archives - best market Hacker's Platfor...   \n",
       "99  Cart - best market Hacker's Platform - hacked ...   \n",
       "\n",
       "                                          description  \\\n",
       "0   {'2M3YWDQe1bIxCzwx2FZlaTqiFavwD0NatNST+R7QuXxM...   \n",
       "1   {'Create an account', 'Deutsche', 'Español', '...   \n",
       "2                                                None   \n",
       "3                                                None   \n",
       "4                                                None   \n",
       "..                                                ...   \n",
       "95  {'We do not send from stolen Accounts, so no o...   \n",
       "96  {'Filter', \"best market Hacker's Platform – ha...   \n",
       "97  {'Filter', \"best market Hacker's Platform – ha...   \n",
       "98  {'Filter', \"Heroin Archives - best market Hack...   \n",
       "99  {'Cash App money transfer 2020', 'contact us',...   \n",
       "\n",
       "                                           paragraphs  \\\n",
       "0                                                None   \n",
       "1                                                None   \n",
       "2                                                None   \n",
       "3                                                None   \n",
       "4                                                None   \n",
       "..                                                ...   \n",
       "95  {\"best market Hacker's Platform – hacked accou...   \n",
       "96  {'Showing all 2 results', \"best market Hacker'...   \n",
       "97  {'Showing all 2 results', \"best market Hacker'...   \n",
       "98  {'Showing all 2 results', \"best market Hacker'...   \n",
       "99  {\"best market Hacker's Platform – hacked accou...   \n",
       "\n",
       "                                             headings  \\\n",
       "0                                                None   \n",
       "1                                           {'Login'}   \n",
       "2                                       {'Anmeldung'}   \n",
       "3                                       {'Anmeldung'}   \n",
       "4                                                None   \n",
       "..                                                ...   \n",
       "95  {'Related products', 'paypal transfer 2020', '...   \n",
       "96  {'Chip Msr Card Skimmer Mcr 200 Emv Mag Stripe...   \n",
       "97  {'Cart', 'Top rated products', 'Tag: free us f...   \n",
       "98  {'Heroin Lab tested ⦿ USA /EU stock', 'Cart', ...   \n",
       "99  {'Product tags', 'Cart', 'Products', 'Product ...   \n",
       "\n",
       "                                             listings  \\\n",
       "0                                                None   \n",
       "1                                                None   \n",
       "2                                                None   \n",
       "3                                                None   \n",
       "4                                                None   \n",
       "..                                                ...   \n",
       "95  {'order status', 'Cart', 'feedbacks', 'My acco...   \n",
       "96  {'Cash App money transfer 2020Rated 5.00 out o...   \n",
       "97  {'Cash App money transfer 2020Rated 5.00 out o...   \n",
       "98  {'Cash App money transfer 2020Rated 5.00 out o...   \n",
       "99  {'Counterfeit Australian Dollar Banknote$109.0...   \n",
       "\n",
       "                                            link-text  \n",
       "0                                                None  \n",
       "1   {'Deutsche', 'Create an account', 'English', '...  \n",
       "2      {'Ein Konto erstellen', 'English', 'Deutsche'}  \n",
       "3      {'Ein Konto erstellen', 'English', 'Deutsche'}  \n",
       "4          {'English', 'Crea una cuenta', 'Deutsche'}  \n",
       "..                                                ...  \n",
       "95  {\"best market Hacker's Platform – hacked accou...  \n",
       "96  {\"best market Hacker's Platform – hacked accou...  \n",
       "97  {\"best market Hacker's Platform – hacked accou...  \n",
       "98  {'Select optionsKetamine Lab tested S(+) Isome...  \n",
       "99  {'Cash App money transfer 2020', 'contact us',...  \n",
       "\n",
       "[100 rows x 9 columns]"
      ]
     },
     "execution_count": 37,
     "metadata": {},
     "output_type": "execute_result"
    }
   ],
   "source": [
    "markets.head(100)"
   ]
  },
  {
   "cell_type": "code",
   "execution_count": 27,
   "metadata": {},
   "outputs": [
    {
     "data": {
      "text/html": [
       "<div>\n",
       "<style scoped>\n",
       "    .dataframe tbody tr th:only-of-type {\n",
       "        vertical-align: middle;\n",
       "    }\n",
       "\n",
       "    .dataframe tbody tr th {\n",
       "        vertical-align: top;\n",
       "    }\n",
       "\n",
       "    .dataframe thead th {\n",
       "        text-align: right;\n",
       "    }\n",
       "</style>\n",
       "<table border=\"1\" class=\"dataframe\">\n",
       "  <thead>\n",
       "    <tr style=\"text-align: right;\">\n",
       "      <th></th>\n",
       "      <th>domain-type</th>\n",
       "      <th>domain-name</th>\n",
       "      <th>log-name</th>\n",
       "      <th>title</th>\n",
       "      <th>description</th>\n",
       "      <th>paragraphs</th>\n",
       "      <th>headings</th>\n",
       "      <th>listings</th>\n",
       "      <th>link-text</th>\n",
       "    </tr>\n",
       "  </thead>\n",
       "  <tbody>\n",
       "    <tr>\n",
       "      <th>0</th>\n",
       "      <td>Forums</td>\n",
       "      <td>195567-1611233067</td>\n",
       "      <td>24427960-20327571.html</td>\n",
       "      <td>What happened to innocent city? - BoysTown</td>\n",
       "      <td>{'Direction: AscendingDescending', 'Been\\xa0th...</td>\n",
       "      <td>{'Postby happyboyuser123 » Sat Mar 28, 2020 9:...</td>\n",
       "      <td>{'Awards', 'Posting Honor', 'Re: What happened...</td>\n",
       "      <td>{'Board indexVideosArt, Photoshopped, Shotacon...</td>\n",
       "      <td>{'12486 times', 'Return to “Art, Photoshopped,...</td>\n",
       "    </tr>\n",
       "    <tr>\n",
       "      <th>1</th>\n",
       "      <td>Forums</td>\n",
       "      <td>195567-1611233067</td>\n",
       "      <td>24465529-20344929.html</td>\n",
       "      <td>Movies - BoysTown</td>\n",
       "      <td>{'Direction: AscendingDescending', 'Page 1 of ...</td>\n",
       "      <td>{'Return to Board Index', 'Where boys go for a...</td>\n",
       "      <td>{'BoysTown', 'Movies', 'Forum permissions'}</td>\n",
       "      <td>{'Documentary FilmsTopics: 3535 Topics218 Post...</td>\n",
       "      <td>{'Page 1 of 24', 'Movie Clips', 'Tue Mar 24, 2...</td>\n",
       "    </tr>\n",
       "    <tr>\n",
       "      <th>2</th>\n",
       "      <td>Forums</td>\n",
       "      <td>195567-1611233067</td>\n",
       "      <td>24427793-20327404.html</td>\n",
       "      <td>Spycam Pics (photo) - BoysTown</td>\n",
       "      <td>{'all ages', 'Sat Mar 21, 2020 8:36', 'Directi...</td>\n",
       "      <td>{'Return to Board Index', 'Where boys go for a...</td>\n",
       "      <td>{'Spycam Pics (photo)', 'BoysTown', 'Forum per...</td>\n",
       "      <td>{'Board indexPhotosSpycam Pics (photo)', \"Osca...</td>\n",
       "      <td>{'Sat Mar 21, 2020 8:36', 'polyglote1', 'Sat O...</td>\n",
       "    </tr>\n",
       "    <tr>\n",
       "      <th>3</th>\n",
       "      <td>Forums</td>\n",
       "      <td>195567-1611233067</td>\n",
       "      <td>24673512-20327714.html</td>\n",
       "      <td>Fetish (photo) - BoysTown</td>\n",
       "      <td>{'43', 'Direction: AscendingDescending', 'by d...</td>\n",
       "      <td>{'Return to Board Index', 'Where boys go for a...</td>\n",
       "      <td>{'Fetish (photo)', 'BoysTown', 'Forum permissi...</td>\n",
       "      <td>{'43', \"[PISS] Little Boypeep's Wonderful Worl...</td>\n",
       "      <td>{'43', 'Fri Mar 27, 2020 21:41', '[DIAPER] The...</td>\n",
       "    </tr>\n",
       "    <tr>\n",
       "      <th>4</th>\n",
       "      <td>Forums</td>\n",
       "      <td>195567-1611233067</td>\n",
       "      <td>24674416-20460000.html</td>\n",
       "      <td>BoysTown - Login</td>\n",
       "      <td>{'Privacy', 'Skip to content', 'Quick links', ...</td>\n",
       "      <td>{'Where boys go for a good time', 'In order to...</td>\n",
       "      <td>{'Register', 'The board requires you to be reg...</td>\n",
       "      <td>{'Board index', 'All times are UTC', 'Login', ...</td>\n",
       "      <td>{'Board index', 'Privacy', 'Quick links', 'Ski...</td>\n",
       "    </tr>\n",
       "  </tbody>\n",
       "</table>\n",
       "</div>"
      ],
      "text/plain": [
       "  domain-type        domain-name                log-name  \\\n",
       "0      Forums  195567-1611233067  24427960-20327571.html   \n",
       "1      Forums  195567-1611233067  24465529-20344929.html   \n",
       "2      Forums  195567-1611233067  24427793-20327404.html   \n",
       "3      Forums  195567-1611233067  24673512-20327714.html   \n",
       "4      Forums  195567-1611233067  24674416-20460000.html   \n",
       "\n",
       "                                        title  \\\n",
       "0  What happened to innocent city? - BoysTown   \n",
       "1                           Movies - BoysTown   \n",
       "2              Spycam Pics (photo) - BoysTown   \n",
       "3                   Fetish (photo) - BoysTown   \n",
       "4                            BoysTown - Login   \n",
       "\n",
       "                                         description  \\\n",
       "0  {'Direction: AscendingDescending', 'Been\\xa0th...   \n",
       "1  {'Direction: AscendingDescending', 'Page 1 of ...   \n",
       "2  {'all ages', 'Sat Mar 21, 2020 8:36', 'Directi...   \n",
       "3  {'43', 'Direction: AscendingDescending', 'by d...   \n",
       "4  {'Privacy', 'Skip to content', 'Quick links', ...   \n",
       "\n",
       "                                          paragraphs  \\\n",
       "0  {'Postby happyboyuser123 » Sat Mar 28, 2020 9:...   \n",
       "1  {'Return to Board Index', 'Where boys go for a...   \n",
       "2  {'Return to Board Index', 'Where boys go for a...   \n",
       "3  {'Return to Board Index', 'Where boys go for a...   \n",
       "4  {'Where boys go for a good time', 'In order to...   \n",
       "\n",
       "                                            headings  \\\n",
       "0  {'Awards', 'Posting Honor', 'Re: What happened...   \n",
       "1        {'BoysTown', 'Movies', 'Forum permissions'}   \n",
       "2  {'Spycam Pics (photo)', 'BoysTown', 'Forum per...   \n",
       "3  {'Fetish (photo)', 'BoysTown', 'Forum permissi...   \n",
       "4  {'Register', 'The board requires you to be reg...   \n",
       "\n",
       "                                            listings  \\\n",
       "0  {'Board indexVideosArt, Photoshopped, Shotacon...   \n",
       "1  {'Documentary FilmsTopics: 3535 Topics218 Post...   \n",
       "2  {'Board indexPhotosSpycam Pics (photo)', \"Osca...   \n",
       "3  {'43', \"[PISS] Little Boypeep's Wonderful Worl...   \n",
       "4  {'Board index', 'All times are UTC', 'Login', ...   \n",
       "\n",
       "                                           link-text  \n",
       "0  {'12486 times', 'Return to “Art, Photoshopped,...  \n",
       "1  {'Page 1 of 24', 'Movie Clips', 'Tue Mar 24, 2...  \n",
       "2  {'Sat Mar 21, 2020 8:36', 'polyglote1', 'Sat O...  \n",
       "3  {'43', 'Fri Mar 27, 2020 21:41', '[DIAPER] The...  \n",
       "4  {'Board index', 'Privacy', 'Quick links', 'Ski...  "
      ]
     },
     "execution_count": 27,
     "metadata": {},
     "output_type": "execute_result"
    }
   ],
   "source": [
    "forums.head()"
   ]
  },
  {
   "cell_type": "markdown",
   "metadata": {},
   "source": [
    "# Title"
   ]
  },
  {
   "cell_type": "code",
   "execution_count": 54,
   "metadata": {},
   "outputs": [
    {
     "name": "stdout",
     "output_type": "stream",
     "text": [
      "Markets title :\n"
     ]
    },
    {
     "data": {
      "text/plain": [
       "['Tor2door Market - Login',\n",
       " 'Tor2door Market - Registrarse',\n",
       " 'Tor2door Market - Login',\n",
       " 'Tor2door Market - Registrieren',\n",
       " 'Tor2door Market - Register',\n",
       " 'Tor2door Market - Password Reset',\n",
       " 'Tor2door Market - Login',\n",
       " \"Social Network Hacking - best market Hacker's Platform - hacked accounts shop - money transfers worldwide - paypal accounts - preapaid credit cards\",\n",
       " \"money transfers Archives - best market Hacker's Platform - hacked accounts shop - money transfers worldwide - paypal accounts - preapaid credit cards\",\n",
       " \"Counterfeits money Archives - best market Hacker's Platform - hacked accounts shop - money transfers worldwide - paypal accounts - preapaid credit cards\"]"
      ]
     },
     "execution_count": 54,
     "metadata": {},
     "output_type": "execute_result"
    }
   ],
   "source": [
    "market_title_ = markets[markets[\"title\"] != \"None\"]\n",
    "print(\"Markets title :\")\n",
    "list(market_title_.title)[0:10]"
   ]
  },
  {
   "cell_type": "code",
   "execution_count": 55,
   "metadata": {},
   "outputs": [
    {
     "name": "stdout",
     "output_type": "stream",
     "text": [
      "Forums title :\n"
     ]
    },
    {
     "data": {
      "text/plain": [
       "['What happened to innocent city? - BoysTown',\n",
       " 'Movies - BoysTown',\n",
       " 'Spycam Pics (photo) - BoysTown',\n",
       " 'Fetish (photo) - BoysTown',\n",
       " 'BoysTown - Login',\n",
       " 'The Island on Bird Street (1997) - BoysTown',\n",
       " 'Wolfskinder (2013) — Eng sub - BoysTown',\n",
       " 'Toddlers - BoysTown',\n",
       " 'Requested: Body Without Soul - BoysTown',\n",
       " 'BoysTown - User Control Panel - Login']"
      ]
     },
     "execution_count": 55,
     "metadata": {},
     "output_type": "execute_result"
    }
   ],
   "source": [
    "forum_title_ = forums[forums[\"title\"] != \"None\"]\n",
    "print(\"Forums title :\")\n",
    "list(forum_title_.title)[0:10]"
   ]
  },
  {
   "cell_type": "markdown",
   "metadata": {},
   "source": [
    "# Description"
   ]
  },
  {
   "cell_type": "code",
   "execution_count": 61,
   "metadata": {},
   "outputs": [
    {
     "name": "stdout",
     "output_type": "stream",
     "text": [
      "Markets layout :\n"
     ]
    },
    {
     "data": {
      "text/plain": [
       "['{\"best market Hacker\\'s Platform – hacked accounts shop – money transfers worldwide – paypal accounts – preapaid credit cards\", \\'hacked credit cards 2019\\', \\'hacked credit card numbers with cvv and zip code india\\', \\'best travel hacking credit cards canada\\', \\'a hack credit card\\', \\'hacked credit card details 2019\\', \\'contact us\\', \\'hacked credit card info 2019\\', \\'Prepaid Credit Cards 6000$\\', \\'hacked credit card with balance philippines\\', \\'buy a hacked credit card\\', \\'hacked credit card company\\', \\'hacked credit card app\\', \\'Description\\', \\'Category: physical credit cards\\', \\'Add to cart\\', \\'Prepaid Visa card loaded with 6000-6500 $| Work WorldWide | 4 Digit PIN Code Included | Best for: Stores, Online Shopping and ATM’s Withdrawals\\', \\'order status\\', \\'hacking credit card contactless\\', \\'hacked credit card numbers with cvv and zip code 2017\\', \\'My account\\', \\'gift cards for sale – western union transfers – cash app transfer – hacking services\\', \\'hacked credit cards for sale\\', \\'Copyright © 2020 | All Rights Reserved. GrandMart by  Shark Themes\\', \\'hack a credit card number software download\\', \\'$250.00\\', \\'hacked credit card with balance\\', \\'SKU: e75c578fb488\\', \\'Skip to content\\', \\'credit card hacked at gas station\\', \\'Prepaid Credit Cards 6000$ quantity\\', \\'hacked credit card account\\', \\'credit card always hacked\\', \\'a hacker credit card\\', \\'Search\\', \\'Reviews (6)\\', \\'Prepaid & Cloned Cards / Money Transfer via PayPal or Western Union ccmoney team 2020 services\\', \\'point hacks credit card deals\\', \\'Cart\\', \\'Related products\\', \\'hacked working credit card details\\', \\'$350.00 $320.00\\', \\'Menu\\', \\'Prepaid Credit Cards These cards are not associated with a bank account or person and are therefore considered the safest cards to use. These cards costs are a little more expensive than cloned cards because we’ve already clearing a clone card and transferring money to a prepaid card. With this card you can enjoy all the possibilities of use (shopping in stores and withdrawals) along with peace of mind\\', \\'hacking credit card chips\\', \\'travel hacking credit cards canada\\', \\'Only logged in customers who have purchased this product may leave a review.\\', \"Prepaid Credit Cards 6000$ - best market Hacker\\'s Platform - hacked accounts shop - money transfers worldwide - paypal accounts - preapaid credit cards\", \\'live hacked credit card details 2018\\', \\'There are no reviews yet.\\', \\'Prepaid Credit Cards\\', \\'credit card hacked australia\\', \\'Rated 4834.83 out of 5 based on 6 customer ratings (6 customer reviews)\\', \\'hacked credit card details 2017\\', \\'can prepaid credit cards be hacked\\', \\'prepaid credit cards hacked\\', \\'feedbacks\\', \\'credit card hacked after using amazon\\', \\'hacked credit cards for online shopping\\', \\'DxELITE MARKETPLACE | Hire a hacker | Hacked Credit Card | Hacked Paypal  | DRUGS  | HACKED BITCOIN WALLETS\\', \\'credit card hacked again\\', \\'someone hacked my credit card account\\', \\'hacked credit card info 2020\\', \"Tags: 4 Digit PIN Code, a hacker credit card, hacked credit card info 2020, Online Shopping and ATM\\'s Withdrawals, Prepaid Credit Cards, Prepaid Visa card loaded, Work WorldWide\", \\'card hacker credit card apk\\', \\'hacked credit card for online shopping\\', \\'hacked american express credit card\\', \\'Sale!\\', \\'live hacked credit card details\\', \\'hacked credit card with balance india\\', \\'Add to cartPrepaid cloned Cards 7K$ BALLANCERated 4754.75 out of 5\\', \\'Search for:\\'}',\n",
       " '{\\'Filter\\', \"best market Hacker\\'s Platform – hacked accounts shop – money transfers worldwide – paypal accounts – preapaid credit cards\", \\'Top rated products\\', \\'Cash App money transfer 2020\\', \\'$149.00 – $449.00\\', \\'contact us\\', \\'Rated 4.94 out of 5\\', \\'Sort by average rating\\', \\'Select optionsSocial Network HackingRated 4.94 out of 5\\', \\'carding\\', \\'Counterfeits money\\', \\'hacked bitcoin wallets\\', \\'other services\\', \\'Sort by latest\\', \\'Hacking Services\\', \\'REMOTE PC MONITORING\\', \"paypal hacked through facebook Archives - best market Hacker\\'s Platform - hacked accounts shop - money transfers worldwide - paypal accounts - preapaid credit cards\", \\'physical credit cards\\', \\'order status\\', \\'documents\\', \\'My account\\', \\'gift cards for sale – western union transfers – cash app transfer – hacking services\\', \\'Tag: paypal hacked through facebookHomeProductspaypal hacked through facebook\\', \\'prepaid Visa / MasterCards\\', \\'Copyright © 2020 | All Rights Reserved. GrandMart by  Shark Themes\\', \\'Sort by price: low to high\\', \\'money transfers worldwide\\', \\'Western Union transfer 2020\\', \\'Smart Phone Hacking\\', \\'$120.00 – $399.00\\', \\'Skip to content\\', \\'Drugs\\', \\'Default sorting\\', \\'Search\\', \\'Showing the single result\\', \\'hacked PayPal Accounts\\', \\'$125.00 – $499.00\\', \\'electronics\\', \\'Cart\\', \\'$99.00 – $299.00\\', \\'paypal transfer 2020\\', \\'Rated 5.00 out of 5\\', \\'Sort by price: high to low\\', \\'Product categoriesBTC WALLETS\\', \\'Menu\\', \\'CC Fullz(CVV) non vbv\\', \\'dumps and pins\\', \\'$189.00 – $200.00\\', \\'Gift Cards\\', \\'hardwares\\', \\'CartFilter by price\\', \\'Social Network Hacking\\', \\'Gold\\', \\'feedbacks\\', \\'Counterfeits / BankNotes\\', \\'Counterfeits money 3000$\\', \\'DxELITE MARKETPLACE | Hire a hacker | Hacked Credit Card | Hacked Paypal  | DRUGS  | HACKED BITCOIN WALLETS\\', \\'money transfers\\', \\'Sort by popularity\\', \\'Email Hacking\\', \\'Price:  —\\', \\'Search for:\\'}',\n",
       " '{\\'Filter\\', \"best market Hacker\\'s Platform – hacked accounts shop – money transfers worldwide – paypal accounts – preapaid credit cards\", \\'Top rated products\\', \\'Cash App money transfer 2020\\', \"Gold Archives - best market Hacker\\'s Platform - hacked accounts shop - money transfers worldwide - paypal accounts - preapaid credit cards\", \\'Tag: GoldHomeProductsGold\\', \\'$149.00 – $449.00\\', \\'contact us\\', \\'Rated 4.94 out of 5\\', \\'Sort by average rating\\', \\'carding\\', \\'Counterfeits money\\', \\'other services\\', \\'hacked bitcoin wallets\\', \\'Sort by latest\\', \\'Hacking Services\\', \\'REMOTE PC MONITORING\\', \\'physical credit cards\\', \\'order status\\', \\'documents\\', \\'My account\\', \\'gift cards for sale – western union transfers – cash app transfer – hacking services\\', \\'prepaid Visa / MasterCards\\', \\'Copyright © 2020 | All Rights Reserved. GrandMart by  Shark Themes\\', \\'Sort by price: low to high\\', \\'money transfers worldwide\\', \\'Western Union transfer 2020\\', \\'Smart Phone Hacking\\', \\'Select optionsiPhone XS, XR, XS Max (Factory Unlocked) : Space Gray, Silver, Gold,\\', \\'Skip to content\\', \\'Select optionsREAL Gold 24 karat\\', \\'$120.00 – $399.00\\', \\'Drugs\\', \\'Default sorting\\', \\'Showing all 2 results\\', \\'Search\\', \\'hacked PayPal Accounts\\', \\'$125.00 – $499.00\\', \\'electronics\\', \\'Cart\\', \\'$99.00 – $299.00\\', \\'paypal transfer 2020\\', \\'Rated 5.00 out of 5\\', \\'Sort by price: high to low\\', \\'Product categoriesBTC WALLETS\\', \\'Menu\\', \\'CC Fullz(CVV) non vbv\\', \\'dumps and pins\\', \\'$189.00 – $200.00\\', \\'Gift Cards\\', \\'hardwares\\', \\'CartFilter by price\\', \\'Social Network Hacking\\', \\'Gold\\', \\'feedbacks\\', \\'Counterfeits / BankNotes\\', \\'Counterfeits money 3000$\\', \\'DxELITE MARKETPLACE | Hire a hacker | Hacked Credit Card | Hacked Paypal  | DRUGS  | HACKED BITCOIN WALLETS\\', \\'money transfers\\', \\'Sort by popularity\\', \\'Email Hacking\\', \\'Price:  —\\', \\'$500.00 – $1,500.00\\', \\'Search for:\\', \\'$235.00 – $870.00\\'}',\n",
       " '{\\'Filter\\', \"best market Hacker\\'s Platform – hacked accounts shop – money transfers worldwide – paypal accounts – preapaid credit cards\", \\'Top rated products\\', \\'Cash App money transfer 2020\\', \"Gold Archives - best market Hacker\\'s Platform - hacked accounts shop - money transfers worldwide - paypal accounts - preapaid credit cards\", \\'Select optionsRectangular gold bar for saleRated 4.50 out of 5\\', \\'$149.00 – $449.00\\', \\'contact us\\', \\'Rated 4.94 out of 5\\', \\'Sort by average rating\\', \\'carding\\', \\'Counterfeits money\\', \\'other services\\', \\'hacked bitcoin wallets\\', \\'Sort by latest\\', \\'Hacking Services\\', \\'REMOTE PC MONITORING\\', \\'$119.00 – $399.00\\', \\'physical credit cards\\', \\'order status\\', \\'documents\\', \\'My account\\', \\'gift cards for sale – western union transfers – cash app transfer – hacking services\\', \\'prepaid Visa / MasterCards\\', \\'Copyright © 2020 | All Rights Reserved. GrandMart by  Shark Themes\\', \\'Sort by price: low to high\\', \\'money transfers worldwide\\', \\'Western Union transfer 2020\\', \\'Smart Phone Hacking\\', \\'$120.00 – $399.00\\', \\'Skip to content\\', \\'Select optionsREAL Gold 24 karat\\', \\'Drugs\\', \\'Default sorting\\', \\'Search\\', \\'hacked PayPal Accounts\\', \\'$125.00 – $499.00\\', \\'Showing all 3 results\\', \\'electronics\\', \\'Cart\\', \\'$99.00 – $299.00\\', \\'paypal transfer 2020\\', \\'Rated 5.00 out of 5\\', \\'Sort by price: high to low\\', \\'Product categoriesBTC WALLETS\\', \\'Menu\\', \\'$499.00 – $1,499.00\\', \\'CC Fullz(CVV) non vbv\\', \\'dumps and pins\\', \\'$189.00 – $200.00\\', \\'Gift Cards\\', \\'Category: GoldHomeProductsGold\\', \\'Select optionsGold Coins\\', \\'hardwares\\', \\'CartFilter by price\\', \\'Social Network Hacking\\', \\'Gold\\', \\'feedbacks\\', \\'Counterfeits / BankNotes\\', \\'Counterfeits money 3000$\\', \\'DxELITE MARKETPLACE | Hire a hacker | Hacked Credit Card | Hacked Paypal  | DRUGS  | HACKED BITCOIN WALLETS\\', \\'money transfers\\', \\'Sort by popularity\\', \\'Sale!\\', \\'Price:  —\\', \\'Email Hacking\\', \\'Search for:\\', \\'$235.00 – $870.00\\'}',\n",
       " '{\\'Only high balance (non VBV) Fullz, manual selected and checked, Balance 500$-2000$\\', \\'contact us\\', \\'Countries: United States of America, Puerto Rico, Japan\\', \\'[FULLZ]EASY_BITCHES_MONEY[05.02]  $ 30\\', \\'Add to cart\\', \\'Add to cartEmv software FULL version\\', \\'NEW MIX WAVE[05.02]  $ 25\\', \\'[DOB&SSN] NEW CVV WAVE[05.02]  $ 30\\', \\'[themify_button bgcolor=”red” link=”https://www.ccmoney.io/CC-with-CVV-CC-SELLER/product-category/fresh-cc-fullz-with-cvv/” target=”https://www.ccmoney.io/CC-with-CVV-CC-SELLER/product-category/fresh-cc-fullz-with-cvv/”]more CC Fullz with cvv[/themify_button]\\', \\'12x, 25x, 50x\\', \\'Related products\\', \\'Countries: United States of America, Philippines, United Kingdom, Canada, India, Nigeria, Romania, Singapore, Australia, Norway, Mexico, Hong Kong, Guyana, Israel, Indonesia, Kenya, Kuwait, Luxembourg, Malaysia, Trinidad and Tobago, United Arab Emirates, Sweden, Puerto Rico, Georgia, Italy, Bahrain, Cayman Islands, Ireland, Guam, Austria, Japan, Bermuda, Saudi Arabia, Korea, Republic of, Belgium, Switzerland, Cambodia, Viet Nam, Bulgaria, Spain, Lebanon, Greece, Czechia, Iraq, Belize, Ghana, Iceland, Germany, Denmark\\', \\'Select optionsLogs from Zeus 1 GB (CCs, PayPals, Bank Accs…)\\', \\'$1,000.00 $700.00\\', \\'us fullz format\\', \\'Select optionsspain fresh CC Fullz with cvv High Balance $$$\\', \\'usa fullz free\\', \\'Sale!\\', \\'Search for:\\', \\'us fullz info\\', \"best market Hacker\\'s Platform – hacked accounts shop – money transfers worldwide – paypal accounts – preapaid credit cards\", \\'every day at 10 am on NY I have the biggest and highest quality update СС / DUMPs / FULLz. All USA states & all countries. You will be rich with me.\\', \\'Private manual\\\\xa0 how to cashout FULLZ to Bitcoin (Coinbase, Paxful, etc)\\', \\'Countries: United States of America, Mauritius, Portugal\\', \\'us fullz sample\\', \"us fresh CC Fullz with cvv - best market Hacker\\'s Platform - hacked accounts shop - money transfers worldwide - paypal accounts - preapaid credit cards\", \\'RICH KING[05.02]  $ 25\\', \\'We offer fresh and valid fullz that you can use for online cash out. Fullz look like this: 4867967032437155|123|1119|AliceAnt|Wall st. 767|New-York|12345|NY|US|email@email.com|123-123-123\\', \\'$99.00 – $299.00\\', \\'Only logged in customers who have purchased this product may leave a review.\\', \\'$99.00 – $249.00\\', \\'Private manual\\\\xa0 how to carding Amazon, Apple with our fullz\\', \\'Private manual\\\\xa0 how to cashout FULLZ to gift cards and cash\\', \\'[FULLZ] NEW WAVE DARKNET[05.02]  $ 30\\', \\'Private manual\\\\xa0 how to buy electronic\\\\xa0 with our fullz\\', \\'free us fullz\\', \\'us fresh CC Fullz with cvv\\', \\'http://altenens.eu/\\', \\'Copyright © 2020 | All Rights Reserved. GrandMart by  Shark Themes\\', \\'My account\\', \\'gift cards for sale – western union transfers – cash app transfer – hacking services\\', \\'Select optionsJapan CC Fullz(CVV) non vbvRated 4634.63 out of 5\\', \\'FRESH CC`s AND DUMP`s BASE update on FRANKLIN MONEY 05/02\\', \\'Category: carding\\', \\'Cart\\', \\'Countries: United States of America\\', \\'10x us fresh CC Fullz with cvv Fullz include: card number, exp. date, cvv/ cvv2, first name, last name, address, city, zipcode, state, phone number,\\\\xa0 ssn, dob, mother’s maiden name, email,\\\\xa0ID scan\\\\xa0(only 30% of our fullz have id scan).\\', \\'Menu\\', \\'There are no reviews yet.\\', \\'Choose an option12x25x50xClear\\', \\'Date of last package check: yesterday\\', \\'usa fullz pastebin\\', \\'Rated 4674.67 out of 5 based on 9 customer ratings (9 customer reviews)\\', \\'$40.00 – $129.00\\', \\'$250.00 – $499.00\\', \\'us fullz dump\\', \\'Description\\', \\'usa fullz format\\', \\'quantity\\', \\'order status\\', \\'Pack inlcude\\', \\'I have a lot of fresh DUMPS with good validity. large number of CC & FULLz with SSN / DOB(date of birth) / EXP / phone / mail / MMN(mother’s maiden name) / address / with IP address and SECURE CODE.\\', \\'Skip to content\\', \\'buy us fullz\\', \\'Search\\', \\'10 high quality manual selected fullz\\', \\'us dead fullz\\', \\'us fresh CC Fullz with cvv quantity\\', \\'Welcome fellow carders! I`m legit shop / seller.\\', \\'FRESH CC BASES:\\', \\'us cc fullz\\', \\'SKU: bcd8ab0a94d9\\', \\'feedbacks\\', \\'Tags: buy us fullz, free us fullz, us cc fullz, us dead fullz, us fresh CC Fullz with cvv, us fullz dump, us fullz format, us fullz info, us fullz sample, usa fullz format, usa fullz free, usa fullz pastebin\\', \\'DxELITE MARKETPLACE | Hire a hacker | Hacked Credit Card | Hacked Paypal  | DRUGS  | HACKED BITCOIN WALLETS\\', \\'Reviews (9)\\', \\'Valid\\\\xa095%, contact support for replacements, CC checked every week.\\', \\'Additional information\\'}']"
      ]
     },
     "execution_count": 61,
     "metadata": {},
     "output_type": "execute_result"
    }
   ],
   "source": [
    "market_layout_ = markets[markets[\"description\"] != \"None\"]\n",
    "print(\"Markets layout :\")\n",
    "list(market_layout_.description)[20:25]"
   ]
  },
  {
   "cell_type": "code",
   "execution_count": 63,
   "metadata": {},
   "outputs": [
    {
     "name": "stdout",
     "output_type": "stream",
     "text": [
      "forumss layout :\n"
     ]
    },
    {
     "data": {
      "text/plain": [
       "[\"{'Privacy', 'Skip to content', 'Quick links', 'BoysTown - Login', 'The board requires you to be registered and logged in to view profiles.', 'In order to login you must be registered. Registering takes only a few moments but gives you increased capabilities. The board administrator may also grant additional permissions to registered users. Before you register please ensure you are familiar with our terms of use and related policies. Please ensure you read any forum rules as you navigate around the board.', 'Username:', 'Delete cookies', '|', 'All times are UTC', 'Terms of use | Privacy policy', 'FAQ', 'BoysTown', 'Powered by phpBB® Forum Software © phpBB Limited', 'Board index', 'Hide my online status this session', 'Where boys go for a good time', 'Password:', 'Login', 'Register', 'Terms'}\",\n",
       " \"{'Direction: AscendingDescending', 'Deerskin', 'Been\\\\xa0thanked: 113 times', 'Privacy', 'Lassie: The Kittens (1956)', 'Been\\\\xa0thanked: 4197 times', 'Has\\\\xa0thanked: 1544 times', 'Videos', 'Done!', 'Sort by: AuthorPost timeSubject', 'Please reup when you can. Thank you.', 'Badges', 'Skip to content', 'SUPERSTAR', 'Quick links', 'Posts: 1152 Joined: Mon Sep 02, 2019 16:13', 'Quote', 'empboy', 'Top', 'Re: Lassie: The Kittens (1956)', 'Posting Honor', 'Return to “TV Shows”', '4 posts', 'Delete cookies', 'Fresh download links in OP.', '|', 'by empboy » Sun Mar 22, 2020 10:56', 'Movies', 'by empboy » Sun Oct 20, 2019 9:25', 'Display: All posts1 day7 days2 weeks1 month3 months6 months1 year', 'All times are UTC', 'Link for download:http://dl.free.fr/moHXvNndD', 'Has\\\\xa0thanked: 270 times', 'Episode 3 from season 2 of the long-running TV series starring Tommy Rettig.Jeff is fascinated by a new litter of kittens and objects to Grampa’s idea of drowning them.', 'TV Shows', 'FAQ', 'BoysTown', '• Page 1 of 1', 'Print view', 'Powered by phpBB® Forum Software © phpBB Limited', 'Deerskin wrote: ↑Sun Mar 22, 2020 5:14', 'PW: 7r2acjkklto899dh223bjkjk3131310fhsdkdsh88ahdkvnm3allDempboy’s Movie & TV show index', 'Length: 0:23', 'Mirror link for download:http://share.nnov.org/3jezv3frvuys/LASKI.rar.html', 'Board index', 'Filename: LASKI.rar', 'by Deerskin » Sun Mar 22, 2020 5:14', 'Awards', 'PW:', 'Post Reply', '7r2acjkklto899dh223bjkjk3131310fhsdkdsh88ahdkvnm3allD', 'Where boys go for a good time', 'Password:', 'Lassie: The Kittens (1956) - BoysTown', 'Post', 'Login', 'Last edited by empboy on Sun Mar 22, 2020 10:56, edited 1 time in total.', 'Register', 'by empboy » Sun Mar 22, 2020 10:57', 'Terms', 'Posts: 144 Joined: Sun Jul 07, 2019 2:57'}\",\n",
       " \"{'Privacy', 'Skip to content', 'Quick links', 'BoysTown - Login', 'The board requires you to be registered and logged in to view profiles.', 'In order to login you must be registered. Registering takes only a few moments but gives you increased capabilities. The board administrator may also grant additional permissions to registered users. Before you register please ensure you are familiar with our terms of use and related policies. Please ensure you read any forum rules as you navigate around the board.', 'Username:', 'Delete cookies', '|', 'All times are UTC', 'Terms of use | Privacy policy', 'FAQ', 'BoysTown', 'Powered by phpBB® Forum Software © phpBB Limited', 'Board index', 'Hide my online status this session', 'Where boys go for a good time', 'Password:', 'Login', 'Register', 'Terms'}\",\n",
       " \"{'Direction: AscendingDescending', 'Password:  Blonds-Have-More-Fun', 'Allowed image hosts - Page 3 - BoysTown', 'Privacy', 'Allowed hosts', '18 posts', 'Locked', 'Allowed image hosts', '2', 'by blondieboy » Fri Apr 03, 2020 0:17', 'Sort by: AuthorPost timeSubject', 'by blondieboy » Tue Mar 31, 2020 15:32', 'Badges', 'Skip to content', 'Quick links', 'Removed reho.st from list.  It has been offline for a long time.', 'Top', 'Restored Directupload to Recommended status.', 'Posting Honor', 'Important Information', 'Previous', 'Return to “Allowed hosts”', 'Has\\\\xa0thanked: 14421 times', 'Delete cookies', '|', '1', 'Re: Allowed image hosts', 'Display: All posts1 day7 days2 weeks1 month3 months6 months1 year', 'All times are UTC', '3', 'blondieboy', 'FAQ', 'BoysTown', 'Print view', 'Been\\\\xa0thanked: 44772 times', 'Password: Blonds-Have-More-Fun', 'Powered by phpBB® Forum Software © phpBB Limited', 'Board index', 'Awards', 'Where boys go for a good time', 'Posts: 6829 Joined: Sat Aug 10, 2019 14:34', 'Login', 'Post', 'Register', 'Terms', 'Themed Photo Moderator'}\",\n",
       " \"{'Direction: AscendingDescending', 'Privacy', 'Mirror links for download (all required):', 'Videos', 'Posts: 1065 Joined: Mon Sep 02, 2019 16:13', 'Sort by: AuthorPost timeSubject', 'Badges', 'Skip to content', 'SUPERSTAR', 'Quick links', 'by empboy » Sun Mar 29, 2020 22:24', 'Quote', 'empboy', 'Been\\\\xa0thanked: 4022 times', 'Top', 'Posting Honor', 'Re: Searching for Bobby Fischer (1993)', 'Part 1: http://dl.free.fr/jWOimPfX9', 'Delete cookies', 'Part 2: http://dl.free.fr/boVsgjROz', 'Searching for Bobby Fischer (1993) - BoysTown', 'Fresh download links in OP.', 'Part 4: https://letsupload.cc/7a4ardkeo1/SFBF.part4_rar', 'Movies', '|', 'Drama starring Max Pomeranc.A young chess prodigy refuses to toughen himself up in order to become a champion like the famous but unlikable Bobby Fischer.', 'Display: All posts1 day7 days2 weeks1 month3 months6 months1 year', 'All times are UTC', 'Part 1: https://letsupload.cc/5aQ4rek6of/SFBF.part1_rar', 'Length: 1:49', 'Part 4: http://dl.free.fr/booF1BLR2h', 'Professional feature films with young boys (this can be includes scenes of nudity and sexuality)', 'Links for download (all required):', 'Part 3: https://letsupload.cc/X0Q1r5k4o3/SFBF.part3_rar', 'Part 3: http://dl.free.fr/jLXmoVR7v', 'Return to “Movies”', 'FAQ', 'BoysTown', '2 posts', '• Page 1 of 1', 'Print view', 'Powered by phpBB® Forum Software © phpBB Limited', 'PW: 7r2acjkklto899dh223bjkjk3131310fhsdkdsh88ahdkvnm3allDempboy’s Movie & TV show index', 'Filename: SFBF.rar', 'Board index', 'Searching for Bobby Fischer (1993)', 'Awards', 'Part 2: https://letsupload.cc/D0Q5rakfoa/SFBF.part2_rar', 'PW:', 'Post Reply', '7r2acjkklto899dh223bjkjk3131310fhsdkdsh88ahdkvnm3allD', 'Where boys go for a good time', 'Password:', 'Post', 'Login', 'by empboy » Sat Nov 02, 2019 11:44', 'Register', 'Terms', 'Has\\\\xa0thanked: 265 times'}\"]"
      ]
     },
     "execution_count": 63,
     "metadata": {},
     "output_type": "execute_result"
    }
   ],
   "source": [
    "forums_layout_ = forums[forums[\"description\"] != \"None\"]\n",
    "print(\"forumss layout :\")\n",
    "list(forums_layout_.description)[20:25]"
   ]
  },
  {
   "cell_type": "markdown",
   "metadata": {},
   "source": [
    "# Paragraphs"
   ]
  },
  {
   "cell_type": "code",
   "execution_count": 64,
   "metadata": {},
   "outputs": [
    {
     "name": "stdout",
     "output_type": "stream",
     "text": [
      "Markets paragraphs :\n"
     ]
    },
    {
     "data": {
      "text/plain": [
       "['{\"best market Hacker\\'s Platform – hacked accounts shop – money transfers worldwide – paypal accounts – preapaid credit cards\", \\'Showing all 6 results\\', \\'Copyright © 2020 | All Rights Reserved. GrandMart by  Shark Themes\\', \\'gift cards for sale – western union transfers – cash app transfer – hacking services\\'}',\n",
       " '{\"best market Hacker\\'s Platform – hacked accounts shop – money transfers worldwide – paypal accounts – preapaid credit cards\", \\'Showing all 5 results\\', \\'Copyright © 2020 | All Rights Reserved. GrandMart by  Shark Themes\\', \\'gift cards for sale – western union transfers – cash app transfer – hacking services\\'}',\n",
       " '{\"best market Hacker\\'s Platform – hacked accounts shop – money transfers worldwide – paypal accounts – preapaid credit cards\", \\'Only high balance (non VBV) Fullz, manual selected and checked, Balance 500$-2000$\\', \\'4297690121098372:06/24:988:Amar:Subedi:Nisi Ku Meisei 1-6-13:Nagoya::4510064:subediamar926@gmail.com:81-8064871412\\', \\'all received, thanks to the seller for this opportunity\\', \\'Pack inlcude\\', \\'Copyright © 2020 | All Rights Reserved. GrandMart by  Shark Themes\\', \\'gift cards for sale – western union transfers – cash app transfer – hacking services\\', \\'$99.00 – $109.00\\', \\'[FULLZ] NEW WAVE DARKNET[05.02]\\\\xa0$ 30Countries: United States of America, Puerto Rico, Japan\\', \\'FRESH CC`s AND DUMP`s BASE update on FRANKLIN MONEY 05/02FRESH CC BASES:[FULLZ]EASY_BITCHES_MONEY[05.02]\\\\xa0$ 30Countries: United States of America, Mauritius, Portugal\\', \\'We offer fresh and valid 10 UNIT PACK non vbv fullz that you can use for online cash out. Fullz look like this:\\', \\'Kstac – July 9, 2020\\', \\'Best seller in the darknet. I place orders once a week and my account is not blocked, I can freely use the money received. The seller makes the transfer usually within 30 minutes after payment of the order.\\', \\'I bought there already 5 times and so far everything is fine, for which many thanks\\', \\'Feryleroeni – March 4, 2020\\', \\'Handie – June 22, 2020\\', \\'Balance, delivery and quality of service at an altitude, recommend!\\', \\'Welava – August 6, 2020\\', \\'Only logged in customers who have purchased this product may leave a review.\\', \\'I have a lot of fresh\\\\xa0DUMPS\\\\xa0with good validity. large number of\\\\xa0CC & FULLz\\\\xa0with SSN / DOB(date of birth) / EXP / phone / mail / MMN(mother’s maiden name) / address / with IP address and SECURE CODE.every day at 10 am on NY\\\\xa0I have the biggest and highest quality\\\\xa0update СС / DUMPs / FULLz. All USA states & all countries. You will be rich with me.\\', \\'Amazing service my friend. Will spread word to friends.next time faster pliase\\', \\'NEW MIX WAVE[05.02]\\\\xa0$ 25Countries: United States of America, Philippines, United Kingdom, Canada, India, Nigeria, Romania, Singapore, Australia, Norway, Mexico, Hong Kong, Guyana, Israel, Indonesia, Kenya, Kuwait, Luxembourg, Malaysia, Trinidad and Tobago, United Arab Emirates, Sweden, Puerto Rico, Georgia, Italy, Bahrain, Cayman Islands, Ireland, Guam, Austria, Japan, Bermuda, Saudi Arabia, Korea, Republic of, Belgium, Switzerland, Cambodia, Viet Nam, Bulgaria, Spain, Lebanon, Greece, Czechia, Iraq, Belize, Ghana, Iceland, Germany, Denmark\\', \\'Mila5507 – April 9, 2020\\', \\'[DOB&SSN] NEW CVV WAVE[05.02]\\\\xa0$ 30Countries: United States of America\\', \\'Feryleroeni – August 12, 2020\\', \\'Date of last package check: yesterday\\', \\'US, UK, EU, CA, AUS, JP\\', \\'CC Fullz(CVV) non vbv include: card number, exp. date, cvv/ cvv2, first name, last name, address, city, zipcode, state, phone number,\\\\xa0 ssn, dob, mother’s maiden name, email,\\\\xa0ID scan\\\\xa0(only 30% of our fullz have id scan).\\', \\'Valid\\\\xa095%, contact support for replacements, CC checked every week.\\', \\'not bad right\\'}',\n",
       " '{\\'Showing all 2 results\\', \"best market Hacker\\'s Platform – hacked accounts shop – money transfers worldwide – paypal accounts – preapaid credit cards\", \\'Copyright © 2020 | All Rights Reserved. GrandMart by  Shark Themes\\', \\'gift cards for sale – western union transfers – cash app transfer – hacking services\\'}',\n",
       " '{\\'Showing all 2 results\\', \"best market Hacker\\'s Platform – hacked accounts shop – money transfers worldwide – paypal accounts – preapaid credit cards\", \\'Copyright © 2020 | All Rights Reserved. GrandMart by  Shark Themes\\', \\'gift cards for sale – western union transfers – cash app transfer – hacking services\\'}']"
      ]
     },
     "execution_count": 64,
     "metadata": {},
     "output_type": "execute_result"
    }
   ],
   "source": [
    "market_paragraphs_ = markets[markets[\"paragraphs\"] != \"None\"]\n",
    "print(\"Markets paragraphs :\")\n",
    "list(market_paragraphs_.paragraphs)[20:25]"
   ]
  },
  {
   "cell_type": "code",
   "execution_count": 65,
   "metadata": {},
   "outputs": [
    {
     "name": "stdout",
     "output_type": "stream",
     "text": [
      "forums paragraphs :\n"
     ]
    },
    {
     "data": {
      "text/plain": [
       "[\"{'Where boys go for a good time', 'In order to login you must be registered. Registering takes only a few moments but gives you increased capabilities. The board administrator may also grant additional permissions to registered users. Before you register please ensure you are familiar with our terms of use and related policies. Please ensure you read any forum rules as you navigate around the board.', 'Terms of use | Privacy policy', 'Privacy|Terms', 'Register', 'Powered by phpBB® Forum Software © phpBB Limited', 'Skip to content'}\",\n",
       " \"{'Postby empboy » Sun Mar 22, 2020 10:56', 'Postby empboy » Sun Oct 20, 2019 9:25', 'Postby empboy » Sun Mar 22, 2020 10:57', 'Where boys go for a good time', 'Return to “TV Shows”', 'Privacy|Terms', 'Postby Deerskin » Sun Mar 22, 2020 5:14', 'Powered by phpBB® Forum Software © phpBB Limited', 'Skip to content'}\",\n",
       " \"{'Where boys go for a good time', 'In order to login you must be registered. Registering takes only a few moments but gives you increased capabilities. The board administrator may also grant additional permissions to registered users. Before you register please ensure you are familiar with our terms of use and related policies. Please ensure you read any forum rules as you navigate around the board.', 'Terms of use | Privacy policy', 'Privacy|Terms', 'Register', 'Powered by phpBB® Forum Software © phpBB Limited', 'Skip to content'}\",\n",
       " \"{'Postby blondieboy » Fri Apr 03, 2020 0:17', 'Where boys go for a good time', 'Return to “Allowed hosts”', 'Privacy|Terms', 'Powered by phpBB® Forum Software © phpBB Limited', 'Postby blondieboy » Tue Mar 31, 2020 15:32', 'Skip to content'}\",\n",
       " \"{'Where boys go for a good time', 'Postby empboy » Sat Nov 02, 2019 11:44', 'Postby empboy » Sun Mar 29, 2020 22:24', 'Privacy|Terms', 'Return to “Movies”', 'Powered by phpBB® Forum Software © phpBB Limited', 'Skip to content'}\"]"
      ]
     },
     "execution_count": 65,
     "metadata": {},
     "output_type": "execute_result"
    }
   ],
   "source": [
    "forum_paragraphs_ = forums[forums[\"paragraphs\"] != \"None\"]\n",
    "print(\"forums paragraphs :\")\n",
    "list(forum_paragraphs_.paragraphs)[20:25]"
   ]
  },
  {
   "cell_type": "markdown",
   "metadata": {},
   "source": [
    "# Headings"
   ]
  },
  {
   "cell_type": "code",
   "execution_count": 66,
   "metadata": {},
   "outputs": [
    {
     "name": "stdout",
     "output_type": "stream",
     "text": [
      "Markets headings :\n"
     ]
    },
    {
     "data": {
      "text/plain": [
       "[\"{'Related products', 'Prepaid Credit Cards 6000$', 'Prepaid Credit Cards', 'Prepaid & Cloned Cards / Money Transfer via PayPal or Western Union ccmoney team 2020 services', 'Prepaid cloned Cards 7K$ BALLANCE'}\",\n",
       " \"{'Social Network Hacking', 'Cart', 'Top rated products', 'Filter by price', 'Product categories', 'Tag: paypal hacked through facebook'}\",\n",
       " \"{'Cart', 'Top rated products', 'REAL Gold 24 karat', 'Filter by price', 'Product categories', 'iPhone XS, XR, XS Max (Factory Unlocked) : Space Gray, Silver, Gold,', 'Tag: Gold'}\",\n",
       " \"{'Gold Coins', 'Cart', 'Top rated products', 'REAL Gold 24 karat', 'Rectangular gold bar for sale', 'Category: Gold', 'Filter by price', 'Product categories'}\",\n",
       " \"{'Related products', 'spain fresh CC Fullz with cvv High Balance $$$', 'Welcome fellow carders! I`m legit shop / seller.', 'Japan CC Fullz(CVV) non vbv', 'us fresh CC Fullz with cvv', 'Logs from Zeus 1 GB (CCs, PayPals, Bank Accs…)', 'Emv software FULL version'}\"]"
      ]
     },
     "execution_count": 66,
     "metadata": {},
     "output_type": "execute_result"
    }
   ],
   "source": [
    "market_headings = markets[markets[\"headings\"] != \"None\"]\n",
    "print(\"Markets headings :\")\n",
    "list(market_headings.headings)[20:25]"
   ]
  },
  {
   "cell_type": "code",
   "execution_count": 67,
   "metadata": {},
   "outputs": [
    {
     "name": "stdout",
     "output_type": "stream",
     "text": [
      "forums headings :\n"
     ]
    },
    {
     "data": {
      "text/plain": [
       "[\"{'Register', 'The board requires you to be registered and logged in to view profiles.', 'BoysTown'}\",\n",
       " \"{'Posting Honor', 'BoysTown', 'Badges', 'Awards'}\",\n",
       " \"{'Register', 'The board requires you to be registered and logged in to view profiles.', 'BoysTown'}\",\n",
       " \"{'Awards', 'Posting Honor', 'Allowed image hosts', 'BoysTown', 'Re: Allowed image hosts', 'Badges'}\",\n",
       " \"{'Searching for Bobby Fischer (1993)', 'Awards', 'Posting Honor', 'Re: Searching for Bobby Fischer (1993)', 'BoysTown', 'Badges'}\"]"
      ]
     },
     "execution_count": 67,
     "metadata": {},
     "output_type": "execute_result"
    }
   ],
   "source": [
    "forum_headings = forums[forums[\"headings\"] != \"None\"]\n",
    "print(\"forums headings :\")\n",
    "list(forum_headings.headings)[20:25]"
   ]
  },
  {
   "cell_type": "markdown",
   "metadata": {},
   "source": [
    "# Listings"
   ]
  },
  {
   "cell_type": "code",
   "execution_count": 69,
   "metadata": {},
   "outputs": [
    {
     "name": "stdout",
     "output_type": "stream",
     "text": [
      "markets listings :\n"
     ]
    },
    {
     "data": {
      "text/plain": [
       "[\"{'Cash App money transfer 2020Rated 5.00 out of 5$99.00 – $299.00', 'paypal transfer 2020Rated 5.00 out of 5$120.00 – $399.00', 'contact us', 'Counterfeits money', 'carding', 'other services', 'hacked bitcoin wallets', 'Hacking Services', 'REMOTE PC MONITORING', 'physical credit cards', 'Counterfeits money 3000$Rated 5.00 out of 5$189.00 – $200.00', 'order status', 'documents', 'My account', 'prepaid Visa / MasterCards', 'money transfers worldwide', 'Home', 'Smart Phone Hacking', 'Products', 'Drugs', 'Western Union transfer 2020Rated 5.00 out of 5$125.00 – $499.00', 'hacked PayPal Accounts', 'electronics', 'Cart', 'Search for:  Search', 'CC Fullz(CVV) non vbv', 'dumps and pins', 'Gift Cards', 'Social Network HackingRated 4.94 out of 5$149.00 – $449.00', 'hardwares', 'Social Network Hacking', 'Gold', 'feedbacks', 'Counterfeits / BankNotes', 'BTC WALLETS', 'DxELITE MARKETPLACE | Hire a hacker | Hacked Credit Card | Hacked Paypal  | DRUGS  | HACKED BITCOIN WALLETS', 'money transfers', 'Email Hacking'}\",\n",
       " \"{'Cash App money transfer 2020Rated 5.00 out of 5$99.00 – $299.00', 'paypal transfer 2020Rated 5.00 out of 5$120.00 – $399.00', 'contact us', 'Counterfeits money', 'carding', 'other services', 'hacked bitcoin wallets', 'Hacking Services', 'REMOTE PC MONITORING', 'physical credit cards', 'Counterfeits money 3000$Rated 5.00 out of 5$189.00 – $200.00', 'order status', 'documents', 'My account', 'prepaid Visa / MasterCards', 'money transfers worldwide', 'Home', 'Smart Phone Hacking', 'Products', 'Drugs', 'Western Union transfer 2020Rated 5.00 out of 5$125.00 – $499.00', 'hacked PayPal Accounts', 'electronics', 'Cart', 'Search for:  Search', 'CC Fullz(CVV) non vbv', 'dumps and pins', 'Gift Cards', 'Social Network HackingRated 4.94 out of 5$149.00 – $449.00', 'hardwares', 'Social Network Hacking', 'Gold', 'feedbacks', 'Counterfeits / BankNotes', 'BTC WALLETS', 'DxELITE MARKETPLACE | Hire a hacker | Hacked Credit Card | Hacked Paypal  | DRUGS  | HACKED BITCOIN WALLETS', 'money transfers', 'Email Hacking'}\",\n",
       " \"{'Rated 5 out of 5Kstac – July 9, 2020Balance, delivery and quality of service at an altitude, recommend!', 'contact us', 'Rated 5 out of 5Welava – August 6, 2020all received, thanks to the seller for this opportunity', 'Rated 5 out of 5Handie – June 22, 2020Best seller in the darknet. I place orders once a week and my account is not blocked, I can freely use the money received. The seller makes the transfer usually within 30 minutes after payment of the order.', 'Description', 'order status', 'My account', 'Private manual\\\\xa0 how to cashout FULLZ to Bitcoin (Coinbase, Paxful, etc)', '10 high quality manual selected fullz', 'Reviews (6)', 'Cart', 'Search for:  Search', 'Rated 5 out of 5Feryleroeni – March 4, 2020I bought there already 5 times and so far everything is fine, for which many thanks', 'Rated 4 out of 5Feryleroeni – August 12, 2020not bad right', 'Rated 5 out of 5Mila5507 – April 9, 2020Amazing service my friend. Will spread word to friends.next time faster pliase', 'feedbacks', 'Private manual\\\\xa0 how to carding Amazon, Apple with our fullz', 'Private manual\\\\xa0 how to cashout FULLZ to gift cards and cash', 'Private manual\\\\xa0 how to buy electronic\\\\xa0 with our fullz', 'DxELITE MARKETPLACE | Hire a hacker | Hacked Credit Card | Hacked Paypal  | DRUGS  | HACKED BITCOIN WALLETS', 'Additional information'}\",\n",
       " \"{'Cash App money transfer 2020Rated 5.00 out of 5$99.00 – $299.00', 'paypal transfer 2020Rated 5.00 out of 5$120.00 – $399.00', 'contact us', 'Counterfeits money', 'carding', 'other services', 'hacked bitcoin wallets', 'Hacking Services', 'REMOTE PC MONITORING', 'physical credit cards', 'Counterfeits money 3000$Rated 5.00 out of 5$189.00 – $200.00', 'order status', 'documents', 'My account', 'prepaid Visa / MasterCards', 'money transfers worldwide', 'Home', 'Smart Phone Hacking', 'Products', 'Drugs', 'Western Union transfer 2020Rated 5.00 out of 5$125.00 – $499.00', 'hacked PayPal Accounts', 'electronics', 'Cart', 'Search for:  Search', 'CC Fullz(CVV) non vbv', 'dumps and pins', 'Gift Cards', 'Social Network HackingRated 4.94 out of 5$149.00 – $449.00', 'hardwares', 'Social Network Hacking', 'Gold', 'feedbacks', 'Counterfeits / BankNotes', 'BTC WALLETS', 'DxELITE MARKETPLACE | Hire a hacker | Hacked Credit Card | Hacked Paypal  | DRUGS  | HACKED BITCOIN WALLETS', 'money transfers', 'Email Hacking'}\",\n",
       " \"{'Cash App money transfer 2020Rated 5.00 out of 5$99.00 – $299.00', 'paypal transfer 2020Rated 5.00 out of 5$120.00 – $399.00', 'contact us', 'Counterfeits money', 'carding', 'other services', 'hacked bitcoin wallets', 'Hacking Services', 'REMOTE PC MONITORING', 'physical credit cards', 'Counterfeits money 3000$Rated 5.00 out of 5$189.00 – $200.00', 'order status', 'documents', 'My account', 'prepaid Visa / MasterCards', 'money transfers worldwide', 'Home', 'Smart Phone Hacking', 'Products', 'Drugs', 'Western Union transfer 2020Rated 5.00 out of 5$125.00 – $499.00', 'hacked PayPal Accounts', 'electronics', 'Cart', 'Search for:  Search', 'CC Fullz(CVV) non vbv', 'dumps and pins', 'Gift Cards', 'Social Network HackingRated 4.94 out of 5$149.00 – $449.00', 'hardwares', 'Social Network Hacking', 'Gold', 'feedbacks', 'Counterfeits / BankNotes', 'BTC WALLETS', 'DxELITE MARKETPLACE | Hire a hacker | Hacked Credit Card | Hacked Paypal  | DRUGS  | HACKED BITCOIN WALLETS', 'money transfers', 'Email Hacking'}\"]"
      ]
     },
     "execution_count": 69,
     "metadata": {},
     "output_type": "execute_result"
    }
   ],
   "source": [
    "market_listings = markets[markets[\"listings\"] != \"None\"]\n",
    "print(\"markets listings :\")\n",
    "list(market_listings.listings)[20:25]"
   ]
  },
  {
   "cell_type": "code",
   "execution_count": 68,
   "metadata": {},
   "outputs": [
    {
     "name": "stdout",
     "output_type": "stream",
     "text": [
      "forums listings :\n"
     ]
    },
    {
     "data": {
      "text/plain": [
       "[\"{'Board index', 'All times are UTC', 'Login', 'FAQ', 'Delete cookies', 'Register', 'Quick links'}\",\n",
       " \"{'Board index', 'Quote', 'All times are UTC', 'Login', 'FAQ', 'Delete cookies', 'Register', 'Print view', 'Board indexVideosMoviesTV Shows', 'Quick links'}\",\n",
       " \"{'Board index', 'All times are UTC', 'Login', 'FAQ', 'Delete cookies', 'Register', 'Quick links'}\",\n",
       " \"{'3', 'Board index', 'All times are UTC', 'Previous', 'Login', '2', 'FAQ', 'Delete cookies', 'Board indexImportant InformationAllowed hosts', 'Register', '1', 'Print view', 'Quick links'}\",\n",
       " \"{'Board index', 'Quote', 'Board indexVideosMovies', 'All times are UTC', 'Login', 'FAQ', 'Delete cookies', 'Register', 'Print view', 'Quick links'}\"]"
      ]
     },
     "execution_count": 68,
     "metadata": {},
     "output_type": "execute_result"
    }
   ],
   "source": [
    "forum_listings = forums[forums[\"listings\"] != \"None\"]\n",
    "print(\"forums listings :\")\n",
    "list(forum_listings.listings)[20:25]"
   ]
  },
  {
   "cell_type": "markdown",
   "metadata": {},
   "source": [
    "# Links text"
   ]
  },
  {
   "cell_type": "code",
   "execution_count": 72,
   "metadata": {},
   "outputs": [
    {
     "name": "stdout",
     "output_type": "stream",
     "text": [
      "markets link_text :\n"
     ]
    },
    {
     "data": {
      "text/plain": [
       "['{\\'order status\\', \\'Cart\\', \"best market Hacker\\'s Platform – hacked accounts shop – money transfers worldwide – paypal accounts – preapaid credit cards\", \\'feedbacks\\', \\'My account\\', \\'Clear\\', \\'contact us\\', \\'DxELITE MARKETPLACE | Hire a hacker | Hacked Credit Card | Hacked Paypal  | DRUGS  | HACKED BITCOIN WALLETS\\', \\'(9 customer reviews)\\', \\'hacked bitcoin wallets\\', \\'Reviews (9)\\', \\'Skip to content\\', \\'Description\\', \\'Additional information\\'}',\n",
       " '{\"best market Hacker\\'s Platform – hacked accounts shop – money transfers worldwide – paypal accounts – preapaid credit cards\", \\'Cash App money transfer 2020\\', \\'contact us\\', \\'Counterfeits money\\', \\'carding\\', \\'other services\\', \\'hacked bitcoin wallets\\', \\'Shark Themes\\', \\'Hacking Services\\', \\'REMOTE PC MONITORING\\', \\'physical credit cards\\', \\'order status\\', \\'documents\\', \\'My account\\', \\'prepaid Visa / MasterCards\\', \\'money transfers worldwide\\', \\'Smart Phone Hacking\\', \\'Skip to content\\', \\'Drugs\\', \\'hacked PayPal Accounts\\', \\'electronics\\', \\'Cart\\', \\'paypal transfer 2020\\', \\'CC Fullz(CVV) non vbv\\', \\'dumps and pins\\', \\'Gift Cards\\', \\'hardwares\\', \\'Social Network Hacking\\', \\'Gold\\', \\'feedbacks\\', \\'Counterfeits / BankNotes\\', \\'Counterfeits money 3000$\\', \\'BTC WALLETS\\', \\'DxELITE MARKETPLACE | Hire a hacker | Hacked Credit Card | Hacked Paypal  | DRUGS  | HACKED BITCOIN WALLETS\\', \\'money transfers\\', \\'Email Hacking\\', \\'Western Union transfer 2020\\'}',\n",
       " '{\\'order status\\', \\'Cart\\', \"best market Hacker\\'s Platform – hacked accounts shop – money transfers worldwide – paypal accounts – preapaid credit cards\", \\'feedbacks\\', \\'My account\\', \\'Clear\\', \\'Reviews (0)\\', \\'BTC WALLETS\\', \\'contact us\\', \\'DxELITE MARKETPLACE | Hire a hacker | Hacked Credit Card | Hacked Paypal  | DRUGS  | HACKED BITCOIN WALLETS\\', \\'Skip to content\\', \\'Description\\', \\'Additional information\\'}',\n",
       " '{\"best market Hacker\\'s Platform – hacked accounts shop – money transfers worldwide – paypal accounts – preapaid credit cards\", \\'Select optionsCC Fullz(CVV) non vbv 10XRated 4.83 out of 5$99.00 – $109.00\\', \\'Cash App money transfer 2020\\', \\'contact us\\', \\'Counterfeits money\\', \\'carding\\', \\'other services\\', \\'hacked bitcoin wallets\\', \\'Shark Themes\\', \\'Hacking Services\\', \\'REMOTE PC MONITORING\\', \\'physical credit cards\\', \\'order status\\', \\'documents\\', \\'My account\\', \\'prepaid Visa / MasterCards\\', \\'money transfers worldwide\\', \\'Home\\', \\'Smart Phone Hacking\\', \\'Skip to content\\', \\'Products\\', \\'Drugs\\', \\'hacked PayPal Accounts\\', \\'electronics\\', \\'Cart\\', \\'paypal transfer 2020\\', \\'CC Fullz(CVV) non vbv\\', \\'dumps and pins\\', \\'Gift Cards\\', \\'hardwares\\', \\'Social Network Hacking\\', \\'Gold\\', \\'feedbacks\\', \\'Counterfeits / BankNotes\\', \\'Counterfeits money 3000$\\', \\'BTC WALLETS\\', \\'DxELITE MARKETPLACE | Hire a hacker | Hacked Credit Card | Hacked Paypal  | DRUGS  | HACKED BITCOIN WALLETS\\', \\'Select options\\', \\'money transfers\\', \\'Email Hacking\\', \\'Western Union transfer 2020\\'}',\n",
       " '{\"best market Hacker\\'s Platform – hacked accounts shop – money transfers worldwide – paypal accounts – preapaid credit cards\", \\'Cash App money transfer 2020\\', \\'contact us\\', \\'Counterfeits money\\', \\'carding\\', \\'other services\\', \\'hacked bitcoin wallets\\', \\'Shark Themes\\', \\'Hacking Services\\', \\'REMOTE PC MONITORING\\', \\'Add to cart\\', \\'physical credit cards\\', \\'order status\\', \\'documents\\', \\'My account\\', \\'prepaid Visa / MasterCards\\', \\'money transfers worldwide\\', \\'Home\\', \\'Smart Phone Hacking\\', \\'Skip to content\\', \\'Products\\', \\'Drugs\\', \\'hacked PayPal Accounts\\', \\'electronics\\', \\'Cart\\', \\'Sale!Add to cartUK CC Dump + atm PIN x 10 HIGH BALANCE$140.00 $120.00\\', \\'paypal transfer 2020\\', \\'CC Fullz(CVV) non vbv\\', \\'Sale!Add to cartUSA Credit Card DumpS + atm PIN x 10 High Balance$149.00 $119.00\\', \\'dumps and pins\\', \\'Gift Cards\\', \\'hardwares\\', \\'Social Network Hacking\\', \\'Gold\\', \\'feedbacks\\', \\'Counterfeits / BankNotes\\', \\'Counterfeits money 3000$\\', \\'BTC WALLETS\\', \\'DxELITE MARKETPLACE | Hire a hacker | Hacked Credit Card | Hacked Paypal  | DRUGS  | HACKED BITCOIN WALLETS\\', \\'money transfers\\', \\'Email Hacking\\', \\'Western Union transfer 2020\\'}']"
      ]
     },
     "execution_count": 72,
     "metadata": {},
     "output_type": "execute_result"
    }
   ],
   "source": [
    "market_link_text = markets[markets[\"link-text\"] != \"None\"]\n",
    "print(\"markets link_text :\")\n",
    "list(market_link_text[\"link-text\"])[20:25]"
   ]
  },
  {
   "cell_type": "markdown",
   "metadata": {},
   "source": [
    "# Inconsistency in tagging"
   ]
  },
  {
   "cell_type": "code",
   "execution_count": 36,
   "metadata": {},
   "outputs": [
    {
     "data": {
      "text/html": [
       "<div>\n",
       "<style scoped>\n",
       "    .dataframe tbody tr th:only-of-type {\n",
       "        vertical-align: middle;\n",
       "    }\n",
       "\n",
       "    .dataframe tbody tr th {\n",
       "        vertical-align: top;\n",
       "    }\n",
       "\n",
       "    .dataframe thead th {\n",
       "        text-align: right;\n",
       "    }\n",
       "</style>\n",
       "<table border=\"1\" class=\"dataframe\">\n",
       "  <thead>\n",
       "    <tr style=\"text-align: right;\">\n",
       "      <th></th>\n",
       "      <th>domain-type</th>\n",
       "      <th>domain-name</th>\n",
       "      <th>log-name</th>\n",
       "      <th>title</th>\n",
       "      <th>description</th>\n",
       "      <th>paragraphs</th>\n",
       "      <th>headings</th>\n",
       "      <th>listings</th>\n",
       "      <th>link-text</th>\n",
       "    </tr>\n",
       "  </thead>\n",
       "  <tbody>\n",
       "    <tr>\n",
       "      <th>2500</th>\n",
       "      <td>Markets</td>\n",
       "      <td>61782-1611226727</td>\n",
       "      <td>43605659-25443857.html</td>\n",
       "      <td>MEDUSA</td>\n",
       "      <td>None</td>\n",
       "      <td>{'111'}</td>\n",
       "      <td>{'Взнос владельцу магазина «iPhone XS 256 гиго...</td>\n",
       "      <td>{'Оружие', 'Карты, SIM', 'Карты на обнал', '1'...</td>\n",
       "      <td>{'54                                        %'...</td>\n",
       "    </tr>\n",
       "    <tr>\n",
       "      <th>2501</th>\n",
       "      <td>Markets</td>\n",
       "      <td>61782-1611226727</td>\n",
       "      <td>27615157-21610031.html</td>\n",
       "      <td>MEDUSA</td>\n",
       "      <td>None</td>\n",
       "      <td>None</td>\n",
       "      <td>None</td>\n",
       "      <td>{'Логин', 'Пароль'}</td>\n",
       "      <td>{'Регистрация', 'Вход', 'Medusa', 'Забыли паро...</td>\n",
       "    </tr>\n",
       "    <tr>\n",
       "      <th>2502</th>\n",
       "      <td>Markets</td>\n",
       "      <td>61782-1611226727</td>\n",
       "      <td>58811581-26345859.html</td>\n",
       "      <td>MEDUSA</td>\n",
       "      <td>None</td>\n",
       "      <td>None</td>\n",
       "      <td>None</td>\n",
       "      <td>{'Логин', 'Пароль'}</td>\n",
       "      <td>{'Регистрация', 'Вход', 'Medusa', 'Забыли паро...</td>\n",
       "    </tr>\n",
       "    <tr>\n",
       "      <th>2503</th>\n",
       "      <td>Markets</td>\n",
       "      <td>61782-1611226727</td>\n",
       "      <td>51080441-25443890.html</td>\n",
       "      <td>MEDUSA</td>\n",
       "      <td>None</td>\n",
       "      <td>None</td>\n",
       "      <td>{'Техника Apple,Samsung,Xiaomi со складов тамо...</td>\n",
       "      <td>{'Оружие', 'Карты, SIM', 'Карты на обнал', 'Ра...</td>\n",
       "      <td>{'Карты, SIM', 'Порча имущества, конкуренты', ...</td>\n",
       "    </tr>\n",
       "    <tr>\n",
       "      <th>2504</th>\n",
       "      <td>Markets</td>\n",
       "      <td>61782-1611226727</td>\n",
       "      <td>34387710-24312888.html</td>\n",
       "      <td>MEDUSA</td>\n",
       "      <td>None</td>\n",
       "      <td>None</td>\n",
       "      <td>None</td>\n",
       "      <td>{'Логин', 'Пароль'}</td>\n",
       "      <td>{'Регистрация', 'Вход', 'Medusa', 'Забыли паро...</td>\n",
       "    </tr>\n",
       "    <tr>\n",
       "      <th>2505</th>\n",
       "      <td>Markets</td>\n",
       "      <td>61782-1611226727</td>\n",
       "      <td>51079768-25983433.html</td>\n",
       "      <td>MEDUSA</td>\n",
       "      <td>None</td>\n",
       "      <td>None</td>\n",
       "      <td>{'Вакансии', 'Взнос владельцу магазина «ПМ бое...</td>\n",
       "      <td>{'Оружие', 'Карты, SIM', 'Карты на обнал', 'Ра...</td>\n",
       "      <td>{'Карты, SIM', 'Порча имущества, конкуренты', ...</td>\n",
       "    </tr>\n",
       "    <tr>\n",
       "      <th>2506</th>\n",
       "      <td>Markets</td>\n",
       "      <td>61782-1611226727</td>\n",
       "      <td>43604151-25443447.html</td>\n",
       "      <td>MEDUSA</td>\n",
       "      <td>None</td>\n",
       "      <td>None</td>\n",
       "      <td>None</td>\n",
       "      <td>{'Логин', 'Пароль'}</td>\n",
       "      <td>{'Регистрация', 'Вход', 'Medusa', 'Забыли паро...</td>\n",
       "    </tr>\n",
       "    <tr>\n",
       "      <th>2507</th>\n",
       "      <td>Markets</td>\n",
       "      <td>61782-1611226727</td>\n",
       "      <td>3172661-425625.html</td>\n",
       "      <td>None</td>\n",
       "      <td>None</td>\n",
       "      <td>None</td>\n",
       "      <td>{'О магазине'}</td>\n",
       "      <td>{'Оружие', 'Карты, SIM', 'ПАВ', 'Москва', 'Раб...</td>\n",
       "      <td>{'Карты, SIM', 'ПАВ', 'BTC - EUR - WU BITCOIN ...</td>\n",
       "    </tr>\n",
       "    <tr>\n",
       "      <th>2508</th>\n",
       "      <td>Markets</td>\n",
       "      <td>61782-1611226727</td>\n",
       "      <td>19821085-16084831.html</td>\n",
       "      <td>Black Money |                MEDUSA</td>\n",
       "      <td>None</td>\n",
       "      <td>None</td>\n",
       "      <td>{'Взнос владельцу магазина «Black Money»', 'Bl...</td>\n",
       "      <td>{'Оружие', 'Карты, SIM', 'ПАВ', 'Москва', 'Раб...</td>\n",
       "      <td>{'Карты, SIM', 'ПАВ', 'Порча имущества, конкур...</td>\n",
       "    </tr>\n",
       "    <tr>\n",
       "      <th>2509</th>\n",
       "      <td>Markets</td>\n",
       "      <td>61782-1611226727</td>\n",
       "      <td>34388152-24313041.html</td>\n",
       "      <td>MEDUSA</td>\n",
       "      <td>None</td>\n",
       "      <td>None</td>\n",
       "      <td>{'Категории'}</td>\n",
       "      <td>{'Карты, SIM', '40', '43', 'Санкт-Петербург', ...</td>\n",
       "      <td>{'Пробив ЗУ/НТО СПб', 'Карты, SIM', '43', '40'...</td>\n",
       "    </tr>\n",
       "    <tr>\n",
       "      <th>2510</th>\n",
       "      <td>Markets</td>\n",
       "      <td>61782-1611226727</td>\n",
       "      <td>40717-42576.html</td>\n",
       "      <td>Medusa</td>\n",
       "      <td>None</td>\n",
       "      <td>{'Danabol.Shop', '1FieyiGHmFfdU1EGzCws2ZMDXHFE...</td>\n",
       "      <td>{'Авторизация', 'Вход'}</td>\n",
       "      <td>{'Карты, SIM', 'Психоделики', 'Оружие', 'Марих...</td>\n",
       "      <td>{'Карты, SIM', 'Вход', 'medusaqqixxubgha.onion...</td>\n",
       "    </tr>\n",
       "  </tbody>\n",
       "</table>\n",
       "</div>"
      ],
      "text/plain": [
       "     domain-type       domain-name                log-name  \\\n",
       "2500     Markets  61782-1611226727  43605659-25443857.html   \n",
       "2501     Markets  61782-1611226727  27615157-21610031.html   \n",
       "2502     Markets  61782-1611226727  58811581-26345859.html   \n",
       "2503     Markets  61782-1611226727  51080441-25443890.html   \n",
       "2504     Markets  61782-1611226727  34387710-24312888.html   \n",
       "2505     Markets  61782-1611226727  51079768-25983433.html   \n",
       "2506     Markets  61782-1611226727  43604151-25443447.html   \n",
       "2507     Markets  61782-1611226727     3172661-425625.html   \n",
       "2508     Markets  61782-1611226727  19821085-16084831.html   \n",
       "2509     Markets  61782-1611226727  34388152-24313041.html   \n",
       "2510     Markets  61782-1611226727        40717-42576.html   \n",
       "\n",
       "                                    title description  \\\n",
       "2500                               MEDUSA        None   \n",
       "2501                               MEDUSA        None   \n",
       "2502                               MEDUSA        None   \n",
       "2503                               MEDUSA        None   \n",
       "2504                               MEDUSA        None   \n",
       "2505                               MEDUSA        None   \n",
       "2506                               MEDUSA        None   \n",
       "2507                                 None        None   \n",
       "2508  Black Money |                MEDUSA        None   \n",
       "2509                               MEDUSA        None   \n",
       "2510                               Medusa        None   \n",
       "\n",
       "                                             paragraphs  \\\n",
       "2500                                            {'111'}   \n",
       "2501                                               None   \n",
       "2502                                               None   \n",
       "2503                                               None   \n",
       "2504                                               None   \n",
       "2505                                               None   \n",
       "2506                                               None   \n",
       "2507                                               None   \n",
       "2508                                               None   \n",
       "2509                                               None   \n",
       "2510  {'Danabol.Shop', '1FieyiGHmFfdU1EGzCws2ZMDXHFE...   \n",
       "\n",
       "                                               headings  \\\n",
       "2500  {'Взнос владельцу магазина «iPhone XS 256 гиго...   \n",
       "2501                                               None   \n",
       "2502                                               None   \n",
       "2503  {'Техника Apple,Samsung,Xiaomi со складов тамо...   \n",
       "2504                                               None   \n",
       "2505  {'Вакансии', 'Взнос владельцу магазина «ПМ бое...   \n",
       "2506                                               None   \n",
       "2507                                     {'О магазине'}   \n",
       "2508  {'Взнос владельцу магазина «Black Money»', 'Bl...   \n",
       "2509                                      {'Категории'}   \n",
       "2510                            {'Авторизация', 'Вход'}   \n",
       "\n",
       "                                               listings  \\\n",
       "2500  {'Оружие', 'Карты, SIM', 'Карты на обнал', '1'...   \n",
       "2501                                {'Логин', 'Пароль'}   \n",
       "2502                                {'Логин', 'Пароль'}   \n",
       "2503  {'Оружие', 'Карты, SIM', 'Карты на обнал', 'Ра...   \n",
       "2504                                {'Логин', 'Пароль'}   \n",
       "2505  {'Оружие', 'Карты, SIM', 'Карты на обнал', 'Ра...   \n",
       "2506                                {'Логин', 'Пароль'}   \n",
       "2507  {'Оружие', 'Карты, SIM', 'ПАВ', 'Москва', 'Раб...   \n",
       "2508  {'Оружие', 'Карты, SIM', 'ПАВ', 'Москва', 'Раб...   \n",
       "2509  {'Карты, SIM', '40', '43', 'Санкт-Петербург', ...   \n",
       "2510  {'Карты, SIM', 'Психоделики', 'Оружие', 'Марих...   \n",
       "\n",
       "                                              link-text  \n",
       "2500  {'54                                        %'...  \n",
       "2501  {'Регистрация', 'Вход', 'Medusa', 'Забыли паро...  \n",
       "2502  {'Регистрация', 'Вход', 'Medusa', 'Забыли паро...  \n",
       "2503  {'Карты, SIM', 'Порча имущества, конкуренты', ...  \n",
       "2504  {'Регистрация', 'Вход', 'Medusa', 'Забыли паро...  \n",
       "2505  {'Карты, SIM', 'Порча имущества, конкуренты', ...  \n",
       "2506  {'Регистрация', 'Вход', 'Medusa', 'Забыли паро...  \n",
       "2507  {'Карты, SIM', 'ПАВ', 'BTC - EUR - WU BITCOIN ...  \n",
       "2508  {'Карты, SIM', 'ПАВ', 'Порча имущества, конкур...  \n",
       "2509  {'Пробив ЗУ/НТО СПб', 'Карты, SIM', '43', '40'...  \n",
       "2510  {'Карты, SIM', 'Вход', 'medusaqqixxubgha.onion...  "
      ]
     },
     "execution_count": 36,
     "metadata": {},
     "output_type": "execute_result"
    }
   ],
   "source": [
    "markets.loc[2500:2510]"
   ]
  },
  {
   "cell_type": "markdown",
   "metadata": {},
   "source": [
    "# Stats"
   ]
  },
  {
   "cell_type": "code",
   "execution_count": 10,
   "metadata": {},
   "outputs": [],
   "source": [
    "x = [\"title\", \"description\", \"paragraphs\", \"headings\", \"listings\", \"link-text\"]\n",
    "\"\"\"x_ = [index for index, value in enumerate(x)]\n",
    "x1 = [value-0.15 for value in x]\n",
    "x2 = [value+0.15 for value in x]\n",
    "\"\"\"\n",
    "market_list = [markets[markets[\"title\"] != \"None\"].shape[0], markets[markets[\"description\"] != \"None\"].shape[0],\n",
    "               markets[markets[\"paragraphs\"] != \"None\"].shape[0],\n",
    "              markets[markets[\"headings\"] != \"None\"].shape[0], markets[markets[\"listings\"] != \"None\"].shape[0], \n",
    "              markets[markets[\"link-text\"] != \"None\"].shape[0]]\n",
    "forum_list = [forums[forums[\"title\"] != \"None\"].shape[0], forums[forums[\"description\"] != \"None\"].shape[0],\n",
    "              forums[forums[\"paragraphs\"] != \"None\"].shape[0],\n",
    "              forums[forums[\"headings\"] != \"None\"].shape[0], forums[forums[\"listings\"] != \"None\"].shape[0], \n",
    "              forums[forums[\"link-text\"] != \"None\"].shape[0]]\n",
    "market_list = [value/markets.shape[0] for value in market_list]\n",
    "forum_list = [value/forums.shape[0] for value in forum_list]"
   ]
  },
  {
   "cell_type": "code",
   "execution_count": 15,
   "metadata": {},
   "outputs": [
    {
     "data": {
      "application/vnd.plotly.v1+json": {
       "config": {
        "plotlyServerURL": "https://plot.ly"
       },
       "data": [
        {
         "marker": {
          "color": "blue"
         },
         "name": "Markets",
         "type": "bar",
         "x": [
          "title",
          "description",
          "paragraphs",
          "headings",
          "listings",
          "link-text"
         ],
         "y": [
          0.9137458092045109,
          0.41024078024992383,
          0.38860103626943004,
          0.6668698567509905,
          0.9195367266077416,
          0.9612922889362999
         ]
        },
        {
         "marker": {
          "color": "orange"
         },
         "name": "Forums",
         "type": "bar",
         "x": [
          "title",
          "description",
          "paragraphs",
          "headings",
          "listings",
          "link-text"
         ],
         "y": [
          0.9530916844349681,
          1,
          0.9989339019189766,
          0.9989339019189766,
          0.9968017057569296,
          0.9989339019189766
         ]
        }
       ],
       "layout": {
        "barmode": "relative",
        "template": {
         "data": {
          "bar": [
           {
            "error_x": {
             "color": "#2a3f5f"
            },
            "error_y": {
             "color": "#2a3f5f"
            },
            "marker": {
             "line": {
              "color": "#E5ECF6",
              "width": 0.5
             }
            },
            "type": "bar"
           }
          ],
          "barpolar": [
           {
            "marker": {
             "line": {
              "color": "#E5ECF6",
              "width": 0.5
             }
            },
            "type": "barpolar"
           }
          ],
          "carpet": [
           {
            "aaxis": {
             "endlinecolor": "#2a3f5f",
             "gridcolor": "white",
             "linecolor": "white",
             "minorgridcolor": "white",
             "startlinecolor": "#2a3f5f"
            },
            "baxis": {
             "endlinecolor": "#2a3f5f",
             "gridcolor": "white",
             "linecolor": "white",
             "minorgridcolor": "white",
             "startlinecolor": "#2a3f5f"
            },
            "type": "carpet"
           }
          ],
          "choropleth": [
           {
            "colorbar": {
             "outlinewidth": 0,
             "ticks": ""
            },
            "type": "choropleth"
           }
          ],
          "contour": [
           {
            "colorbar": {
             "outlinewidth": 0,
             "ticks": ""
            },
            "colorscale": [
             [
              0,
              "#0d0887"
             ],
             [
              0.1111111111111111,
              "#46039f"
             ],
             [
              0.2222222222222222,
              "#7201a8"
             ],
             [
              0.3333333333333333,
              "#9c179e"
             ],
             [
              0.4444444444444444,
              "#bd3786"
             ],
             [
              0.5555555555555556,
              "#d8576b"
             ],
             [
              0.6666666666666666,
              "#ed7953"
             ],
             [
              0.7777777777777778,
              "#fb9f3a"
             ],
             [
              0.8888888888888888,
              "#fdca26"
             ],
             [
              1,
              "#f0f921"
             ]
            ],
            "type": "contour"
           }
          ],
          "contourcarpet": [
           {
            "colorbar": {
             "outlinewidth": 0,
             "ticks": ""
            },
            "type": "contourcarpet"
           }
          ],
          "heatmap": [
           {
            "colorbar": {
             "outlinewidth": 0,
             "ticks": ""
            },
            "colorscale": [
             [
              0,
              "#0d0887"
             ],
             [
              0.1111111111111111,
              "#46039f"
             ],
             [
              0.2222222222222222,
              "#7201a8"
             ],
             [
              0.3333333333333333,
              "#9c179e"
             ],
             [
              0.4444444444444444,
              "#bd3786"
             ],
             [
              0.5555555555555556,
              "#d8576b"
             ],
             [
              0.6666666666666666,
              "#ed7953"
             ],
             [
              0.7777777777777778,
              "#fb9f3a"
             ],
             [
              0.8888888888888888,
              "#fdca26"
             ],
             [
              1,
              "#f0f921"
             ]
            ],
            "type": "heatmap"
           }
          ],
          "heatmapgl": [
           {
            "colorbar": {
             "outlinewidth": 0,
             "ticks": ""
            },
            "colorscale": [
             [
              0,
              "#0d0887"
             ],
             [
              0.1111111111111111,
              "#46039f"
             ],
             [
              0.2222222222222222,
              "#7201a8"
             ],
             [
              0.3333333333333333,
              "#9c179e"
             ],
             [
              0.4444444444444444,
              "#bd3786"
             ],
             [
              0.5555555555555556,
              "#d8576b"
             ],
             [
              0.6666666666666666,
              "#ed7953"
             ],
             [
              0.7777777777777778,
              "#fb9f3a"
             ],
             [
              0.8888888888888888,
              "#fdca26"
             ],
             [
              1,
              "#f0f921"
             ]
            ],
            "type": "heatmapgl"
           }
          ],
          "histogram": [
           {
            "marker": {
             "colorbar": {
              "outlinewidth": 0,
              "ticks": ""
             }
            },
            "type": "histogram"
           }
          ],
          "histogram2d": [
           {
            "colorbar": {
             "outlinewidth": 0,
             "ticks": ""
            },
            "colorscale": [
             [
              0,
              "#0d0887"
             ],
             [
              0.1111111111111111,
              "#46039f"
             ],
             [
              0.2222222222222222,
              "#7201a8"
             ],
             [
              0.3333333333333333,
              "#9c179e"
             ],
             [
              0.4444444444444444,
              "#bd3786"
             ],
             [
              0.5555555555555556,
              "#d8576b"
             ],
             [
              0.6666666666666666,
              "#ed7953"
             ],
             [
              0.7777777777777778,
              "#fb9f3a"
             ],
             [
              0.8888888888888888,
              "#fdca26"
             ],
             [
              1,
              "#f0f921"
             ]
            ],
            "type": "histogram2d"
           }
          ],
          "histogram2dcontour": [
           {
            "colorbar": {
             "outlinewidth": 0,
             "ticks": ""
            },
            "colorscale": [
             [
              0,
              "#0d0887"
             ],
             [
              0.1111111111111111,
              "#46039f"
             ],
             [
              0.2222222222222222,
              "#7201a8"
             ],
             [
              0.3333333333333333,
              "#9c179e"
             ],
             [
              0.4444444444444444,
              "#bd3786"
             ],
             [
              0.5555555555555556,
              "#d8576b"
             ],
             [
              0.6666666666666666,
              "#ed7953"
             ],
             [
              0.7777777777777778,
              "#fb9f3a"
             ],
             [
              0.8888888888888888,
              "#fdca26"
             ],
             [
              1,
              "#f0f921"
             ]
            ],
            "type": "histogram2dcontour"
           }
          ],
          "mesh3d": [
           {
            "colorbar": {
             "outlinewidth": 0,
             "ticks": ""
            },
            "type": "mesh3d"
           }
          ],
          "parcoords": [
           {
            "line": {
             "colorbar": {
              "outlinewidth": 0,
              "ticks": ""
             }
            },
            "type": "parcoords"
           }
          ],
          "pie": [
           {
            "automargin": true,
            "type": "pie"
           }
          ],
          "scatter": [
           {
            "marker": {
             "colorbar": {
              "outlinewidth": 0,
              "ticks": ""
             }
            },
            "type": "scatter"
           }
          ],
          "scatter3d": [
           {
            "line": {
             "colorbar": {
              "outlinewidth": 0,
              "ticks": ""
             }
            },
            "marker": {
             "colorbar": {
              "outlinewidth": 0,
              "ticks": ""
             }
            },
            "type": "scatter3d"
           }
          ],
          "scattercarpet": [
           {
            "marker": {
             "colorbar": {
              "outlinewidth": 0,
              "ticks": ""
             }
            },
            "type": "scattercarpet"
           }
          ],
          "scattergeo": [
           {
            "marker": {
             "colorbar": {
              "outlinewidth": 0,
              "ticks": ""
             }
            },
            "type": "scattergeo"
           }
          ],
          "scattergl": [
           {
            "marker": {
             "colorbar": {
              "outlinewidth": 0,
              "ticks": ""
             }
            },
            "type": "scattergl"
           }
          ],
          "scattermapbox": [
           {
            "marker": {
             "colorbar": {
              "outlinewidth": 0,
              "ticks": ""
             }
            },
            "type": "scattermapbox"
           }
          ],
          "scatterpolar": [
           {
            "marker": {
             "colorbar": {
              "outlinewidth": 0,
              "ticks": ""
             }
            },
            "type": "scatterpolar"
           }
          ],
          "scatterpolargl": [
           {
            "marker": {
             "colorbar": {
              "outlinewidth": 0,
              "ticks": ""
             }
            },
            "type": "scatterpolargl"
           }
          ],
          "scatterternary": [
           {
            "marker": {
             "colorbar": {
              "outlinewidth": 0,
              "ticks": ""
             }
            },
            "type": "scatterternary"
           }
          ],
          "surface": [
           {
            "colorbar": {
             "outlinewidth": 0,
             "ticks": ""
            },
            "colorscale": [
             [
              0,
              "#0d0887"
             ],
             [
              0.1111111111111111,
              "#46039f"
             ],
             [
              0.2222222222222222,
              "#7201a8"
             ],
             [
              0.3333333333333333,
              "#9c179e"
             ],
             [
              0.4444444444444444,
              "#bd3786"
             ],
             [
              0.5555555555555556,
              "#d8576b"
             ],
             [
              0.6666666666666666,
              "#ed7953"
             ],
             [
              0.7777777777777778,
              "#fb9f3a"
             ],
             [
              0.8888888888888888,
              "#fdca26"
             ],
             [
              1,
              "#f0f921"
             ]
            ],
            "type": "surface"
           }
          ],
          "table": [
           {
            "cells": {
             "fill": {
              "color": "#EBF0F8"
             },
             "line": {
              "color": "white"
             }
            },
            "header": {
             "fill": {
              "color": "#C8D4E3"
             },
             "line": {
              "color": "white"
             }
            },
            "type": "table"
           }
          ]
         },
         "layout": {
          "annotationdefaults": {
           "arrowcolor": "#2a3f5f",
           "arrowhead": 0,
           "arrowwidth": 1
          },
          "autotypenumbers": "strict",
          "coloraxis": {
           "colorbar": {
            "outlinewidth": 0,
            "ticks": ""
           }
          },
          "colorscale": {
           "diverging": [
            [
             0,
             "#8e0152"
            ],
            [
             0.1,
             "#c51b7d"
            ],
            [
             0.2,
             "#de77ae"
            ],
            [
             0.3,
             "#f1b6da"
            ],
            [
             0.4,
             "#fde0ef"
            ],
            [
             0.5,
             "#f7f7f7"
            ],
            [
             0.6,
             "#e6f5d0"
            ],
            [
             0.7,
             "#b8e186"
            ],
            [
             0.8,
             "#7fbc41"
            ],
            [
             0.9,
             "#4d9221"
            ],
            [
             1,
             "#276419"
            ]
           ],
           "sequential": [
            [
             0,
             "#0d0887"
            ],
            [
             0.1111111111111111,
             "#46039f"
            ],
            [
             0.2222222222222222,
             "#7201a8"
            ],
            [
             0.3333333333333333,
             "#9c179e"
            ],
            [
             0.4444444444444444,
             "#bd3786"
            ],
            [
             0.5555555555555556,
             "#d8576b"
            ],
            [
             0.6666666666666666,
             "#ed7953"
            ],
            [
             0.7777777777777778,
             "#fb9f3a"
            ],
            [
             0.8888888888888888,
             "#fdca26"
            ],
            [
             1,
             "#f0f921"
            ]
           ],
           "sequentialminus": [
            [
             0,
             "#0d0887"
            ],
            [
             0.1111111111111111,
             "#46039f"
            ],
            [
             0.2222222222222222,
             "#7201a8"
            ],
            [
             0.3333333333333333,
             "#9c179e"
            ],
            [
             0.4444444444444444,
             "#bd3786"
            ],
            [
             0.5555555555555556,
             "#d8576b"
            ],
            [
             0.6666666666666666,
             "#ed7953"
            ],
            [
             0.7777777777777778,
             "#fb9f3a"
            ],
            [
             0.8888888888888888,
             "#fdca26"
            ],
            [
             1,
             "#f0f921"
            ]
           ]
          },
          "colorway": [
           "#636efa",
           "#EF553B",
           "#00cc96",
           "#ab63fa",
           "#FFA15A",
           "#19d3f3",
           "#FF6692",
           "#B6E880",
           "#FF97FF",
           "#FECB52"
          ],
          "font": {
           "color": "#2a3f5f"
          },
          "geo": {
           "bgcolor": "white",
           "lakecolor": "white",
           "landcolor": "#E5ECF6",
           "showlakes": true,
           "showland": true,
           "subunitcolor": "white"
          },
          "hoverlabel": {
           "align": "left"
          },
          "hovermode": "closest",
          "mapbox": {
           "style": "light"
          },
          "paper_bgcolor": "white",
          "plot_bgcolor": "#E5ECF6",
          "polar": {
           "angularaxis": {
            "gridcolor": "white",
            "linecolor": "white",
            "ticks": ""
           },
           "bgcolor": "#E5ECF6",
           "radialaxis": {
            "gridcolor": "white",
            "linecolor": "white",
            "ticks": ""
           }
          },
          "scene": {
           "xaxis": {
            "backgroundcolor": "#E5ECF6",
            "gridcolor": "white",
            "gridwidth": 2,
            "linecolor": "white",
            "showbackground": true,
            "ticks": "",
            "zerolinecolor": "white"
           },
           "yaxis": {
            "backgroundcolor": "#E5ECF6",
            "gridcolor": "white",
            "gridwidth": 2,
            "linecolor": "white",
            "showbackground": true,
            "ticks": "",
            "zerolinecolor": "white"
           },
           "zaxis": {
            "backgroundcolor": "#E5ECF6",
            "gridcolor": "white",
            "gridwidth": 2,
            "linecolor": "white",
            "showbackground": true,
            "ticks": "",
            "zerolinecolor": "white"
           }
          },
          "shapedefaults": {
           "line": {
            "color": "#2a3f5f"
           }
          },
          "ternary": {
           "aaxis": {
            "gridcolor": "white",
            "linecolor": "white",
            "ticks": ""
           },
           "baxis": {
            "gridcolor": "white",
            "linecolor": "white",
            "ticks": ""
           },
           "bgcolor": "#E5ECF6",
           "caxis": {
            "gridcolor": "white",
            "linecolor": "white",
            "ticks": ""
           }
          },
          "title": {
           "x": 0.05
          },
          "xaxis": {
           "automargin": true,
           "gridcolor": "white",
           "linecolor": "white",
           "ticks": "",
           "title": {
            "standoff": 15
           },
           "zerolinecolor": "white",
           "zerolinewidth": 2
          },
          "yaxis": {
           "automargin": true,
           "gridcolor": "white",
           "linecolor": "white",
           "ticks": "",
           "title": {
            "standoff": 15
           },
           "zerolinecolor": "white",
           "zerolinewidth": 2
          }
         }
        },
        "title": {
         "text": "Dark Web Stats"
        },
        "xaxis": {
         "showticklabels": false,
         "title": {
          "text": "Features"
         }
        },
        "yaxis": {
         "showticklabels": false,
         "title": {
          "text": "% count"
         }
        }
       }
      },
      "text/html": [
       "<div>                            <div id=\"4a0616a8-023d-4c38-a229-535e457b0d9d\" class=\"plotly-graph-div\" style=\"height:525px; width:100%;\"></div>            <script type=\"text/javascript\">                require([\"plotly\"], function(Plotly) {                    window.PLOTLYENV=window.PLOTLYENV || {};                                    if (document.getElementById(\"4a0616a8-023d-4c38-a229-535e457b0d9d\")) {                    Plotly.newPlot(                        \"4a0616a8-023d-4c38-a229-535e457b0d9d\",                        [{\"marker\": {\"color\": \"blue\"}, \"name\": \"Markets\", \"type\": \"bar\", \"x\": [\"title\", \"description\", \"paragraphs\", \"headings\", \"listings\", \"link-text\"], \"y\": [0.9137458092045109, 0.41024078024992383, 0.38860103626943004, 0.6668698567509905, 0.9195367266077416, 0.9612922889362999]}, {\"marker\": {\"color\": \"orange\"}, \"name\": \"Forums\", \"type\": \"bar\", \"x\": [\"title\", \"description\", \"paragraphs\", \"headings\", \"listings\", \"link-text\"], \"y\": [0.9530916844349681, 1.0, 0.9989339019189766, 0.9989339019189766, 0.9968017057569296, 0.9989339019189766]}],                        {\"barmode\": \"relative\", \"template\": {\"data\": {\"bar\": [{\"error_x\": {\"color\": \"#2a3f5f\"}, \"error_y\": {\"color\": \"#2a3f5f\"}, \"marker\": {\"line\": {\"color\": \"#E5ECF6\", \"width\": 0.5}}, \"type\": \"bar\"}], \"barpolar\": [{\"marker\": {\"line\": {\"color\": \"#E5ECF6\", \"width\": 0.5}}, \"type\": \"barpolar\"}], \"carpet\": [{\"aaxis\": {\"endlinecolor\": \"#2a3f5f\", \"gridcolor\": \"white\", \"linecolor\": \"white\", \"minorgridcolor\": \"white\", \"startlinecolor\": \"#2a3f5f\"}, \"baxis\": {\"endlinecolor\": \"#2a3f5f\", \"gridcolor\": \"white\", \"linecolor\": \"white\", \"minorgridcolor\": \"white\", \"startlinecolor\": \"#2a3f5f\"}, \"type\": \"carpet\"}], \"choropleth\": [{\"colorbar\": {\"outlinewidth\": 0, \"ticks\": \"\"}, \"type\": \"choropleth\"}], \"contour\": [{\"colorbar\": {\"outlinewidth\": 0, \"ticks\": \"\"}, \"colorscale\": [[0.0, \"#0d0887\"], [0.1111111111111111, \"#46039f\"], [0.2222222222222222, \"#7201a8\"], [0.3333333333333333, \"#9c179e\"], [0.4444444444444444, \"#bd3786\"], [0.5555555555555556, \"#d8576b\"], [0.6666666666666666, \"#ed7953\"], [0.7777777777777778, \"#fb9f3a\"], [0.8888888888888888, \"#fdca26\"], [1.0, \"#f0f921\"]], \"type\": \"contour\"}], \"contourcarpet\": [{\"colorbar\": {\"outlinewidth\": 0, \"ticks\": \"\"}, \"type\": \"contourcarpet\"}], \"heatmap\": [{\"colorbar\": {\"outlinewidth\": 0, \"ticks\": \"\"}, \"colorscale\": [[0.0, \"#0d0887\"], [0.1111111111111111, \"#46039f\"], [0.2222222222222222, \"#7201a8\"], [0.3333333333333333, \"#9c179e\"], [0.4444444444444444, \"#bd3786\"], [0.5555555555555556, \"#d8576b\"], [0.6666666666666666, \"#ed7953\"], [0.7777777777777778, \"#fb9f3a\"], [0.8888888888888888, \"#fdca26\"], [1.0, \"#f0f921\"]], \"type\": \"heatmap\"}], \"heatmapgl\": [{\"colorbar\": {\"outlinewidth\": 0, \"ticks\": \"\"}, \"colorscale\": [[0.0, \"#0d0887\"], [0.1111111111111111, \"#46039f\"], [0.2222222222222222, \"#7201a8\"], [0.3333333333333333, \"#9c179e\"], [0.4444444444444444, \"#bd3786\"], [0.5555555555555556, \"#d8576b\"], [0.6666666666666666, \"#ed7953\"], [0.7777777777777778, \"#fb9f3a\"], [0.8888888888888888, \"#fdca26\"], [1.0, \"#f0f921\"]], \"type\": \"heatmapgl\"}], \"histogram\": [{\"marker\": {\"colorbar\": {\"outlinewidth\": 0, \"ticks\": \"\"}}, \"type\": \"histogram\"}], \"histogram2d\": [{\"colorbar\": {\"outlinewidth\": 0, \"ticks\": \"\"}, \"colorscale\": [[0.0, \"#0d0887\"], [0.1111111111111111, \"#46039f\"], [0.2222222222222222, \"#7201a8\"], [0.3333333333333333, \"#9c179e\"], [0.4444444444444444, \"#bd3786\"], [0.5555555555555556, \"#d8576b\"], [0.6666666666666666, \"#ed7953\"], [0.7777777777777778, \"#fb9f3a\"], [0.8888888888888888, \"#fdca26\"], [1.0, \"#f0f921\"]], \"type\": \"histogram2d\"}], \"histogram2dcontour\": [{\"colorbar\": {\"outlinewidth\": 0, \"ticks\": \"\"}, \"colorscale\": [[0.0, \"#0d0887\"], [0.1111111111111111, \"#46039f\"], [0.2222222222222222, \"#7201a8\"], [0.3333333333333333, \"#9c179e\"], [0.4444444444444444, \"#bd3786\"], [0.5555555555555556, \"#d8576b\"], [0.6666666666666666, \"#ed7953\"], [0.7777777777777778, \"#fb9f3a\"], [0.8888888888888888, \"#fdca26\"], [1.0, \"#f0f921\"]], \"type\": \"histogram2dcontour\"}], \"mesh3d\": [{\"colorbar\": {\"outlinewidth\": 0, \"ticks\": \"\"}, \"type\": \"mesh3d\"}], \"parcoords\": [{\"line\": {\"colorbar\": {\"outlinewidth\": 0, \"ticks\": \"\"}}, \"type\": \"parcoords\"}], \"pie\": [{\"automargin\": true, \"type\": \"pie\"}], \"scatter\": [{\"marker\": {\"colorbar\": {\"outlinewidth\": 0, \"ticks\": \"\"}}, \"type\": \"scatter\"}], \"scatter3d\": [{\"line\": {\"colorbar\": {\"outlinewidth\": 0, \"ticks\": \"\"}}, \"marker\": {\"colorbar\": {\"outlinewidth\": 0, \"ticks\": \"\"}}, \"type\": \"scatter3d\"}], \"scattercarpet\": [{\"marker\": {\"colorbar\": {\"outlinewidth\": 0, \"ticks\": \"\"}}, \"type\": \"scattercarpet\"}], \"scattergeo\": [{\"marker\": {\"colorbar\": {\"outlinewidth\": 0, \"ticks\": \"\"}}, \"type\": \"scattergeo\"}], \"scattergl\": [{\"marker\": {\"colorbar\": {\"outlinewidth\": 0, \"ticks\": \"\"}}, \"type\": \"scattergl\"}], \"scattermapbox\": [{\"marker\": {\"colorbar\": {\"outlinewidth\": 0, \"ticks\": \"\"}}, \"type\": \"scattermapbox\"}], \"scatterpolar\": [{\"marker\": {\"colorbar\": {\"outlinewidth\": 0, \"ticks\": \"\"}}, \"type\": \"scatterpolar\"}], \"scatterpolargl\": [{\"marker\": {\"colorbar\": {\"outlinewidth\": 0, \"ticks\": \"\"}}, \"type\": \"scatterpolargl\"}], \"scatterternary\": [{\"marker\": {\"colorbar\": {\"outlinewidth\": 0, \"ticks\": \"\"}}, \"type\": \"scatterternary\"}], \"surface\": [{\"colorbar\": {\"outlinewidth\": 0, \"ticks\": \"\"}, \"colorscale\": [[0.0, \"#0d0887\"], [0.1111111111111111, \"#46039f\"], [0.2222222222222222, \"#7201a8\"], [0.3333333333333333, \"#9c179e\"], [0.4444444444444444, \"#bd3786\"], [0.5555555555555556, \"#d8576b\"], [0.6666666666666666, \"#ed7953\"], [0.7777777777777778, \"#fb9f3a\"], [0.8888888888888888, \"#fdca26\"], [1.0, \"#f0f921\"]], \"type\": \"surface\"}], \"table\": [{\"cells\": {\"fill\": {\"color\": \"#EBF0F8\"}, \"line\": {\"color\": \"white\"}}, \"header\": {\"fill\": {\"color\": \"#C8D4E3\"}, \"line\": {\"color\": \"white\"}}, \"type\": \"table\"}]}, \"layout\": {\"annotationdefaults\": {\"arrowcolor\": \"#2a3f5f\", \"arrowhead\": 0, \"arrowwidth\": 1}, \"autotypenumbers\": \"strict\", \"coloraxis\": {\"colorbar\": {\"outlinewidth\": 0, \"ticks\": \"\"}}, \"colorscale\": {\"diverging\": [[0, \"#8e0152\"], [0.1, \"#c51b7d\"], [0.2, \"#de77ae\"], [0.3, \"#f1b6da\"], [0.4, \"#fde0ef\"], [0.5, \"#f7f7f7\"], [0.6, \"#e6f5d0\"], [0.7, \"#b8e186\"], [0.8, \"#7fbc41\"], [0.9, \"#4d9221\"], [1, \"#276419\"]], \"sequential\": [[0.0, \"#0d0887\"], [0.1111111111111111, \"#46039f\"], [0.2222222222222222, \"#7201a8\"], [0.3333333333333333, \"#9c179e\"], [0.4444444444444444, \"#bd3786\"], [0.5555555555555556, \"#d8576b\"], [0.6666666666666666, \"#ed7953\"], [0.7777777777777778, \"#fb9f3a\"], [0.8888888888888888, \"#fdca26\"], [1.0, \"#f0f921\"]], \"sequentialminus\": [[0.0, \"#0d0887\"], [0.1111111111111111, \"#46039f\"], [0.2222222222222222, \"#7201a8\"], [0.3333333333333333, \"#9c179e\"], [0.4444444444444444, \"#bd3786\"], [0.5555555555555556, \"#d8576b\"], [0.6666666666666666, \"#ed7953\"], [0.7777777777777778, \"#fb9f3a\"], [0.8888888888888888, \"#fdca26\"], [1.0, \"#f0f921\"]]}, \"colorway\": [\"#636efa\", \"#EF553B\", \"#00cc96\", \"#ab63fa\", \"#FFA15A\", \"#19d3f3\", \"#FF6692\", \"#B6E880\", \"#FF97FF\", \"#FECB52\"], \"font\": {\"color\": \"#2a3f5f\"}, \"geo\": {\"bgcolor\": \"white\", \"lakecolor\": \"white\", \"landcolor\": \"#E5ECF6\", \"showlakes\": true, \"showland\": true, \"subunitcolor\": \"white\"}, \"hoverlabel\": {\"align\": \"left\"}, \"hovermode\": \"closest\", \"mapbox\": {\"style\": \"light\"}, \"paper_bgcolor\": \"white\", \"plot_bgcolor\": \"#E5ECF6\", \"polar\": {\"angularaxis\": {\"gridcolor\": \"white\", \"linecolor\": \"white\", \"ticks\": \"\"}, \"bgcolor\": \"#E5ECF6\", \"radialaxis\": {\"gridcolor\": \"white\", \"linecolor\": \"white\", \"ticks\": \"\"}}, \"scene\": {\"xaxis\": {\"backgroundcolor\": \"#E5ECF6\", \"gridcolor\": \"white\", \"gridwidth\": 2, \"linecolor\": \"white\", \"showbackground\": true, \"ticks\": \"\", \"zerolinecolor\": \"white\"}, \"yaxis\": {\"backgroundcolor\": \"#E5ECF6\", \"gridcolor\": \"white\", \"gridwidth\": 2, \"linecolor\": \"white\", \"showbackground\": true, \"ticks\": \"\", \"zerolinecolor\": \"white\"}, \"zaxis\": {\"backgroundcolor\": \"#E5ECF6\", \"gridcolor\": \"white\", \"gridwidth\": 2, \"linecolor\": \"white\", \"showbackground\": true, \"ticks\": \"\", \"zerolinecolor\": \"white\"}}, \"shapedefaults\": {\"line\": {\"color\": \"#2a3f5f\"}}, \"ternary\": {\"aaxis\": {\"gridcolor\": \"white\", \"linecolor\": \"white\", \"ticks\": \"\"}, \"baxis\": {\"gridcolor\": \"white\", \"linecolor\": \"white\", \"ticks\": \"\"}, \"bgcolor\": \"#E5ECF6\", \"caxis\": {\"gridcolor\": \"white\", \"linecolor\": \"white\", \"ticks\": \"\"}}, \"title\": {\"x\": 0.05}, \"xaxis\": {\"automargin\": true, \"gridcolor\": \"white\", \"linecolor\": \"white\", \"ticks\": \"\", \"title\": {\"standoff\": 15}, \"zerolinecolor\": \"white\", \"zerolinewidth\": 2}, \"yaxis\": {\"automargin\": true, \"gridcolor\": \"white\", \"linecolor\": \"white\", \"ticks\": \"\", \"title\": {\"standoff\": 15}, \"zerolinecolor\": \"white\", \"zerolinewidth\": 2}}}, \"title\": {\"text\": \"Dark Web Stats\"}, \"xaxis\": {\"showticklabels\": false, \"title\": {\"text\": \"Features\"}}, \"yaxis\": {\"showticklabels\": false, \"title\": {\"text\": \"% count\"}}},                        {\"responsive\": true}                    ).then(function(){\n",
       "                            \n",
       "var gd = document.getElementById('4a0616a8-023d-4c38-a229-535e457b0d9d');\n",
       "var x = new MutationObserver(function (mutations, observer) {{\n",
       "        var display = window.getComputedStyle(gd).display;\n",
       "        if (!display || display === 'none') {{\n",
       "            console.log([gd, 'removed!']);\n",
       "            Plotly.purge(gd);\n",
       "            observer.disconnect();\n",
       "        }}\n",
       "}});\n",
       "\n",
       "// Listen for the removal of the full notebook cells\n",
       "var notebookContainer = gd.closest('#notebook-container');\n",
       "if (notebookContainer) {{\n",
       "    x.observe(notebookContainer, {childList: true});\n",
       "}}\n",
       "\n",
       "// Listen for the clearing of the current output cell\n",
       "var outputEl = gd.closest('.output');\n",
       "if (outputEl) {{\n",
       "    x.observe(outputEl, {childList: true});\n",
       "}}\n",
       "\n",
       "                        })                };                });            </script>        </div>"
      ]
     },
     "metadata": {},
     "output_type": "display_data"
    }
   ],
   "source": [
    "fig = go.Figure()\n",
    "fig.add_trace(go.Bar(x=['title', 'description', 'paragraphs', 'headings', 'listings', 'link-text'], y=market_list, name=\"Markets\", marker_color=\"blue\"))\n",
    "fig.add_trace(go.Bar(x=['title', 'description', 'paragraphs', 'headings', 'listings', 'link-text'], y=forum_list, name=\"Forums\", marker_color=\"orange\"))\n",
    "fig.update_layout(barmode='relative', \n",
    "                    title_text='Dark Web Stats',\n",
    "                    xaxis_title=\"Features\",\n",
    "                    yaxis_title=\"% count\",\n",
    "                    xaxis = go.XAxis(showticklabels=False),\n",
    "                    yaxis = go.YAxis(showticklabels=False)\n",
    "                    )\n",
    "fig.show()"
   ]
  },
  {
   "cell_type": "markdown",
   "metadata": {},
   "source": [
    "# Processing data"
   ]
  },
  {
   "cell_type": "markdown",
   "metadata": {},
   "source": [
    "Performing Spelling Check : Since all the SOTA dependecy parsers are trained on public datasets like WikiText-103, Pen TreeBank corpus, and Brown corpus; there is a discrepency in what these tagger predicts and the language on the Dark Web. Hence, performing spelling check on the Dark Web Data is not a good option. \n",
    "\n",
    "Removing special symbols also removes tokens like $, Euro, \\% which can be important for our end task. Hence, we decided against removing special symbols."
   ]
  },
  {
   "cell_type": "markdown",
   "metadata": {},
   "source": [
    "Cleaning data"
   ]
  },
  {
   "cell_type": "code",
   "execution_count": 8,
   "metadata": {},
   "outputs": [],
   "source": [
    "def check_language_if_english(text):\n",
    "    doc_ = nlp(text)\n",
    "    if bool(doc_._.languages) :\n",
    "        if doc_._.languages[0] == 'en':\n",
    "            return True\n",
    "        else:\n",
    "            return False\n",
    "    else:\n",
    "        return True\n",
    "\n",
    "def clean_entries(entries):\n",
    "    data_entries = []\n",
    "    # converting the entries to their actual datatype\n",
    "    if entries != None:\n",
    "        for entry in entries:\n",
    "            # checking if the entry is in English Language\n",
    "            if check_language_if_english(entry) == True:\n",
    "                entry = entry.lower() # converting the entry to lowercase letters \n",
    "                entry = emoji.demojize(entry) # demojizing the emojis\n",
    "                data_entries.append(entry)\n",
    "            else:\n",
    "                pass\n",
    "        return data_entries\n",
    "    else:\n",
    "        return \"None\""
   ]
  },
  {
   "cell_type": "code",
   "execution_count": 127,
   "metadata": {},
   "outputs": [],
   "source": [
    "for columns in ['description', 'paragraphs', 'headings', 'listings', 'link-text']:\n",
    "    markets[columns] = markets[columns].apply(lambda x : eval(x))\n",
    "    markets[columns] = markets[columns].apply(lambda x:clean_entries(x))"
   ]
  },
  {
   "cell_type": "code",
   "execution_count": 128,
   "metadata": {},
   "outputs": [
    {
     "data": {
      "text/html": [
       "<div>\n",
       "<style scoped>\n",
       "    .dataframe tbody tr th:only-of-type {\n",
       "        vertical-align: middle;\n",
       "    }\n",
       "\n",
       "    .dataframe tbody tr th {\n",
       "        vertical-align: top;\n",
       "    }\n",
       "\n",
       "    .dataframe thead th {\n",
       "        text-align: right;\n",
       "    }\n",
       "</style>\n",
       "<table border=\"1\" class=\"dataframe\">\n",
       "  <thead>\n",
       "    <tr style=\"text-align: right;\">\n",
       "      <th></th>\n",
       "      <th>domain-type</th>\n",
       "      <th>domain-name</th>\n",
       "      <th>log-name</th>\n",
       "      <th>title</th>\n",
       "      <th>description</th>\n",
       "      <th>paragraphs</th>\n",
       "      <th>headings</th>\n",
       "      <th>listings</th>\n",
       "      <th>link-text</th>\n",
       "    </tr>\n",
       "  </thead>\n",
       "  <tbody>\n",
       "    <tr>\n",
       "      <th>0</th>\n",
       "      <td>Markets</td>\n",
       "      <td>337595-1611226233</td>\n",
       "      <td>67116357-27692431.html</td>\n",
       "      <td>None</td>\n",
       "      <td>[vvszfgx/xjyks7mym1txlqykeatbzujlb8okmow4chrz9...</td>\n",
       "      <td>None</td>\n",
       "      <td>None</td>\n",
       "      <td>None</td>\n",
       "      <td>None</td>\n",
       "    </tr>\n",
       "    <tr>\n",
       "      <th>1</th>\n",
       "      <td>Markets</td>\n",
       "      <td>337595-1611226233</td>\n",
       "      <td>67051067-27676428.html</td>\n",
       "      <td>Tor2door Market - Login</td>\n",
       "      <td>[we highly recommend that you disable javascri...</td>\n",
       "      <td>None</td>\n",
       "      <td>[login]</td>\n",
       "      <td>None</td>\n",
       "      <td>[deutsche, forgot your password?, english, cre...</td>\n",
       "    </tr>\n",
       "    <tr>\n",
       "      <th>2</th>\n",
       "      <td>Markets</td>\n",
       "      <td>337595-1611226233</td>\n",
       "      <td>67051100-27676451.html</td>\n",
       "      <td>None</td>\n",
       "      <td>None</td>\n",
       "      <td>None</td>\n",
       "      <td>[anmeldung]</td>\n",
       "      <td>None</td>\n",
       "      <td>[deutsche, ein konto erstellen, english]</td>\n",
       "    </tr>\n",
       "    <tr>\n",
       "      <th>3</th>\n",
       "      <td>Markets</td>\n",
       "      <td>337595-1611226233</td>\n",
       "      <td>67115510-27692416.html</td>\n",
       "      <td>None</td>\n",
       "      <td>None</td>\n",
       "      <td>None</td>\n",
       "      <td>[anmeldung]</td>\n",
       "      <td>None</td>\n",
       "      <td>[deutsche, ein konto erstellen, english]</td>\n",
       "    </tr>\n",
       "    <tr>\n",
       "      <th>4</th>\n",
       "      <td>Markets</td>\n",
       "      <td>337595-1611226233</td>\n",
       "      <td>67116043-27692426.html</td>\n",
       "      <td>None</td>\n",
       "      <td>None</td>\n",
       "      <td>None</td>\n",
       "      <td>None</td>\n",
       "      <td>None</td>\n",
       "      <td>[deutsche, crea una cuenta, english]</td>\n",
       "    </tr>\n",
       "  </tbody>\n",
       "</table>\n",
       "</div>"
      ],
      "text/plain": [
       "  domain-type        domain-name                log-name  \\\n",
       "0     Markets  337595-1611226233  67116357-27692431.html   \n",
       "1     Markets  337595-1611226233  67051067-27676428.html   \n",
       "2     Markets  337595-1611226233  67051100-27676451.html   \n",
       "3     Markets  337595-1611226233  67115510-27692416.html   \n",
       "4     Markets  337595-1611226233  67116043-27692426.html   \n",
       "\n",
       "                     title                                        description  \\\n",
       "0                     None  [vvszfgx/xjyks7mym1txlqykeatbzujlb8okmow4chrz9...   \n",
       "1  Tor2door Market - Login  [we highly recommend that you disable javascri...   \n",
       "2                     None                                               None   \n",
       "3                     None                                               None   \n",
       "4                     None                                               None   \n",
       "\n",
       "  paragraphs     headings listings  \\\n",
       "0       None         None     None   \n",
       "1       None      [login]     None   \n",
       "2       None  [anmeldung]     None   \n",
       "3       None  [anmeldung]     None   \n",
       "4       None         None     None   \n",
       "\n",
       "                                           link-text  \n",
       "0                                               None  \n",
       "1  [deutsche, forgot your password?, english, cre...  \n",
       "2           [deutsche, ein konto erstellen, english]  \n",
       "3           [deutsche, ein konto erstellen, english]  \n",
       "4               [deutsche, crea una cuenta, english]  "
      ]
     },
     "execution_count": 128,
     "metadata": {},
     "output_type": "execute_result"
    }
   ],
   "source": [
    "markets.head()"
   ]
  },
  {
   "cell_type": "code",
   "execution_count": 129,
   "metadata": {},
   "outputs": [],
   "source": [
    "compression_opts = dict(method='zip',archive_name='markets.csv')\n",
    "markets.to_csv('markets.zip', index=False, compression=compression_opts) "
   ]
  },
  {
   "cell_type": "code",
   "execution_count": null,
   "metadata": {},
   "outputs": [],
   "source": [
    "for columns in ['description', 'paragraphs', 'headings', 'listings', 'link-text']:\n",
    "    forums[columns] = forums[columns].apply(lambda x : eval(x))\n",
    "    forums[columns] = forums[columns].apply(lambda x:clean_entries(x))"
   ]
  },
  {
   "cell_type": "code",
   "execution_count": 6,
   "metadata": {},
   "outputs": [
    {
     "data": {
      "text/plain": [
       "\"{'Postby happyboyuser123 » Sat Mar 28, 2020 9:13', 'Return to “Art, Photoshopped, Shotacon, 3D”', 'Where boys go for a good time', 'Postby happyboyuser123 » Sat Mar 07, 2020 4:52', 'Postby sited » Sat Mar 07, 2020 6:21', 'Postby QueenVisorious » Wed Mar 25, 2020 20:51', 'Postby sited » Wed Mar 25, 2020 20:57', 'Privacy|Terms', 'Powered by phpBB® Forum Software © phpBB Limited', 'Skip to content'}\""
      ]
     },
     "execution_count": 6,
     "metadata": {},
     "output_type": "execute_result"
    }
   ],
   "source": [
    "forums['paragraphs'].iloc[0]"
   ]
  },
  {
   "cell_type": "code",
   "execution_count": null,
   "metadata": {},
   "outputs": [],
   "source": [
    "compression_opts = dict(method='zip',archive_name='forums.csv')\n",
    "forums.to_csv('forums.zip', index=False, compression=compression_opts) "
   ]
  },
  {
   "cell_type": "code",
   "execution_count": null,
   "metadata": {},
   "outputs": [],
   "source": []
  }
 ],
 "metadata": {
  "kernelspec": {
   "display_name": "Python 3",
   "language": "python",
   "name": "python3"
  },
  "language_info": {
   "codemirror_mode": {
    "name": "ipython",
    "version": 3
   },
   "file_extension": ".py",
   "mimetype": "text/x-python",
   "name": "python",
   "nbconvert_exporter": "python",
   "pygments_lexer": "ipython3",
   "version": "3.8.5"
  }
 },
 "nbformat": 4,
 "nbformat_minor": 4
}
