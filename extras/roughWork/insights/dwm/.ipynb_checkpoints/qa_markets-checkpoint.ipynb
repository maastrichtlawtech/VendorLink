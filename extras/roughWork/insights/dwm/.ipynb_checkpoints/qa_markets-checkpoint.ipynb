{
 "cells": [
  {
   "cell_type": "markdown",
   "metadata": {},
   "source": [
    "# Loading the dataset"
   ]
  },
  {
   "cell_type": "code",
   "execution_count": 40,
   "metadata": {},
   "outputs": [],
   "source": [
    "import os\n",
    "\n",
    "from collections import Counter\n",
    "from textblob import TextBlob \n",
    "\n",
    "import numpy as np\n",
    "import pandas as pd\n",
    "\n",
    "import nltk\n",
    "from nltk.probability import FreqDist\n",
    "\n",
    "import plotly\n",
    "import plotly.graph_objects as go\n",
    "import plotly.figure_factory as ff"
   ]
  },
  {
   "cell_type": "markdown",
   "metadata": {},
   "source": [
    "# Loading the data"
   ]
  },
  {
   "cell_type": "code",
   "execution_count": 9,
   "metadata": {},
   "outputs": [],
   "source": [
    "df = pd.read_csv(\"markets.csv\", error_bad_lines=False)"
   ]
  },
  {
   "cell_type": "code",
   "execution_count": 10,
   "metadata": {},
   "outputs": [],
   "source": [
    "for column in ['description', 'paragraphs', 'headings', 'listings', 'link-text']:\n",
    "    df[column] = df[column].apply(lambda x : eval(x))"
   ]
  },
  {
   "cell_type": "code",
   "execution_count": 11,
   "metadata": {},
   "outputs": [
    {
     "data": {
      "text/plain": [
       "['card the world trust and safety - ctw escrow is important in situations where buyers and sellers do not know or trust each other and needs a way to guarantee payment security for their transaction. dismiss',\n",
       " 'showing 73–74 of 74 results',\n",
       " 'small orders are shipped inside magazines or binders, large orders are shipped in boxes with labeling to appear like an ebay or amazon.com package. additional stealth precautions are taken that we don’t publicly share. please let us know if you have special requirements.',\n",
       " '0 items',\n",
       " 'items that are sent by email do not need to enter name, street etc. when ordering. you can enter xxx instead. usually you will receive an answer 1 hour later.',\n",
       " 'checkout',\n",
       " '↑',\n",
       " 'shipment time: your package will ship within 6 hours of receiving payment. dhl & ups ship monday-friday and not on holidays. we ship fedex mon-sat. we will mail fedex packages the same day if you send us payment before 2pm est.']"
      ]
     },
     "execution_count": 11,
     "metadata": {},
     "output_type": "execute_result"
    }
   ],
   "source": [
    "df['paragraphs'].iloc[3280]"
   ]
  },
  {
   "cell_type": "markdown",
   "metadata": {},
   "source": [
    "# Performing Sentimental Analysis using TextBob"
   ]
  },
  {
   "cell_type": "markdown",
   "metadata": {},
   "source": [
    "Title"
   ]
  },
  {
   "cell_type": "code",
   "execution_count": 12,
   "metadata": {},
   "outputs": [],
   "source": [
    "title_text = list(df[\"title\"])\n",
    "polarity = []\n",
    "for title in title_text:\n",
    "    polarity.append(TextBlob(str(title)).sentiment.polarity)"
   ]
  },
  {
   "cell_type": "code",
   "execution_count": 13,
   "metadata": {},
   "outputs": [],
   "source": [
    "positive_polarity = [np.mean(instances) if instances>0 else 0.0 for instances in polarity]\n",
    "negative_polarity = [np.mean(instances) if instances<0 else 0.0 for instances in polarity]"
   ]
  },
  {
   "cell_type": "code",
   "execution_count": 23,
   "metadata": {},
   "outputs": [
    {
     "data": {
      "text/plain": [
       "'../plots/title_polarity.pdf.html'"
      ]
     },
     "execution_count": 23,
     "metadata": {},
     "output_type": "execute_result"
    }
   ],
   "source": [
    "fig = go.Figure()\n",
    "fig.add_trace(go.Bar(x=np.array(range(len(polarity))), y=positive_polarity, name=\"positive\", marker_color=\"blue\"))\n",
    "fig.add_trace(go.Bar(x=np.array(range(len(polarity))), y=negative_polarity, name=\"negative\", marker_color=\"red\"))\n",
    "fig.update_layout(\n",
    "                    title_text='Title Polarity, +ve polarity=' + str(round(np.mean(positive_polarity),4)) + ' ,-ve polarity=' + str(round(np.mean(negative_polarity),4)),\n",
    "                    xaxis_title=\"Web pages\",\n",
    "                    yaxis_title=\"Sentiment\"\n",
    "        )\n",
    "plotly.offline.plot(fig, filename = os.path.join(\"../plots/\", \"title_polarity.pdf\"), auto_open=False)"
   ]
  },
  {
   "cell_type": "markdown",
   "metadata": {},
   "source": [
    "Description"
   ]
  },
  {
   "cell_type": "code",
   "execution_count": 24,
   "metadata": {},
   "outputs": [],
   "source": [
    "description_text = list(df[\"description\"])\n",
    "polarity = []\n",
    "for descriptions in description_text:\n",
    "    temp_polarity = []\n",
    "    if descriptions != None:\n",
    "        for description in descriptions:\n",
    "            temp_polarity.append(TextBlob(str(description)).sentiment.polarity)\n",
    "    else:\n",
    "        temp_polarity.append(0.0)\n",
    "    polarity.append(temp_polarity)"
   ]
  },
  {
   "cell_type": "code",
   "execution_count": 25,
   "metadata": {},
   "outputs": [
    {
     "name": "stderr",
     "output_type": "stream",
     "text": [
      "/home/vageesh/.local/lib/python3.8/site-packages/numpy/core/fromnumeric.py:3334: RuntimeWarning:\n",
      "\n",
      "Mean of empty slice.\n",
      "\n",
      "/home/vageesh/.local/lib/python3.8/site-packages/numpy/core/_methods.py:161: RuntimeWarning:\n",
      "\n",
      "invalid value encountered in double_scalars\n",
      "\n"
     ]
    }
   ],
   "source": [
    "positive_polarity = [np.mean([positve_instances if positve_instances > 0 else 0.0 for positve_instances in instances]) for instances in polarity]\n",
    "negative_polarity = [np.mean([negative_instances if negative_instances < 0 else 0.0 for negative_instances in instances]) for instances in polarity]"
   ]
  },
  {
   "cell_type": "code",
   "execution_count": 26,
   "metadata": {},
   "outputs": [
    {
     "name": "stderr",
     "output_type": "stream",
     "text": [
      "/home/vageesh/.local/lib/python3.8/site-packages/plotly/offline/offline.py:562: UserWarning:\n",
      "\n",
      "Your filename `../plots/description_polarity.pdf` didn't end with .html. Adding .html to the end of your file.\n",
      "\n"
     ]
    },
    {
     "data": {
      "text/plain": [
       "'../plots/description_polarity.pdf.html'"
      ]
     },
     "execution_count": 26,
     "metadata": {},
     "output_type": "execute_result"
    }
   ],
   "source": [
    "fig = go.Figure()\n",
    "fig.add_trace(go.Bar(x=np.array(range(len(polarity))), y=positive_polarity, name=\"positive\", marker_color=\"blue\"))\n",
    "fig.add_trace(go.Bar(x=np.array(range(len(polarity))), y=negative_polarity, name=\"negative\", marker_color=\"red\"))\n",
    "fig.update_layout(\n",
    "                    title_text='Description Polarity, +ve polarity=' + str(round(np.mean(positive_polarity),4)) + ' ,-ve polarity=' + str(round(np.mean(negative_polarity),4)),\n",
    "                    xaxis_title=\"Web pages\",\n",
    "                    yaxis_title=\"Sentiment\"\n",
    "                    )\n",
    "plotly.offline.plot(fig, filename = os.path.join(\"../plots/\", \"description_polarity.pdf\"), auto_open=False)"
   ]
  },
  {
   "cell_type": "markdown",
   "metadata": {},
   "source": [
    "Paragraphs"
   ]
  },
  {
   "cell_type": "code",
   "execution_count": 27,
   "metadata": {},
   "outputs": [
    {
     "name": "stderr",
     "output_type": "stream",
     "text": [
      "/home/vageesh/.local/lib/python3.8/site-packages/plotly/offline/offline.py:562: UserWarning:\n",
      "\n",
      "Your filename `../plots/paragraph_polarity.pdf` didn't end with .html. Adding .html to the end of your file.\n",
      "\n"
     ]
    },
    {
     "data": {
      "text/plain": [
       "'../plots/paragraph_polarity.pdf.html'"
      ]
     },
     "execution_count": 27,
     "metadata": {},
     "output_type": "execute_result"
    }
   ],
   "source": [
    "paragraphs_text = list(df[\"paragraphs\"])\n",
    "polarity = []\n",
    "for paragraphss in paragraphs_text:\n",
    "    temp_polarity = []\n",
    "    if paragraphss != None:\n",
    "        for paragraphs in paragraphss:\n",
    "            temp_polarity.append(TextBlob(str(paragraphs)).sentiment.polarity)\n",
    "    else:\n",
    "        temp_polarity.append(0.0)\n",
    "    polarity.append(temp_polarity)\n",
    "\n",
    "positive_polarity = [np.mean([positve_instances if positve_instances > 0 else 0.0 for positve_instances in instances]) for instances in polarity]\n",
    "negative_polarity = [np.mean([negative_instances if negative_instances < 0 else 0.0 for negative_instances in instances]) for instances in polarity]\n",
    "\n",
    "fig = go.Figure()\n",
    "fig.add_trace(go.Bar(x=np.array(range(len(polarity))), y=positive_polarity, name=\"positive\", marker_color=\"blue\"))\n",
    "fig.add_trace(go.Bar(x=np.array(range(len(polarity))), y=negative_polarity, name=\"negative\", marker_color=\"red\"))\n",
    "fig.update_layout(\n",
    "                    title_text='Paragraphs Polarity, +ve polarity=' + str(round(np.mean(positive_polarity), 4)) + ' ,-ve polarity=' + str(round(np.mean(negative_polarity),4)),\n",
    "                    xaxis_title=\"Web pages\",\n",
    "                    yaxis_title=\"Sentiment\"\n",
    "                    )\n",
    "plotly.offline.plot(fig, filename = os.path.join(\"../plots/\", \"paragraph_polarity.pdf\"), auto_open=False)"
   ]
  },
  {
   "cell_type": "markdown",
   "metadata": {},
   "source": [
    "Headings"
   ]
  },
  {
   "cell_type": "code",
   "execution_count": 28,
   "metadata": {},
   "outputs": [
    {
     "name": "stderr",
     "output_type": "stream",
     "text": [
      "/home/vageesh/.local/lib/python3.8/site-packages/plotly/offline/offline.py:562: UserWarning:\n",
      "\n",
      "Your filename `../plots/heading_polarity.pdf` didn't end with .html. Adding .html to the end of your file.\n",
      "\n"
     ]
    },
    {
     "data": {
      "text/plain": [
       "'../plots/heading_polarity.pdf.html'"
      ]
     },
     "execution_count": 28,
     "metadata": {},
     "output_type": "execute_result"
    }
   ],
   "source": [
    "headings_text = list(df[\"headings\"])\n",
    "polarity = []\n",
    "for headings in headings_text:\n",
    "    temp_polarity = []\n",
    "    if headings != None:\n",
    "        for heading in headings:\n",
    "            temp_polarity.append(TextBlob(str(heading)).sentiment.polarity)\n",
    "    else:\n",
    "        temp_polarity.append(0.0)\n",
    "    polarity.append(temp_polarity)\n",
    "\n",
    "positive_polarity = [np.mean([positve_instances if positve_instances > 0 else 0.0 for positve_instances in instances]) for instances in polarity]\n",
    "negative_polarity = [np.mean([negative_instances if negative_instances < 0 else 0.0 for negative_instances in instances]) for instances in polarity]\n",
    "\n",
    "fig = go.Figure()\n",
    "fig.add_trace(go.Bar(x=np.array(range(len(polarity))), y=positive_polarity, name=\"positive\", marker_color=\"blue\"))\n",
    "fig.add_trace(go.Bar(x=np.array(range(len(polarity))), y=negative_polarity, name=\"negative\", marker_color=\"red\"))\n",
    "fig.update_layout(\n",
    "                    title_text='Headings Polarity, +ve polarity=' + str(round(np.mean(positive_polarity),4)) + ' ,-ve polarity=' + str(round(np.mean(negative_polarity), 4)),\n",
    "                    xaxis_title=\"Web pages\",\n",
    "                    yaxis_title=\"Sentiment\"\n",
    "                    )\n",
    "plotly.offline.plot(fig, filename = os.path.join(\"../plots/\", \"heading_polarity.pdf\"), auto_open=False)"
   ]
  },
  {
   "cell_type": "markdown",
   "metadata": {},
   "source": [
    "listings"
   ]
  },
  {
   "cell_type": "code",
   "execution_count": 29,
   "metadata": {},
   "outputs": [
    {
     "name": "stderr",
     "output_type": "stream",
     "text": [
      "/home/vageesh/.local/lib/python3.8/site-packages/plotly/offline/offline.py:562: UserWarning:\n",
      "\n",
      "Your filename `../plots/lisiting_polarity.pdf` didn't end with .html. Adding .html to the end of your file.\n",
      "\n"
     ]
    },
    {
     "data": {
      "text/plain": [
       "'../plots/lisiting_polarity.pdf.html'"
      ]
     },
     "execution_count": 29,
     "metadata": {},
     "output_type": "execute_result"
    }
   ],
   "source": [
    "listings_text = list(df[\"listings\"])\n",
    "polarity = []\n",
    "for listings in listings_text:\n",
    "    temp_polarity = []\n",
    "    if listings != None:\n",
    "        for listing in listings:\n",
    "            temp_polarity.append(TextBlob(str(listing)).sentiment.polarity)\n",
    "    else:\n",
    "        temp_polarity.append(0.0)\n",
    "    polarity.append(temp_polarity)\n",
    "\n",
    "positive_polarity = [np.mean([positve_instances if positve_instances > 0 else 0.0 for positve_instances in instances]) for instances in polarity]\n",
    "negative_polarity = [np.mean([negative_instances if negative_instances < 0 else 0.0 for negative_instances in instances]) for instances in polarity]\n",
    "\n",
    "fig = go.Figure()\n",
    "fig.add_trace(go.Bar(x=np.array(range(len(polarity))), y=positive_polarity, name=\"positive\", marker_color=\"blue\"))\n",
    "fig.add_trace(go.Bar(x=np.array(range(len(polarity))), y=negative_polarity, name=\"negative\", marker_color=\"red\"))\n",
    "fig.update_layout(\n",
    "                    title_text='Listings Polarity, +ve polarity=' + str(round(np.mean(positive_polarity),4)) + ' ,-ve polarity=' + str(round(np.mean(negative_polarity),4)),\n",
    "                    xaxis_title=\"Web pages\",\n",
    "                    yaxis_title=\"Sentiment\"\n",
    "                    )\n",
    "plotly.offline.plot(fig, filename = os.path.join(\"../plots/\", \"lisiting_polarity.pdf\"), auto_open=False)"
   ]
  },
  {
   "cell_type": "markdown",
   "metadata": {},
   "source": [
    "Link text"
   ]
  },
  {
   "cell_type": "code",
   "execution_count": 30,
   "metadata": {},
   "outputs": [
    {
     "name": "stderr",
     "output_type": "stream",
     "text": [
      "/home/vageesh/.local/lib/python3.8/site-packages/plotly/offline/offline.py:562: UserWarning:\n",
      "\n",
      "Your filename `../plots/link_polarity.pdf` didn't end with .html. Adding .html to the end of your file.\n",
      "\n"
     ]
    },
    {
     "data": {
      "text/plain": [
       "'../plots/link_polarity.pdf.html'"
      ]
     },
     "execution_count": 30,
     "metadata": {},
     "output_type": "execute_result"
    }
   ],
   "source": [
    "link_texts_text = list(df[\"link-text\"])\n",
    "polarity = []\n",
    "for link_texts in link_texts_text:\n",
    "    temp_polarity = []\n",
    "    if link_texts != None:\n",
    "        for link_text in link_texts:\n",
    "            temp_polarity.append(TextBlob(str(link_text)).sentiment.polarity)\n",
    "    else:\n",
    "        temp_polarity.append(0.0)\n",
    "    polarity.append(temp_polarity)\n",
    "\n",
    "positive_polarity = [np.mean([positve_instances if positve_instances > 0 else 0.0 for positve_instances in instances]) for instances in polarity]\n",
    "negative_polarity = [np.mean([negative_instances if negative_instances < 0 else 0.0 for negative_instances in instances]) for instances in polarity]\n",
    "\n",
    "fig = go.Figure()\n",
    "fig.add_trace(go.Bar(x=np.array(range(len(polarity))), y=positive_polarity, name=\"positive\", marker_color=\"blue\"))\n",
    "fig.add_trace(go.Bar(x=np.array(range(len(polarity))), y=negative_polarity, name=\"negative\", marker_color=\"red\"))\n",
    "fig.update_layout(\n",
    "                    title_text='Link_texts Polarity, +ve polarity=' + str(round(np.mean(positive_polarity), 4)) + ' ,-ve polarity=' + str(round(np.mean(negative_polarity), 4)),\n",
    "                    xaxis_title=\"Web pages\",\n",
    "                    yaxis_title=\"Sentiment\"\n",
    "                    )\n",
    "plotly.offline.plot(fig, filename = os.path.join(\"../plots/\", \"link_polarity.pdf\"), auto_open=False)"
   ]
  },
  {
   "cell_type": "markdown",
   "metadata": {},
   "source": [
    "# Average Sentence length Analysis"
   ]
  },
  {
   "cell_type": "markdown",
   "metadata": {},
   "source": [
    "title"
   ]
  },
  {
   "cell_type": "code",
   "execution_count": 32,
   "metadata": {},
   "outputs": [],
   "source": [
    "title_text = list(df['title'])\n",
    "title_text_len = np.array([len(str(text).split(\" \")) if text!=\"None\" else 0 for text in title_text])\n",
    "mean_title = np.mean([value for value in title_text_len if value!=0])\n",
    "std_title = np.std([value for value in title_text_len if value!=0])"
   ]
  },
  {
   "cell_type": "code",
   "execution_count": 33,
   "metadata": {},
   "outputs": [
    {
     "name": "stderr",
     "output_type": "stream",
     "text": [
      "/home/vageesh/.local/lib/python3.8/site-packages/plotly/offline/offline.py:562: UserWarning:\n",
      "\n",
      "Your filename `../plots/sentiment/title_len.pdf` didn't end with .html. Adding .html to the end of your file.\n",
      "\n"
     ]
    },
    {
     "data": {
      "text/plain": [
       "'../plots/sentiment/title_len.pdf.html'"
      ]
     },
     "execution_count": 33,
     "metadata": {},
     "output_type": "execute_result"
    }
   ],
   "source": [
    "fig = ff.create_distplot([title_text_len], ['title'], curve_type='normal')\n",
    "\n",
    "# Add title\n",
    "fig.update_layout(\n",
    "                    title_text='Title length with the mean of : ' + str(round(mean_title,2)) + \" and std dev of : \" + str(round(std_title,2)),\n",
    "                    xaxis_title=\"No of Web pages\",\n",
    "                    yaxis_title=\"Title length\"\n",
    "        )\n",
    "plotly.offline.plot(fig, filename = os.path.join(\"../plots/length/\", \"title_len.pdf\"), auto_open=False)"
   ]
  },
  {
   "cell_type": "markdown",
   "metadata": {},
   "source": [
    "paragraphs"
   ]
  },
  {
   "cell_type": "code",
   "execution_count": 34,
   "metadata": {},
   "outputs": [],
   "source": [
    "paragraph_text = list(df['paragraphs'])\n",
    "paragraphs_text_length = []\n",
    "for paragraphs in paragraph_text:\n",
    "    temp_para_len_list = []\n",
    "    if paragraphs != None:\n",
    "        for para in paragraphs:\n",
    "            para = para.split(\" \")\n",
    "            temp_para_len_list.append(len(para))\n",
    "    else:\n",
    "        temp_para_len_list.append(0)\n",
    "    paragraphs_text_length.append(temp_para_len_list)"
   ]
  },
  {
   "cell_type": "code",
   "execution_count": 35,
   "metadata": {},
   "outputs": [],
   "source": [
    "paragraphs_text_length = np.array([item for sublist in paragraphs_text_length for item in sublist])\n",
    "mean_paragraph = np.mean([value for value in paragraphs_text_length if value!=0])\n",
    "std_paragraph = np.std([value for value in paragraphs_text_length if value!=0])"
   ]
  },
  {
   "cell_type": "code",
   "execution_count": 36,
   "metadata": {},
   "outputs": [
    {
     "name": "stderr",
     "output_type": "stream",
     "text": [
      "/home/vageesh/.local/lib/python3.8/site-packages/plotly/offline/offline.py:562: UserWarning:\n",
      "\n",
      "Your filename `../plots/sentiment/paragraphs_len.pdf` didn't end with .html. Adding .html to the end of your file.\n",
      "\n"
     ]
    },
    {
     "data": {
      "text/plain": [
       "'../plots/sentiment/paragraphs_len.pdf.html'"
      ]
     },
     "execution_count": 36,
     "metadata": {},
     "output_type": "execute_result"
    }
   ],
   "source": [
    "fig = ff.create_distplot([paragraphs_text_length], ['paragraphs'], curve_type='normal')\n",
    "\n",
    "# Add title\n",
    "fig.update_layout(title_text='Sentence length with the mean of : ' + str(round(mean_paragraph,2)) + \" and std dev of : \" + str(round(std_paragraph,2)))\n",
    "plotly.offline.plot(fig, filename = os.path.join(\"../plots/length/\", \"paragraphs_len.pdf\"), auto_open=False)"
   ]
  },
  {
   "cell_type": "markdown",
   "metadata": {},
   "source": [
    "headings"
   ]
  },
  {
   "cell_type": "code",
   "execution_count": 37,
   "metadata": {},
   "outputs": [
    {
     "name": "stderr",
     "output_type": "stream",
     "text": [
      "/home/vageesh/.local/lib/python3.8/site-packages/plotly/offline/offline.py:562: UserWarning:\n",
      "\n",
      "Your filename `../plots/sentiment/headings_len.pdf` didn't end with .html. Adding .html to the end of your file.\n",
      "\n"
     ]
    },
    {
     "data": {
      "text/plain": [
       "'../plots/sentiment/headings_len.pdf.html'"
      ]
     },
     "execution_count": 37,
     "metadata": {},
     "output_type": "execute_result"
    }
   ],
   "source": [
    "heading_text = list(df['headings'])\n",
    "headings_text_length = []\n",
    "for headings in heading_text:\n",
    "    temp_para_len_list = []\n",
    "    if headings != None:\n",
    "        for para in headings:\n",
    "            para = para.split(\" \")\n",
    "            temp_para_len_list.append(len(para))\n",
    "    else:\n",
    "        temp_para_len_list.append(0)\n",
    "    headings_text_length.append(temp_para_len_list)\n",
    "\n",
    "headings_text_length = np.array([item for sublist in headings_text_length for item in sublist])\n",
    "mean_heading = np.mean([value for value in headings_text_length if value!=0])\n",
    "std_heading = np.std([value for value in headings_text_length if value!=0])\n",
    "\n",
    "fig = ff.create_distplot([headings_text_length], ['headings'], curve_type='normal')\n",
    "\n",
    "# Add title\n",
    "fig.update_layout(title_text='Sentence length with the mean of : ' + str(round(mean_heading,2)) + \" and std dev of : \" + str(round(std_heading,2)))\n",
    "plotly.offline.plot(fig, filename = os.path.join(\"../plots/length/\", \"headings_len.pdf\"), auto_open=False)"
   ]
  },
  {
   "cell_type": "markdown",
   "metadata": {},
   "source": [
    "Listings"
   ]
  },
  {
   "cell_type": "code",
   "execution_count": 38,
   "metadata": {},
   "outputs": [
    {
     "name": "stderr",
     "output_type": "stream",
     "text": [
      "/home/vageesh/.local/lib/python3.8/site-packages/plotly/offline/offline.py:562: UserWarning:\n",
      "\n",
      "Your filename `../plots/sentiment/listing_len.pdf` didn't end with .html. Adding .html to the end of your file.\n",
      "\n"
     ]
    },
    {
     "data": {
      "text/plain": [
       "'../plots/sentiment/listing_len.pdf.html'"
      ]
     },
     "execution_count": 38,
     "metadata": {},
     "output_type": "execute_result"
    }
   ],
   "source": [
    "listing_text = list(df['listings'])\n",
    "listings_text_length = []\n",
    "for listings in listing_text:\n",
    "    temp_para_len_list = []\n",
    "    if listings != None:\n",
    "        for para in listings:\n",
    "            para = para.split(\" \")\n",
    "            temp_para_len_list.append(len(para))\n",
    "    else:\n",
    "        temp_para_len_list.append(0)\n",
    "    listings_text_length.append(temp_para_len_list)\n",
    "\n",
    "\n",
    "listings_text_length = np.array([item for sublist in listings_text_length for item in sublist])\n",
    "mean_listing = np.mean([value for value in listings_text_length if value!=0])\n",
    "std_listing = np.std([value for value in listings_text_length if value!=0])\n",
    "\n",
    "fig = ff.create_distplot([listings_text_length], ['listings'], curve_type='normal')\n",
    "\n",
    "# Add title\n",
    "fig.update_layout(title_text='Sentence length with the mean of : ' + str(round(mean_listing,2)) + \" and std dev of : \" + str(round(std_listing,2)))\n",
    "plotly.offline.plot(fig, filename = os.path.join(\"../plots/length/\", \"listing_len.pdf\"), auto_open=False)"
   ]
  },
  {
   "cell_type": "markdown",
   "metadata": {},
   "source": [
    "Link text"
   ]
  },
  {
   "cell_type": "code",
   "execution_count": 39,
   "metadata": {},
   "outputs": [
    {
     "name": "stderr",
     "output_type": "stream",
     "text": [
      "/home/vageesh/.local/lib/python3.8/site-packages/plotly/offline/offline.py:562: UserWarning:\n",
      "\n",
      "Your filename `../plots/sentiment/link_len.pdf` didn't end with .html. Adding .html to the end of your file.\n",
      "\n"
     ]
    },
    {
     "data": {
      "text/plain": [
       "'../plots/sentiment/link_len.pdf.html'"
      ]
     },
     "execution_count": 39,
     "metadata": {},
     "output_type": "execute_result"
    }
   ],
   "source": [
    "link_text = list(df['link-text'])\n",
    "links_text_length = []\n",
    "for links in link_text:\n",
    "    temp_para_len_list = []\n",
    "    if links != None:\n",
    "        for para in links:\n",
    "            para = para.split(\" \")\n",
    "            temp_para_len_list.append(len(para))\n",
    "    else:\n",
    "        temp_para_len_list.append(0)\n",
    "    links_text_length.append(temp_para_len_list)\n",
    "\n",
    "\n",
    "links_text_length = np.array([item for sublist in links_text_length for item in sublist])\n",
    "mean_link = np.mean([value for value in links_text_length if value!=0])\n",
    "std_link = np.std([value for value in links_text_length if value!=0])\n",
    "\n",
    "fig = ff.create_distplot([links_text_length], ['links'], curve_type='normal')\n",
    "\n",
    "# Add title\n",
    "fig.update_layout(title_text='Sentence length with the mean of : ' + str(round(mean_link,2)) + \" and std dev of : \" + str(round(std_link,2)))\n",
    "plotly.offline.plot(fig, filename = os.path.join(\"../plots/length/\", \"link_len.pdf\"), auto_open=False)"
   ]
  },
  {
   "cell_type": "markdown",
   "metadata": {},
   "source": [
    "# Term Frequency Analysis"
   ]
  },
  {
   "cell_type": "markdown",
   "metadata": {},
   "source": [
    "Title"
   ]
  },
  {
   "cell_type": "code",
   "execution_count": 48,
   "metadata": {},
   "outputs": [],
   "source": [
    "title_text = list(df['title'])\n",
    "title_text_tokenize = [str(title).split(\" \") for title in title_text if title!=\"None\"]"
   ]
  },
  {
   "cell_type": "code",
   "execution_count": 65,
   "metadata": {},
   "outputs": [],
   "source": [
    "tokens = [item for sublist in title_text_tokenize for item in sublist]\n",
    "tokens = list(filter(None, tokens))\n",
    "\n",
    "analysis = FreqDist(tokens).most_common()\n",
    "x, y = zip(*analysis)"
   ]
  },
  {
   "cell_type": "code",
   "execution_count": 81,
   "metadata": {},
   "outputs": [
    {
     "name": "stderr",
     "output_type": "stream",
     "text": [
      "/home/vageesh/.local/lib/python3.8/site-packages/plotly/offline/offline.py:562: UserWarning:\n",
      "\n",
      "Your filename `../plots/term-frequency/title.pdf` didn't end with .html. Adding .html to the end of your file.\n",
      "\n"
     ]
    },
    {
     "data": {
      "text/plain": [
       "'../plots/term-frequency/title.pdf.html'"
      ]
     },
     "execution_count": 81,
     "metadata": {},
     "output_type": "execute_result"
    }
   ],
   "source": [
    "fig = go.Figure()\n",
    "fig.add_trace(go.Bar(x=np.array(x), y=y, name=\"Markets\", marker_color=\"blue\"))\n",
    "fig.update_layout(\n",
    "                    title_text='Term Frequencies',\n",
    "                    xaxis_title=\"Tokens\",\n",
    "                    yaxis_title=\"Frequency\"\n",
    "                    )\n",
    "plotly.offline.plot(fig, filename = os.path.join(\"../plots/term-frequency\", \"title.pdf\"), auto_open=False)"
   ]
  },
  {
   "cell_type": "markdown",
   "metadata": {},
   "source": [
    "Description"
   ]
  },
  {
   "cell_type": "code",
   "execution_count": 82,
   "metadata": {},
   "outputs": [],
   "source": [
    "description_text = list(df['description'])\n",
    "description_text_tokenize = []\n",
    "for descriptions in description_text:\n",
    "    temp_description_list = []\n",
    "    if descriptions != None:\n",
    "        for des in descriptions:\n",
    "            des = des.split(\" \")\n",
    "            description_text_tokenize.append(des)\n",
    "    else:\n",
    "        pass"
   ]
  },
  {
   "cell_type": "code",
   "execution_count": 83,
   "metadata": {},
   "outputs": [],
   "source": [
    "tokens = [item for sublist in description_text_tokenize for item in sublist]\n",
    "tokens = list(filter(None, tokens))"
   ]
  },
  {
   "cell_type": "code",
   "execution_count": 84,
   "metadata": {},
   "outputs": [],
   "source": [
    "analysis = FreqDist(tokens).most_common()\n",
    "x, y = zip(*analysis)"
   ]
  },
  {
   "cell_type": "code",
   "execution_count": 85,
   "metadata": {},
   "outputs": [
    {
     "name": "stderr",
     "output_type": "stream",
     "text": [
      "/home/vageesh/.local/lib/python3.8/site-packages/plotly/offline/offline.py:562: UserWarning:\n",
      "\n",
      "Your filename `../plots/term-frequency/description.pdf` didn't end with .html. Adding .html to the end of your file.\n",
      "\n"
     ]
    },
    {
     "data": {
      "text/plain": [
       "'../plots/term-frequency/description.pdf.html'"
      ]
     },
     "execution_count": 85,
     "metadata": {},
     "output_type": "execute_result"
    }
   ],
   "source": [
    "fig = go.Figure()\n",
    "fig.add_trace(go.Bar(x=np.array(x), y=y, name=\"Markets\", marker_color=\"blue\"))\n",
    "fig.update_layout(\n",
    "                    title_text='Term Frequencies',\n",
    "                    xaxis_title=\"Tokens\",\n",
    "                    yaxis_title=\"Frequency\"\n",
    "                    )\n",
    "plotly.offline.plot(fig, filename = os.path.join(\"../plots/term-frequency\", \"description.pdf\"), auto_open=False)"
   ]
  },
  {
   "cell_type": "markdown",
   "metadata": {},
   "source": [
    "Paragraphs"
   ]
  },
  {
   "cell_type": "code",
   "execution_count": 86,
   "metadata": {},
   "outputs": [
    {
     "name": "stderr",
     "output_type": "stream",
     "text": [
      "/home/vageesh/.local/lib/python3.8/site-packages/plotly/offline/offline.py:562: UserWarning:\n",
      "\n",
      "Your filename `../plots/term-frequency/paragraphs.pdf` didn't end with .html. Adding .html to the end of your file.\n",
      "\n"
     ]
    },
    {
     "data": {
      "text/plain": [
       "'../plots/term-frequency/paragraphs.pdf.html'"
      ]
     },
     "execution_count": 86,
     "metadata": {},
     "output_type": "execute_result"
    }
   ],
   "source": [
    "paragraph_text = list(df['paragraphs'])\n",
    "paragraph_text_tokenize = []\n",
    "for paragraphs in paragraph_text:\n",
    "    temp_paragraph_list = []\n",
    "    if paragraphs != None:\n",
    "        for value in paragraphs:\n",
    "            value = value.split(\" \")\n",
    "            paragraph_text_tokenize.append(value)\n",
    "    else:\n",
    "        pass\n",
    "\n",
    "tokens = [item for sublist in paragraph_text_tokenize for item in sublist]\n",
    "tokens = list(filter(None, tokens))\n",
    "\n",
    "analysis = FreqDist(tokens).most_common()\n",
    "x, y = zip(*analysis)\n",
    "\n",
    "fig = go.Figure()\n",
    "fig.add_trace(go.Bar(x=np.array(x), y=y, name=\"Markets\", marker_color=\"blue\"))\n",
    "fig.update_layout(\n",
    "                    title_text='Term Frequencies',\n",
    "                    xaxis_title=\"Tokens\",\n",
    "                    yaxis_title=\"Frequency\"\n",
    "                    )\n",
    "plotly.offline.plot(fig, filename = os.path.join(\"../plots/term-frequency\", \"paragraphs.pdf\"), auto_open=False)"
   ]
  },
  {
   "cell_type": "markdown",
   "metadata": {},
   "source": [
    "Headings"
   ]
  },
  {
   "cell_type": "code",
   "execution_count": 87,
   "metadata": {},
   "outputs": [
    {
     "name": "stderr",
     "output_type": "stream",
     "text": [
      "/home/vageesh/.local/lib/python3.8/site-packages/plotly/offline/offline.py:562: UserWarning:\n",
      "\n",
      "Your filename `../plots/term-frequency/headings.pdf` didn't end with .html. Adding .html to the end of your file.\n",
      "\n"
     ]
    },
    {
     "data": {
      "text/plain": [
       "'../plots/term-frequency/headings.pdf.html'"
      ]
     },
     "execution_count": 87,
     "metadata": {},
     "output_type": "execute_result"
    }
   ],
   "source": [
    "heading_text = list(df['headings'])\n",
    "heading_text_tokenize = []\n",
    "for headings in heading_text:\n",
    "    temp_heading_list = []\n",
    "    if headings != None:\n",
    "        for value in headings:\n",
    "            value = value.split(\" \")\n",
    "            heading_text_tokenize.append(value)\n",
    "    else:\n",
    "        pass\n",
    "\n",
    "tokens = [item for sublist in heading_text_tokenize for item in sublist]\n",
    "tokens = list(filter(None, tokens))\n",
    "\n",
    "analysis = FreqDist(tokens).most_common()\n",
    "x, y = zip(*analysis)\n",
    "\n",
    "fig = go.Figure()\n",
    "fig.add_trace(go.Bar(x=np.array(x), y=y, name=\"Markets\", marker_color=\"blue\"))\n",
    "fig.update_layout(\n",
    "                    title_text='Term Frequencies',\n",
    "                    xaxis_title=\"Tokens\",\n",
    "                    yaxis_title=\"Frequency\"\n",
    "                    )\n",
    "plotly.offline.plot(fig, filename = os.path.join(\"../plots/term-frequency\", \"headings.pdf\"), auto_open=False)"
   ]
  },
  {
   "cell_type": "markdown",
   "metadata": {},
   "source": [
    "Lisitings"
   ]
  },
  {
   "cell_type": "code",
   "execution_count": 88,
   "metadata": {},
   "outputs": [
    {
     "name": "stderr",
     "output_type": "stream",
     "text": [
      "/home/vageesh/.local/lib/python3.8/site-packages/plotly/offline/offline.py:562: UserWarning:\n",
      "\n",
      "Your filename `../plots/term-frequency/listings.pdf` didn't end with .html. Adding .html to the end of your file.\n",
      "\n"
     ]
    },
    {
     "data": {
      "text/plain": [
       "'../plots/term-frequency/listings.pdf.html'"
      ]
     },
     "execution_count": 88,
     "metadata": {},
     "output_type": "execute_result"
    }
   ],
   "source": [
    "listing_text = list(df['listings'])\n",
    "listing_text_tokenize = []\n",
    "for listings in listing_text:\n",
    "    temp_listing_list = []\n",
    "    if listings != None:\n",
    "        for value in listings:\n",
    "            value = value.split(\" \")\n",
    "            listing_text_tokenize.append(value)\n",
    "    else:\n",
    "        pass\n",
    "\n",
    "tokens = [item for sublist in listing_text_tokenize for item in sublist]\n",
    "tokens = list(filter(None, tokens))\n",
    "\n",
    "analysis = FreqDist(tokens).most_common()\n",
    "x, y = zip(*analysis)\n",
    "\n",
    "fig = go.Figure()\n",
    "fig.add_trace(go.Bar(x=np.array(x), y=y, name=\"Markets\", marker_color=\"blue\"))\n",
    "fig.update_layout(\n",
    "                    title_text='Term Frequencies',\n",
    "                    xaxis_title=\"Tokens\",\n",
    "                    yaxis_title=\"Frequency\"\n",
    "                    )\n",
    "plotly.offline.plot(fig, filename = os.path.join(\"../plots/term-frequency\", \"listings.pdf\"), auto_open=False)"
   ]
  },
  {
   "cell_type": "markdown",
   "metadata": {},
   "source": [
    "Links"
   ]
  },
  {
   "cell_type": "code",
   "execution_count": 78,
   "metadata": {},
   "outputs": [
    {
     "name": "stderr",
     "output_type": "stream",
     "text": [
      "/home/vageesh/.local/lib/python3.8/site-packages/plotly/offline/offline.py:562: UserWarning:\n",
      "\n",
      "Your filename `../plots/term-frequency/links.pdf` didn't end with .html. Adding .html to the end of your file.\n",
      "\n"
     ]
    },
    {
     "data": {
      "text/plain": [
       "'../plots/term-frequency/links.pdf.html'"
      ]
     },
     "execution_count": 78,
     "metadata": {},
     "output_type": "execute_result"
    }
   ],
   "source": [
    "link_text = list(df['link-text'])\n",
    "link_text_tokenize = []\n",
    "for links in link_text:\n",
    "    temp_link_list = []\n",
    "    if links != None:\n",
    "        for value in links:\n",
    "            value = value.split(\" \")\n",
    "            link_text_tokenize.append(value)\n",
    "    else:\n",
    "        pass\n",
    "\n",
    "tokens = [item for sublist in link_text_tokenize for item in sublist]\n",
    "tokens = list(filter(None, tokens))\n",
    "\n",
    "analysis = FreqDist(tokens).most_common()\n",
    "x, y = zip(*analysis)\n",
    "\n",
    "fig = go.Figure()\n",
    "fig.add_trace(go.Bar(x=np.array(x), y=y, name=\"Markets\", marker_color=\"blue\"))\n",
    "fig.update_layout(\n",
    "                    title_text='Term Frequencies',\n",
    "                    xaxis_title=\"Tokens\",\n",
    "                    yaxis_title=\"Frequency\"\n",
    "                    )\n",
    "plotly.offline.plot(fig, filename = os.path.join(\"../plots/term-frequency\", \"links.pdf\"), auto_open=False)"
   ]
  },
  {
   "cell_type": "code",
   "execution_count": null,
   "metadata": {},
   "outputs": [],
   "source": []
  }
 ],
 "metadata": {
  "kernelspec": {
   "display_name": "Python 3",
   "language": "python",
   "name": "python3"
  },
  "language_info": {
   "codemirror_mode": {
    "name": "ipython",
    "version": 3
   },
   "file_extension": ".py",
   "mimetype": "text/x-python",
   "name": "python",
   "nbconvert_exporter": "python",
   "pygments_lexer": "ipython3",
   "version": "3.8.5"
  }
 },
 "nbformat": 4,
 "nbformat_minor": 4
}
