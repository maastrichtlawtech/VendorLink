{
 "cells": [
  {
   "cell_type": "markdown",
   "id": "c6049c84",
   "metadata": {},
   "source": [
    "# Installing dependencies"
   ]
  },
  {
   "cell_type": "code",
   "execution_count": null,
   "id": "d6d0e2bb",
   "metadata": {},
   "outputs": [],
   "source": [
    "! pip install pandas plotly"
   ]
  },
  {
   "cell_type": "markdown",
   "id": "d57801ba",
   "metadata": {},
   "source": [
    "# Importing libraries"
   ]
  },
  {
   "cell_type": "code",
   "execution_count": 14,
   "id": "a3d023b4",
   "metadata": {},
   "outputs": [],
   "source": [
    "import os\n",
    "import pickle\n",
    "import operator\n",
    "\n",
    "import pandas as pd\n",
    "\n",
    "import plotly\n",
    "import plotly.express as px\n",
    "import plotly.graph_objects as go"
   ]
  },
  {
   "cell_type": "markdown",
   "id": "2d1c6173",
   "metadata": {},
   "source": [
    "# Analyzing advertisements on grammatical and syntactical levels"
   ]
  },
  {
   "cell_type": "code",
   "execution_count": 9,
   "id": "a1cfe04f",
   "metadata": {},
   "outputs": [],
   "source": [
    "def load_data(mode=\"pos\"):\n",
    "    \"\"\"\n",
    "    :param mode can only be pos or dep. The \"pos\" mode loads the data to generate the anaylsis on grammatical level, whereas the \"dep\"\n",
    "    mode loads the data to generate the analysis on syntactical level. Both, pos and dep features are obtained using the spacy library\n",
    "    for each token in the advertisements. \n",
    "    \"\"\"\n",
    "    \n",
    "    if mode == \"pos\":\n",
    "        # Loading the pos data      \n",
    "        with open(os.path.join(os.getcwd(), 'data/eurekarebellionaus_pos2vocab.pickle'), 'rb') as handle:\n",
    "            parent_vendor_vocab = pickle.load(handle)     \n",
    "        with open(os.path.join(os.getcwd(), 'data/eurekarebellionaus_pos2den.pickle'), 'rb') as handle:\n",
    "            parent_vendor_density = pickle.load(handle)\n",
    "            \n",
    "        with open(os.path.join(os.getcwd(), 'data/eurekarebellion_pos2vocab.pickle'), 'rb') as handle:\n",
    "            alias1_vocab = pickle.load(handle)     \n",
    "        with open(os.path.join(os.getcwd(), 'data/eurekarebellion_pos2den.pickle'), 'rb') as handle:\n",
    "            alias1_density = pickle.load(handle)\n",
    "            \n",
    "        with open(os.path.join(os.getcwd(), 'data/stimz_pos2vocab.pickle'), 'rb') as handle:\n",
    "            alias2_vocab = pickle.load(handle)     \n",
    "        with open(os.path.join(os.getcwd(), 'data/stimz_pos2den.pickle'), 'rb') as handle:\n",
    "            alias2_density = pickle.load(handle)\n",
    "                        \n",
    "    elif mode == \"dep\":\n",
    "        # Loading the dep data      \n",
    "        with open(os.path.join(os.getcwd(), 'data/eurekarebellionaus_dep2vocab.pickle'), 'rb') as handle:\n",
    "            parent_vendor_vocab = pickle.load(handle)     \n",
    "        with open(os.path.join(os.getcwd(), 'data/eurekarebellionaus_dep2den.pickle'), 'rb') as handle:\n",
    "            parent_vendor_density = pickle.load(handle)\n",
    "            \n",
    "        with open(os.path.join(os.getcwd(), 'data/eurekarebellion_dep2vocab.pickle'), 'rb') as handle:\n",
    "            alias1_vocab = pickle.load(handle)     \n",
    "        with open(os.path.join(os.getcwd(), 'data/eurekarebellion_dep2den.pickle'), 'rb') as handle:\n",
    "            alias1_density = pickle.load(handle)\n",
    "            \n",
    "        with open(os.path.join(os.getcwd(), 'data/stimz_dep2vocab.pickle'), 'rb') as handle:\n",
    "            alias2_vocab = pickle.load(handle)     \n",
    "        with open(os.path.join(os.getcwd(), 'data/stimz_dep2den.pickle'), 'rb') as handle:\n",
    "            alias2_density = pickle.load(handle)\n",
    "            \n",
    "    else:\n",
    "        raise NotImplementedError\n",
    "        \n",
    "    return parent_vendor_vocab, parent_vendor_density, alias1_vocab, alias1_density, alias2_vocab, alias2_density"
   ]
  },
  {
   "cell_type": "code",
   "execution_count": 41,
   "id": "b4c91818",
   "metadata": {},
   "outputs": [],
   "source": [
    "def generate_scatter_plot(parent_vendor_vocab, parent_vendor_density, alias_vocab, alias_density, parent_vendor_name, alias_name, n_vendor=2, mode=\"pos\"):\n",
    "        fig = go.Figure()\n",
    "        \n",
    "        dict_parent, dict_alias = ({} for i in range(2))\n",
    "        \n",
    "        # Plotting top-n tokens\n",
    "        for pos, token_dict in parent_vendor_vocab.items():\n",
    "            if token_dict != None:\n",
    "                dict_parent[pos] = dict(sorted(parent_vendor_vocab[pos].items(), key=operator.itemgetter(1), reverse=True)[:n_vendor])\n",
    "                \n",
    "        for pos, token_dict in alias_vocab.items():\n",
    "            if token_dict != None:\n",
    "                dict_alias[pos] = dict(sorted(alias_vocab[pos].items(), key=operator.itemgetter(1), reverse=True)[:n_vendor])\n",
    "        \n",
    "        # Plotting the bar plot\n",
    "        fig.add_trace(go.Bar(x=list(parent_vendor_density.keys()), y=list(parent_vendor_density.values()), \n",
    "                             name=parent_vendor_name, marker_color=\"red\", opacity=0.3))\n",
    "        fig.add_trace(go.Bar(x=list(alias_density.keys()), y=list(alias_density.values()), \n",
    "                             name=alias_name, marker_color=\"blue\", opacity=0.3))\n",
    "        \n",
    "        for feature, token_freq in dict_parent.items():\n",
    "            fig.add_trace(go.Scatter(x=[feature]*len(list(dict_parent.keys())), \n",
    "                                     y=list(token_freq.values()), text=list(token_freq.keys()), \n",
    "                                     mode='text', marker_color=\"red\", showlegend=False,\n",
    "                                     textfont={'color':\"red\"}))\n",
    "            \n",
    "        for feature, token_freq in dict_alias.items():\n",
    "            fig.add_trace(go.Scatter(x=[feature]*len(list(dict_alias.keys())), \n",
    "                                     y=list(token_freq.values()), text=list(token_freq.keys()), \n",
    "                                     mode='text', marker_color=\"blue\", showlegend=False,\n",
    "                                     textfont={'color':\"blue\"}))\n",
    "        \n",
    "        \n",
    "        fig.update_layout(\n",
    "            title= mode.upper() + \" distribution plot\",\n",
    "            xaxis_title = mode.upper(),\n",
    "            yaxis_title=\"Frequency\",\n",
    "            font=dict(\n",
    "                family=\"Courier New, monospace\",\n",
    "                size=16,\n",
    "                color=\"RebeccaPurple\"\n",
    "            )\n",
    "            )\n",
    "            \n",
    "        fig.show()"
   ]
  },
  {
   "cell_type": "markdown",
   "id": "0ef15769",
   "metadata": {},
   "source": [
    "##### POS Distribution plot :- Analyses Grammatical patterns"
   ]
  },
  {
   "cell_type": "markdown",
   "id": "314df5fa",
   "metadata": {},
   "source": [
    "The POS distribution plots analyze the preferred grammatical patterns and the n-most frequent words used within each POS-categories by the two authors. For the sake of visibility, we choose to plot the 5-most active and 5-least active POS tags for every vendor.\n",
    "\n",
    "After analyzing multiple vendor-alias pair, we found a pattern that suggests that vendors with high representational similarity in vendor identification task often had similar grammatical structure in their advertisements.\n",
    "\n",
    "__Note: Both POS and DEP features are collected for advertisements of vendors in the same category through the spacy library. We apologize the reviewer's for the messy plots due to the time constraint between the release of reviews and end of rebuttal period. In the coming future, we will try to make these plots prettier and add them to our work in the final draft.__ "
   ]
  },
  {
   "cell_type": "code",
   "execution_count": 21,
   "id": "de2ac9b2",
   "metadata": {},
   "outputs": [],
   "source": [
    "parent_vendor_vocab, parent_vendor_density, alias1_vocab, alias1_density, alias2_vocab, alias2_density = load_data(mode=\"pos\")"
   ]
  },
  {
   "cell_type": "markdown",
   "id": "a4be37a6",
   "metadata": {},
   "source": [
    "+ As seen in the first plot, both vendors, eurekarebellionaus and eurekarebellion, prefer similar grammatical structures in their advertisements. The most activated POS tag in their advertisements is NOUN, followed by VERB, PUNT, PRON, and so on. \n",
    "+ Although the frequency of these tags changes, the preference of the POS tags remains the same. \n",
    "+ We plot the 2-most frequent tokens / POS tag for every vendor. Since we use Plotly, it provides the users an interface to zoom infinitely; therefore, in practice, all the tokens can be plotted and compared for any two vendors. However, for the sake of the visibility of reviewers, we decided to stick with just the 2-most frequent tokens for now. \n",
    "+ The 5-most frequent token analyses shows that both these vendors also prefer similar unigram vocabulary distribution.\n",
    "+ All in all, the first plot indicated high similarity in the advertisements of both the vendors on grammatical and vocabulary level."
   ]
  },
  {
   "cell_type": "code",
   "execution_count": 43,
   "id": "3a3a292c",
   "metadata": {},
   "outputs": [
    {
     "data": {
      "application/vnd.plotly.v1+json": {
       "config": {
        "plotlyServerURL": "https://plot.ly"
       },
       "data": [
        {
         "marker": {
          "color": "red"
         },
         "name": "eurekarebellionaus",
         "opacity": 0.3,
         "type": "bar",
         "x": [
          "NOUN",
          "VERB",
          "PUNCT",
          "PRON",
          "ADP",
          "CCONJ",
          "PROPN",
          "NUM",
          "SYM",
          "INTJ"
         ],
         "y": [
          0.175,
          0.1289,
          0.1203,
          0.1029,
          0.0818,
          0.0281,
          0.0178,
          0.013,
          0.0054,
          0.0037
         ]
        },
        {
         "marker": {
          "color": "blue"
         },
         "name": "eurekarebellion",
         "opacity": 0.3,
         "type": "bar",
         "x": [
          "NOUN",
          "VERB",
          "PUNCT",
          "PRON",
          "ADP",
          "CCONJ",
          "PROPN",
          "NUM",
          "SYM",
          "INTJ"
         ],
         "y": [
          0.1701,
          0.1386,
          0.1336,
          0.1069,
          0.0772,
          0.0257,
          0.0128,
          0.0029,
          0.0019,
          0.0019
         ]
        },
        {
         "marker": {
          "color": "red"
         },
         "mode": "text",
         "showlegend": false,
         "text": [
          "order",
          "people"
         ],
         "textfont": {
          "color": "red"
         },
         "type": "scatter",
         "x": [
          "NOUN",
          "NOUN",
          "NOUN",
          "NOUN",
          "NOUN",
          "NOUN",
          "NOUN",
          "NOUN",
          "NOUN",
          "NOUN"
         ],
         "y": [
          0.403,
          0.248
         ]
        },
        {
         "marker": {
          "color": "red"
         },
         "mode": "text",
         "showlegend": false,
         "text": [
          "have",
          "shipped"
         ],
         "textfont": {
          "color": "red"
         },
         "type": "scatter",
         "x": [
          "VERB",
          "VERB",
          "VERB",
          "VERB",
          "VERB",
          "VERB",
          "VERB",
          "VERB",
          "VERB",
          "VERB"
         ],
         "y": [
          0.4622,
          0.2941
         ]
        },
        {
         "marker": {
          "color": "red"
         },
         "mode": "text",
         "showlegend": false,
         "text": [
          ".",
          ","
         ],
         "textfont": {
          "color": "red"
         },
         "type": "scatter",
         "x": [
          "PUNCT",
          "PUNCT",
          "PUNCT",
          "PUNCT",
          "PUNCT",
          "PUNCT",
          "PUNCT",
          "PUNCT",
          "PUNCT",
          "PUNCT"
         ],
         "y": [
          0.2973,
          0.2477
         ]
        },
        {
         "marker": {
          "color": "red"
         },
         "mode": "text",
         "showlegend": false,
         "text": [
          "we",
          "you"
         ],
         "textfont": {
          "color": "red"
         },
         "type": "scatter",
         "x": [
          "PRON",
          "PRON",
          "PRON",
          "PRON",
          "PRON",
          "PRON",
          "PRON",
          "PRON",
          "PRON",
          "PRON"
         ],
         "y": [
          0.3,
          0.1105
         ]
        },
        {
         "marker": {
          "color": "red"
         },
         "mode": "text",
         "showlegend": false,
         "text": [
          "of",
          "for"
         ],
         "textfont": {
          "color": "red"
         },
         "type": "scatter",
         "x": [
          "ADP",
          "ADP",
          "ADP",
          "ADP",
          "ADP",
          "ADP",
          "ADP",
          "ADP",
          "ADP",
          "ADP"
         ],
         "y": [
          0.1523,
          0.1457
         ]
        },
        {
         "marker": {
          "color": "red"
         },
         "mode": "text",
         "showlegend": false,
         "text": [
          "and",
          "or"
         ],
         "textfont": {
          "color": "red"
         },
         "type": "scatter",
         "x": [
          "CCONJ",
          "CCONJ",
          "CCONJ",
          "CCONJ",
          "CCONJ",
          "CCONJ",
          "CCONJ",
          "CCONJ",
          "CCONJ",
          "CCONJ"
         ],
         "y": [
          0.6154,
          0.1731
         ]
        },
        {
         "marker": {
          "color": "red"
         },
         "mode": "text",
         "showlegend": false,
         "text": [
          "w.a",
          "dog"
         ],
         "textfont": {
          "color": "red"
         },
         "type": "scatter",
         "x": [
          "PROPN",
          "PROPN",
          "PROPN",
          "PROPN",
          "PROPN",
          "PROPN",
          "PROPN",
          "PROPN",
          "PROPN",
          "PROPN"
         ],
         "y": [
          0.2727,
          0.1212
         ]
        },
        {
         "marker": {
          "color": "red"
         },
         "mode": "text",
         "showlegend": false,
         "text": [
          "1",
          "100"
         ],
         "textfont": {
          "color": "red"
         },
         "type": "scatter",
         "x": [
          "NUM",
          "NUM",
          "NUM",
          "NUM",
          "NUM",
          "NUM",
          "NUM",
          "NUM",
          "NUM",
          "NUM"
         ],
         "y": [
          0.1296,
          0.125
         ]
        },
        {
         "marker": {
          "color": "red"
         },
         "mode": "text",
         "showlegend": false,
         "text": [
          "$",
          "-"
         ],
         "textfont": {
          "color": "red"
         },
         "type": "scatter",
         "x": [
          "SYM",
          "SYM",
          "SYM",
          "SYM",
          "SYM",
          "SYM",
          "SYM",
          "SYM",
          "SYM",
          "SYM"
         ],
         "y": [
          0.4,
          0.4
         ]
        },
        {
         "marker": {
          "color": "red"
         },
         "mode": "text",
         "showlegend": false,
         "text": [
          "please",
          "hello"
         ],
         "textfont": {
          "color": "red"
         },
         "type": "scatter",
         "x": [
          "INTJ",
          "INTJ",
          "INTJ",
          "INTJ",
          "INTJ",
          "INTJ",
          "INTJ",
          "INTJ",
          "INTJ",
          "INTJ"
         ],
         "y": [
          0.8571,
          0.1429
         ]
        },
        {
         "marker": {
          "color": "blue"
         },
         "mode": "text",
         "showlegend": false,
         "text": [
          "address",
          "quality"
         ],
         "textfont": {
          "color": "blue"
         },
         "type": "scatter",
         "x": [
          "NOUN",
          "NOUN",
          "NOUN",
          "NOUN",
          "NOUN",
          "NOUN",
          "NOUN",
          "NOUN",
          "NOUN"
         ],
         "y": [
          0.4072,
          0.3491
         ]
        },
        {
         "marker": {
          "color": "blue"
         },
         "mode": "text",
         "showlegend": false,
         "text": [
          "have",
          "get"
         ],
         "textfont": {
          "color": "blue"
         },
         "type": "scatter",
         "x": [
          "VERB",
          "VERB",
          "VERB",
          "VERB",
          "VERB",
          "VERB",
          "VERB",
          "VERB",
          "VERB"
         ],
         "y": [
          0.5,
          0.2857
         ]
        },
        {
         "marker": {
          "color": "blue"
         },
         "mode": "text",
         "showlegend": false,
         "text": [
          ".",
          ","
         ],
         "textfont": {
          "color": "blue"
         },
         "type": "scatter",
         "x": [
          "PUNCT",
          "PUNCT",
          "PUNCT",
          "PUNCT",
          "PUNCT",
          "PUNCT",
          "PUNCT",
          "PUNCT",
          "PUNCT"
         ],
         "y": [
          0.2667,
          0.2444
         ]
        },
        {
         "marker": {
          "color": "blue"
         },
         "mode": "text",
         "showlegend": false,
         "text": [
          "we",
          "you"
         ],
         "textfont": {
          "color": "blue"
         },
         "type": "scatter",
         "x": [
          "PRON",
          "PRON",
          "PRON",
          "PRON",
          "PRON",
          "PRON",
          "PRON",
          "PRON",
          "PRON"
         ],
         "y": [
          0.287,
          0.0926
         ]
        },
        {
         "marker": {
          "color": "blue"
         },
         "mode": "text",
         "showlegend": false,
         "text": [
          "of",
          "in"
         ],
         "textfont": {
          "color": "blue"
         },
         "type": "scatter",
         "x": [
          "ADP",
          "ADP",
          "ADP",
          "ADP",
          "ADP",
          "ADP",
          "ADP",
          "ADP",
          "ADP"
         ],
         "y": [
          0.141,
          0.141
         ]
        },
        {
         "marker": {
          "color": "blue"
         },
         "mode": "text",
         "showlegend": false,
         "text": [
          "and",
          "or"
         ],
         "textfont": {
          "color": "blue"
         },
         "type": "scatter",
         "x": [
          "CCONJ",
          "CCONJ",
          "CCONJ",
          "CCONJ",
          "CCONJ",
          "CCONJ",
          "CCONJ",
          "CCONJ",
          "CCONJ"
         ],
         "y": [
          0.6154,
          0.2308
         ]
        },
        {
         "marker": {
          "color": "blue"
         },
         "mode": "text",
         "showlegend": false,
         "text": [
          "fe",
          "sep"
         ],
         "textfont": {
          "color": "blue"
         },
         "type": "scatter",
         "x": [
          "PROPN",
          "PROPN",
          "PROPN",
          "PROPN",
          "PROPN",
          "PROPN",
          "PROPN",
          "PROPN",
          "PROPN"
         ],
         "y": [
          0.1538,
          0.0769
         ]
        },
        {
         "marker": {
          "color": "blue"
         },
         "mode": "text",
         "showlegend": false,
         "text": [
          "200",
          "5024"
         ],
         "textfont": {
          "color": "blue"
         },
         "type": "scatter",
         "x": [
          "NUM",
          "NUM",
          "NUM",
          "NUM",
          "NUM",
          "NUM",
          "NUM",
          "NUM",
          "NUM"
         ],
         "y": [
          0.3333,
          0.3333
         ]
        },
        {
         "marker": {
          "color": "blue"
         },
         "mode": "text",
         "showlegend": false,
         "text": [
          "/"
         ],
         "textfont": {
          "color": "blue"
         },
         "type": "scatter",
         "x": [
          "SYM",
          "SYM",
          "SYM",
          "SYM",
          "SYM",
          "SYM",
          "SYM",
          "SYM",
          "SYM"
         ],
         "y": [
          1
         ]
        }
       ],
       "layout": {
        "font": {
         "color": "RebeccaPurple",
         "family": "Courier New, monospace",
         "size": 16
        },
        "template": {
         "data": {
          "bar": [
           {
            "error_x": {
             "color": "#2a3f5f"
            },
            "error_y": {
             "color": "#2a3f5f"
            },
            "marker": {
             "line": {
              "color": "#E5ECF6",
              "width": 0.5
             },
             "pattern": {
              "fillmode": "overlay",
              "size": 10,
              "solidity": 0.2
             }
            },
            "type": "bar"
           }
          ],
          "barpolar": [
           {
            "marker": {
             "line": {
              "color": "#E5ECF6",
              "width": 0.5
             },
             "pattern": {
              "fillmode": "overlay",
              "size": 10,
              "solidity": 0.2
             }
            },
            "type": "barpolar"
           }
          ],
          "carpet": [
           {
            "aaxis": {
             "endlinecolor": "#2a3f5f",
             "gridcolor": "white",
             "linecolor": "white",
             "minorgridcolor": "white",
             "startlinecolor": "#2a3f5f"
            },
            "baxis": {
             "endlinecolor": "#2a3f5f",
             "gridcolor": "white",
             "linecolor": "white",
             "minorgridcolor": "white",
             "startlinecolor": "#2a3f5f"
            },
            "type": "carpet"
           }
          ],
          "choropleth": [
           {
            "colorbar": {
             "outlinewidth": 0,
             "ticks": ""
            },
            "type": "choropleth"
           }
          ],
          "contour": [
           {
            "colorbar": {
             "outlinewidth": 0,
             "ticks": ""
            },
            "colorscale": [
             [
              0,
              "#0d0887"
             ],
             [
              0.1111111111111111,
              "#46039f"
             ],
             [
              0.2222222222222222,
              "#7201a8"
             ],
             [
              0.3333333333333333,
              "#9c179e"
             ],
             [
              0.4444444444444444,
              "#bd3786"
             ],
             [
              0.5555555555555556,
              "#d8576b"
             ],
             [
              0.6666666666666666,
              "#ed7953"
             ],
             [
              0.7777777777777778,
              "#fb9f3a"
             ],
             [
              0.8888888888888888,
              "#fdca26"
             ],
             [
              1,
              "#f0f921"
             ]
            ],
            "type": "contour"
           }
          ],
          "contourcarpet": [
           {
            "colorbar": {
             "outlinewidth": 0,
             "ticks": ""
            },
            "type": "contourcarpet"
           }
          ],
          "heatmap": [
           {
            "colorbar": {
             "outlinewidth": 0,
             "ticks": ""
            },
            "colorscale": [
             [
              0,
              "#0d0887"
             ],
             [
              0.1111111111111111,
              "#46039f"
             ],
             [
              0.2222222222222222,
              "#7201a8"
             ],
             [
              0.3333333333333333,
              "#9c179e"
             ],
             [
              0.4444444444444444,
              "#bd3786"
             ],
             [
              0.5555555555555556,
              "#d8576b"
             ],
             [
              0.6666666666666666,
              "#ed7953"
             ],
             [
              0.7777777777777778,
              "#fb9f3a"
             ],
             [
              0.8888888888888888,
              "#fdca26"
             ],
             [
              1,
              "#f0f921"
             ]
            ],
            "type": "heatmap"
           }
          ],
          "heatmapgl": [
           {
            "colorbar": {
             "outlinewidth": 0,
             "ticks": ""
            },
            "colorscale": [
             [
              0,
              "#0d0887"
             ],
             [
              0.1111111111111111,
              "#46039f"
             ],
             [
              0.2222222222222222,
              "#7201a8"
             ],
             [
              0.3333333333333333,
              "#9c179e"
             ],
             [
              0.4444444444444444,
              "#bd3786"
             ],
             [
              0.5555555555555556,
              "#d8576b"
             ],
             [
              0.6666666666666666,
              "#ed7953"
             ],
             [
              0.7777777777777778,
              "#fb9f3a"
             ],
             [
              0.8888888888888888,
              "#fdca26"
             ],
             [
              1,
              "#f0f921"
             ]
            ],
            "type": "heatmapgl"
           }
          ],
          "histogram": [
           {
            "marker": {
             "pattern": {
              "fillmode": "overlay",
              "size": 10,
              "solidity": 0.2
             }
            },
            "type": "histogram"
           }
          ],
          "histogram2d": [
           {
            "colorbar": {
             "outlinewidth": 0,
             "ticks": ""
            },
            "colorscale": [
             [
              0,
              "#0d0887"
             ],
             [
              0.1111111111111111,
              "#46039f"
             ],
             [
              0.2222222222222222,
              "#7201a8"
             ],
             [
              0.3333333333333333,
              "#9c179e"
             ],
             [
              0.4444444444444444,
              "#bd3786"
             ],
             [
              0.5555555555555556,
              "#d8576b"
             ],
             [
              0.6666666666666666,
              "#ed7953"
             ],
             [
              0.7777777777777778,
              "#fb9f3a"
             ],
             [
              0.8888888888888888,
              "#fdca26"
             ],
             [
              1,
              "#f0f921"
             ]
            ],
            "type": "histogram2d"
           }
          ],
          "histogram2dcontour": [
           {
            "colorbar": {
             "outlinewidth": 0,
             "ticks": ""
            },
            "colorscale": [
             [
              0,
              "#0d0887"
             ],
             [
              0.1111111111111111,
              "#46039f"
             ],
             [
              0.2222222222222222,
              "#7201a8"
             ],
             [
              0.3333333333333333,
              "#9c179e"
             ],
             [
              0.4444444444444444,
              "#bd3786"
             ],
             [
              0.5555555555555556,
              "#d8576b"
             ],
             [
              0.6666666666666666,
              "#ed7953"
             ],
             [
              0.7777777777777778,
              "#fb9f3a"
             ],
             [
              0.8888888888888888,
              "#fdca26"
             ],
             [
              1,
              "#f0f921"
             ]
            ],
            "type": "histogram2dcontour"
           }
          ],
          "mesh3d": [
           {
            "colorbar": {
             "outlinewidth": 0,
             "ticks": ""
            },
            "type": "mesh3d"
           }
          ],
          "parcoords": [
           {
            "line": {
             "colorbar": {
              "outlinewidth": 0,
              "ticks": ""
             }
            },
            "type": "parcoords"
           }
          ],
          "pie": [
           {
            "automargin": true,
            "type": "pie"
           }
          ],
          "scatter": [
           {
            "fillpattern": {
             "fillmode": "overlay",
             "size": 10,
             "solidity": 0.2
            },
            "type": "scatter"
           }
          ],
          "scatter3d": [
           {
            "line": {
             "colorbar": {
              "outlinewidth": 0,
              "ticks": ""
             }
            },
            "marker": {
             "colorbar": {
              "outlinewidth": 0,
              "ticks": ""
             }
            },
            "type": "scatter3d"
           }
          ],
          "scattercarpet": [
           {
            "marker": {
             "colorbar": {
              "outlinewidth": 0,
              "ticks": ""
             }
            },
            "type": "scattercarpet"
           }
          ],
          "scattergeo": [
           {
            "marker": {
             "colorbar": {
              "outlinewidth": 0,
              "ticks": ""
             }
            },
            "type": "scattergeo"
           }
          ],
          "scattergl": [
           {
            "marker": {
             "colorbar": {
              "outlinewidth": 0,
              "ticks": ""
             }
            },
            "type": "scattergl"
           }
          ],
          "scattermapbox": [
           {
            "marker": {
             "colorbar": {
              "outlinewidth": 0,
              "ticks": ""
             }
            },
            "type": "scattermapbox"
           }
          ],
          "scatterpolar": [
           {
            "marker": {
             "colorbar": {
              "outlinewidth": 0,
              "ticks": ""
             }
            },
            "type": "scatterpolar"
           }
          ],
          "scatterpolargl": [
           {
            "marker": {
             "colorbar": {
              "outlinewidth": 0,
              "ticks": ""
             }
            },
            "type": "scatterpolargl"
           }
          ],
          "scatterternary": [
           {
            "marker": {
             "colorbar": {
              "outlinewidth": 0,
              "ticks": ""
             }
            },
            "type": "scatterternary"
           }
          ],
          "surface": [
           {
            "colorbar": {
             "outlinewidth": 0,
             "ticks": ""
            },
            "colorscale": [
             [
              0,
              "#0d0887"
             ],
             [
              0.1111111111111111,
              "#46039f"
             ],
             [
              0.2222222222222222,
              "#7201a8"
             ],
             [
              0.3333333333333333,
              "#9c179e"
             ],
             [
              0.4444444444444444,
              "#bd3786"
             ],
             [
              0.5555555555555556,
              "#d8576b"
             ],
             [
              0.6666666666666666,
              "#ed7953"
             ],
             [
              0.7777777777777778,
              "#fb9f3a"
             ],
             [
              0.8888888888888888,
              "#fdca26"
             ],
             [
              1,
              "#f0f921"
             ]
            ],
            "type": "surface"
           }
          ],
          "table": [
           {
            "cells": {
             "fill": {
              "color": "#EBF0F8"
             },
             "line": {
              "color": "white"
             }
            },
            "header": {
             "fill": {
              "color": "#C8D4E3"
             },
             "line": {
              "color": "white"
             }
            },
            "type": "table"
           }
          ]
         },
         "layout": {
          "annotationdefaults": {
           "arrowcolor": "#2a3f5f",
           "arrowhead": 0,
           "arrowwidth": 1
          },
          "autotypenumbers": "strict",
          "coloraxis": {
           "colorbar": {
            "outlinewidth": 0,
            "ticks": ""
           }
          },
          "colorscale": {
           "diverging": [
            [
             0,
             "#8e0152"
            ],
            [
             0.1,
             "#c51b7d"
            ],
            [
             0.2,
             "#de77ae"
            ],
            [
             0.3,
             "#f1b6da"
            ],
            [
             0.4,
             "#fde0ef"
            ],
            [
             0.5,
             "#f7f7f7"
            ],
            [
             0.6,
             "#e6f5d0"
            ],
            [
             0.7,
             "#b8e186"
            ],
            [
             0.8,
             "#7fbc41"
            ],
            [
             0.9,
             "#4d9221"
            ],
            [
             1,
             "#276419"
            ]
           ],
           "sequential": [
            [
             0,
             "#0d0887"
            ],
            [
             0.1111111111111111,
             "#46039f"
            ],
            [
             0.2222222222222222,
             "#7201a8"
            ],
            [
             0.3333333333333333,
             "#9c179e"
            ],
            [
             0.4444444444444444,
             "#bd3786"
            ],
            [
             0.5555555555555556,
             "#d8576b"
            ],
            [
             0.6666666666666666,
             "#ed7953"
            ],
            [
             0.7777777777777778,
             "#fb9f3a"
            ],
            [
             0.8888888888888888,
             "#fdca26"
            ],
            [
             1,
             "#f0f921"
            ]
           ],
           "sequentialminus": [
            [
             0,
             "#0d0887"
            ],
            [
             0.1111111111111111,
             "#46039f"
            ],
            [
             0.2222222222222222,
             "#7201a8"
            ],
            [
             0.3333333333333333,
             "#9c179e"
            ],
            [
             0.4444444444444444,
             "#bd3786"
            ],
            [
             0.5555555555555556,
             "#d8576b"
            ],
            [
             0.6666666666666666,
             "#ed7953"
            ],
            [
             0.7777777777777778,
             "#fb9f3a"
            ],
            [
             0.8888888888888888,
             "#fdca26"
            ],
            [
             1,
             "#f0f921"
            ]
           ]
          },
          "colorway": [
           "#636efa",
           "#EF553B",
           "#00cc96",
           "#ab63fa",
           "#FFA15A",
           "#19d3f3",
           "#FF6692",
           "#B6E880",
           "#FF97FF",
           "#FECB52"
          ],
          "font": {
           "color": "#2a3f5f"
          },
          "geo": {
           "bgcolor": "white",
           "lakecolor": "white",
           "landcolor": "#E5ECF6",
           "showlakes": true,
           "showland": true,
           "subunitcolor": "white"
          },
          "hoverlabel": {
           "align": "left"
          },
          "hovermode": "closest",
          "mapbox": {
           "style": "light"
          },
          "paper_bgcolor": "white",
          "plot_bgcolor": "#E5ECF6",
          "polar": {
           "angularaxis": {
            "gridcolor": "white",
            "linecolor": "white",
            "ticks": ""
           },
           "bgcolor": "#E5ECF6",
           "radialaxis": {
            "gridcolor": "white",
            "linecolor": "white",
            "ticks": ""
           }
          },
          "scene": {
           "xaxis": {
            "backgroundcolor": "#E5ECF6",
            "gridcolor": "white",
            "gridwidth": 2,
            "linecolor": "white",
            "showbackground": true,
            "ticks": "",
            "zerolinecolor": "white"
           },
           "yaxis": {
            "backgroundcolor": "#E5ECF6",
            "gridcolor": "white",
            "gridwidth": 2,
            "linecolor": "white",
            "showbackground": true,
            "ticks": "",
            "zerolinecolor": "white"
           },
           "zaxis": {
            "backgroundcolor": "#E5ECF6",
            "gridcolor": "white",
            "gridwidth": 2,
            "linecolor": "white",
            "showbackground": true,
            "ticks": "",
            "zerolinecolor": "white"
           }
          },
          "shapedefaults": {
           "line": {
            "color": "#2a3f5f"
           }
          },
          "ternary": {
           "aaxis": {
            "gridcolor": "white",
            "linecolor": "white",
            "ticks": ""
           },
           "baxis": {
            "gridcolor": "white",
            "linecolor": "white",
            "ticks": ""
           },
           "bgcolor": "#E5ECF6",
           "caxis": {
            "gridcolor": "white",
            "linecolor": "white",
            "ticks": ""
           }
          },
          "title": {
           "x": 0.05
          },
          "xaxis": {
           "automargin": true,
           "gridcolor": "white",
           "linecolor": "white",
           "ticks": "",
           "title": {
            "standoff": 15
           },
           "zerolinecolor": "white",
           "zerolinewidth": 2
          },
          "yaxis": {
           "automargin": true,
           "gridcolor": "white",
           "linecolor": "white",
           "ticks": "",
           "title": {
            "standoff": 15
           },
           "zerolinecolor": "white",
           "zerolinewidth": 2
          }
         }
        },
        "title": {
         "text": "POS distribution plot"
        },
        "xaxis": {
         "title": {
          "text": "POS"
         }
        },
        "yaxis": {
         "title": {
          "text": "Frequency"
         }
        }
       }
      },
      "text/html": [
       "<div>                            <div id=\"706f08fb-35d6-4bdb-bdc2-7e5fdd594f65\" class=\"plotly-graph-div\" style=\"height:525px; width:100%;\"></div>            <script type=\"text/javascript\">                require([\"plotly\"], function(Plotly) {                    window.PLOTLYENV=window.PLOTLYENV || {};                                    if (document.getElementById(\"706f08fb-35d6-4bdb-bdc2-7e5fdd594f65\")) {                    Plotly.newPlot(                        \"706f08fb-35d6-4bdb-bdc2-7e5fdd594f65\",                        [{\"marker\":{\"color\":\"red\"},\"name\":\"eurekarebellionaus\",\"opacity\":0.3,\"x\":[\"NOUN\",\"VERB\",\"PUNCT\",\"PRON\",\"ADP\",\"CCONJ\",\"PROPN\",\"NUM\",\"SYM\",\"INTJ\"],\"y\":[0.175,0.1289,0.1203,0.1029,0.0818,0.0281,0.0178,0.013,0.0054,0.0037],\"type\":\"bar\"},{\"marker\":{\"color\":\"blue\"},\"name\":\"eurekarebellion\",\"opacity\":0.3,\"x\":[\"NOUN\",\"VERB\",\"PUNCT\",\"PRON\",\"ADP\",\"CCONJ\",\"PROPN\",\"NUM\",\"SYM\",\"INTJ\"],\"y\":[0.1701,0.1386,0.1336,0.1069,0.0772,0.0257,0.0128,0.0029,0.0019,0.0019],\"type\":\"bar\"},{\"marker\":{\"color\":\"red\"},\"mode\":\"text\",\"showlegend\":false,\"text\":[\"order\",\"people\"],\"textfont\":{\"color\":\"red\"},\"x\":[\"NOUN\",\"NOUN\",\"NOUN\",\"NOUN\",\"NOUN\",\"NOUN\",\"NOUN\",\"NOUN\",\"NOUN\",\"NOUN\"],\"y\":[0.403,0.248],\"type\":\"scatter\"},{\"marker\":{\"color\":\"red\"},\"mode\":\"text\",\"showlegend\":false,\"text\":[\"have\",\"shipped\"],\"textfont\":{\"color\":\"red\"},\"x\":[\"VERB\",\"VERB\",\"VERB\",\"VERB\",\"VERB\",\"VERB\",\"VERB\",\"VERB\",\"VERB\",\"VERB\"],\"y\":[0.4622,0.2941],\"type\":\"scatter\"},{\"marker\":{\"color\":\"red\"},\"mode\":\"text\",\"showlegend\":false,\"text\":[\".\",\",\"],\"textfont\":{\"color\":\"red\"},\"x\":[\"PUNCT\",\"PUNCT\",\"PUNCT\",\"PUNCT\",\"PUNCT\",\"PUNCT\",\"PUNCT\",\"PUNCT\",\"PUNCT\",\"PUNCT\"],\"y\":[0.2973,0.2477],\"type\":\"scatter\"},{\"marker\":{\"color\":\"red\"},\"mode\":\"text\",\"showlegend\":false,\"text\":[\"we\",\"you\"],\"textfont\":{\"color\":\"red\"},\"x\":[\"PRON\",\"PRON\",\"PRON\",\"PRON\",\"PRON\",\"PRON\",\"PRON\",\"PRON\",\"PRON\",\"PRON\"],\"y\":[0.3,0.1105],\"type\":\"scatter\"},{\"marker\":{\"color\":\"red\"},\"mode\":\"text\",\"showlegend\":false,\"text\":[\"of\",\"for\"],\"textfont\":{\"color\":\"red\"},\"x\":[\"ADP\",\"ADP\",\"ADP\",\"ADP\",\"ADP\",\"ADP\",\"ADP\",\"ADP\",\"ADP\",\"ADP\"],\"y\":[0.1523,0.1457],\"type\":\"scatter\"},{\"marker\":{\"color\":\"red\"},\"mode\":\"text\",\"showlegend\":false,\"text\":[\"and\",\"or\"],\"textfont\":{\"color\":\"red\"},\"x\":[\"CCONJ\",\"CCONJ\",\"CCONJ\",\"CCONJ\",\"CCONJ\",\"CCONJ\",\"CCONJ\",\"CCONJ\",\"CCONJ\",\"CCONJ\"],\"y\":[0.6154,0.1731],\"type\":\"scatter\"},{\"marker\":{\"color\":\"red\"},\"mode\":\"text\",\"showlegend\":false,\"text\":[\"w.a\",\"dog\"],\"textfont\":{\"color\":\"red\"},\"x\":[\"PROPN\",\"PROPN\",\"PROPN\",\"PROPN\",\"PROPN\",\"PROPN\",\"PROPN\",\"PROPN\",\"PROPN\",\"PROPN\"],\"y\":[0.2727,0.1212],\"type\":\"scatter\"},{\"marker\":{\"color\":\"red\"},\"mode\":\"text\",\"showlegend\":false,\"text\":[\"1\",\"100\"],\"textfont\":{\"color\":\"red\"},\"x\":[\"NUM\",\"NUM\",\"NUM\",\"NUM\",\"NUM\",\"NUM\",\"NUM\",\"NUM\",\"NUM\",\"NUM\"],\"y\":[0.1296,0.125],\"type\":\"scatter\"},{\"marker\":{\"color\":\"red\"},\"mode\":\"text\",\"showlegend\":false,\"text\":[\"$\",\"-\"],\"textfont\":{\"color\":\"red\"},\"x\":[\"SYM\",\"SYM\",\"SYM\",\"SYM\",\"SYM\",\"SYM\",\"SYM\",\"SYM\",\"SYM\",\"SYM\"],\"y\":[0.4,0.4],\"type\":\"scatter\"},{\"marker\":{\"color\":\"red\"},\"mode\":\"text\",\"showlegend\":false,\"text\":[\"please\",\"hello\"],\"textfont\":{\"color\":\"red\"},\"x\":[\"INTJ\",\"INTJ\",\"INTJ\",\"INTJ\",\"INTJ\",\"INTJ\",\"INTJ\",\"INTJ\",\"INTJ\",\"INTJ\"],\"y\":[0.8571,0.1429],\"type\":\"scatter\"},{\"marker\":{\"color\":\"blue\"},\"mode\":\"text\",\"showlegend\":false,\"text\":[\"address\",\"quality\"],\"textfont\":{\"color\":\"blue\"},\"x\":[\"NOUN\",\"NOUN\",\"NOUN\",\"NOUN\",\"NOUN\",\"NOUN\",\"NOUN\",\"NOUN\",\"NOUN\"],\"y\":[0.4072,0.3491],\"type\":\"scatter\"},{\"marker\":{\"color\":\"blue\"},\"mode\":\"text\",\"showlegend\":false,\"text\":[\"have\",\"get\"],\"textfont\":{\"color\":\"blue\"},\"x\":[\"VERB\",\"VERB\",\"VERB\",\"VERB\",\"VERB\",\"VERB\",\"VERB\",\"VERB\",\"VERB\"],\"y\":[0.5,0.2857],\"type\":\"scatter\"},{\"marker\":{\"color\":\"blue\"},\"mode\":\"text\",\"showlegend\":false,\"text\":[\".\",\",\"],\"textfont\":{\"color\":\"blue\"},\"x\":[\"PUNCT\",\"PUNCT\",\"PUNCT\",\"PUNCT\",\"PUNCT\",\"PUNCT\",\"PUNCT\",\"PUNCT\",\"PUNCT\"],\"y\":[0.2667,0.2444],\"type\":\"scatter\"},{\"marker\":{\"color\":\"blue\"},\"mode\":\"text\",\"showlegend\":false,\"text\":[\"we\",\"you\"],\"textfont\":{\"color\":\"blue\"},\"x\":[\"PRON\",\"PRON\",\"PRON\",\"PRON\",\"PRON\",\"PRON\",\"PRON\",\"PRON\",\"PRON\"],\"y\":[0.287,0.0926],\"type\":\"scatter\"},{\"marker\":{\"color\":\"blue\"},\"mode\":\"text\",\"showlegend\":false,\"text\":[\"of\",\"in\"],\"textfont\":{\"color\":\"blue\"},\"x\":[\"ADP\",\"ADP\",\"ADP\",\"ADP\",\"ADP\",\"ADP\",\"ADP\",\"ADP\",\"ADP\"],\"y\":[0.141,0.141],\"type\":\"scatter\"},{\"marker\":{\"color\":\"blue\"},\"mode\":\"text\",\"showlegend\":false,\"text\":[\"and\",\"or\"],\"textfont\":{\"color\":\"blue\"},\"x\":[\"CCONJ\",\"CCONJ\",\"CCONJ\",\"CCONJ\",\"CCONJ\",\"CCONJ\",\"CCONJ\",\"CCONJ\",\"CCONJ\"],\"y\":[0.6154,0.2308],\"type\":\"scatter\"},{\"marker\":{\"color\":\"blue\"},\"mode\":\"text\",\"showlegend\":false,\"text\":[\"fe\",\"sep\"],\"textfont\":{\"color\":\"blue\"},\"x\":[\"PROPN\",\"PROPN\",\"PROPN\",\"PROPN\",\"PROPN\",\"PROPN\",\"PROPN\",\"PROPN\",\"PROPN\"],\"y\":[0.1538,0.0769],\"type\":\"scatter\"},{\"marker\":{\"color\":\"blue\"},\"mode\":\"text\",\"showlegend\":false,\"text\":[\"200\",\"5024\"],\"textfont\":{\"color\":\"blue\"},\"x\":[\"NUM\",\"NUM\",\"NUM\",\"NUM\",\"NUM\",\"NUM\",\"NUM\",\"NUM\",\"NUM\"],\"y\":[0.3333,0.3333],\"type\":\"scatter\"},{\"marker\":{\"color\":\"blue\"},\"mode\":\"text\",\"showlegend\":false,\"text\":[\"/\"],\"textfont\":{\"color\":\"blue\"},\"x\":[\"SYM\",\"SYM\",\"SYM\",\"SYM\",\"SYM\",\"SYM\",\"SYM\",\"SYM\",\"SYM\"],\"y\":[1.0],\"type\":\"scatter\"}],                        {\"template\":{\"data\":{\"histogram2dcontour\":[{\"type\":\"histogram2dcontour\",\"colorbar\":{\"outlinewidth\":0,\"ticks\":\"\"},\"colorscale\":[[0.0,\"#0d0887\"],[0.1111111111111111,\"#46039f\"],[0.2222222222222222,\"#7201a8\"],[0.3333333333333333,\"#9c179e\"],[0.4444444444444444,\"#bd3786\"],[0.5555555555555556,\"#d8576b\"],[0.6666666666666666,\"#ed7953\"],[0.7777777777777778,\"#fb9f3a\"],[0.8888888888888888,\"#fdca26\"],[1.0,\"#f0f921\"]]}],\"choropleth\":[{\"type\":\"choropleth\",\"colorbar\":{\"outlinewidth\":0,\"ticks\":\"\"}}],\"histogram2d\":[{\"type\":\"histogram2d\",\"colorbar\":{\"outlinewidth\":0,\"ticks\":\"\"},\"colorscale\":[[0.0,\"#0d0887\"],[0.1111111111111111,\"#46039f\"],[0.2222222222222222,\"#7201a8\"],[0.3333333333333333,\"#9c179e\"],[0.4444444444444444,\"#bd3786\"],[0.5555555555555556,\"#d8576b\"],[0.6666666666666666,\"#ed7953\"],[0.7777777777777778,\"#fb9f3a\"],[0.8888888888888888,\"#fdca26\"],[1.0,\"#f0f921\"]]}],\"heatmap\":[{\"type\":\"heatmap\",\"colorbar\":{\"outlinewidth\":0,\"ticks\":\"\"},\"colorscale\":[[0.0,\"#0d0887\"],[0.1111111111111111,\"#46039f\"],[0.2222222222222222,\"#7201a8\"],[0.3333333333333333,\"#9c179e\"],[0.4444444444444444,\"#bd3786\"],[0.5555555555555556,\"#d8576b\"],[0.6666666666666666,\"#ed7953\"],[0.7777777777777778,\"#fb9f3a\"],[0.8888888888888888,\"#fdca26\"],[1.0,\"#f0f921\"]]}],\"heatmapgl\":[{\"type\":\"heatmapgl\",\"colorbar\":{\"outlinewidth\":0,\"ticks\":\"\"},\"colorscale\":[[0.0,\"#0d0887\"],[0.1111111111111111,\"#46039f\"],[0.2222222222222222,\"#7201a8\"],[0.3333333333333333,\"#9c179e\"],[0.4444444444444444,\"#bd3786\"],[0.5555555555555556,\"#d8576b\"],[0.6666666666666666,\"#ed7953\"],[0.7777777777777778,\"#fb9f3a\"],[0.8888888888888888,\"#fdca26\"],[1.0,\"#f0f921\"]]}],\"contourcarpet\":[{\"type\":\"contourcarpet\",\"colorbar\":{\"outlinewidth\":0,\"ticks\":\"\"}}],\"contour\":[{\"type\":\"contour\",\"colorbar\":{\"outlinewidth\":0,\"ticks\":\"\"},\"colorscale\":[[0.0,\"#0d0887\"],[0.1111111111111111,\"#46039f\"],[0.2222222222222222,\"#7201a8\"],[0.3333333333333333,\"#9c179e\"],[0.4444444444444444,\"#bd3786\"],[0.5555555555555556,\"#d8576b\"],[0.6666666666666666,\"#ed7953\"],[0.7777777777777778,\"#fb9f3a\"],[0.8888888888888888,\"#fdca26\"],[1.0,\"#f0f921\"]]}],\"surface\":[{\"type\":\"surface\",\"colorbar\":{\"outlinewidth\":0,\"ticks\":\"\"},\"colorscale\":[[0.0,\"#0d0887\"],[0.1111111111111111,\"#46039f\"],[0.2222222222222222,\"#7201a8\"],[0.3333333333333333,\"#9c179e\"],[0.4444444444444444,\"#bd3786\"],[0.5555555555555556,\"#d8576b\"],[0.6666666666666666,\"#ed7953\"],[0.7777777777777778,\"#fb9f3a\"],[0.8888888888888888,\"#fdca26\"],[1.0,\"#f0f921\"]]}],\"mesh3d\":[{\"type\":\"mesh3d\",\"colorbar\":{\"outlinewidth\":0,\"ticks\":\"\"}}],\"scatter\":[{\"fillpattern\":{\"fillmode\":\"overlay\",\"size\":10,\"solidity\":0.2},\"type\":\"scatter\"}],\"parcoords\":[{\"type\":\"parcoords\",\"line\":{\"colorbar\":{\"outlinewidth\":0,\"ticks\":\"\"}}}],\"scatterpolargl\":[{\"type\":\"scatterpolargl\",\"marker\":{\"colorbar\":{\"outlinewidth\":0,\"ticks\":\"\"}}}],\"bar\":[{\"error_x\":{\"color\":\"#2a3f5f\"},\"error_y\":{\"color\":\"#2a3f5f\"},\"marker\":{\"line\":{\"color\":\"#E5ECF6\",\"width\":0.5},\"pattern\":{\"fillmode\":\"overlay\",\"size\":10,\"solidity\":0.2}},\"type\":\"bar\"}],\"scattergeo\":[{\"type\":\"scattergeo\",\"marker\":{\"colorbar\":{\"outlinewidth\":0,\"ticks\":\"\"}}}],\"scatterpolar\":[{\"type\":\"scatterpolar\",\"marker\":{\"colorbar\":{\"outlinewidth\":0,\"ticks\":\"\"}}}],\"histogram\":[{\"marker\":{\"pattern\":{\"fillmode\":\"overlay\",\"size\":10,\"solidity\":0.2}},\"type\":\"histogram\"}],\"scattergl\":[{\"type\":\"scattergl\",\"marker\":{\"colorbar\":{\"outlinewidth\":0,\"ticks\":\"\"}}}],\"scatter3d\":[{\"type\":\"scatter3d\",\"line\":{\"colorbar\":{\"outlinewidth\":0,\"ticks\":\"\"}},\"marker\":{\"colorbar\":{\"outlinewidth\":0,\"ticks\":\"\"}}}],\"scattermapbox\":[{\"type\":\"scattermapbox\",\"marker\":{\"colorbar\":{\"outlinewidth\":0,\"ticks\":\"\"}}}],\"scatterternary\":[{\"type\":\"scatterternary\",\"marker\":{\"colorbar\":{\"outlinewidth\":0,\"ticks\":\"\"}}}],\"scattercarpet\":[{\"type\":\"scattercarpet\",\"marker\":{\"colorbar\":{\"outlinewidth\":0,\"ticks\":\"\"}}}],\"carpet\":[{\"aaxis\":{\"endlinecolor\":\"#2a3f5f\",\"gridcolor\":\"white\",\"linecolor\":\"white\",\"minorgridcolor\":\"white\",\"startlinecolor\":\"#2a3f5f\"},\"baxis\":{\"endlinecolor\":\"#2a3f5f\",\"gridcolor\":\"white\",\"linecolor\":\"white\",\"minorgridcolor\":\"white\",\"startlinecolor\":\"#2a3f5f\"},\"type\":\"carpet\"}],\"table\":[{\"cells\":{\"fill\":{\"color\":\"#EBF0F8\"},\"line\":{\"color\":\"white\"}},\"header\":{\"fill\":{\"color\":\"#C8D4E3\"},\"line\":{\"color\":\"white\"}},\"type\":\"table\"}],\"barpolar\":[{\"marker\":{\"line\":{\"color\":\"#E5ECF6\",\"width\":0.5},\"pattern\":{\"fillmode\":\"overlay\",\"size\":10,\"solidity\":0.2}},\"type\":\"barpolar\"}],\"pie\":[{\"automargin\":true,\"type\":\"pie\"}]},\"layout\":{\"autotypenumbers\":\"strict\",\"colorway\":[\"#636efa\",\"#EF553B\",\"#00cc96\",\"#ab63fa\",\"#FFA15A\",\"#19d3f3\",\"#FF6692\",\"#B6E880\",\"#FF97FF\",\"#FECB52\"],\"font\":{\"color\":\"#2a3f5f\"},\"hovermode\":\"closest\",\"hoverlabel\":{\"align\":\"left\"},\"paper_bgcolor\":\"white\",\"plot_bgcolor\":\"#E5ECF6\",\"polar\":{\"bgcolor\":\"#E5ECF6\",\"angularaxis\":{\"gridcolor\":\"white\",\"linecolor\":\"white\",\"ticks\":\"\"},\"radialaxis\":{\"gridcolor\":\"white\",\"linecolor\":\"white\",\"ticks\":\"\"}},\"ternary\":{\"bgcolor\":\"#E5ECF6\",\"aaxis\":{\"gridcolor\":\"white\",\"linecolor\":\"white\",\"ticks\":\"\"},\"baxis\":{\"gridcolor\":\"white\",\"linecolor\":\"white\",\"ticks\":\"\"},\"caxis\":{\"gridcolor\":\"white\",\"linecolor\":\"white\",\"ticks\":\"\"}},\"coloraxis\":{\"colorbar\":{\"outlinewidth\":0,\"ticks\":\"\"}},\"colorscale\":{\"sequential\":[[0.0,\"#0d0887\"],[0.1111111111111111,\"#46039f\"],[0.2222222222222222,\"#7201a8\"],[0.3333333333333333,\"#9c179e\"],[0.4444444444444444,\"#bd3786\"],[0.5555555555555556,\"#d8576b\"],[0.6666666666666666,\"#ed7953\"],[0.7777777777777778,\"#fb9f3a\"],[0.8888888888888888,\"#fdca26\"],[1.0,\"#f0f921\"]],\"sequentialminus\":[[0.0,\"#0d0887\"],[0.1111111111111111,\"#46039f\"],[0.2222222222222222,\"#7201a8\"],[0.3333333333333333,\"#9c179e\"],[0.4444444444444444,\"#bd3786\"],[0.5555555555555556,\"#d8576b\"],[0.6666666666666666,\"#ed7953\"],[0.7777777777777778,\"#fb9f3a\"],[0.8888888888888888,\"#fdca26\"],[1.0,\"#f0f921\"]],\"diverging\":[[0,\"#8e0152\"],[0.1,\"#c51b7d\"],[0.2,\"#de77ae\"],[0.3,\"#f1b6da\"],[0.4,\"#fde0ef\"],[0.5,\"#f7f7f7\"],[0.6,\"#e6f5d0\"],[0.7,\"#b8e186\"],[0.8,\"#7fbc41\"],[0.9,\"#4d9221\"],[1,\"#276419\"]]},\"xaxis\":{\"gridcolor\":\"white\",\"linecolor\":\"white\",\"ticks\":\"\",\"title\":{\"standoff\":15},\"zerolinecolor\":\"white\",\"automargin\":true,\"zerolinewidth\":2},\"yaxis\":{\"gridcolor\":\"white\",\"linecolor\":\"white\",\"ticks\":\"\",\"title\":{\"standoff\":15},\"zerolinecolor\":\"white\",\"automargin\":true,\"zerolinewidth\":2},\"scene\":{\"xaxis\":{\"backgroundcolor\":\"#E5ECF6\",\"gridcolor\":\"white\",\"linecolor\":\"white\",\"showbackground\":true,\"ticks\":\"\",\"zerolinecolor\":\"white\",\"gridwidth\":2},\"yaxis\":{\"backgroundcolor\":\"#E5ECF6\",\"gridcolor\":\"white\",\"linecolor\":\"white\",\"showbackground\":true,\"ticks\":\"\",\"zerolinecolor\":\"white\",\"gridwidth\":2},\"zaxis\":{\"backgroundcolor\":\"#E5ECF6\",\"gridcolor\":\"white\",\"linecolor\":\"white\",\"showbackground\":true,\"ticks\":\"\",\"zerolinecolor\":\"white\",\"gridwidth\":2}},\"shapedefaults\":{\"line\":{\"color\":\"#2a3f5f\"}},\"annotationdefaults\":{\"arrowcolor\":\"#2a3f5f\",\"arrowhead\":0,\"arrowwidth\":1},\"geo\":{\"bgcolor\":\"white\",\"landcolor\":\"#E5ECF6\",\"subunitcolor\":\"white\",\"showland\":true,\"showlakes\":true,\"lakecolor\":\"white\"},\"title\":{\"x\":0.05},\"mapbox\":{\"style\":\"light\"}}},\"font\":{\"family\":\"Courier New, monospace\",\"size\":16,\"color\":\"RebeccaPurple\"},\"title\":{\"text\":\"POS distribution plot\"},\"xaxis\":{\"title\":{\"text\":\"POS\"}},\"yaxis\":{\"title\":{\"text\":\"Frequency\"}}},                        {\"responsive\": true}                    ).then(function(){\n",
       "                            \n",
       "var gd = document.getElementById('706f08fb-35d6-4bdb-bdc2-7e5fdd594f65');\n",
       "var x = new MutationObserver(function (mutations, observer) {{\n",
       "        var display = window.getComputedStyle(gd).display;\n",
       "        if (!display || display === 'none') {{\n",
       "            console.log([gd, 'removed!']);\n",
       "            Plotly.purge(gd);\n",
       "            observer.disconnect();\n",
       "        }}\n",
       "}});\n",
       "\n",
       "// Listen for the removal of the full notebook cells\n",
       "var notebookContainer = gd.closest('#notebook-container');\n",
       "if (notebookContainer) {{\n",
       "    x.observe(notebookContainer, {childList: true});\n",
       "}}\n",
       "\n",
       "// Listen for the clearing of the current output cell\n",
       "var outputEl = gd.closest('.output');\n",
       "if (outputEl) {{\n",
       "    x.observe(outputEl, {childList: true});\n",
       "}}\n",
       "\n",
       "                        })                };                });            </script>        </div>"
      ]
     },
     "metadata": {},
     "output_type": "display_data"
    }
   ],
   "source": [
    "generate_scatter_plot(parent_vendor_vocab, parent_vendor_density, alias1_vocab, alias1_density, parent_vendor_name=\"eurekarebellionaus\", alias_name=\"eurekarebellion\", n_vendor=2)"
   ]
  },
  {
   "cell_type": "markdown",
   "id": "0204ff9c",
   "metadata": {},
   "source": [
    "+ The second plot shows how differently the vendors eurekarebellionaus and stimz prefer different grammatical structures in their advertisements. \n",
    "    + The most activate POS tags for eurekarebellionaus is NOUN, followed by VERB, PUNT, PRON, and ADP. Whereas, the vendor stimz prefer PRON more than PUNCT and VERB.\n",
    "    + The n-most frequent token analyses points to inconclusive results as it is difficult to make out if the vendors are talking about the same thing. "
   ]
  },
  {
   "cell_type": "code",
   "execution_count": 44,
   "id": "b5b3c17b",
   "metadata": {},
   "outputs": [
    {
     "data": {
      "application/vnd.plotly.v1+json": {
       "config": {
        "plotlyServerURL": "https://plot.ly"
       },
       "data": [
        {
         "marker": {
          "color": "red"
         },
         "name": "eurekarebellionaus",
         "opacity": 0.3,
         "type": "bar",
         "x": [
          "NOUN",
          "VERB",
          "PUNCT",
          "PRON",
          "ADP",
          "CCONJ",
          "PROPN",
          "NUM",
          "SYM",
          "INTJ"
         ],
         "y": [
          0.175,
          0.1289,
          0.1203,
          0.1029,
          0.0818,
          0.0281,
          0.0178,
          0.013,
          0.0054,
          0.0037
         ]
        },
        {
         "marker": {
          "color": "blue"
         },
         "name": "stimz",
         "opacity": 0.3,
         "type": "bar",
         "x": [
          "NOUN",
          "VERB",
          "PUNCT",
          "PRON",
          "ADP",
          "CCONJ",
          "PROPN",
          "NUM",
          "SYM",
          "INTJ"
         ],
         "y": [
          0.1634,
          0.0863,
          0.1012,
          0.1385,
          0.0912,
          0.0049,
          0.0414,
          0.0165,
          0,
          0
         ]
        },
        {
         "marker": {
          "color": "red"
         },
         "mode": "text",
         "showlegend": false,
         "text": [
          "order",
          "people"
         ],
         "textfont": {
          "color": "red"
         },
         "type": "scatter",
         "x": [
          "NOUN",
          "NOUN",
          "NOUN",
          "NOUN",
          "NOUN",
          "NOUN",
          "NOUN",
          "NOUN",
          "NOUN",
          "NOUN"
         ],
         "y": [
          0.403,
          0.248
         ]
        },
        {
         "marker": {
          "color": "red"
         },
         "mode": "text",
         "showlegend": false,
         "text": [
          "have",
          "shipped"
         ],
         "textfont": {
          "color": "red"
         },
         "type": "scatter",
         "x": [
          "VERB",
          "VERB",
          "VERB",
          "VERB",
          "VERB",
          "VERB",
          "VERB",
          "VERB",
          "VERB",
          "VERB"
         ],
         "y": [
          0.4622,
          0.2941
         ]
        },
        {
         "marker": {
          "color": "red"
         },
         "mode": "text",
         "showlegend": false,
         "text": [
          ".",
          ","
         ],
         "textfont": {
          "color": "red"
         },
         "type": "scatter",
         "x": [
          "PUNCT",
          "PUNCT",
          "PUNCT",
          "PUNCT",
          "PUNCT",
          "PUNCT",
          "PUNCT",
          "PUNCT",
          "PUNCT",
          "PUNCT"
         ],
         "y": [
          0.2973,
          0.2477
         ]
        },
        {
         "marker": {
          "color": "red"
         },
         "mode": "text",
         "showlegend": false,
         "text": [
          "we",
          "you"
         ],
         "textfont": {
          "color": "red"
         },
         "type": "scatter",
         "x": [
          "PRON",
          "PRON",
          "PRON",
          "PRON",
          "PRON",
          "PRON",
          "PRON",
          "PRON",
          "PRON",
          "PRON"
         ],
         "y": [
          0.3,
          0.1105
         ]
        },
        {
         "marker": {
          "color": "red"
         },
         "mode": "text",
         "showlegend": false,
         "text": [
          "of",
          "for"
         ],
         "textfont": {
          "color": "red"
         },
         "type": "scatter",
         "x": [
          "ADP",
          "ADP",
          "ADP",
          "ADP",
          "ADP",
          "ADP",
          "ADP",
          "ADP",
          "ADP",
          "ADP"
         ],
         "y": [
          0.1523,
          0.1457
         ]
        },
        {
         "marker": {
          "color": "red"
         },
         "mode": "text",
         "showlegend": false,
         "text": [
          "and",
          "or"
         ],
         "textfont": {
          "color": "red"
         },
         "type": "scatter",
         "x": [
          "CCONJ",
          "CCONJ",
          "CCONJ",
          "CCONJ",
          "CCONJ",
          "CCONJ",
          "CCONJ",
          "CCONJ",
          "CCONJ",
          "CCONJ"
         ],
         "y": [
          0.6154,
          0.1731
         ]
        },
        {
         "marker": {
          "color": "red"
         },
         "mode": "text",
         "showlegend": false,
         "text": [
          "w.a",
          "dog"
         ],
         "textfont": {
          "color": "red"
         },
         "type": "scatter",
         "x": [
          "PROPN",
          "PROPN",
          "PROPN",
          "PROPN",
          "PROPN",
          "PROPN",
          "PROPN",
          "PROPN",
          "PROPN",
          "PROPN"
         ],
         "y": [
          0.2727,
          0.1212
         ]
        },
        {
         "marker": {
          "color": "red"
         },
         "mode": "text",
         "showlegend": false,
         "text": [
          "1",
          "100"
         ],
         "textfont": {
          "color": "red"
         },
         "type": "scatter",
         "x": [
          "NUM",
          "NUM",
          "NUM",
          "NUM",
          "NUM",
          "NUM",
          "NUM",
          "NUM",
          "NUM",
          "NUM"
         ],
         "y": [
          0.1296,
          0.125
         ]
        },
        {
         "marker": {
          "color": "red"
         },
         "mode": "text",
         "showlegend": false,
         "text": [
          "$",
          "-"
         ],
         "textfont": {
          "color": "red"
         },
         "type": "scatter",
         "x": [
          "SYM",
          "SYM",
          "SYM",
          "SYM",
          "SYM",
          "SYM",
          "SYM",
          "SYM",
          "SYM",
          "SYM"
         ],
         "y": [
          0.4,
          0.4
         ]
        },
        {
         "marker": {
          "color": "red"
         },
         "mode": "text",
         "showlegend": false,
         "text": [
          "please",
          "hello"
         ],
         "textfont": {
          "color": "red"
         },
         "type": "scatter",
         "x": [
          "INTJ",
          "INTJ",
          "INTJ",
          "INTJ",
          "INTJ",
          "INTJ",
          "INTJ",
          "INTJ",
          "INTJ",
          "INTJ"
         ],
         "y": [
          0.8571,
          0.1429
         ]
        },
        {
         "marker": {
          "color": "blue"
         },
         "mode": "text",
         "showlegend": false,
         "text": [
          "products",
          "g"
         ],
         "textfont": {
          "color": "blue"
         },
         "type": "scatter",
         "x": [
          "NOUN",
          "NOUN",
          "NOUN",
          "NOUN",
          "NOUN",
          "NOUN",
          "NOUN",
          "NOUN"
         ],
         "y": [
          0.125,
          0.0625
         ]
        },
        {
         "marker": {
          "color": "blue"
         },
         "mode": "text",
         "showlegend": false,
         "text": [
          "opening",
          "find"
         ],
         "textfont": {
          "color": "blue"
         },
         "type": "scatter",
         "x": [
          "VERB",
          "VERB",
          "VERB",
          "VERB",
          "VERB",
          "VERB",
          "VERB",
          "VERB"
         ],
         "y": [
          0.1111,
          0.1111
         ]
        },
        {
         "marker": {
          "color": "blue"
         },
         "mode": "text",
         "showlegend": false,
         "text": [
          ".",
          ","
         ],
         "textfont": {
          "color": "blue"
         },
         "type": "scatter",
         "x": [
          "PUNCT",
          "PUNCT",
          "PUNCT",
          "PUNCT",
          "PUNCT",
          "PUNCT",
          "PUNCT",
          "PUNCT"
         ],
         "y": [
          0.625,
          0.25
         ]
        },
        {
         "marker": {
          "color": "blue"
         },
         "mode": "text",
         "showlegend": false,
         "text": [
          "you",
          "our"
         ],
         "textfont": {
          "color": "blue"
         },
         "type": "scatter",
         "x": [
          "PRON",
          "PRON",
          "PRON",
          "PRON",
          "PRON",
          "PRON",
          "PRON",
          "PRON"
         ],
         "y": [
          0.2308,
          0.1538
         ]
        },
        {
         "marker": {
          "color": "blue"
         },
         "mode": "text",
         "showlegend": false,
         "text": [
          "of",
          "to"
         ],
         "textfont": {
          "color": "blue"
         },
         "type": "scatter",
         "x": [
          "ADP",
          "ADP",
          "ADP",
          "ADP",
          "ADP",
          "ADP",
          "ADP",
          "ADP"
         ],
         "y": [
          0.25,
          0.125
         ]
        },
        {
         "marker": {
          "color": "blue"
         },
         "mode": "text",
         "showlegend": false,
         "text": [
          "and",
          "or"
         ],
         "textfont": {
          "color": "blue"
         },
         "type": "scatter",
         "x": [
          "CCONJ",
          "CCONJ",
          "CCONJ",
          "CCONJ",
          "CCONJ",
          "CCONJ",
          "CCONJ",
          "CCONJ"
         ],
         "y": [
          0.5,
          0.5
         ]
        },
        {
         "marker": {
          "color": "blue"
         },
         "mode": "text",
         "showlegend": false,
         "text": [
          "sz01",
          "SEP"
         ],
         "textfont": {
          "color": "blue"
         },
         "type": "scatter",
         "x": [
          "PROPN",
          "PROPN",
          "PROPN",
          "PROPN",
          "PROPN",
          "PROPN",
          "PROPN",
          "PROPN"
         ],
         "y": [
          0.25,
          0.25
         ]
        },
        {
         "marker": {
          "color": "blue"
         },
         "mode": "text",
         "showlegend": false,
         "text": [
          "3.5",
          "1"
         ],
         "textfont": {
          "color": "blue"
         },
         "type": "scatter",
         "x": [
          "NUM",
          "NUM",
          "NUM",
          "NUM",
          "NUM",
          "NUM",
          "NUM",
          "NUM"
         ],
         "y": [
          0.3333,
          0.3333
         ]
        }
       ],
       "layout": {
        "font": {
         "color": "RebeccaPurple",
         "family": "Courier New, monospace",
         "size": 16
        },
        "template": {
         "data": {
          "bar": [
           {
            "error_x": {
             "color": "#2a3f5f"
            },
            "error_y": {
             "color": "#2a3f5f"
            },
            "marker": {
             "line": {
              "color": "#E5ECF6",
              "width": 0.5
             },
             "pattern": {
              "fillmode": "overlay",
              "size": 10,
              "solidity": 0.2
             }
            },
            "type": "bar"
           }
          ],
          "barpolar": [
           {
            "marker": {
             "line": {
              "color": "#E5ECF6",
              "width": 0.5
             },
             "pattern": {
              "fillmode": "overlay",
              "size": 10,
              "solidity": 0.2
             }
            },
            "type": "barpolar"
           }
          ],
          "carpet": [
           {
            "aaxis": {
             "endlinecolor": "#2a3f5f",
             "gridcolor": "white",
             "linecolor": "white",
             "minorgridcolor": "white",
             "startlinecolor": "#2a3f5f"
            },
            "baxis": {
             "endlinecolor": "#2a3f5f",
             "gridcolor": "white",
             "linecolor": "white",
             "minorgridcolor": "white",
             "startlinecolor": "#2a3f5f"
            },
            "type": "carpet"
           }
          ],
          "choropleth": [
           {
            "colorbar": {
             "outlinewidth": 0,
             "ticks": ""
            },
            "type": "choropleth"
           }
          ],
          "contour": [
           {
            "colorbar": {
             "outlinewidth": 0,
             "ticks": ""
            },
            "colorscale": [
             [
              0,
              "#0d0887"
             ],
             [
              0.1111111111111111,
              "#46039f"
             ],
             [
              0.2222222222222222,
              "#7201a8"
             ],
             [
              0.3333333333333333,
              "#9c179e"
             ],
             [
              0.4444444444444444,
              "#bd3786"
             ],
             [
              0.5555555555555556,
              "#d8576b"
             ],
             [
              0.6666666666666666,
              "#ed7953"
             ],
             [
              0.7777777777777778,
              "#fb9f3a"
             ],
             [
              0.8888888888888888,
              "#fdca26"
             ],
             [
              1,
              "#f0f921"
             ]
            ],
            "type": "contour"
           }
          ],
          "contourcarpet": [
           {
            "colorbar": {
             "outlinewidth": 0,
             "ticks": ""
            },
            "type": "contourcarpet"
           }
          ],
          "heatmap": [
           {
            "colorbar": {
             "outlinewidth": 0,
             "ticks": ""
            },
            "colorscale": [
             [
              0,
              "#0d0887"
             ],
             [
              0.1111111111111111,
              "#46039f"
             ],
             [
              0.2222222222222222,
              "#7201a8"
             ],
             [
              0.3333333333333333,
              "#9c179e"
             ],
             [
              0.4444444444444444,
              "#bd3786"
             ],
             [
              0.5555555555555556,
              "#d8576b"
             ],
             [
              0.6666666666666666,
              "#ed7953"
             ],
             [
              0.7777777777777778,
              "#fb9f3a"
             ],
             [
              0.8888888888888888,
              "#fdca26"
             ],
             [
              1,
              "#f0f921"
             ]
            ],
            "type": "heatmap"
           }
          ],
          "heatmapgl": [
           {
            "colorbar": {
             "outlinewidth": 0,
             "ticks": ""
            },
            "colorscale": [
             [
              0,
              "#0d0887"
             ],
             [
              0.1111111111111111,
              "#46039f"
             ],
             [
              0.2222222222222222,
              "#7201a8"
             ],
             [
              0.3333333333333333,
              "#9c179e"
             ],
             [
              0.4444444444444444,
              "#bd3786"
             ],
             [
              0.5555555555555556,
              "#d8576b"
             ],
             [
              0.6666666666666666,
              "#ed7953"
             ],
             [
              0.7777777777777778,
              "#fb9f3a"
             ],
             [
              0.8888888888888888,
              "#fdca26"
             ],
             [
              1,
              "#f0f921"
             ]
            ],
            "type": "heatmapgl"
           }
          ],
          "histogram": [
           {
            "marker": {
             "pattern": {
              "fillmode": "overlay",
              "size": 10,
              "solidity": 0.2
             }
            },
            "type": "histogram"
           }
          ],
          "histogram2d": [
           {
            "colorbar": {
             "outlinewidth": 0,
             "ticks": ""
            },
            "colorscale": [
             [
              0,
              "#0d0887"
             ],
             [
              0.1111111111111111,
              "#46039f"
             ],
             [
              0.2222222222222222,
              "#7201a8"
             ],
             [
              0.3333333333333333,
              "#9c179e"
             ],
             [
              0.4444444444444444,
              "#bd3786"
             ],
             [
              0.5555555555555556,
              "#d8576b"
             ],
             [
              0.6666666666666666,
              "#ed7953"
             ],
             [
              0.7777777777777778,
              "#fb9f3a"
             ],
             [
              0.8888888888888888,
              "#fdca26"
             ],
             [
              1,
              "#f0f921"
             ]
            ],
            "type": "histogram2d"
           }
          ],
          "histogram2dcontour": [
           {
            "colorbar": {
             "outlinewidth": 0,
             "ticks": ""
            },
            "colorscale": [
             [
              0,
              "#0d0887"
             ],
             [
              0.1111111111111111,
              "#46039f"
             ],
             [
              0.2222222222222222,
              "#7201a8"
             ],
             [
              0.3333333333333333,
              "#9c179e"
             ],
             [
              0.4444444444444444,
              "#bd3786"
             ],
             [
              0.5555555555555556,
              "#d8576b"
             ],
             [
              0.6666666666666666,
              "#ed7953"
             ],
             [
              0.7777777777777778,
              "#fb9f3a"
             ],
             [
              0.8888888888888888,
              "#fdca26"
             ],
             [
              1,
              "#f0f921"
             ]
            ],
            "type": "histogram2dcontour"
           }
          ],
          "mesh3d": [
           {
            "colorbar": {
             "outlinewidth": 0,
             "ticks": ""
            },
            "type": "mesh3d"
           }
          ],
          "parcoords": [
           {
            "line": {
             "colorbar": {
              "outlinewidth": 0,
              "ticks": ""
             }
            },
            "type": "parcoords"
           }
          ],
          "pie": [
           {
            "automargin": true,
            "type": "pie"
           }
          ],
          "scatter": [
           {
            "fillpattern": {
             "fillmode": "overlay",
             "size": 10,
             "solidity": 0.2
            },
            "type": "scatter"
           }
          ],
          "scatter3d": [
           {
            "line": {
             "colorbar": {
              "outlinewidth": 0,
              "ticks": ""
             }
            },
            "marker": {
             "colorbar": {
              "outlinewidth": 0,
              "ticks": ""
             }
            },
            "type": "scatter3d"
           }
          ],
          "scattercarpet": [
           {
            "marker": {
             "colorbar": {
              "outlinewidth": 0,
              "ticks": ""
             }
            },
            "type": "scattercarpet"
           }
          ],
          "scattergeo": [
           {
            "marker": {
             "colorbar": {
              "outlinewidth": 0,
              "ticks": ""
             }
            },
            "type": "scattergeo"
           }
          ],
          "scattergl": [
           {
            "marker": {
             "colorbar": {
              "outlinewidth": 0,
              "ticks": ""
             }
            },
            "type": "scattergl"
           }
          ],
          "scattermapbox": [
           {
            "marker": {
             "colorbar": {
              "outlinewidth": 0,
              "ticks": ""
             }
            },
            "type": "scattermapbox"
           }
          ],
          "scatterpolar": [
           {
            "marker": {
             "colorbar": {
              "outlinewidth": 0,
              "ticks": ""
             }
            },
            "type": "scatterpolar"
           }
          ],
          "scatterpolargl": [
           {
            "marker": {
             "colorbar": {
              "outlinewidth": 0,
              "ticks": ""
             }
            },
            "type": "scatterpolargl"
           }
          ],
          "scatterternary": [
           {
            "marker": {
             "colorbar": {
              "outlinewidth": 0,
              "ticks": ""
             }
            },
            "type": "scatterternary"
           }
          ],
          "surface": [
           {
            "colorbar": {
             "outlinewidth": 0,
             "ticks": ""
            },
            "colorscale": [
             [
              0,
              "#0d0887"
             ],
             [
              0.1111111111111111,
              "#46039f"
             ],
             [
              0.2222222222222222,
              "#7201a8"
             ],
             [
              0.3333333333333333,
              "#9c179e"
             ],
             [
              0.4444444444444444,
              "#bd3786"
             ],
             [
              0.5555555555555556,
              "#d8576b"
             ],
             [
              0.6666666666666666,
              "#ed7953"
             ],
             [
              0.7777777777777778,
              "#fb9f3a"
             ],
             [
              0.8888888888888888,
              "#fdca26"
             ],
             [
              1,
              "#f0f921"
             ]
            ],
            "type": "surface"
           }
          ],
          "table": [
           {
            "cells": {
             "fill": {
              "color": "#EBF0F8"
             },
             "line": {
              "color": "white"
             }
            },
            "header": {
             "fill": {
              "color": "#C8D4E3"
             },
             "line": {
              "color": "white"
             }
            },
            "type": "table"
           }
          ]
         },
         "layout": {
          "annotationdefaults": {
           "arrowcolor": "#2a3f5f",
           "arrowhead": 0,
           "arrowwidth": 1
          },
          "autotypenumbers": "strict",
          "coloraxis": {
           "colorbar": {
            "outlinewidth": 0,
            "ticks": ""
           }
          },
          "colorscale": {
           "diverging": [
            [
             0,
             "#8e0152"
            ],
            [
             0.1,
             "#c51b7d"
            ],
            [
             0.2,
             "#de77ae"
            ],
            [
             0.3,
             "#f1b6da"
            ],
            [
             0.4,
             "#fde0ef"
            ],
            [
             0.5,
             "#f7f7f7"
            ],
            [
             0.6,
             "#e6f5d0"
            ],
            [
             0.7,
             "#b8e186"
            ],
            [
             0.8,
             "#7fbc41"
            ],
            [
             0.9,
             "#4d9221"
            ],
            [
             1,
             "#276419"
            ]
           ],
           "sequential": [
            [
             0,
             "#0d0887"
            ],
            [
             0.1111111111111111,
             "#46039f"
            ],
            [
             0.2222222222222222,
             "#7201a8"
            ],
            [
             0.3333333333333333,
             "#9c179e"
            ],
            [
             0.4444444444444444,
             "#bd3786"
            ],
            [
             0.5555555555555556,
             "#d8576b"
            ],
            [
             0.6666666666666666,
             "#ed7953"
            ],
            [
             0.7777777777777778,
             "#fb9f3a"
            ],
            [
             0.8888888888888888,
             "#fdca26"
            ],
            [
             1,
             "#f0f921"
            ]
           ],
           "sequentialminus": [
            [
             0,
             "#0d0887"
            ],
            [
             0.1111111111111111,
             "#46039f"
            ],
            [
             0.2222222222222222,
             "#7201a8"
            ],
            [
             0.3333333333333333,
             "#9c179e"
            ],
            [
             0.4444444444444444,
             "#bd3786"
            ],
            [
             0.5555555555555556,
             "#d8576b"
            ],
            [
             0.6666666666666666,
             "#ed7953"
            ],
            [
             0.7777777777777778,
             "#fb9f3a"
            ],
            [
             0.8888888888888888,
             "#fdca26"
            ],
            [
             1,
             "#f0f921"
            ]
           ]
          },
          "colorway": [
           "#636efa",
           "#EF553B",
           "#00cc96",
           "#ab63fa",
           "#FFA15A",
           "#19d3f3",
           "#FF6692",
           "#B6E880",
           "#FF97FF",
           "#FECB52"
          ],
          "font": {
           "color": "#2a3f5f"
          },
          "geo": {
           "bgcolor": "white",
           "lakecolor": "white",
           "landcolor": "#E5ECF6",
           "showlakes": true,
           "showland": true,
           "subunitcolor": "white"
          },
          "hoverlabel": {
           "align": "left"
          },
          "hovermode": "closest",
          "mapbox": {
           "style": "light"
          },
          "paper_bgcolor": "white",
          "plot_bgcolor": "#E5ECF6",
          "polar": {
           "angularaxis": {
            "gridcolor": "white",
            "linecolor": "white",
            "ticks": ""
           },
           "bgcolor": "#E5ECF6",
           "radialaxis": {
            "gridcolor": "white",
            "linecolor": "white",
            "ticks": ""
           }
          },
          "scene": {
           "xaxis": {
            "backgroundcolor": "#E5ECF6",
            "gridcolor": "white",
            "gridwidth": 2,
            "linecolor": "white",
            "showbackground": true,
            "ticks": "",
            "zerolinecolor": "white"
           },
           "yaxis": {
            "backgroundcolor": "#E5ECF6",
            "gridcolor": "white",
            "gridwidth": 2,
            "linecolor": "white",
            "showbackground": true,
            "ticks": "",
            "zerolinecolor": "white"
           },
           "zaxis": {
            "backgroundcolor": "#E5ECF6",
            "gridcolor": "white",
            "gridwidth": 2,
            "linecolor": "white",
            "showbackground": true,
            "ticks": "",
            "zerolinecolor": "white"
           }
          },
          "shapedefaults": {
           "line": {
            "color": "#2a3f5f"
           }
          },
          "ternary": {
           "aaxis": {
            "gridcolor": "white",
            "linecolor": "white",
            "ticks": ""
           },
           "baxis": {
            "gridcolor": "white",
            "linecolor": "white",
            "ticks": ""
           },
           "bgcolor": "#E5ECF6",
           "caxis": {
            "gridcolor": "white",
            "linecolor": "white",
            "ticks": ""
           }
          },
          "title": {
           "x": 0.05
          },
          "xaxis": {
           "automargin": true,
           "gridcolor": "white",
           "linecolor": "white",
           "ticks": "",
           "title": {
            "standoff": 15
           },
           "zerolinecolor": "white",
           "zerolinewidth": 2
          },
          "yaxis": {
           "automargin": true,
           "gridcolor": "white",
           "linecolor": "white",
           "ticks": "",
           "title": {
            "standoff": 15
           },
           "zerolinecolor": "white",
           "zerolinewidth": 2
          }
         }
        },
        "title": {
         "text": "POS distribution plot"
        },
        "xaxis": {
         "title": {
          "text": "POS"
         }
        },
        "yaxis": {
         "title": {
          "text": "Frequency"
         }
        }
       }
      },
      "text/html": [
       "<div>                            <div id=\"e6693179-965c-41c7-8e3d-6d49a7423052\" class=\"plotly-graph-div\" style=\"height:525px; width:100%;\"></div>            <script type=\"text/javascript\">                require([\"plotly\"], function(Plotly) {                    window.PLOTLYENV=window.PLOTLYENV || {};                                    if (document.getElementById(\"e6693179-965c-41c7-8e3d-6d49a7423052\")) {                    Plotly.newPlot(                        \"e6693179-965c-41c7-8e3d-6d49a7423052\",                        [{\"marker\":{\"color\":\"red\"},\"name\":\"eurekarebellionaus\",\"opacity\":0.3,\"x\":[\"NOUN\",\"VERB\",\"PUNCT\",\"PRON\",\"ADP\",\"CCONJ\",\"PROPN\",\"NUM\",\"SYM\",\"INTJ\"],\"y\":[0.175,0.1289,0.1203,0.1029,0.0818,0.0281,0.0178,0.013,0.0054,0.0037],\"type\":\"bar\"},{\"marker\":{\"color\":\"blue\"},\"name\":\"stimz\",\"opacity\":0.3,\"x\":[\"NOUN\",\"VERB\",\"PUNCT\",\"PRON\",\"ADP\",\"CCONJ\",\"PROPN\",\"NUM\",\"SYM\",\"INTJ\"],\"y\":[0.1634,0.0863,0.1012,0.1385,0.0912,0.0049,0.0414,0.0165,0.0,0.0],\"type\":\"bar\"},{\"marker\":{\"color\":\"red\"},\"mode\":\"text\",\"showlegend\":false,\"text\":[\"order\",\"people\"],\"textfont\":{\"color\":\"red\"},\"x\":[\"NOUN\",\"NOUN\",\"NOUN\",\"NOUN\",\"NOUN\",\"NOUN\",\"NOUN\",\"NOUN\",\"NOUN\",\"NOUN\"],\"y\":[0.403,0.248],\"type\":\"scatter\"},{\"marker\":{\"color\":\"red\"},\"mode\":\"text\",\"showlegend\":false,\"text\":[\"have\",\"shipped\"],\"textfont\":{\"color\":\"red\"},\"x\":[\"VERB\",\"VERB\",\"VERB\",\"VERB\",\"VERB\",\"VERB\",\"VERB\",\"VERB\",\"VERB\",\"VERB\"],\"y\":[0.4622,0.2941],\"type\":\"scatter\"},{\"marker\":{\"color\":\"red\"},\"mode\":\"text\",\"showlegend\":false,\"text\":[\".\",\",\"],\"textfont\":{\"color\":\"red\"},\"x\":[\"PUNCT\",\"PUNCT\",\"PUNCT\",\"PUNCT\",\"PUNCT\",\"PUNCT\",\"PUNCT\",\"PUNCT\",\"PUNCT\",\"PUNCT\"],\"y\":[0.2973,0.2477],\"type\":\"scatter\"},{\"marker\":{\"color\":\"red\"},\"mode\":\"text\",\"showlegend\":false,\"text\":[\"we\",\"you\"],\"textfont\":{\"color\":\"red\"},\"x\":[\"PRON\",\"PRON\",\"PRON\",\"PRON\",\"PRON\",\"PRON\",\"PRON\",\"PRON\",\"PRON\",\"PRON\"],\"y\":[0.3,0.1105],\"type\":\"scatter\"},{\"marker\":{\"color\":\"red\"},\"mode\":\"text\",\"showlegend\":false,\"text\":[\"of\",\"for\"],\"textfont\":{\"color\":\"red\"},\"x\":[\"ADP\",\"ADP\",\"ADP\",\"ADP\",\"ADP\",\"ADP\",\"ADP\",\"ADP\",\"ADP\",\"ADP\"],\"y\":[0.1523,0.1457],\"type\":\"scatter\"},{\"marker\":{\"color\":\"red\"},\"mode\":\"text\",\"showlegend\":false,\"text\":[\"and\",\"or\"],\"textfont\":{\"color\":\"red\"},\"x\":[\"CCONJ\",\"CCONJ\",\"CCONJ\",\"CCONJ\",\"CCONJ\",\"CCONJ\",\"CCONJ\",\"CCONJ\",\"CCONJ\",\"CCONJ\"],\"y\":[0.6154,0.1731],\"type\":\"scatter\"},{\"marker\":{\"color\":\"red\"},\"mode\":\"text\",\"showlegend\":false,\"text\":[\"w.a\",\"dog\"],\"textfont\":{\"color\":\"red\"},\"x\":[\"PROPN\",\"PROPN\",\"PROPN\",\"PROPN\",\"PROPN\",\"PROPN\",\"PROPN\",\"PROPN\",\"PROPN\",\"PROPN\"],\"y\":[0.2727,0.1212],\"type\":\"scatter\"},{\"marker\":{\"color\":\"red\"},\"mode\":\"text\",\"showlegend\":false,\"text\":[\"1\",\"100\"],\"textfont\":{\"color\":\"red\"},\"x\":[\"NUM\",\"NUM\",\"NUM\",\"NUM\",\"NUM\",\"NUM\",\"NUM\",\"NUM\",\"NUM\",\"NUM\"],\"y\":[0.1296,0.125],\"type\":\"scatter\"},{\"marker\":{\"color\":\"red\"},\"mode\":\"text\",\"showlegend\":false,\"text\":[\"$\",\"-\"],\"textfont\":{\"color\":\"red\"},\"x\":[\"SYM\",\"SYM\",\"SYM\",\"SYM\",\"SYM\",\"SYM\",\"SYM\",\"SYM\",\"SYM\",\"SYM\"],\"y\":[0.4,0.4],\"type\":\"scatter\"},{\"marker\":{\"color\":\"red\"},\"mode\":\"text\",\"showlegend\":false,\"text\":[\"please\",\"hello\"],\"textfont\":{\"color\":\"red\"},\"x\":[\"INTJ\",\"INTJ\",\"INTJ\",\"INTJ\",\"INTJ\",\"INTJ\",\"INTJ\",\"INTJ\",\"INTJ\",\"INTJ\"],\"y\":[0.8571,0.1429],\"type\":\"scatter\"},{\"marker\":{\"color\":\"blue\"},\"mode\":\"text\",\"showlegend\":false,\"text\":[\"products\",\"g\"],\"textfont\":{\"color\":\"blue\"},\"x\":[\"NOUN\",\"NOUN\",\"NOUN\",\"NOUN\",\"NOUN\",\"NOUN\",\"NOUN\",\"NOUN\"],\"y\":[0.125,0.0625],\"type\":\"scatter\"},{\"marker\":{\"color\":\"blue\"},\"mode\":\"text\",\"showlegend\":false,\"text\":[\"opening\",\"find\"],\"textfont\":{\"color\":\"blue\"},\"x\":[\"VERB\",\"VERB\",\"VERB\",\"VERB\",\"VERB\",\"VERB\",\"VERB\",\"VERB\"],\"y\":[0.1111,0.1111],\"type\":\"scatter\"},{\"marker\":{\"color\":\"blue\"},\"mode\":\"text\",\"showlegend\":false,\"text\":[\".\",\",\"],\"textfont\":{\"color\":\"blue\"},\"x\":[\"PUNCT\",\"PUNCT\",\"PUNCT\",\"PUNCT\",\"PUNCT\",\"PUNCT\",\"PUNCT\",\"PUNCT\"],\"y\":[0.625,0.25],\"type\":\"scatter\"},{\"marker\":{\"color\":\"blue\"},\"mode\":\"text\",\"showlegend\":false,\"text\":[\"you\",\"our\"],\"textfont\":{\"color\":\"blue\"},\"x\":[\"PRON\",\"PRON\",\"PRON\",\"PRON\",\"PRON\",\"PRON\",\"PRON\",\"PRON\"],\"y\":[0.2308,0.1538],\"type\":\"scatter\"},{\"marker\":{\"color\":\"blue\"},\"mode\":\"text\",\"showlegend\":false,\"text\":[\"of\",\"to\"],\"textfont\":{\"color\":\"blue\"},\"x\":[\"ADP\",\"ADP\",\"ADP\",\"ADP\",\"ADP\",\"ADP\",\"ADP\",\"ADP\"],\"y\":[0.25,0.125],\"type\":\"scatter\"},{\"marker\":{\"color\":\"blue\"},\"mode\":\"text\",\"showlegend\":false,\"text\":[\"and\",\"or\"],\"textfont\":{\"color\":\"blue\"},\"x\":[\"CCONJ\",\"CCONJ\",\"CCONJ\",\"CCONJ\",\"CCONJ\",\"CCONJ\",\"CCONJ\",\"CCONJ\"],\"y\":[0.5,0.5],\"type\":\"scatter\"},{\"marker\":{\"color\":\"blue\"},\"mode\":\"text\",\"showlegend\":false,\"text\":[\"sz01\",\"SEP\"],\"textfont\":{\"color\":\"blue\"},\"x\":[\"PROPN\",\"PROPN\",\"PROPN\",\"PROPN\",\"PROPN\",\"PROPN\",\"PROPN\",\"PROPN\"],\"y\":[0.25,0.25],\"type\":\"scatter\"},{\"marker\":{\"color\":\"blue\"},\"mode\":\"text\",\"showlegend\":false,\"text\":[\"3.5\",\"1\"],\"textfont\":{\"color\":\"blue\"},\"x\":[\"NUM\",\"NUM\",\"NUM\",\"NUM\",\"NUM\",\"NUM\",\"NUM\",\"NUM\"],\"y\":[0.3333,0.3333],\"type\":\"scatter\"}],                        {\"template\":{\"data\":{\"histogram2dcontour\":[{\"type\":\"histogram2dcontour\",\"colorbar\":{\"outlinewidth\":0,\"ticks\":\"\"},\"colorscale\":[[0.0,\"#0d0887\"],[0.1111111111111111,\"#46039f\"],[0.2222222222222222,\"#7201a8\"],[0.3333333333333333,\"#9c179e\"],[0.4444444444444444,\"#bd3786\"],[0.5555555555555556,\"#d8576b\"],[0.6666666666666666,\"#ed7953\"],[0.7777777777777778,\"#fb9f3a\"],[0.8888888888888888,\"#fdca26\"],[1.0,\"#f0f921\"]]}],\"choropleth\":[{\"type\":\"choropleth\",\"colorbar\":{\"outlinewidth\":0,\"ticks\":\"\"}}],\"histogram2d\":[{\"type\":\"histogram2d\",\"colorbar\":{\"outlinewidth\":0,\"ticks\":\"\"},\"colorscale\":[[0.0,\"#0d0887\"],[0.1111111111111111,\"#46039f\"],[0.2222222222222222,\"#7201a8\"],[0.3333333333333333,\"#9c179e\"],[0.4444444444444444,\"#bd3786\"],[0.5555555555555556,\"#d8576b\"],[0.6666666666666666,\"#ed7953\"],[0.7777777777777778,\"#fb9f3a\"],[0.8888888888888888,\"#fdca26\"],[1.0,\"#f0f921\"]]}],\"heatmap\":[{\"type\":\"heatmap\",\"colorbar\":{\"outlinewidth\":0,\"ticks\":\"\"},\"colorscale\":[[0.0,\"#0d0887\"],[0.1111111111111111,\"#46039f\"],[0.2222222222222222,\"#7201a8\"],[0.3333333333333333,\"#9c179e\"],[0.4444444444444444,\"#bd3786\"],[0.5555555555555556,\"#d8576b\"],[0.6666666666666666,\"#ed7953\"],[0.7777777777777778,\"#fb9f3a\"],[0.8888888888888888,\"#fdca26\"],[1.0,\"#f0f921\"]]}],\"heatmapgl\":[{\"type\":\"heatmapgl\",\"colorbar\":{\"outlinewidth\":0,\"ticks\":\"\"},\"colorscale\":[[0.0,\"#0d0887\"],[0.1111111111111111,\"#46039f\"],[0.2222222222222222,\"#7201a8\"],[0.3333333333333333,\"#9c179e\"],[0.4444444444444444,\"#bd3786\"],[0.5555555555555556,\"#d8576b\"],[0.6666666666666666,\"#ed7953\"],[0.7777777777777778,\"#fb9f3a\"],[0.8888888888888888,\"#fdca26\"],[1.0,\"#f0f921\"]]}],\"contourcarpet\":[{\"type\":\"contourcarpet\",\"colorbar\":{\"outlinewidth\":0,\"ticks\":\"\"}}],\"contour\":[{\"type\":\"contour\",\"colorbar\":{\"outlinewidth\":0,\"ticks\":\"\"},\"colorscale\":[[0.0,\"#0d0887\"],[0.1111111111111111,\"#46039f\"],[0.2222222222222222,\"#7201a8\"],[0.3333333333333333,\"#9c179e\"],[0.4444444444444444,\"#bd3786\"],[0.5555555555555556,\"#d8576b\"],[0.6666666666666666,\"#ed7953\"],[0.7777777777777778,\"#fb9f3a\"],[0.8888888888888888,\"#fdca26\"],[1.0,\"#f0f921\"]]}],\"surface\":[{\"type\":\"surface\",\"colorbar\":{\"outlinewidth\":0,\"ticks\":\"\"},\"colorscale\":[[0.0,\"#0d0887\"],[0.1111111111111111,\"#46039f\"],[0.2222222222222222,\"#7201a8\"],[0.3333333333333333,\"#9c179e\"],[0.4444444444444444,\"#bd3786\"],[0.5555555555555556,\"#d8576b\"],[0.6666666666666666,\"#ed7953\"],[0.7777777777777778,\"#fb9f3a\"],[0.8888888888888888,\"#fdca26\"],[1.0,\"#f0f921\"]]}],\"mesh3d\":[{\"type\":\"mesh3d\",\"colorbar\":{\"outlinewidth\":0,\"ticks\":\"\"}}],\"scatter\":[{\"fillpattern\":{\"fillmode\":\"overlay\",\"size\":10,\"solidity\":0.2},\"type\":\"scatter\"}],\"parcoords\":[{\"type\":\"parcoords\",\"line\":{\"colorbar\":{\"outlinewidth\":0,\"ticks\":\"\"}}}],\"scatterpolargl\":[{\"type\":\"scatterpolargl\",\"marker\":{\"colorbar\":{\"outlinewidth\":0,\"ticks\":\"\"}}}],\"bar\":[{\"error_x\":{\"color\":\"#2a3f5f\"},\"error_y\":{\"color\":\"#2a3f5f\"},\"marker\":{\"line\":{\"color\":\"#E5ECF6\",\"width\":0.5},\"pattern\":{\"fillmode\":\"overlay\",\"size\":10,\"solidity\":0.2}},\"type\":\"bar\"}],\"scattergeo\":[{\"type\":\"scattergeo\",\"marker\":{\"colorbar\":{\"outlinewidth\":0,\"ticks\":\"\"}}}],\"scatterpolar\":[{\"type\":\"scatterpolar\",\"marker\":{\"colorbar\":{\"outlinewidth\":0,\"ticks\":\"\"}}}],\"histogram\":[{\"marker\":{\"pattern\":{\"fillmode\":\"overlay\",\"size\":10,\"solidity\":0.2}},\"type\":\"histogram\"}],\"scattergl\":[{\"type\":\"scattergl\",\"marker\":{\"colorbar\":{\"outlinewidth\":0,\"ticks\":\"\"}}}],\"scatter3d\":[{\"type\":\"scatter3d\",\"line\":{\"colorbar\":{\"outlinewidth\":0,\"ticks\":\"\"}},\"marker\":{\"colorbar\":{\"outlinewidth\":0,\"ticks\":\"\"}}}],\"scattermapbox\":[{\"type\":\"scattermapbox\",\"marker\":{\"colorbar\":{\"outlinewidth\":0,\"ticks\":\"\"}}}],\"scatterternary\":[{\"type\":\"scatterternary\",\"marker\":{\"colorbar\":{\"outlinewidth\":0,\"ticks\":\"\"}}}],\"scattercarpet\":[{\"type\":\"scattercarpet\",\"marker\":{\"colorbar\":{\"outlinewidth\":0,\"ticks\":\"\"}}}],\"carpet\":[{\"aaxis\":{\"endlinecolor\":\"#2a3f5f\",\"gridcolor\":\"white\",\"linecolor\":\"white\",\"minorgridcolor\":\"white\",\"startlinecolor\":\"#2a3f5f\"},\"baxis\":{\"endlinecolor\":\"#2a3f5f\",\"gridcolor\":\"white\",\"linecolor\":\"white\",\"minorgridcolor\":\"white\",\"startlinecolor\":\"#2a3f5f\"},\"type\":\"carpet\"}],\"table\":[{\"cells\":{\"fill\":{\"color\":\"#EBF0F8\"},\"line\":{\"color\":\"white\"}},\"header\":{\"fill\":{\"color\":\"#C8D4E3\"},\"line\":{\"color\":\"white\"}},\"type\":\"table\"}],\"barpolar\":[{\"marker\":{\"line\":{\"color\":\"#E5ECF6\",\"width\":0.5},\"pattern\":{\"fillmode\":\"overlay\",\"size\":10,\"solidity\":0.2}},\"type\":\"barpolar\"}],\"pie\":[{\"automargin\":true,\"type\":\"pie\"}]},\"layout\":{\"autotypenumbers\":\"strict\",\"colorway\":[\"#636efa\",\"#EF553B\",\"#00cc96\",\"#ab63fa\",\"#FFA15A\",\"#19d3f3\",\"#FF6692\",\"#B6E880\",\"#FF97FF\",\"#FECB52\"],\"font\":{\"color\":\"#2a3f5f\"},\"hovermode\":\"closest\",\"hoverlabel\":{\"align\":\"left\"},\"paper_bgcolor\":\"white\",\"plot_bgcolor\":\"#E5ECF6\",\"polar\":{\"bgcolor\":\"#E5ECF6\",\"angularaxis\":{\"gridcolor\":\"white\",\"linecolor\":\"white\",\"ticks\":\"\"},\"radialaxis\":{\"gridcolor\":\"white\",\"linecolor\":\"white\",\"ticks\":\"\"}},\"ternary\":{\"bgcolor\":\"#E5ECF6\",\"aaxis\":{\"gridcolor\":\"white\",\"linecolor\":\"white\",\"ticks\":\"\"},\"baxis\":{\"gridcolor\":\"white\",\"linecolor\":\"white\",\"ticks\":\"\"},\"caxis\":{\"gridcolor\":\"white\",\"linecolor\":\"white\",\"ticks\":\"\"}},\"coloraxis\":{\"colorbar\":{\"outlinewidth\":0,\"ticks\":\"\"}},\"colorscale\":{\"sequential\":[[0.0,\"#0d0887\"],[0.1111111111111111,\"#46039f\"],[0.2222222222222222,\"#7201a8\"],[0.3333333333333333,\"#9c179e\"],[0.4444444444444444,\"#bd3786\"],[0.5555555555555556,\"#d8576b\"],[0.6666666666666666,\"#ed7953\"],[0.7777777777777778,\"#fb9f3a\"],[0.8888888888888888,\"#fdca26\"],[1.0,\"#f0f921\"]],\"sequentialminus\":[[0.0,\"#0d0887\"],[0.1111111111111111,\"#46039f\"],[0.2222222222222222,\"#7201a8\"],[0.3333333333333333,\"#9c179e\"],[0.4444444444444444,\"#bd3786\"],[0.5555555555555556,\"#d8576b\"],[0.6666666666666666,\"#ed7953\"],[0.7777777777777778,\"#fb9f3a\"],[0.8888888888888888,\"#fdca26\"],[1.0,\"#f0f921\"]],\"diverging\":[[0,\"#8e0152\"],[0.1,\"#c51b7d\"],[0.2,\"#de77ae\"],[0.3,\"#f1b6da\"],[0.4,\"#fde0ef\"],[0.5,\"#f7f7f7\"],[0.6,\"#e6f5d0\"],[0.7,\"#b8e186\"],[0.8,\"#7fbc41\"],[0.9,\"#4d9221\"],[1,\"#276419\"]]},\"xaxis\":{\"gridcolor\":\"white\",\"linecolor\":\"white\",\"ticks\":\"\",\"title\":{\"standoff\":15},\"zerolinecolor\":\"white\",\"automargin\":true,\"zerolinewidth\":2},\"yaxis\":{\"gridcolor\":\"white\",\"linecolor\":\"white\",\"ticks\":\"\",\"title\":{\"standoff\":15},\"zerolinecolor\":\"white\",\"automargin\":true,\"zerolinewidth\":2},\"scene\":{\"xaxis\":{\"backgroundcolor\":\"#E5ECF6\",\"gridcolor\":\"white\",\"linecolor\":\"white\",\"showbackground\":true,\"ticks\":\"\",\"zerolinecolor\":\"white\",\"gridwidth\":2},\"yaxis\":{\"backgroundcolor\":\"#E5ECF6\",\"gridcolor\":\"white\",\"linecolor\":\"white\",\"showbackground\":true,\"ticks\":\"\",\"zerolinecolor\":\"white\",\"gridwidth\":2},\"zaxis\":{\"backgroundcolor\":\"#E5ECF6\",\"gridcolor\":\"white\",\"linecolor\":\"white\",\"showbackground\":true,\"ticks\":\"\",\"zerolinecolor\":\"white\",\"gridwidth\":2}},\"shapedefaults\":{\"line\":{\"color\":\"#2a3f5f\"}},\"annotationdefaults\":{\"arrowcolor\":\"#2a3f5f\",\"arrowhead\":0,\"arrowwidth\":1},\"geo\":{\"bgcolor\":\"white\",\"landcolor\":\"#E5ECF6\",\"subunitcolor\":\"white\",\"showland\":true,\"showlakes\":true,\"lakecolor\":\"white\"},\"title\":{\"x\":0.05},\"mapbox\":{\"style\":\"light\"}}},\"font\":{\"family\":\"Courier New, monospace\",\"size\":16,\"color\":\"RebeccaPurple\"},\"title\":{\"text\":\"POS distribution plot\"},\"xaxis\":{\"title\":{\"text\":\"POS\"}},\"yaxis\":{\"title\":{\"text\":\"Frequency\"}}},                        {\"responsive\": true}                    ).then(function(){\n",
       "                            \n",
       "var gd = document.getElementById('e6693179-965c-41c7-8e3d-6d49a7423052');\n",
       "var x = new MutationObserver(function (mutations, observer) {{\n",
       "        var display = window.getComputedStyle(gd).display;\n",
       "        if (!display || display === 'none') {{\n",
       "            console.log([gd, 'removed!']);\n",
       "            Plotly.purge(gd);\n",
       "            observer.disconnect();\n",
       "        }}\n",
       "}});\n",
       "\n",
       "// Listen for the removal of the full notebook cells\n",
       "var notebookContainer = gd.closest('#notebook-container');\n",
       "if (notebookContainer) {{\n",
       "    x.observe(notebookContainer, {childList: true});\n",
       "}}\n",
       "\n",
       "// Listen for the clearing of the current output cell\n",
       "var outputEl = gd.closest('.output');\n",
       "if (outputEl) {{\n",
       "    x.observe(outputEl, {childList: true});\n",
       "}}\n",
       "\n",
       "                        })                };                });            </script>        </div>"
      ]
     },
     "metadata": {},
     "output_type": "display_data"
    }
   ],
   "source": [
    "generate_scatter_plot(parent_vendor_vocab, parent_vendor_density, alias2_vocab, alias2_density, parent_vendor_name=\"eurekarebellionaus\", alias_name=\"stimz\", n_vendor=2)"
   ]
  },
  {
   "cell_type": "markdown",
   "id": "17ba4a1c",
   "metadata": {},
   "source": [
    "##### DEP Distribution plot :- Analyses syntactical patterns"
   ]
  },
  {
   "cell_type": "markdown",
   "id": "77e2cd4b",
   "metadata": {},
   "source": [
    "Similar to the experiments above, the DEP distribution plot analyze the preferred syntactical patterns and the n-most frequent words used within each DEP-categories by the two authors. For the sake of visibility, we choose to plot the 5-most active and 5-least active DEP tags for every vendor.\n",
    "\n",
    "The analyses below show consistent pattern of similarity in the advertisements as mentioned above even on the DEP level. "
   ]
  },
  {
   "cell_type": "code",
   "execution_count": 46,
   "id": "daf114f7",
   "metadata": {},
   "outputs": [],
   "source": [
    "parent_vendor_vocab, parent_vendor_density, alias1_vocab, alias1_density, alias2_vocab, alias2_density = load_data(mode=\"dep\")"
   ]
  },
  {
   "cell_type": "code",
   "execution_count": 49,
   "id": "5d981b15",
   "metadata": {},
   "outputs": [
    {
     "data": {
      "application/vnd.plotly.v1+json": {
       "config": {
        "plotlyServerURL": "https://plot.ly"
       },
       "data": [
        {
         "marker": {
          "color": "red"
         },
         "name": "eurekarebellionaus",
         "opacity": 0.3,
         "type": "bar",
         "x": [
          "punct",
          "nsubj",
          "prep",
          "dobj",
          "det",
          "predet",
          "preconj",
          "case",
          "csubj",
          "quantmod"
         ],
         "y": [
          0.1259,
          0.0788,
          0.0682,
          0.066,
          0.0616,
          0.0017,
          0.0011,
          0.0006,
          0.0006,
          0.0006
         ]
        },
        {
         "marker": {
          "color": "blue"
         },
         "name": "eurekarebellion",
         "opacity": 0.3,
         "type": "bar",
         "x": [
          "punct",
          "nsubj",
          "prep",
          "dobj",
          "det",
          "predet",
          "preconj",
          "case",
          "csubj",
          "quantmod"
         ],
         "y": [
          0.1355,
          0.0843,
          0.0624,
          0.0614,
          0.0584,
          0.001,
          0,
          0,
          0,
          0
         ]
        },
        {
         "marker": {
          "color": "red"
         },
         "mode": "text",
         "showlegend": false,
         "text": [
          ".",
          ","
         ],
         "textfont": {
          "color": "red"
         },
         "type": "scatter",
         "x": [
          "punct",
          "punct",
          "punct",
          "punct",
          "punct",
          "punct",
          "punct",
          "punct",
          "punct",
          "punct"
         ],
         "y": [
          0.2775,
          0.2379
         ]
        },
        {
         "marker": {
          "color": "red"
         },
         "mode": "text",
         "showlegend": false,
         "text": [
          "we",
          "you"
         ],
         "textfont": {
          "color": "red"
         },
         "type": "scatter",
         "x": [
          "nsubj",
          "nsubj",
          "nsubj",
          "nsubj",
          "nsubj",
          "nsubj",
          "nsubj",
          "nsubj",
          "nsubj",
          "nsubj"
         ],
         "y": [
          0.3732,
          0.0775
         ]
        },
        {
         "marker": {
          "color": "red"
         },
         "mode": "text",
         "showlegend": false,
         "text": [
          "for",
          "of"
         ],
         "textfont": {
          "color": "red"
         },
         "type": "scatter",
         "x": [
          "prep",
          "prep",
          "prep",
          "prep",
          "prep",
          "prep",
          "prep",
          "prep",
          "prep",
          "prep"
         ],
         "y": [
          0.1707,
          0.1626
         ]
        },
        {
         "marker": {
          "color": "red"
         },
         "mode": "text",
         "showlegend": false,
         "text": [
          "you",
          "order"
         ],
         "textfont": {
          "color": "red"
         },
         "type": "scatter",
         "x": [
          "dobj",
          "dobj",
          "dobj",
          "dobj",
          "dobj",
          "dobj",
          "dobj",
          "dobj",
          "dobj",
          "dobj"
         ],
         "y": [
          0.0588,
          0.0588
         ]
        },
        {
         "marker": {
          "color": "red"
         },
         "mode": "text",
         "showlegend": false,
         "text": [
          "the",
          "a"
         ],
         "textfont": {
          "color": "red"
         },
         "type": "scatter",
         "x": [
          "det",
          "det",
          "det",
          "det",
          "det",
          "det",
          "det",
          "det",
          "det",
          "det"
         ],
         "y": [
          0.4775,
          0.1802
         ]
        },
        {
         "marker": {
          "color": "red"
         },
         "mode": "text",
         "showlegend": false,
         "text": [
          "all"
         ],
         "textfont": {
          "color": "red"
         },
         "type": "scatter",
         "x": [
          "predet",
          "predet",
          "predet",
          "predet",
          "predet",
          "predet",
          "predet",
          "predet",
          "predet",
          "predet"
         ],
         "y": [
          1
         ]
        },
        {
         "marker": {
          "color": "red"
         },
         "mode": "text",
         "showlegend": false,
         "text": [
          "either",
          "not"
         ],
         "textfont": {
          "color": "red"
         },
         "type": "scatter",
         "x": [
          "preconj",
          "preconj",
          "preconj",
          "preconj",
          "preconj",
          "preconj",
          "preconj",
          "preconj",
          "preconj",
          "preconj"
         ],
         "y": [
          0.5,
          0.5
         ]
        },
        {
         "marker": {
          "color": "red"
         },
         "mode": "text",
         "showlegend": false,
         "text": [
          "'"
         ],
         "textfont": {
          "color": "red"
         },
         "type": "scatter",
         "x": [
          "case",
          "case",
          "case",
          "case",
          "case",
          "case",
          "case",
          "case",
          "case",
          "case"
         ],
         "y": [
          1
         ]
        },
        {
         "marker": {
          "color": "red"
         },
         "mode": "text",
         "showlegend": false,
         "text": [
          "promise"
         ],
         "textfont": {
          "color": "red"
         },
         "type": "scatter",
         "x": [
          "csubj",
          "csubj",
          "csubj",
          "csubj",
          "csubj",
          "csubj",
          "csubj",
          "csubj",
          "csubj",
          "csubj"
         ],
         "y": [
          1
         ]
        },
        {
         "marker": {
          "color": "red"
         },
         "mode": "text",
         "showlegend": false,
         "text": [
          "1"
         ],
         "textfont": {
          "color": "red"
         },
         "type": "scatter",
         "x": [
          "quantmod",
          "quantmod",
          "quantmod",
          "quantmod",
          "quantmod",
          "quantmod",
          "quantmod",
          "quantmod",
          "quantmod",
          "quantmod"
         ],
         "y": [
          1
         ]
        },
        {
         "marker": {
          "color": "blue"
         },
         "mode": "text",
         "showlegend": false,
         "text": [
          ".",
          ","
         ],
         "textfont": {
          "color": "blue"
         },
         "type": "scatter",
         "x": [
          "punct",
          "punct",
          "punct",
          "punct",
          "punct",
          "punct"
         ],
         "y": [
          0.2703,
          0.2411
         ]
        },
        {
         "marker": {
          "color": "blue"
         },
         "mode": "text",
         "showlegend": false,
         "text": [
          "we",
          "you"
         ],
         "textfont": {
          "color": "blue"
         },
         "type": "scatter",
         "x": [
          "nsubj",
          "nsubj",
          "nsubj",
          "nsubj",
          "nsubj",
          "nsubj"
         ],
         "y": [
          0.329,
          0.0822
         ]
        },
        {
         "marker": {
          "color": "blue"
         },
         "mode": "text",
         "showlegend": false,
         "text": [
          "of",
          "in"
         ],
         "textfont": {
          "color": "blue"
         },
         "type": "scatter",
         "x": [
          "prep",
          "prep",
          "prep",
          "prep",
          "prep",
          "prep"
         ],
         "y": [
          0.1774,
          0.1613
         ]
        },
        {
         "marker": {
          "color": "blue"
         },
         "mode": "text",
         "showlegend": false,
         "text": [
          "substances",
          "what"
         ],
         "textfont": {
          "color": "blue"
         },
         "type": "scatter",
         "x": [
          "dobj",
          "dobj",
          "dobj",
          "dobj",
          "dobj",
          "dobj"
         ],
         "y": [
          0.0794,
          0.0476
         ]
        },
        {
         "marker": {
          "color": "blue"
         },
         "mode": "text",
         "showlegend": false,
         "text": [
          "the",
          "a"
         ],
         "textfont": {
          "color": "blue"
         },
         "type": "scatter",
         "x": [
          "det",
          "det",
          "det",
          "det",
          "det",
          "det"
         ],
         "y": [
          0.5254,
          0.1525
         ]
        },
        {
         "marker": {
          "color": "blue"
         },
         "mode": "text",
         "showlegend": false,
         "text": [
          "all"
         ],
         "textfont": {
          "color": "blue"
         },
         "type": "scatter",
         "x": [
          "predet",
          "predet",
          "predet",
          "predet",
          "predet",
          "predet"
         ],
         "y": [
          1
         ]
        }
       ],
       "layout": {
        "font": {
         "color": "RebeccaPurple",
         "family": "Courier New, monospace",
         "size": 16
        },
        "template": {
         "data": {
          "bar": [
           {
            "error_x": {
             "color": "#2a3f5f"
            },
            "error_y": {
             "color": "#2a3f5f"
            },
            "marker": {
             "line": {
              "color": "#E5ECF6",
              "width": 0.5
             },
             "pattern": {
              "fillmode": "overlay",
              "size": 10,
              "solidity": 0.2
             }
            },
            "type": "bar"
           }
          ],
          "barpolar": [
           {
            "marker": {
             "line": {
              "color": "#E5ECF6",
              "width": 0.5
             },
             "pattern": {
              "fillmode": "overlay",
              "size": 10,
              "solidity": 0.2
             }
            },
            "type": "barpolar"
           }
          ],
          "carpet": [
           {
            "aaxis": {
             "endlinecolor": "#2a3f5f",
             "gridcolor": "white",
             "linecolor": "white",
             "minorgridcolor": "white",
             "startlinecolor": "#2a3f5f"
            },
            "baxis": {
             "endlinecolor": "#2a3f5f",
             "gridcolor": "white",
             "linecolor": "white",
             "minorgridcolor": "white",
             "startlinecolor": "#2a3f5f"
            },
            "type": "carpet"
           }
          ],
          "choropleth": [
           {
            "colorbar": {
             "outlinewidth": 0,
             "ticks": ""
            },
            "type": "choropleth"
           }
          ],
          "contour": [
           {
            "colorbar": {
             "outlinewidth": 0,
             "ticks": ""
            },
            "colorscale": [
             [
              0,
              "#0d0887"
             ],
             [
              0.1111111111111111,
              "#46039f"
             ],
             [
              0.2222222222222222,
              "#7201a8"
             ],
             [
              0.3333333333333333,
              "#9c179e"
             ],
             [
              0.4444444444444444,
              "#bd3786"
             ],
             [
              0.5555555555555556,
              "#d8576b"
             ],
             [
              0.6666666666666666,
              "#ed7953"
             ],
             [
              0.7777777777777778,
              "#fb9f3a"
             ],
             [
              0.8888888888888888,
              "#fdca26"
             ],
             [
              1,
              "#f0f921"
             ]
            ],
            "type": "contour"
           }
          ],
          "contourcarpet": [
           {
            "colorbar": {
             "outlinewidth": 0,
             "ticks": ""
            },
            "type": "contourcarpet"
           }
          ],
          "heatmap": [
           {
            "colorbar": {
             "outlinewidth": 0,
             "ticks": ""
            },
            "colorscale": [
             [
              0,
              "#0d0887"
             ],
             [
              0.1111111111111111,
              "#46039f"
             ],
             [
              0.2222222222222222,
              "#7201a8"
             ],
             [
              0.3333333333333333,
              "#9c179e"
             ],
             [
              0.4444444444444444,
              "#bd3786"
             ],
             [
              0.5555555555555556,
              "#d8576b"
             ],
             [
              0.6666666666666666,
              "#ed7953"
             ],
             [
              0.7777777777777778,
              "#fb9f3a"
             ],
             [
              0.8888888888888888,
              "#fdca26"
             ],
             [
              1,
              "#f0f921"
             ]
            ],
            "type": "heatmap"
           }
          ],
          "heatmapgl": [
           {
            "colorbar": {
             "outlinewidth": 0,
             "ticks": ""
            },
            "colorscale": [
             [
              0,
              "#0d0887"
             ],
             [
              0.1111111111111111,
              "#46039f"
             ],
             [
              0.2222222222222222,
              "#7201a8"
             ],
             [
              0.3333333333333333,
              "#9c179e"
             ],
             [
              0.4444444444444444,
              "#bd3786"
             ],
             [
              0.5555555555555556,
              "#d8576b"
             ],
             [
              0.6666666666666666,
              "#ed7953"
             ],
             [
              0.7777777777777778,
              "#fb9f3a"
             ],
             [
              0.8888888888888888,
              "#fdca26"
             ],
             [
              1,
              "#f0f921"
             ]
            ],
            "type": "heatmapgl"
           }
          ],
          "histogram": [
           {
            "marker": {
             "pattern": {
              "fillmode": "overlay",
              "size": 10,
              "solidity": 0.2
             }
            },
            "type": "histogram"
           }
          ],
          "histogram2d": [
           {
            "colorbar": {
             "outlinewidth": 0,
             "ticks": ""
            },
            "colorscale": [
             [
              0,
              "#0d0887"
             ],
             [
              0.1111111111111111,
              "#46039f"
             ],
             [
              0.2222222222222222,
              "#7201a8"
             ],
             [
              0.3333333333333333,
              "#9c179e"
             ],
             [
              0.4444444444444444,
              "#bd3786"
             ],
             [
              0.5555555555555556,
              "#d8576b"
             ],
             [
              0.6666666666666666,
              "#ed7953"
             ],
             [
              0.7777777777777778,
              "#fb9f3a"
             ],
             [
              0.8888888888888888,
              "#fdca26"
             ],
             [
              1,
              "#f0f921"
             ]
            ],
            "type": "histogram2d"
           }
          ],
          "histogram2dcontour": [
           {
            "colorbar": {
             "outlinewidth": 0,
             "ticks": ""
            },
            "colorscale": [
             [
              0,
              "#0d0887"
             ],
             [
              0.1111111111111111,
              "#46039f"
             ],
             [
              0.2222222222222222,
              "#7201a8"
             ],
             [
              0.3333333333333333,
              "#9c179e"
             ],
             [
              0.4444444444444444,
              "#bd3786"
             ],
             [
              0.5555555555555556,
              "#d8576b"
             ],
             [
              0.6666666666666666,
              "#ed7953"
             ],
             [
              0.7777777777777778,
              "#fb9f3a"
             ],
             [
              0.8888888888888888,
              "#fdca26"
             ],
             [
              1,
              "#f0f921"
             ]
            ],
            "type": "histogram2dcontour"
           }
          ],
          "mesh3d": [
           {
            "colorbar": {
             "outlinewidth": 0,
             "ticks": ""
            },
            "type": "mesh3d"
           }
          ],
          "parcoords": [
           {
            "line": {
             "colorbar": {
              "outlinewidth": 0,
              "ticks": ""
             }
            },
            "type": "parcoords"
           }
          ],
          "pie": [
           {
            "automargin": true,
            "type": "pie"
           }
          ],
          "scatter": [
           {
            "fillpattern": {
             "fillmode": "overlay",
             "size": 10,
             "solidity": 0.2
            },
            "type": "scatter"
           }
          ],
          "scatter3d": [
           {
            "line": {
             "colorbar": {
              "outlinewidth": 0,
              "ticks": ""
             }
            },
            "marker": {
             "colorbar": {
              "outlinewidth": 0,
              "ticks": ""
             }
            },
            "type": "scatter3d"
           }
          ],
          "scattercarpet": [
           {
            "marker": {
             "colorbar": {
              "outlinewidth": 0,
              "ticks": ""
             }
            },
            "type": "scattercarpet"
           }
          ],
          "scattergeo": [
           {
            "marker": {
             "colorbar": {
              "outlinewidth": 0,
              "ticks": ""
             }
            },
            "type": "scattergeo"
           }
          ],
          "scattergl": [
           {
            "marker": {
             "colorbar": {
              "outlinewidth": 0,
              "ticks": ""
             }
            },
            "type": "scattergl"
           }
          ],
          "scattermapbox": [
           {
            "marker": {
             "colorbar": {
              "outlinewidth": 0,
              "ticks": ""
             }
            },
            "type": "scattermapbox"
           }
          ],
          "scatterpolar": [
           {
            "marker": {
             "colorbar": {
              "outlinewidth": 0,
              "ticks": ""
             }
            },
            "type": "scatterpolar"
           }
          ],
          "scatterpolargl": [
           {
            "marker": {
             "colorbar": {
              "outlinewidth": 0,
              "ticks": ""
             }
            },
            "type": "scatterpolargl"
           }
          ],
          "scatterternary": [
           {
            "marker": {
             "colorbar": {
              "outlinewidth": 0,
              "ticks": ""
             }
            },
            "type": "scatterternary"
           }
          ],
          "surface": [
           {
            "colorbar": {
             "outlinewidth": 0,
             "ticks": ""
            },
            "colorscale": [
             [
              0,
              "#0d0887"
             ],
             [
              0.1111111111111111,
              "#46039f"
             ],
             [
              0.2222222222222222,
              "#7201a8"
             ],
             [
              0.3333333333333333,
              "#9c179e"
             ],
             [
              0.4444444444444444,
              "#bd3786"
             ],
             [
              0.5555555555555556,
              "#d8576b"
             ],
             [
              0.6666666666666666,
              "#ed7953"
             ],
             [
              0.7777777777777778,
              "#fb9f3a"
             ],
             [
              0.8888888888888888,
              "#fdca26"
             ],
             [
              1,
              "#f0f921"
             ]
            ],
            "type": "surface"
           }
          ],
          "table": [
           {
            "cells": {
             "fill": {
              "color": "#EBF0F8"
             },
             "line": {
              "color": "white"
             }
            },
            "header": {
             "fill": {
              "color": "#C8D4E3"
             },
             "line": {
              "color": "white"
             }
            },
            "type": "table"
           }
          ]
         },
         "layout": {
          "annotationdefaults": {
           "arrowcolor": "#2a3f5f",
           "arrowhead": 0,
           "arrowwidth": 1
          },
          "autotypenumbers": "strict",
          "coloraxis": {
           "colorbar": {
            "outlinewidth": 0,
            "ticks": ""
           }
          },
          "colorscale": {
           "diverging": [
            [
             0,
             "#8e0152"
            ],
            [
             0.1,
             "#c51b7d"
            ],
            [
             0.2,
             "#de77ae"
            ],
            [
             0.3,
             "#f1b6da"
            ],
            [
             0.4,
             "#fde0ef"
            ],
            [
             0.5,
             "#f7f7f7"
            ],
            [
             0.6,
             "#e6f5d0"
            ],
            [
             0.7,
             "#b8e186"
            ],
            [
             0.8,
             "#7fbc41"
            ],
            [
             0.9,
             "#4d9221"
            ],
            [
             1,
             "#276419"
            ]
           ],
           "sequential": [
            [
             0,
             "#0d0887"
            ],
            [
             0.1111111111111111,
             "#46039f"
            ],
            [
             0.2222222222222222,
             "#7201a8"
            ],
            [
             0.3333333333333333,
             "#9c179e"
            ],
            [
             0.4444444444444444,
             "#bd3786"
            ],
            [
             0.5555555555555556,
             "#d8576b"
            ],
            [
             0.6666666666666666,
             "#ed7953"
            ],
            [
             0.7777777777777778,
             "#fb9f3a"
            ],
            [
             0.8888888888888888,
             "#fdca26"
            ],
            [
             1,
             "#f0f921"
            ]
           ],
           "sequentialminus": [
            [
             0,
             "#0d0887"
            ],
            [
             0.1111111111111111,
             "#46039f"
            ],
            [
             0.2222222222222222,
             "#7201a8"
            ],
            [
             0.3333333333333333,
             "#9c179e"
            ],
            [
             0.4444444444444444,
             "#bd3786"
            ],
            [
             0.5555555555555556,
             "#d8576b"
            ],
            [
             0.6666666666666666,
             "#ed7953"
            ],
            [
             0.7777777777777778,
             "#fb9f3a"
            ],
            [
             0.8888888888888888,
             "#fdca26"
            ],
            [
             1,
             "#f0f921"
            ]
           ]
          },
          "colorway": [
           "#636efa",
           "#EF553B",
           "#00cc96",
           "#ab63fa",
           "#FFA15A",
           "#19d3f3",
           "#FF6692",
           "#B6E880",
           "#FF97FF",
           "#FECB52"
          ],
          "font": {
           "color": "#2a3f5f"
          },
          "geo": {
           "bgcolor": "white",
           "lakecolor": "white",
           "landcolor": "#E5ECF6",
           "showlakes": true,
           "showland": true,
           "subunitcolor": "white"
          },
          "hoverlabel": {
           "align": "left"
          },
          "hovermode": "closest",
          "mapbox": {
           "style": "light"
          },
          "paper_bgcolor": "white",
          "plot_bgcolor": "#E5ECF6",
          "polar": {
           "angularaxis": {
            "gridcolor": "white",
            "linecolor": "white",
            "ticks": ""
           },
           "bgcolor": "#E5ECF6",
           "radialaxis": {
            "gridcolor": "white",
            "linecolor": "white",
            "ticks": ""
           }
          },
          "scene": {
           "xaxis": {
            "backgroundcolor": "#E5ECF6",
            "gridcolor": "white",
            "gridwidth": 2,
            "linecolor": "white",
            "showbackground": true,
            "ticks": "",
            "zerolinecolor": "white"
           },
           "yaxis": {
            "backgroundcolor": "#E5ECF6",
            "gridcolor": "white",
            "gridwidth": 2,
            "linecolor": "white",
            "showbackground": true,
            "ticks": "",
            "zerolinecolor": "white"
           },
           "zaxis": {
            "backgroundcolor": "#E5ECF6",
            "gridcolor": "white",
            "gridwidth": 2,
            "linecolor": "white",
            "showbackground": true,
            "ticks": "",
            "zerolinecolor": "white"
           }
          },
          "shapedefaults": {
           "line": {
            "color": "#2a3f5f"
           }
          },
          "ternary": {
           "aaxis": {
            "gridcolor": "white",
            "linecolor": "white",
            "ticks": ""
           },
           "baxis": {
            "gridcolor": "white",
            "linecolor": "white",
            "ticks": ""
           },
           "bgcolor": "#E5ECF6",
           "caxis": {
            "gridcolor": "white",
            "linecolor": "white",
            "ticks": ""
           }
          },
          "title": {
           "x": 0.05
          },
          "xaxis": {
           "automargin": true,
           "gridcolor": "white",
           "linecolor": "white",
           "ticks": "",
           "title": {
            "standoff": 15
           },
           "zerolinecolor": "white",
           "zerolinewidth": 2
          },
          "yaxis": {
           "automargin": true,
           "gridcolor": "white",
           "linecolor": "white",
           "ticks": "",
           "title": {
            "standoff": 15
           },
           "zerolinecolor": "white",
           "zerolinewidth": 2
          }
         }
        },
        "title": {
         "text": "DEP distribution plot"
        },
        "xaxis": {
         "title": {
          "text": "DEP"
         }
        },
        "yaxis": {
         "title": {
          "text": "Frequency"
         }
        }
       }
      },
      "text/html": [
       "<div>                            <div id=\"12fe1b60-26a7-4fa5-9f4d-692fc434abcc\" class=\"plotly-graph-div\" style=\"height:525px; width:100%;\"></div>            <script type=\"text/javascript\">                require([\"plotly\"], function(Plotly) {                    window.PLOTLYENV=window.PLOTLYENV || {};                                    if (document.getElementById(\"12fe1b60-26a7-4fa5-9f4d-692fc434abcc\")) {                    Plotly.newPlot(                        \"12fe1b60-26a7-4fa5-9f4d-692fc434abcc\",                        [{\"marker\":{\"color\":\"red\"},\"name\":\"eurekarebellionaus\",\"opacity\":0.3,\"x\":[\"punct\",\"nsubj\",\"prep\",\"dobj\",\"det\",\"predet\",\"preconj\",\"case\",\"csubj\",\"quantmod\"],\"y\":[0.1259,0.0788,0.0682,0.066,0.0616,0.0017,0.0011,0.0006,0.0006,0.0006],\"type\":\"bar\"},{\"marker\":{\"color\":\"blue\"},\"name\":\"eurekarebellion\",\"opacity\":0.3,\"x\":[\"punct\",\"nsubj\",\"prep\",\"dobj\",\"det\",\"predet\",\"preconj\",\"case\",\"csubj\",\"quantmod\"],\"y\":[0.1355,0.0843,0.0624,0.0614,0.0584,0.001,0.0,0.0,0.0,0.0],\"type\":\"bar\"},{\"marker\":{\"color\":\"red\"},\"mode\":\"text\",\"showlegend\":false,\"text\":[\".\",\",\"],\"textfont\":{\"color\":\"red\"},\"x\":[\"punct\",\"punct\",\"punct\",\"punct\",\"punct\",\"punct\",\"punct\",\"punct\",\"punct\",\"punct\"],\"y\":[0.2775,0.2379],\"type\":\"scatter\"},{\"marker\":{\"color\":\"red\"},\"mode\":\"text\",\"showlegend\":false,\"text\":[\"we\",\"you\"],\"textfont\":{\"color\":\"red\"},\"x\":[\"nsubj\",\"nsubj\",\"nsubj\",\"nsubj\",\"nsubj\",\"nsubj\",\"nsubj\",\"nsubj\",\"nsubj\",\"nsubj\"],\"y\":[0.3732,0.0775],\"type\":\"scatter\"},{\"marker\":{\"color\":\"red\"},\"mode\":\"text\",\"showlegend\":false,\"text\":[\"for\",\"of\"],\"textfont\":{\"color\":\"red\"},\"x\":[\"prep\",\"prep\",\"prep\",\"prep\",\"prep\",\"prep\",\"prep\",\"prep\",\"prep\",\"prep\"],\"y\":[0.1707,0.1626],\"type\":\"scatter\"},{\"marker\":{\"color\":\"red\"},\"mode\":\"text\",\"showlegend\":false,\"text\":[\"you\",\"order\"],\"textfont\":{\"color\":\"red\"},\"x\":[\"dobj\",\"dobj\",\"dobj\",\"dobj\",\"dobj\",\"dobj\",\"dobj\",\"dobj\",\"dobj\",\"dobj\"],\"y\":[0.0588,0.0588],\"type\":\"scatter\"},{\"marker\":{\"color\":\"red\"},\"mode\":\"text\",\"showlegend\":false,\"text\":[\"the\",\"a\"],\"textfont\":{\"color\":\"red\"},\"x\":[\"det\",\"det\",\"det\",\"det\",\"det\",\"det\",\"det\",\"det\",\"det\",\"det\"],\"y\":[0.4775,0.1802],\"type\":\"scatter\"},{\"marker\":{\"color\":\"red\"},\"mode\":\"text\",\"showlegend\":false,\"text\":[\"all\"],\"textfont\":{\"color\":\"red\"},\"x\":[\"predet\",\"predet\",\"predet\",\"predet\",\"predet\",\"predet\",\"predet\",\"predet\",\"predet\",\"predet\"],\"y\":[1.0],\"type\":\"scatter\"},{\"marker\":{\"color\":\"red\"},\"mode\":\"text\",\"showlegend\":false,\"text\":[\"either\",\"not\"],\"textfont\":{\"color\":\"red\"},\"x\":[\"preconj\",\"preconj\",\"preconj\",\"preconj\",\"preconj\",\"preconj\",\"preconj\",\"preconj\",\"preconj\",\"preconj\"],\"y\":[0.5,0.5],\"type\":\"scatter\"},{\"marker\":{\"color\":\"red\"},\"mode\":\"text\",\"showlegend\":false,\"text\":[\"'\"],\"textfont\":{\"color\":\"red\"},\"x\":[\"case\",\"case\",\"case\",\"case\",\"case\",\"case\",\"case\",\"case\",\"case\",\"case\"],\"y\":[1.0],\"type\":\"scatter\"},{\"marker\":{\"color\":\"red\"},\"mode\":\"text\",\"showlegend\":false,\"text\":[\"promise\"],\"textfont\":{\"color\":\"red\"},\"x\":[\"csubj\",\"csubj\",\"csubj\",\"csubj\",\"csubj\",\"csubj\",\"csubj\",\"csubj\",\"csubj\",\"csubj\"],\"y\":[1.0],\"type\":\"scatter\"},{\"marker\":{\"color\":\"red\"},\"mode\":\"text\",\"showlegend\":false,\"text\":[\"1\"],\"textfont\":{\"color\":\"red\"},\"x\":[\"quantmod\",\"quantmod\",\"quantmod\",\"quantmod\",\"quantmod\",\"quantmod\",\"quantmod\",\"quantmod\",\"quantmod\",\"quantmod\"],\"y\":[1.0],\"type\":\"scatter\"},{\"marker\":{\"color\":\"blue\"},\"mode\":\"text\",\"showlegend\":false,\"text\":[\".\",\",\"],\"textfont\":{\"color\":\"blue\"},\"x\":[\"punct\",\"punct\",\"punct\",\"punct\",\"punct\",\"punct\"],\"y\":[0.2703,0.2411],\"type\":\"scatter\"},{\"marker\":{\"color\":\"blue\"},\"mode\":\"text\",\"showlegend\":false,\"text\":[\"we\",\"you\"],\"textfont\":{\"color\":\"blue\"},\"x\":[\"nsubj\",\"nsubj\",\"nsubj\",\"nsubj\",\"nsubj\",\"nsubj\"],\"y\":[0.329,0.0822],\"type\":\"scatter\"},{\"marker\":{\"color\":\"blue\"},\"mode\":\"text\",\"showlegend\":false,\"text\":[\"of\",\"in\"],\"textfont\":{\"color\":\"blue\"},\"x\":[\"prep\",\"prep\",\"prep\",\"prep\",\"prep\",\"prep\"],\"y\":[0.1774,0.1613],\"type\":\"scatter\"},{\"marker\":{\"color\":\"blue\"},\"mode\":\"text\",\"showlegend\":false,\"text\":[\"substances\",\"what\"],\"textfont\":{\"color\":\"blue\"},\"x\":[\"dobj\",\"dobj\",\"dobj\",\"dobj\",\"dobj\",\"dobj\"],\"y\":[0.0794,0.0476],\"type\":\"scatter\"},{\"marker\":{\"color\":\"blue\"},\"mode\":\"text\",\"showlegend\":false,\"text\":[\"the\",\"a\"],\"textfont\":{\"color\":\"blue\"},\"x\":[\"det\",\"det\",\"det\",\"det\",\"det\",\"det\"],\"y\":[0.5254,0.1525],\"type\":\"scatter\"},{\"marker\":{\"color\":\"blue\"},\"mode\":\"text\",\"showlegend\":false,\"text\":[\"all\"],\"textfont\":{\"color\":\"blue\"},\"x\":[\"predet\",\"predet\",\"predet\",\"predet\",\"predet\",\"predet\"],\"y\":[1.0],\"type\":\"scatter\"}],                        {\"template\":{\"data\":{\"histogram2dcontour\":[{\"type\":\"histogram2dcontour\",\"colorbar\":{\"outlinewidth\":0,\"ticks\":\"\"},\"colorscale\":[[0.0,\"#0d0887\"],[0.1111111111111111,\"#46039f\"],[0.2222222222222222,\"#7201a8\"],[0.3333333333333333,\"#9c179e\"],[0.4444444444444444,\"#bd3786\"],[0.5555555555555556,\"#d8576b\"],[0.6666666666666666,\"#ed7953\"],[0.7777777777777778,\"#fb9f3a\"],[0.8888888888888888,\"#fdca26\"],[1.0,\"#f0f921\"]]}],\"choropleth\":[{\"type\":\"choropleth\",\"colorbar\":{\"outlinewidth\":0,\"ticks\":\"\"}}],\"histogram2d\":[{\"type\":\"histogram2d\",\"colorbar\":{\"outlinewidth\":0,\"ticks\":\"\"},\"colorscale\":[[0.0,\"#0d0887\"],[0.1111111111111111,\"#46039f\"],[0.2222222222222222,\"#7201a8\"],[0.3333333333333333,\"#9c179e\"],[0.4444444444444444,\"#bd3786\"],[0.5555555555555556,\"#d8576b\"],[0.6666666666666666,\"#ed7953\"],[0.7777777777777778,\"#fb9f3a\"],[0.8888888888888888,\"#fdca26\"],[1.0,\"#f0f921\"]]}],\"heatmap\":[{\"type\":\"heatmap\",\"colorbar\":{\"outlinewidth\":0,\"ticks\":\"\"},\"colorscale\":[[0.0,\"#0d0887\"],[0.1111111111111111,\"#46039f\"],[0.2222222222222222,\"#7201a8\"],[0.3333333333333333,\"#9c179e\"],[0.4444444444444444,\"#bd3786\"],[0.5555555555555556,\"#d8576b\"],[0.6666666666666666,\"#ed7953\"],[0.7777777777777778,\"#fb9f3a\"],[0.8888888888888888,\"#fdca26\"],[1.0,\"#f0f921\"]]}],\"heatmapgl\":[{\"type\":\"heatmapgl\",\"colorbar\":{\"outlinewidth\":0,\"ticks\":\"\"},\"colorscale\":[[0.0,\"#0d0887\"],[0.1111111111111111,\"#46039f\"],[0.2222222222222222,\"#7201a8\"],[0.3333333333333333,\"#9c179e\"],[0.4444444444444444,\"#bd3786\"],[0.5555555555555556,\"#d8576b\"],[0.6666666666666666,\"#ed7953\"],[0.7777777777777778,\"#fb9f3a\"],[0.8888888888888888,\"#fdca26\"],[1.0,\"#f0f921\"]]}],\"contourcarpet\":[{\"type\":\"contourcarpet\",\"colorbar\":{\"outlinewidth\":0,\"ticks\":\"\"}}],\"contour\":[{\"type\":\"contour\",\"colorbar\":{\"outlinewidth\":0,\"ticks\":\"\"},\"colorscale\":[[0.0,\"#0d0887\"],[0.1111111111111111,\"#46039f\"],[0.2222222222222222,\"#7201a8\"],[0.3333333333333333,\"#9c179e\"],[0.4444444444444444,\"#bd3786\"],[0.5555555555555556,\"#d8576b\"],[0.6666666666666666,\"#ed7953\"],[0.7777777777777778,\"#fb9f3a\"],[0.8888888888888888,\"#fdca26\"],[1.0,\"#f0f921\"]]}],\"surface\":[{\"type\":\"surface\",\"colorbar\":{\"outlinewidth\":0,\"ticks\":\"\"},\"colorscale\":[[0.0,\"#0d0887\"],[0.1111111111111111,\"#46039f\"],[0.2222222222222222,\"#7201a8\"],[0.3333333333333333,\"#9c179e\"],[0.4444444444444444,\"#bd3786\"],[0.5555555555555556,\"#d8576b\"],[0.6666666666666666,\"#ed7953\"],[0.7777777777777778,\"#fb9f3a\"],[0.8888888888888888,\"#fdca26\"],[1.0,\"#f0f921\"]]}],\"mesh3d\":[{\"type\":\"mesh3d\",\"colorbar\":{\"outlinewidth\":0,\"ticks\":\"\"}}],\"scatter\":[{\"fillpattern\":{\"fillmode\":\"overlay\",\"size\":10,\"solidity\":0.2},\"type\":\"scatter\"}],\"parcoords\":[{\"type\":\"parcoords\",\"line\":{\"colorbar\":{\"outlinewidth\":0,\"ticks\":\"\"}}}],\"scatterpolargl\":[{\"type\":\"scatterpolargl\",\"marker\":{\"colorbar\":{\"outlinewidth\":0,\"ticks\":\"\"}}}],\"bar\":[{\"error_x\":{\"color\":\"#2a3f5f\"},\"error_y\":{\"color\":\"#2a3f5f\"},\"marker\":{\"line\":{\"color\":\"#E5ECF6\",\"width\":0.5},\"pattern\":{\"fillmode\":\"overlay\",\"size\":10,\"solidity\":0.2}},\"type\":\"bar\"}],\"scattergeo\":[{\"type\":\"scattergeo\",\"marker\":{\"colorbar\":{\"outlinewidth\":0,\"ticks\":\"\"}}}],\"scatterpolar\":[{\"type\":\"scatterpolar\",\"marker\":{\"colorbar\":{\"outlinewidth\":0,\"ticks\":\"\"}}}],\"histogram\":[{\"marker\":{\"pattern\":{\"fillmode\":\"overlay\",\"size\":10,\"solidity\":0.2}},\"type\":\"histogram\"}],\"scattergl\":[{\"type\":\"scattergl\",\"marker\":{\"colorbar\":{\"outlinewidth\":0,\"ticks\":\"\"}}}],\"scatter3d\":[{\"type\":\"scatter3d\",\"line\":{\"colorbar\":{\"outlinewidth\":0,\"ticks\":\"\"}},\"marker\":{\"colorbar\":{\"outlinewidth\":0,\"ticks\":\"\"}}}],\"scattermapbox\":[{\"type\":\"scattermapbox\",\"marker\":{\"colorbar\":{\"outlinewidth\":0,\"ticks\":\"\"}}}],\"scatterternary\":[{\"type\":\"scatterternary\",\"marker\":{\"colorbar\":{\"outlinewidth\":0,\"ticks\":\"\"}}}],\"scattercarpet\":[{\"type\":\"scattercarpet\",\"marker\":{\"colorbar\":{\"outlinewidth\":0,\"ticks\":\"\"}}}],\"carpet\":[{\"aaxis\":{\"endlinecolor\":\"#2a3f5f\",\"gridcolor\":\"white\",\"linecolor\":\"white\",\"minorgridcolor\":\"white\",\"startlinecolor\":\"#2a3f5f\"},\"baxis\":{\"endlinecolor\":\"#2a3f5f\",\"gridcolor\":\"white\",\"linecolor\":\"white\",\"minorgridcolor\":\"white\",\"startlinecolor\":\"#2a3f5f\"},\"type\":\"carpet\"}],\"table\":[{\"cells\":{\"fill\":{\"color\":\"#EBF0F8\"},\"line\":{\"color\":\"white\"}},\"header\":{\"fill\":{\"color\":\"#C8D4E3\"},\"line\":{\"color\":\"white\"}},\"type\":\"table\"}],\"barpolar\":[{\"marker\":{\"line\":{\"color\":\"#E5ECF6\",\"width\":0.5},\"pattern\":{\"fillmode\":\"overlay\",\"size\":10,\"solidity\":0.2}},\"type\":\"barpolar\"}],\"pie\":[{\"automargin\":true,\"type\":\"pie\"}]},\"layout\":{\"autotypenumbers\":\"strict\",\"colorway\":[\"#636efa\",\"#EF553B\",\"#00cc96\",\"#ab63fa\",\"#FFA15A\",\"#19d3f3\",\"#FF6692\",\"#B6E880\",\"#FF97FF\",\"#FECB52\"],\"font\":{\"color\":\"#2a3f5f\"},\"hovermode\":\"closest\",\"hoverlabel\":{\"align\":\"left\"},\"paper_bgcolor\":\"white\",\"plot_bgcolor\":\"#E5ECF6\",\"polar\":{\"bgcolor\":\"#E5ECF6\",\"angularaxis\":{\"gridcolor\":\"white\",\"linecolor\":\"white\",\"ticks\":\"\"},\"radialaxis\":{\"gridcolor\":\"white\",\"linecolor\":\"white\",\"ticks\":\"\"}},\"ternary\":{\"bgcolor\":\"#E5ECF6\",\"aaxis\":{\"gridcolor\":\"white\",\"linecolor\":\"white\",\"ticks\":\"\"},\"baxis\":{\"gridcolor\":\"white\",\"linecolor\":\"white\",\"ticks\":\"\"},\"caxis\":{\"gridcolor\":\"white\",\"linecolor\":\"white\",\"ticks\":\"\"}},\"coloraxis\":{\"colorbar\":{\"outlinewidth\":0,\"ticks\":\"\"}},\"colorscale\":{\"sequential\":[[0.0,\"#0d0887\"],[0.1111111111111111,\"#46039f\"],[0.2222222222222222,\"#7201a8\"],[0.3333333333333333,\"#9c179e\"],[0.4444444444444444,\"#bd3786\"],[0.5555555555555556,\"#d8576b\"],[0.6666666666666666,\"#ed7953\"],[0.7777777777777778,\"#fb9f3a\"],[0.8888888888888888,\"#fdca26\"],[1.0,\"#f0f921\"]],\"sequentialminus\":[[0.0,\"#0d0887\"],[0.1111111111111111,\"#46039f\"],[0.2222222222222222,\"#7201a8\"],[0.3333333333333333,\"#9c179e\"],[0.4444444444444444,\"#bd3786\"],[0.5555555555555556,\"#d8576b\"],[0.6666666666666666,\"#ed7953\"],[0.7777777777777778,\"#fb9f3a\"],[0.8888888888888888,\"#fdca26\"],[1.0,\"#f0f921\"]],\"diverging\":[[0,\"#8e0152\"],[0.1,\"#c51b7d\"],[0.2,\"#de77ae\"],[0.3,\"#f1b6da\"],[0.4,\"#fde0ef\"],[0.5,\"#f7f7f7\"],[0.6,\"#e6f5d0\"],[0.7,\"#b8e186\"],[0.8,\"#7fbc41\"],[0.9,\"#4d9221\"],[1,\"#276419\"]]},\"xaxis\":{\"gridcolor\":\"white\",\"linecolor\":\"white\",\"ticks\":\"\",\"title\":{\"standoff\":15},\"zerolinecolor\":\"white\",\"automargin\":true,\"zerolinewidth\":2},\"yaxis\":{\"gridcolor\":\"white\",\"linecolor\":\"white\",\"ticks\":\"\",\"title\":{\"standoff\":15},\"zerolinecolor\":\"white\",\"automargin\":true,\"zerolinewidth\":2},\"scene\":{\"xaxis\":{\"backgroundcolor\":\"#E5ECF6\",\"gridcolor\":\"white\",\"linecolor\":\"white\",\"showbackground\":true,\"ticks\":\"\",\"zerolinecolor\":\"white\",\"gridwidth\":2},\"yaxis\":{\"backgroundcolor\":\"#E5ECF6\",\"gridcolor\":\"white\",\"linecolor\":\"white\",\"showbackground\":true,\"ticks\":\"\",\"zerolinecolor\":\"white\",\"gridwidth\":2},\"zaxis\":{\"backgroundcolor\":\"#E5ECF6\",\"gridcolor\":\"white\",\"linecolor\":\"white\",\"showbackground\":true,\"ticks\":\"\",\"zerolinecolor\":\"white\",\"gridwidth\":2}},\"shapedefaults\":{\"line\":{\"color\":\"#2a3f5f\"}},\"annotationdefaults\":{\"arrowcolor\":\"#2a3f5f\",\"arrowhead\":0,\"arrowwidth\":1},\"geo\":{\"bgcolor\":\"white\",\"landcolor\":\"#E5ECF6\",\"subunitcolor\":\"white\",\"showland\":true,\"showlakes\":true,\"lakecolor\":\"white\"},\"title\":{\"x\":0.05},\"mapbox\":{\"style\":\"light\"}}},\"font\":{\"family\":\"Courier New, monospace\",\"size\":16,\"color\":\"RebeccaPurple\"},\"title\":{\"text\":\"DEP distribution plot\"},\"xaxis\":{\"title\":{\"text\":\"DEP\"}},\"yaxis\":{\"title\":{\"text\":\"Frequency\"}}},                        {\"responsive\": true}                    ).then(function(){\n",
       "                            \n",
       "var gd = document.getElementById('12fe1b60-26a7-4fa5-9f4d-692fc434abcc');\n",
       "var x = new MutationObserver(function (mutations, observer) {{\n",
       "        var display = window.getComputedStyle(gd).display;\n",
       "        if (!display || display === 'none') {{\n",
       "            console.log([gd, 'removed!']);\n",
       "            Plotly.purge(gd);\n",
       "            observer.disconnect();\n",
       "        }}\n",
       "}});\n",
       "\n",
       "// Listen for the removal of the full notebook cells\n",
       "var notebookContainer = gd.closest('#notebook-container');\n",
       "if (notebookContainer) {{\n",
       "    x.observe(notebookContainer, {childList: true});\n",
       "}}\n",
       "\n",
       "// Listen for the clearing of the current output cell\n",
       "var outputEl = gd.closest('.output');\n",
       "if (outputEl) {{\n",
       "    x.observe(outputEl, {childList: true});\n",
       "}}\n",
       "\n",
       "                        })                };                });            </script>        </div>"
      ]
     },
     "metadata": {},
     "output_type": "display_data"
    }
   ],
   "source": [
    "generate_scatter_plot(parent_vendor_vocab, parent_vendor_density, alias1_vocab, alias1_density, parent_vendor_name=\"eurekarebellionaus\", alias_name=\"eurekarebellion\", n_vendor=2, mode=\"dep\")"
   ]
  },
  {
   "cell_type": "code",
   "execution_count": 48,
   "id": "3f2419c4",
   "metadata": {},
   "outputs": [
    {
     "data": {
      "application/vnd.plotly.v1+json": {
       "config": {
        "plotlyServerURL": "https://plot.ly"
       },
       "data": [
        {
         "marker": {
          "color": "red"
         },
         "name": "eurekarebellionaus",
         "opacity": 0.3,
         "type": "bar",
         "x": [
          "punct",
          "nsubj",
          "prep",
          "dobj",
          "det",
          "predet",
          "preconj",
          "case",
          "csubj",
          "quantmod"
         ],
         "y": [
          0.1259,
          0.0788,
          0.0682,
          0.066,
          0.0616,
          0.0017,
          0.0011,
          0.0006,
          0.0006,
          0.0006
         ]
        },
        {
         "marker": {
          "color": "blue"
         },
         "name": "stimz",
         "opacity": 0.3,
         "type": "bar",
         "x": [
          "punct",
          "nsubj",
          "prep",
          "dobj",
          "det",
          "predet",
          "preconj",
          "case",
          "csubj",
          "quantmod"
         ],
         "y": [
          0.0825,
          0.0722,
          0.0825,
          0.0515,
          0.0515,
          0,
          0,
          0,
          0,
          0
         ]
        },
        {
         "marker": {
          "color": "red"
         },
         "mode": "text",
         "showlegend": false,
         "text": [
          ".",
          ","
         ],
         "textfont": {
          "color": "red"
         },
         "type": "scatter",
         "x": [
          "punct",
          "punct",
          "punct",
          "punct",
          "punct",
          "punct",
          "punct",
          "punct",
          "punct",
          "punct"
         ],
         "y": [
          0.2775,
          0.2379
         ]
        },
        {
         "marker": {
          "color": "red"
         },
         "mode": "text",
         "showlegend": false,
         "text": [
          "we",
          "you"
         ],
         "textfont": {
          "color": "red"
         },
         "type": "scatter",
         "x": [
          "nsubj",
          "nsubj",
          "nsubj",
          "nsubj",
          "nsubj",
          "nsubj",
          "nsubj",
          "nsubj",
          "nsubj",
          "nsubj"
         ],
         "y": [
          0.3732,
          0.0775
         ]
        },
        {
         "marker": {
          "color": "red"
         },
         "mode": "text",
         "showlegend": false,
         "text": [
          "for",
          "of"
         ],
         "textfont": {
          "color": "red"
         },
         "type": "scatter",
         "x": [
          "prep",
          "prep",
          "prep",
          "prep",
          "prep",
          "prep",
          "prep",
          "prep",
          "prep",
          "prep"
         ],
         "y": [
          0.1707,
          0.1626
         ]
        },
        {
         "marker": {
          "color": "red"
         },
         "mode": "text",
         "showlegend": false,
         "text": [
          "you",
          "order"
         ],
         "textfont": {
          "color": "red"
         },
         "type": "scatter",
         "x": [
          "dobj",
          "dobj",
          "dobj",
          "dobj",
          "dobj",
          "dobj",
          "dobj",
          "dobj",
          "dobj",
          "dobj"
         ],
         "y": [
          0.0588,
          0.0588
         ]
        },
        {
         "marker": {
          "color": "red"
         },
         "mode": "text",
         "showlegend": false,
         "text": [
          "the",
          "a"
         ],
         "textfont": {
          "color": "red"
         },
         "type": "scatter",
         "x": [
          "det",
          "det",
          "det",
          "det",
          "det",
          "det",
          "det",
          "det",
          "det",
          "det"
         ],
         "y": [
          0.4775,
          0.1802
         ]
        },
        {
         "marker": {
          "color": "red"
         },
         "mode": "text",
         "showlegend": false,
         "text": [
          "all"
         ],
         "textfont": {
          "color": "red"
         },
         "type": "scatter",
         "x": [
          "predet",
          "predet",
          "predet",
          "predet",
          "predet",
          "predet",
          "predet",
          "predet",
          "predet",
          "predet"
         ],
         "y": [
          1
         ]
        },
        {
         "marker": {
          "color": "red"
         },
         "mode": "text",
         "showlegend": false,
         "text": [
          "either",
          "not"
         ],
         "textfont": {
          "color": "red"
         },
         "type": "scatter",
         "x": [
          "preconj",
          "preconj",
          "preconj",
          "preconj",
          "preconj",
          "preconj",
          "preconj",
          "preconj",
          "preconj",
          "preconj"
         ],
         "y": [
          0.5,
          0.5
         ]
        },
        {
         "marker": {
          "color": "red"
         },
         "mode": "text",
         "showlegend": false,
         "text": [
          "'"
         ],
         "textfont": {
          "color": "red"
         },
         "type": "scatter",
         "x": [
          "case",
          "case",
          "case",
          "case",
          "case",
          "case",
          "case",
          "case",
          "case",
          "case"
         ],
         "y": [
          1
         ]
        },
        {
         "marker": {
          "color": "red"
         },
         "mode": "text",
         "showlegend": false,
         "text": [
          "promise"
         ],
         "textfont": {
          "color": "red"
         },
         "type": "scatter",
         "x": [
          "csubj",
          "csubj",
          "csubj",
          "csubj",
          "csubj",
          "csubj",
          "csubj",
          "csubj",
          "csubj",
          "csubj"
         ],
         "y": [
          1
         ]
        },
        {
         "marker": {
          "color": "red"
         },
         "mode": "text",
         "showlegend": false,
         "text": [
          "1"
         ],
         "textfont": {
          "color": "red"
         },
         "type": "scatter",
         "x": [
          "quantmod",
          "quantmod",
          "quantmod",
          "quantmod",
          "quantmod",
          "quantmod",
          "quantmod",
          "quantmod",
          "quantmod",
          "quantmod"
         ],
         "y": [
          1
         ]
        },
        {
         "marker": {
          "color": "blue"
         },
         "mode": "text",
         "showlegend": false,
         "text": [
          ".",
          ","
         ],
         "textfont": {
          "color": "blue"
         },
         "type": "scatter",
         "x": [
          "punct",
          "punct",
          "punct",
          "punct",
          "punct"
         ],
         "y": [
          0.625,
          0.25
         ]
        },
        {
         "marker": {
          "color": "blue"
         },
         "mode": "text",
         "showlegend": false,
         "text": [
          "you",
          "we"
         ],
         "textfont": {
          "color": "blue"
         },
         "type": "scatter",
         "x": [
          "nsubj",
          "nsubj",
          "nsubj",
          "nsubj",
          "nsubj"
         ],
         "y": [
          0.4286,
          0.1429
         ]
        },
        {
         "marker": {
          "color": "blue"
         },
         "mode": "text",
         "showlegend": false,
         "text": [
          "of",
          "to"
         ],
         "textfont": {
          "color": "blue"
         },
         "type": "scatter",
         "x": [
          "prep",
          "prep",
          "prep",
          "prep",
          "prep"
         ],
         "y": [
          0.25,
          0.125
         ]
        },
        {
         "marker": {
          "color": "blue"
         },
         "mode": "text",
         "showlegend": false,
         "text": [
          "flakes",
          "products"
         ],
         "textfont": {
          "color": "blue"
         },
         "type": "scatter",
         "x": [
          "dobj",
          "dobj",
          "dobj",
          "dobj",
          "dobj"
         ],
         "y": [
          0.2,
          0.2
         ]
        },
        {
         "marker": {
          "color": "blue"
         },
         "mode": "text",
         "showlegend": false,
         "text": [
          "the",
          "this"
         ],
         "textfont": {
          "color": "blue"
         },
         "type": "scatter",
         "x": [
          "det",
          "det",
          "det",
          "det",
          "det"
         ],
         "y": [
          0.4,
          0.2
         ]
        }
       ],
       "layout": {
        "font": {
         "color": "RebeccaPurple",
         "family": "Courier New, monospace",
         "size": 16
        },
        "template": {
         "data": {
          "bar": [
           {
            "error_x": {
             "color": "#2a3f5f"
            },
            "error_y": {
             "color": "#2a3f5f"
            },
            "marker": {
             "line": {
              "color": "#E5ECF6",
              "width": 0.5
             },
             "pattern": {
              "fillmode": "overlay",
              "size": 10,
              "solidity": 0.2
             }
            },
            "type": "bar"
           }
          ],
          "barpolar": [
           {
            "marker": {
             "line": {
              "color": "#E5ECF6",
              "width": 0.5
             },
             "pattern": {
              "fillmode": "overlay",
              "size": 10,
              "solidity": 0.2
             }
            },
            "type": "barpolar"
           }
          ],
          "carpet": [
           {
            "aaxis": {
             "endlinecolor": "#2a3f5f",
             "gridcolor": "white",
             "linecolor": "white",
             "minorgridcolor": "white",
             "startlinecolor": "#2a3f5f"
            },
            "baxis": {
             "endlinecolor": "#2a3f5f",
             "gridcolor": "white",
             "linecolor": "white",
             "minorgridcolor": "white",
             "startlinecolor": "#2a3f5f"
            },
            "type": "carpet"
           }
          ],
          "choropleth": [
           {
            "colorbar": {
             "outlinewidth": 0,
             "ticks": ""
            },
            "type": "choropleth"
           }
          ],
          "contour": [
           {
            "colorbar": {
             "outlinewidth": 0,
             "ticks": ""
            },
            "colorscale": [
             [
              0,
              "#0d0887"
             ],
             [
              0.1111111111111111,
              "#46039f"
             ],
             [
              0.2222222222222222,
              "#7201a8"
             ],
             [
              0.3333333333333333,
              "#9c179e"
             ],
             [
              0.4444444444444444,
              "#bd3786"
             ],
             [
              0.5555555555555556,
              "#d8576b"
             ],
             [
              0.6666666666666666,
              "#ed7953"
             ],
             [
              0.7777777777777778,
              "#fb9f3a"
             ],
             [
              0.8888888888888888,
              "#fdca26"
             ],
             [
              1,
              "#f0f921"
             ]
            ],
            "type": "contour"
           }
          ],
          "contourcarpet": [
           {
            "colorbar": {
             "outlinewidth": 0,
             "ticks": ""
            },
            "type": "contourcarpet"
           }
          ],
          "heatmap": [
           {
            "colorbar": {
             "outlinewidth": 0,
             "ticks": ""
            },
            "colorscale": [
             [
              0,
              "#0d0887"
             ],
             [
              0.1111111111111111,
              "#46039f"
             ],
             [
              0.2222222222222222,
              "#7201a8"
             ],
             [
              0.3333333333333333,
              "#9c179e"
             ],
             [
              0.4444444444444444,
              "#bd3786"
             ],
             [
              0.5555555555555556,
              "#d8576b"
             ],
             [
              0.6666666666666666,
              "#ed7953"
             ],
             [
              0.7777777777777778,
              "#fb9f3a"
             ],
             [
              0.8888888888888888,
              "#fdca26"
             ],
             [
              1,
              "#f0f921"
             ]
            ],
            "type": "heatmap"
           }
          ],
          "heatmapgl": [
           {
            "colorbar": {
             "outlinewidth": 0,
             "ticks": ""
            },
            "colorscale": [
             [
              0,
              "#0d0887"
             ],
             [
              0.1111111111111111,
              "#46039f"
             ],
             [
              0.2222222222222222,
              "#7201a8"
             ],
             [
              0.3333333333333333,
              "#9c179e"
             ],
             [
              0.4444444444444444,
              "#bd3786"
             ],
             [
              0.5555555555555556,
              "#d8576b"
             ],
             [
              0.6666666666666666,
              "#ed7953"
             ],
             [
              0.7777777777777778,
              "#fb9f3a"
             ],
             [
              0.8888888888888888,
              "#fdca26"
             ],
             [
              1,
              "#f0f921"
             ]
            ],
            "type": "heatmapgl"
           }
          ],
          "histogram": [
           {
            "marker": {
             "pattern": {
              "fillmode": "overlay",
              "size": 10,
              "solidity": 0.2
             }
            },
            "type": "histogram"
           }
          ],
          "histogram2d": [
           {
            "colorbar": {
             "outlinewidth": 0,
             "ticks": ""
            },
            "colorscale": [
             [
              0,
              "#0d0887"
             ],
             [
              0.1111111111111111,
              "#46039f"
             ],
             [
              0.2222222222222222,
              "#7201a8"
             ],
             [
              0.3333333333333333,
              "#9c179e"
             ],
             [
              0.4444444444444444,
              "#bd3786"
             ],
             [
              0.5555555555555556,
              "#d8576b"
             ],
             [
              0.6666666666666666,
              "#ed7953"
             ],
             [
              0.7777777777777778,
              "#fb9f3a"
             ],
             [
              0.8888888888888888,
              "#fdca26"
             ],
             [
              1,
              "#f0f921"
             ]
            ],
            "type": "histogram2d"
           }
          ],
          "histogram2dcontour": [
           {
            "colorbar": {
             "outlinewidth": 0,
             "ticks": ""
            },
            "colorscale": [
             [
              0,
              "#0d0887"
             ],
             [
              0.1111111111111111,
              "#46039f"
             ],
             [
              0.2222222222222222,
              "#7201a8"
             ],
             [
              0.3333333333333333,
              "#9c179e"
             ],
             [
              0.4444444444444444,
              "#bd3786"
             ],
             [
              0.5555555555555556,
              "#d8576b"
             ],
             [
              0.6666666666666666,
              "#ed7953"
             ],
             [
              0.7777777777777778,
              "#fb9f3a"
             ],
             [
              0.8888888888888888,
              "#fdca26"
             ],
             [
              1,
              "#f0f921"
             ]
            ],
            "type": "histogram2dcontour"
           }
          ],
          "mesh3d": [
           {
            "colorbar": {
             "outlinewidth": 0,
             "ticks": ""
            },
            "type": "mesh3d"
           }
          ],
          "parcoords": [
           {
            "line": {
             "colorbar": {
              "outlinewidth": 0,
              "ticks": ""
             }
            },
            "type": "parcoords"
           }
          ],
          "pie": [
           {
            "automargin": true,
            "type": "pie"
           }
          ],
          "scatter": [
           {
            "fillpattern": {
             "fillmode": "overlay",
             "size": 10,
             "solidity": 0.2
            },
            "type": "scatter"
           }
          ],
          "scatter3d": [
           {
            "line": {
             "colorbar": {
              "outlinewidth": 0,
              "ticks": ""
             }
            },
            "marker": {
             "colorbar": {
              "outlinewidth": 0,
              "ticks": ""
             }
            },
            "type": "scatter3d"
           }
          ],
          "scattercarpet": [
           {
            "marker": {
             "colorbar": {
              "outlinewidth": 0,
              "ticks": ""
             }
            },
            "type": "scattercarpet"
           }
          ],
          "scattergeo": [
           {
            "marker": {
             "colorbar": {
              "outlinewidth": 0,
              "ticks": ""
             }
            },
            "type": "scattergeo"
           }
          ],
          "scattergl": [
           {
            "marker": {
             "colorbar": {
              "outlinewidth": 0,
              "ticks": ""
             }
            },
            "type": "scattergl"
           }
          ],
          "scattermapbox": [
           {
            "marker": {
             "colorbar": {
              "outlinewidth": 0,
              "ticks": ""
             }
            },
            "type": "scattermapbox"
           }
          ],
          "scatterpolar": [
           {
            "marker": {
             "colorbar": {
              "outlinewidth": 0,
              "ticks": ""
             }
            },
            "type": "scatterpolar"
           }
          ],
          "scatterpolargl": [
           {
            "marker": {
             "colorbar": {
              "outlinewidth": 0,
              "ticks": ""
             }
            },
            "type": "scatterpolargl"
           }
          ],
          "scatterternary": [
           {
            "marker": {
             "colorbar": {
              "outlinewidth": 0,
              "ticks": ""
             }
            },
            "type": "scatterternary"
           }
          ],
          "surface": [
           {
            "colorbar": {
             "outlinewidth": 0,
             "ticks": ""
            },
            "colorscale": [
             [
              0,
              "#0d0887"
             ],
             [
              0.1111111111111111,
              "#46039f"
             ],
             [
              0.2222222222222222,
              "#7201a8"
             ],
             [
              0.3333333333333333,
              "#9c179e"
             ],
             [
              0.4444444444444444,
              "#bd3786"
             ],
             [
              0.5555555555555556,
              "#d8576b"
             ],
             [
              0.6666666666666666,
              "#ed7953"
             ],
             [
              0.7777777777777778,
              "#fb9f3a"
             ],
             [
              0.8888888888888888,
              "#fdca26"
             ],
             [
              1,
              "#f0f921"
             ]
            ],
            "type": "surface"
           }
          ],
          "table": [
           {
            "cells": {
             "fill": {
              "color": "#EBF0F8"
             },
             "line": {
              "color": "white"
             }
            },
            "header": {
             "fill": {
              "color": "#C8D4E3"
             },
             "line": {
              "color": "white"
             }
            },
            "type": "table"
           }
          ]
         },
         "layout": {
          "annotationdefaults": {
           "arrowcolor": "#2a3f5f",
           "arrowhead": 0,
           "arrowwidth": 1
          },
          "autotypenumbers": "strict",
          "coloraxis": {
           "colorbar": {
            "outlinewidth": 0,
            "ticks": ""
           }
          },
          "colorscale": {
           "diverging": [
            [
             0,
             "#8e0152"
            ],
            [
             0.1,
             "#c51b7d"
            ],
            [
             0.2,
             "#de77ae"
            ],
            [
             0.3,
             "#f1b6da"
            ],
            [
             0.4,
             "#fde0ef"
            ],
            [
             0.5,
             "#f7f7f7"
            ],
            [
             0.6,
             "#e6f5d0"
            ],
            [
             0.7,
             "#b8e186"
            ],
            [
             0.8,
             "#7fbc41"
            ],
            [
             0.9,
             "#4d9221"
            ],
            [
             1,
             "#276419"
            ]
           ],
           "sequential": [
            [
             0,
             "#0d0887"
            ],
            [
             0.1111111111111111,
             "#46039f"
            ],
            [
             0.2222222222222222,
             "#7201a8"
            ],
            [
             0.3333333333333333,
             "#9c179e"
            ],
            [
             0.4444444444444444,
             "#bd3786"
            ],
            [
             0.5555555555555556,
             "#d8576b"
            ],
            [
             0.6666666666666666,
             "#ed7953"
            ],
            [
             0.7777777777777778,
             "#fb9f3a"
            ],
            [
             0.8888888888888888,
             "#fdca26"
            ],
            [
             1,
             "#f0f921"
            ]
           ],
           "sequentialminus": [
            [
             0,
             "#0d0887"
            ],
            [
             0.1111111111111111,
             "#46039f"
            ],
            [
             0.2222222222222222,
             "#7201a8"
            ],
            [
             0.3333333333333333,
             "#9c179e"
            ],
            [
             0.4444444444444444,
             "#bd3786"
            ],
            [
             0.5555555555555556,
             "#d8576b"
            ],
            [
             0.6666666666666666,
             "#ed7953"
            ],
            [
             0.7777777777777778,
             "#fb9f3a"
            ],
            [
             0.8888888888888888,
             "#fdca26"
            ],
            [
             1,
             "#f0f921"
            ]
           ]
          },
          "colorway": [
           "#636efa",
           "#EF553B",
           "#00cc96",
           "#ab63fa",
           "#FFA15A",
           "#19d3f3",
           "#FF6692",
           "#B6E880",
           "#FF97FF",
           "#FECB52"
          ],
          "font": {
           "color": "#2a3f5f"
          },
          "geo": {
           "bgcolor": "white",
           "lakecolor": "white",
           "landcolor": "#E5ECF6",
           "showlakes": true,
           "showland": true,
           "subunitcolor": "white"
          },
          "hoverlabel": {
           "align": "left"
          },
          "hovermode": "closest",
          "mapbox": {
           "style": "light"
          },
          "paper_bgcolor": "white",
          "plot_bgcolor": "#E5ECF6",
          "polar": {
           "angularaxis": {
            "gridcolor": "white",
            "linecolor": "white",
            "ticks": ""
           },
           "bgcolor": "#E5ECF6",
           "radialaxis": {
            "gridcolor": "white",
            "linecolor": "white",
            "ticks": ""
           }
          },
          "scene": {
           "xaxis": {
            "backgroundcolor": "#E5ECF6",
            "gridcolor": "white",
            "gridwidth": 2,
            "linecolor": "white",
            "showbackground": true,
            "ticks": "",
            "zerolinecolor": "white"
           },
           "yaxis": {
            "backgroundcolor": "#E5ECF6",
            "gridcolor": "white",
            "gridwidth": 2,
            "linecolor": "white",
            "showbackground": true,
            "ticks": "",
            "zerolinecolor": "white"
           },
           "zaxis": {
            "backgroundcolor": "#E5ECF6",
            "gridcolor": "white",
            "gridwidth": 2,
            "linecolor": "white",
            "showbackground": true,
            "ticks": "",
            "zerolinecolor": "white"
           }
          },
          "shapedefaults": {
           "line": {
            "color": "#2a3f5f"
           }
          },
          "ternary": {
           "aaxis": {
            "gridcolor": "white",
            "linecolor": "white",
            "ticks": ""
           },
           "baxis": {
            "gridcolor": "white",
            "linecolor": "white",
            "ticks": ""
           },
           "bgcolor": "#E5ECF6",
           "caxis": {
            "gridcolor": "white",
            "linecolor": "white",
            "ticks": ""
           }
          },
          "title": {
           "x": 0.05
          },
          "xaxis": {
           "automargin": true,
           "gridcolor": "white",
           "linecolor": "white",
           "ticks": "",
           "title": {
            "standoff": 15
           },
           "zerolinecolor": "white",
           "zerolinewidth": 2
          },
          "yaxis": {
           "automargin": true,
           "gridcolor": "white",
           "linecolor": "white",
           "ticks": "",
           "title": {
            "standoff": 15
           },
           "zerolinecolor": "white",
           "zerolinewidth": 2
          }
         }
        },
        "title": {
         "text": "DEP distribution plot"
        },
        "xaxis": {
         "title": {
          "text": "DEP"
         }
        },
        "yaxis": {
         "title": {
          "text": "Frequency"
         }
        }
       }
      },
      "text/html": [
       "<div>                            <div id=\"bff2f8d3-dd64-415a-8507-1e19aeea2433\" class=\"plotly-graph-div\" style=\"height:525px; width:100%;\"></div>            <script type=\"text/javascript\">                require([\"plotly\"], function(Plotly) {                    window.PLOTLYENV=window.PLOTLYENV || {};                                    if (document.getElementById(\"bff2f8d3-dd64-415a-8507-1e19aeea2433\")) {                    Plotly.newPlot(                        \"bff2f8d3-dd64-415a-8507-1e19aeea2433\",                        [{\"marker\":{\"color\":\"red\"},\"name\":\"eurekarebellionaus\",\"opacity\":0.3,\"x\":[\"punct\",\"nsubj\",\"prep\",\"dobj\",\"det\",\"predet\",\"preconj\",\"case\",\"csubj\",\"quantmod\"],\"y\":[0.1259,0.0788,0.0682,0.066,0.0616,0.0017,0.0011,0.0006,0.0006,0.0006],\"type\":\"bar\"},{\"marker\":{\"color\":\"blue\"},\"name\":\"stimz\",\"opacity\":0.3,\"x\":[\"punct\",\"nsubj\",\"prep\",\"dobj\",\"det\",\"predet\",\"preconj\",\"case\",\"csubj\",\"quantmod\"],\"y\":[0.0825,0.0722,0.0825,0.0515,0.0515,0.0,0.0,0.0,0.0,0.0],\"type\":\"bar\"},{\"marker\":{\"color\":\"red\"},\"mode\":\"text\",\"showlegend\":false,\"text\":[\".\",\",\"],\"textfont\":{\"color\":\"red\"},\"x\":[\"punct\",\"punct\",\"punct\",\"punct\",\"punct\",\"punct\",\"punct\",\"punct\",\"punct\",\"punct\"],\"y\":[0.2775,0.2379],\"type\":\"scatter\"},{\"marker\":{\"color\":\"red\"},\"mode\":\"text\",\"showlegend\":false,\"text\":[\"we\",\"you\"],\"textfont\":{\"color\":\"red\"},\"x\":[\"nsubj\",\"nsubj\",\"nsubj\",\"nsubj\",\"nsubj\",\"nsubj\",\"nsubj\",\"nsubj\",\"nsubj\",\"nsubj\"],\"y\":[0.3732,0.0775],\"type\":\"scatter\"},{\"marker\":{\"color\":\"red\"},\"mode\":\"text\",\"showlegend\":false,\"text\":[\"for\",\"of\"],\"textfont\":{\"color\":\"red\"},\"x\":[\"prep\",\"prep\",\"prep\",\"prep\",\"prep\",\"prep\",\"prep\",\"prep\",\"prep\",\"prep\"],\"y\":[0.1707,0.1626],\"type\":\"scatter\"},{\"marker\":{\"color\":\"red\"},\"mode\":\"text\",\"showlegend\":false,\"text\":[\"you\",\"order\"],\"textfont\":{\"color\":\"red\"},\"x\":[\"dobj\",\"dobj\",\"dobj\",\"dobj\",\"dobj\",\"dobj\",\"dobj\",\"dobj\",\"dobj\",\"dobj\"],\"y\":[0.0588,0.0588],\"type\":\"scatter\"},{\"marker\":{\"color\":\"red\"},\"mode\":\"text\",\"showlegend\":false,\"text\":[\"the\",\"a\"],\"textfont\":{\"color\":\"red\"},\"x\":[\"det\",\"det\",\"det\",\"det\",\"det\",\"det\",\"det\",\"det\",\"det\",\"det\"],\"y\":[0.4775,0.1802],\"type\":\"scatter\"},{\"marker\":{\"color\":\"red\"},\"mode\":\"text\",\"showlegend\":false,\"text\":[\"all\"],\"textfont\":{\"color\":\"red\"},\"x\":[\"predet\",\"predet\",\"predet\",\"predet\",\"predet\",\"predet\",\"predet\",\"predet\",\"predet\",\"predet\"],\"y\":[1.0],\"type\":\"scatter\"},{\"marker\":{\"color\":\"red\"},\"mode\":\"text\",\"showlegend\":false,\"text\":[\"either\",\"not\"],\"textfont\":{\"color\":\"red\"},\"x\":[\"preconj\",\"preconj\",\"preconj\",\"preconj\",\"preconj\",\"preconj\",\"preconj\",\"preconj\",\"preconj\",\"preconj\"],\"y\":[0.5,0.5],\"type\":\"scatter\"},{\"marker\":{\"color\":\"red\"},\"mode\":\"text\",\"showlegend\":false,\"text\":[\"'\"],\"textfont\":{\"color\":\"red\"},\"x\":[\"case\",\"case\",\"case\",\"case\",\"case\",\"case\",\"case\",\"case\",\"case\",\"case\"],\"y\":[1.0],\"type\":\"scatter\"},{\"marker\":{\"color\":\"red\"},\"mode\":\"text\",\"showlegend\":false,\"text\":[\"promise\"],\"textfont\":{\"color\":\"red\"},\"x\":[\"csubj\",\"csubj\",\"csubj\",\"csubj\",\"csubj\",\"csubj\",\"csubj\",\"csubj\",\"csubj\",\"csubj\"],\"y\":[1.0],\"type\":\"scatter\"},{\"marker\":{\"color\":\"red\"},\"mode\":\"text\",\"showlegend\":false,\"text\":[\"1\"],\"textfont\":{\"color\":\"red\"},\"x\":[\"quantmod\",\"quantmod\",\"quantmod\",\"quantmod\",\"quantmod\",\"quantmod\",\"quantmod\",\"quantmod\",\"quantmod\",\"quantmod\"],\"y\":[1.0],\"type\":\"scatter\"},{\"marker\":{\"color\":\"blue\"},\"mode\":\"text\",\"showlegend\":false,\"text\":[\".\",\",\"],\"textfont\":{\"color\":\"blue\"},\"x\":[\"punct\",\"punct\",\"punct\",\"punct\",\"punct\"],\"y\":[0.625,0.25],\"type\":\"scatter\"},{\"marker\":{\"color\":\"blue\"},\"mode\":\"text\",\"showlegend\":false,\"text\":[\"you\",\"we\"],\"textfont\":{\"color\":\"blue\"},\"x\":[\"nsubj\",\"nsubj\",\"nsubj\",\"nsubj\",\"nsubj\"],\"y\":[0.4286,0.1429],\"type\":\"scatter\"},{\"marker\":{\"color\":\"blue\"},\"mode\":\"text\",\"showlegend\":false,\"text\":[\"of\",\"to\"],\"textfont\":{\"color\":\"blue\"},\"x\":[\"prep\",\"prep\",\"prep\",\"prep\",\"prep\"],\"y\":[0.25,0.125],\"type\":\"scatter\"},{\"marker\":{\"color\":\"blue\"},\"mode\":\"text\",\"showlegend\":false,\"text\":[\"flakes\",\"products\"],\"textfont\":{\"color\":\"blue\"},\"x\":[\"dobj\",\"dobj\",\"dobj\",\"dobj\",\"dobj\"],\"y\":[0.2,0.2],\"type\":\"scatter\"},{\"marker\":{\"color\":\"blue\"},\"mode\":\"text\",\"showlegend\":false,\"text\":[\"the\",\"this\"],\"textfont\":{\"color\":\"blue\"},\"x\":[\"det\",\"det\",\"det\",\"det\",\"det\"],\"y\":[0.4,0.2],\"type\":\"scatter\"}],                        {\"template\":{\"data\":{\"histogram2dcontour\":[{\"type\":\"histogram2dcontour\",\"colorbar\":{\"outlinewidth\":0,\"ticks\":\"\"},\"colorscale\":[[0.0,\"#0d0887\"],[0.1111111111111111,\"#46039f\"],[0.2222222222222222,\"#7201a8\"],[0.3333333333333333,\"#9c179e\"],[0.4444444444444444,\"#bd3786\"],[0.5555555555555556,\"#d8576b\"],[0.6666666666666666,\"#ed7953\"],[0.7777777777777778,\"#fb9f3a\"],[0.8888888888888888,\"#fdca26\"],[1.0,\"#f0f921\"]]}],\"choropleth\":[{\"type\":\"choropleth\",\"colorbar\":{\"outlinewidth\":0,\"ticks\":\"\"}}],\"histogram2d\":[{\"type\":\"histogram2d\",\"colorbar\":{\"outlinewidth\":0,\"ticks\":\"\"},\"colorscale\":[[0.0,\"#0d0887\"],[0.1111111111111111,\"#46039f\"],[0.2222222222222222,\"#7201a8\"],[0.3333333333333333,\"#9c179e\"],[0.4444444444444444,\"#bd3786\"],[0.5555555555555556,\"#d8576b\"],[0.6666666666666666,\"#ed7953\"],[0.7777777777777778,\"#fb9f3a\"],[0.8888888888888888,\"#fdca26\"],[1.0,\"#f0f921\"]]}],\"heatmap\":[{\"type\":\"heatmap\",\"colorbar\":{\"outlinewidth\":0,\"ticks\":\"\"},\"colorscale\":[[0.0,\"#0d0887\"],[0.1111111111111111,\"#46039f\"],[0.2222222222222222,\"#7201a8\"],[0.3333333333333333,\"#9c179e\"],[0.4444444444444444,\"#bd3786\"],[0.5555555555555556,\"#d8576b\"],[0.6666666666666666,\"#ed7953\"],[0.7777777777777778,\"#fb9f3a\"],[0.8888888888888888,\"#fdca26\"],[1.0,\"#f0f921\"]]}],\"heatmapgl\":[{\"type\":\"heatmapgl\",\"colorbar\":{\"outlinewidth\":0,\"ticks\":\"\"},\"colorscale\":[[0.0,\"#0d0887\"],[0.1111111111111111,\"#46039f\"],[0.2222222222222222,\"#7201a8\"],[0.3333333333333333,\"#9c179e\"],[0.4444444444444444,\"#bd3786\"],[0.5555555555555556,\"#d8576b\"],[0.6666666666666666,\"#ed7953\"],[0.7777777777777778,\"#fb9f3a\"],[0.8888888888888888,\"#fdca26\"],[1.0,\"#f0f921\"]]}],\"contourcarpet\":[{\"type\":\"contourcarpet\",\"colorbar\":{\"outlinewidth\":0,\"ticks\":\"\"}}],\"contour\":[{\"type\":\"contour\",\"colorbar\":{\"outlinewidth\":0,\"ticks\":\"\"},\"colorscale\":[[0.0,\"#0d0887\"],[0.1111111111111111,\"#46039f\"],[0.2222222222222222,\"#7201a8\"],[0.3333333333333333,\"#9c179e\"],[0.4444444444444444,\"#bd3786\"],[0.5555555555555556,\"#d8576b\"],[0.6666666666666666,\"#ed7953\"],[0.7777777777777778,\"#fb9f3a\"],[0.8888888888888888,\"#fdca26\"],[1.0,\"#f0f921\"]]}],\"surface\":[{\"type\":\"surface\",\"colorbar\":{\"outlinewidth\":0,\"ticks\":\"\"},\"colorscale\":[[0.0,\"#0d0887\"],[0.1111111111111111,\"#46039f\"],[0.2222222222222222,\"#7201a8\"],[0.3333333333333333,\"#9c179e\"],[0.4444444444444444,\"#bd3786\"],[0.5555555555555556,\"#d8576b\"],[0.6666666666666666,\"#ed7953\"],[0.7777777777777778,\"#fb9f3a\"],[0.8888888888888888,\"#fdca26\"],[1.0,\"#f0f921\"]]}],\"mesh3d\":[{\"type\":\"mesh3d\",\"colorbar\":{\"outlinewidth\":0,\"ticks\":\"\"}}],\"scatter\":[{\"fillpattern\":{\"fillmode\":\"overlay\",\"size\":10,\"solidity\":0.2},\"type\":\"scatter\"}],\"parcoords\":[{\"type\":\"parcoords\",\"line\":{\"colorbar\":{\"outlinewidth\":0,\"ticks\":\"\"}}}],\"scatterpolargl\":[{\"type\":\"scatterpolargl\",\"marker\":{\"colorbar\":{\"outlinewidth\":0,\"ticks\":\"\"}}}],\"bar\":[{\"error_x\":{\"color\":\"#2a3f5f\"},\"error_y\":{\"color\":\"#2a3f5f\"},\"marker\":{\"line\":{\"color\":\"#E5ECF6\",\"width\":0.5},\"pattern\":{\"fillmode\":\"overlay\",\"size\":10,\"solidity\":0.2}},\"type\":\"bar\"}],\"scattergeo\":[{\"type\":\"scattergeo\",\"marker\":{\"colorbar\":{\"outlinewidth\":0,\"ticks\":\"\"}}}],\"scatterpolar\":[{\"type\":\"scatterpolar\",\"marker\":{\"colorbar\":{\"outlinewidth\":0,\"ticks\":\"\"}}}],\"histogram\":[{\"marker\":{\"pattern\":{\"fillmode\":\"overlay\",\"size\":10,\"solidity\":0.2}},\"type\":\"histogram\"}],\"scattergl\":[{\"type\":\"scattergl\",\"marker\":{\"colorbar\":{\"outlinewidth\":0,\"ticks\":\"\"}}}],\"scatter3d\":[{\"type\":\"scatter3d\",\"line\":{\"colorbar\":{\"outlinewidth\":0,\"ticks\":\"\"}},\"marker\":{\"colorbar\":{\"outlinewidth\":0,\"ticks\":\"\"}}}],\"scattermapbox\":[{\"type\":\"scattermapbox\",\"marker\":{\"colorbar\":{\"outlinewidth\":0,\"ticks\":\"\"}}}],\"scatterternary\":[{\"type\":\"scatterternary\",\"marker\":{\"colorbar\":{\"outlinewidth\":0,\"ticks\":\"\"}}}],\"scattercarpet\":[{\"type\":\"scattercarpet\",\"marker\":{\"colorbar\":{\"outlinewidth\":0,\"ticks\":\"\"}}}],\"carpet\":[{\"aaxis\":{\"endlinecolor\":\"#2a3f5f\",\"gridcolor\":\"white\",\"linecolor\":\"white\",\"minorgridcolor\":\"white\",\"startlinecolor\":\"#2a3f5f\"},\"baxis\":{\"endlinecolor\":\"#2a3f5f\",\"gridcolor\":\"white\",\"linecolor\":\"white\",\"minorgridcolor\":\"white\",\"startlinecolor\":\"#2a3f5f\"},\"type\":\"carpet\"}],\"table\":[{\"cells\":{\"fill\":{\"color\":\"#EBF0F8\"},\"line\":{\"color\":\"white\"}},\"header\":{\"fill\":{\"color\":\"#C8D4E3\"},\"line\":{\"color\":\"white\"}},\"type\":\"table\"}],\"barpolar\":[{\"marker\":{\"line\":{\"color\":\"#E5ECF6\",\"width\":0.5},\"pattern\":{\"fillmode\":\"overlay\",\"size\":10,\"solidity\":0.2}},\"type\":\"barpolar\"}],\"pie\":[{\"automargin\":true,\"type\":\"pie\"}]},\"layout\":{\"autotypenumbers\":\"strict\",\"colorway\":[\"#636efa\",\"#EF553B\",\"#00cc96\",\"#ab63fa\",\"#FFA15A\",\"#19d3f3\",\"#FF6692\",\"#B6E880\",\"#FF97FF\",\"#FECB52\"],\"font\":{\"color\":\"#2a3f5f\"},\"hovermode\":\"closest\",\"hoverlabel\":{\"align\":\"left\"},\"paper_bgcolor\":\"white\",\"plot_bgcolor\":\"#E5ECF6\",\"polar\":{\"bgcolor\":\"#E5ECF6\",\"angularaxis\":{\"gridcolor\":\"white\",\"linecolor\":\"white\",\"ticks\":\"\"},\"radialaxis\":{\"gridcolor\":\"white\",\"linecolor\":\"white\",\"ticks\":\"\"}},\"ternary\":{\"bgcolor\":\"#E5ECF6\",\"aaxis\":{\"gridcolor\":\"white\",\"linecolor\":\"white\",\"ticks\":\"\"},\"baxis\":{\"gridcolor\":\"white\",\"linecolor\":\"white\",\"ticks\":\"\"},\"caxis\":{\"gridcolor\":\"white\",\"linecolor\":\"white\",\"ticks\":\"\"}},\"coloraxis\":{\"colorbar\":{\"outlinewidth\":0,\"ticks\":\"\"}},\"colorscale\":{\"sequential\":[[0.0,\"#0d0887\"],[0.1111111111111111,\"#46039f\"],[0.2222222222222222,\"#7201a8\"],[0.3333333333333333,\"#9c179e\"],[0.4444444444444444,\"#bd3786\"],[0.5555555555555556,\"#d8576b\"],[0.6666666666666666,\"#ed7953\"],[0.7777777777777778,\"#fb9f3a\"],[0.8888888888888888,\"#fdca26\"],[1.0,\"#f0f921\"]],\"sequentialminus\":[[0.0,\"#0d0887\"],[0.1111111111111111,\"#46039f\"],[0.2222222222222222,\"#7201a8\"],[0.3333333333333333,\"#9c179e\"],[0.4444444444444444,\"#bd3786\"],[0.5555555555555556,\"#d8576b\"],[0.6666666666666666,\"#ed7953\"],[0.7777777777777778,\"#fb9f3a\"],[0.8888888888888888,\"#fdca26\"],[1.0,\"#f0f921\"]],\"diverging\":[[0,\"#8e0152\"],[0.1,\"#c51b7d\"],[0.2,\"#de77ae\"],[0.3,\"#f1b6da\"],[0.4,\"#fde0ef\"],[0.5,\"#f7f7f7\"],[0.6,\"#e6f5d0\"],[0.7,\"#b8e186\"],[0.8,\"#7fbc41\"],[0.9,\"#4d9221\"],[1,\"#276419\"]]},\"xaxis\":{\"gridcolor\":\"white\",\"linecolor\":\"white\",\"ticks\":\"\",\"title\":{\"standoff\":15},\"zerolinecolor\":\"white\",\"automargin\":true,\"zerolinewidth\":2},\"yaxis\":{\"gridcolor\":\"white\",\"linecolor\":\"white\",\"ticks\":\"\",\"title\":{\"standoff\":15},\"zerolinecolor\":\"white\",\"automargin\":true,\"zerolinewidth\":2},\"scene\":{\"xaxis\":{\"backgroundcolor\":\"#E5ECF6\",\"gridcolor\":\"white\",\"linecolor\":\"white\",\"showbackground\":true,\"ticks\":\"\",\"zerolinecolor\":\"white\",\"gridwidth\":2},\"yaxis\":{\"backgroundcolor\":\"#E5ECF6\",\"gridcolor\":\"white\",\"linecolor\":\"white\",\"showbackground\":true,\"ticks\":\"\",\"zerolinecolor\":\"white\",\"gridwidth\":2},\"zaxis\":{\"backgroundcolor\":\"#E5ECF6\",\"gridcolor\":\"white\",\"linecolor\":\"white\",\"showbackground\":true,\"ticks\":\"\",\"zerolinecolor\":\"white\",\"gridwidth\":2}},\"shapedefaults\":{\"line\":{\"color\":\"#2a3f5f\"}},\"annotationdefaults\":{\"arrowcolor\":\"#2a3f5f\",\"arrowhead\":0,\"arrowwidth\":1},\"geo\":{\"bgcolor\":\"white\",\"landcolor\":\"#E5ECF6\",\"subunitcolor\":\"white\",\"showland\":true,\"showlakes\":true,\"lakecolor\":\"white\"},\"title\":{\"x\":0.05},\"mapbox\":{\"style\":\"light\"}}},\"font\":{\"family\":\"Courier New, monospace\",\"size\":16,\"color\":\"RebeccaPurple\"},\"title\":{\"text\":\"DEP distribution plot\"},\"xaxis\":{\"title\":{\"text\":\"DEP\"}},\"yaxis\":{\"title\":{\"text\":\"Frequency\"}}},                        {\"responsive\": true}                    ).then(function(){\n",
       "                            \n",
       "var gd = document.getElementById('bff2f8d3-dd64-415a-8507-1e19aeea2433');\n",
       "var x = new MutationObserver(function (mutations, observer) {{\n",
       "        var display = window.getComputedStyle(gd).display;\n",
       "        if (!display || display === 'none') {{\n",
       "            console.log([gd, 'removed!']);\n",
       "            Plotly.purge(gd);\n",
       "            observer.disconnect();\n",
       "        }}\n",
       "}});\n",
       "\n",
       "// Listen for the removal of the full notebook cells\n",
       "var notebookContainer = gd.closest('#notebook-container');\n",
       "if (notebookContainer) {{\n",
       "    x.observe(notebookContainer, {childList: true});\n",
       "}}\n",
       "\n",
       "// Listen for the clearing of the current output cell\n",
       "var outputEl = gd.closest('.output');\n",
       "if (outputEl) {{\n",
       "    x.observe(outputEl, {childList: true});\n",
       "}}\n",
       "\n",
       "                        })                };                });            </script>        </div>"
      ]
     },
     "metadata": {},
     "output_type": "display_data"
    }
   ],
   "source": [
    "generate_scatter_plot(parent_vendor_vocab, parent_vendor_density, alias2_vocab, alias2_density, parent_vendor_name=\"eurekarebellionaus\", alias_name=\"stimz\", n_vendor=2, mode=\"dep\")"
   ]
  },
  {
   "cell_type": "markdown",
   "id": "cf7f6a30",
   "metadata": {},
   "source": [
    "# Loading Ngram data"
   ]
  },
  {
   "cell_type": "code",
   "execution_count": 9,
   "id": "6df919d4",
   "metadata": {},
   "outputs": [],
   "source": [
    "# unigram,  bigram, and trigram data\n",
    "ngram_data = pd.read_csv(\"data/ngram_comp.csv\").drop(['Unnamed: 0'], axis=1)"
   ]
  },
  {
   "cell_type": "markdown",
   "id": "46e9adc9",
   "metadata": {},
   "source": [
    "The dataframe below indicates the % of unigrams, bigrams, and trigrams features common to the advertisements of both vendors. To make the analysis fair, we only compare the advertisements across the same categories of the advertisements. \n",
    "\n",
    "+ As can be seen in the first example, both eurekarebellionaus-eurekarebellion share a heavy proportion of unigrams, bigrams, and trigrams features indicating a high similarity in their advertisements.\n",
    "+ In the third example, planet-pluto - planetpluto share completely similar unigrams, bigrams, and trigrams features indicating identical advertisements. Although, when checked for other categories, the results came out to be really low indicating that the n-gram feature technique cannot reliably comment of the similarity in the vendors. \n",
    "+ While the vendors houseofdank-houseofdank2.0 share a considerable proportion of unigram features, the bigrams and trigrams result indicates the inconclusiveness of the results for similarity analysis. "
   ]
  },
  {
   "cell_type": "code",
   "execution_count": 10,
   "id": "60ed60d4",
   "metadata": {},
   "outputs": [
    {
     "data": {
      "text/html": [
       "<div>\n",
       "<style scoped>\n",
       "    .dataframe tbody tr th:only-of-type {\n",
       "        vertical-align: middle;\n",
       "    }\n",
       "\n",
       "    .dataframe tbody tr th {\n",
       "        vertical-align: top;\n",
       "    }\n",
       "\n",
       "    .dataframe thead th {\n",
       "        text-align: right;\n",
       "    }\n",
       "</style>\n",
       "<table border=\"1\" class=\"dataframe\">\n",
       "  <thead>\n",
       "    <tr style=\"text-align: right;\">\n",
       "      <th></th>\n",
       "      <th>vendors</th>\n",
       "      <th>unigram</th>\n",
       "      <th>bigrams</th>\n",
       "      <th>trigrams</th>\n",
       "    </tr>\n",
       "  </thead>\n",
       "  <tbody>\n",
       "    <tr>\n",
       "      <th>0</th>\n",
       "      <td>eurekarebellionaus - eurekarebellion</td>\n",
       "      <td>0.9725</td>\n",
       "      <td>0.9314</td>\n",
       "      <td>0.9228</td>\n",
       "    </tr>\n",
       "    <tr>\n",
       "      <th>1</th>\n",
       "      <td>eurekarebellionaus - stimz</td>\n",
       "      <td>0.3783</td>\n",
       "      <td>0.0313</td>\n",
       "      <td>0.0046</td>\n",
       "    </tr>\n",
       "    <tr>\n",
       "      <th>2</th>\n",
       "      <td>planet-pluto - planetpluto</td>\n",
       "      <td>1.0000</td>\n",
       "      <td>1.0000</td>\n",
       "      <td>1.0000</td>\n",
       "    </tr>\n",
       "    <tr>\n",
       "      <th>3</th>\n",
       "      <td>houseofdank-houseofdank2.0</td>\n",
       "      <td>0.7003</td>\n",
       "      <td>0.2773</td>\n",
       "      <td>0.1136</td>\n",
       "    </tr>\n",
       "    <tr>\n",
       "      <th>4</th>\n",
       "      <td>topgear - topgear69</td>\n",
       "      <td>0.3899</td>\n",
       "      <td>0.0650</td>\n",
       "      <td>0.0044</td>\n",
       "    </tr>\n",
       "    <tr>\n",
       "      <th>5</th>\n",
       "      <td>aussieimportpills - aussieimportpillsv2</td>\n",
       "      <td>0.2618</td>\n",
       "      <td>0.0135</td>\n",
       "      <td>0.0000</td>\n",
       "    </tr>\n",
       "  </tbody>\n",
       "</table>\n",
       "</div>"
      ],
      "text/plain": [
       "                                   vendors  unigram  bigrams  trigrams\n",
       "0     eurekarebellionaus - eurekarebellion   0.9725   0.9314    0.9228\n",
       "1               eurekarebellionaus - stimz   0.3783   0.0313    0.0046\n",
       "2               planet-pluto - planetpluto   1.0000   1.0000    1.0000\n",
       "3               houseofdank-houseofdank2.0   0.7003   0.2773    0.1136\n",
       "4                      topgear - topgear69   0.3899   0.0650    0.0044\n",
       "5  aussieimportpills - aussieimportpillsv2   0.2618   0.0135    0.0000"
      ]
     },
     "execution_count": 10,
     "metadata": {},
     "output_type": "execute_result"
    }
   ],
   "source": [
    "ngram_data"
   ]
  },
  {
   "cell_type": "code",
   "execution_count": null,
   "id": "dc5aaade",
   "metadata": {},
   "outputs": [],
   "source": []
  }
 ],
 "metadata": {
  "kernelspec": {
   "display_name": "Python 3 (ipykernel)",
   "language": "python",
   "name": "python3"
  },
  "language_info": {
   "codemirror_mode": {
    "name": "ipython",
    "version": 3
   },
   "file_extension": ".py",
   "mimetype": "text/x-python",
   "name": "python",
   "nbconvert_exporter": "python",
   "pygments_lexer": "ipython3",
   "version": "3.9.0"
  }
 },
 "nbformat": 4,
 "nbformat_minor": 5
}
